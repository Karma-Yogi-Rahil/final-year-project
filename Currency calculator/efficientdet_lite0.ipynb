{
  "cells": [
    {
      "cell_type": "code",
      "execution_count": 1,
      "metadata": {
        "id": "FZRWUwlnAkPw"
      },
      "outputs": [],
      "source": [
        "import os \n",
        "os.environ['KAGGLE_CONFIG_DIR'] = '/content/'"
      ],
      "id": "FZRWUwlnAkPw"
    },
    {
      "cell_type": "code",
      "source": [
        "!kaggle datasets download -d rahilmehtaucoe2784/indian-currency"
      ],
      "metadata": {
        "colab": {
          "base_uri": "https://localhost:8080/"
        },
        "id": "MRp0Y3YCwrgB",
        "outputId": "d951602b-c033-4e5e-83b8-acdeeb539741"
      },
      "id": "MRp0Y3YCwrgB",
      "execution_count": 2,
      "outputs": [
        {
          "output_type": "stream",
          "name": "stdout",
          "text": [
            "Warning: Your Kaggle API key is readable by other users on this system! To fix this, you can run 'chmod 600 /content/kaggle.json'\n",
            "Downloading indian-currency.zip to /content\n",
            " 99% 85.0M/85.7M [00:03<00:00, 14.7MB/s]\n",
            "100% 85.7M/85.7M [00:03<00:00, 27.0MB/s]\n"
          ]
        }
      ]
    },
    {
      "cell_type": "code",
      "source": [
        "%%capture\n",
        "!unzip \\*.zip && rm *.zip &> /dev/null"
      ],
      "metadata": {
        "id": "5eeueRCuws-j"
      },
      "id": "5eeueRCuws-j",
      "execution_count": 3,
      "outputs": []
    },
    {
      "cell_type": "code",
      "execution_count": 4,
      "metadata": {
        "colab": {
          "base_uri": "https://localhost:8080/"
        },
        "id": "6f5a7a6b",
        "outputId": "8e43625d-4679-4373-e94d-b861257064d9",
        "scrolled": true
      },
      "outputs": [
        {
          "output_type": "stream",
          "name": "stdout",
          "text": [
            "\u001b[?25l\r\u001b[K     |▌                               | 10 kB 4.8 MB/s eta 0:00:01\r\u001b[K     |█                               | 20 kB 5.6 MB/s eta 0:00:01\r\u001b[K     |█▋                              | 30 kB 5.1 MB/s eta 0:00:01\r\u001b[K     |██▏                             | 40 kB 3.6 MB/s eta 0:00:01\r\u001b[K     |██▋                             | 51 kB 3.2 MB/s eta 0:00:01\r\u001b[K     |███▏                            | 61 kB 3.8 MB/s eta 0:00:01\r\u001b[K     |███▊                            | 71 kB 4.0 MB/s eta 0:00:01\r\u001b[K     |████▎                           | 81 kB 4.5 MB/s eta 0:00:01\r\u001b[K     |████▉                           | 92 kB 4.6 MB/s eta 0:00:01\r\u001b[K     |█████▎                          | 102 kB 3.9 MB/s eta 0:00:01\r\u001b[K     |█████▉                          | 112 kB 3.9 MB/s eta 0:00:01\r\u001b[K     |██████▍                         | 122 kB 3.9 MB/s eta 0:00:01\r\u001b[K     |███████                         | 133 kB 3.9 MB/s eta 0:00:01\r\u001b[K     |███████▍                        | 143 kB 3.9 MB/s eta 0:00:01\r\u001b[K     |████████                        | 153 kB 3.9 MB/s eta 0:00:01\r\u001b[K     |████████▌                       | 163 kB 3.9 MB/s eta 0:00:01\r\u001b[K     |█████████                       | 174 kB 3.9 MB/s eta 0:00:01\r\u001b[K     |█████████▋                      | 184 kB 3.9 MB/s eta 0:00:01\r\u001b[K     |██████████                      | 194 kB 3.9 MB/s eta 0:00:01\r\u001b[K     |██████████▋                     | 204 kB 3.9 MB/s eta 0:00:01\r\u001b[K     |███████████▏                    | 215 kB 3.9 MB/s eta 0:00:01\r\u001b[K     |███████████▊                    | 225 kB 3.9 MB/s eta 0:00:01\r\u001b[K     |████████████▏                   | 235 kB 3.9 MB/s eta 0:00:01\r\u001b[K     |████████████▊                   | 245 kB 3.9 MB/s eta 0:00:01\r\u001b[K     |█████████████▎                  | 256 kB 3.9 MB/s eta 0:00:01\r\u001b[K     |█████████████▉                  | 266 kB 3.9 MB/s eta 0:00:01\r\u001b[K     |██████████████▍                 | 276 kB 3.9 MB/s eta 0:00:01\r\u001b[K     |██████████████▉                 | 286 kB 3.9 MB/s eta 0:00:01\r\u001b[K     |███████████████▍                | 296 kB 3.9 MB/s eta 0:00:01\r\u001b[K     |████████████████                | 307 kB 3.9 MB/s eta 0:00:01\r\u001b[K     |████████████████▌               | 317 kB 3.9 MB/s eta 0:00:01\r\u001b[K     |█████████████████               | 327 kB 3.9 MB/s eta 0:00:01\r\u001b[K     |█████████████████▌              | 337 kB 3.9 MB/s eta 0:00:01\r\u001b[K     |██████████████████              | 348 kB 3.9 MB/s eta 0:00:01\r\u001b[K     |██████████████████▋             | 358 kB 3.9 MB/s eta 0:00:01\r\u001b[K     |███████████████████▏            | 368 kB 3.9 MB/s eta 0:00:01\r\u001b[K     |███████████████████▋            | 378 kB 3.9 MB/s eta 0:00:01\r\u001b[K     |████████████████████▏           | 389 kB 3.9 MB/s eta 0:00:01\r\u001b[K     |████████████████████▊           | 399 kB 3.9 MB/s eta 0:00:01\r\u001b[K     |█████████████████████▎          | 409 kB 3.9 MB/s eta 0:00:01\r\u001b[K     |█████████████████████▉          | 419 kB 3.9 MB/s eta 0:00:01\r\u001b[K     |██████████████████████▎         | 430 kB 3.9 MB/s eta 0:00:01\r\u001b[K     |██████████████████████▉         | 440 kB 3.9 MB/s eta 0:00:01\r\u001b[K     |███████████████████████▍        | 450 kB 3.9 MB/s eta 0:00:01\r\u001b[K     |████████████████████████        | 460 kB 3.9 MB/s eta 0:00:01\r\u001b[K     |████████████████████████▍       | 471 kB 3.9 MB/s eta 0:00:01\r\u001b[K     |█████████████████████████       | 481 kB 3.9 MB/s eta 0:00:01\r\u001b[K     |█████████████████████████▌      | 491 kB 3.9 MB/s eta 0:00:01\r\u001b[K     |██████████████████████████      | 501 kB 3.9 MB/s eta 0:00:01\r\u001b[K     |██████████████████████████▋     | 512 kB 3.9 MB/s eta 0:00:01\r\u001b[K     |███████████████████████████     | 522 kB 3.9 MB/s eta 0:00:01\r\u001b[K     |███████████████████████████▋    | 532 kB 3.9 MB/s eta 0:00:01\r\u001b[K     |████████████████████████████▏   | 542 kB 3.9 MB/s eta 0:00:01\r\u001b[K     |████████████████████████████▊   | 552 kB 3.9 MB/s eta 0:00:01\r\u001b[K     |█████████████████████████████▏  | 563 kB 3.9 MB/s eta 0:00:01\r\u001b[K     |█████████████████████████████▊  | 573 kB 3.9 MB/s eta 0:00:01\r\u001b[K     |██████████████████████████████▎ | 583 kB 3.9 MB/s eta 0:00:01\r\u001b[K     |██████████████████████████████▉ | 593 kB 3.9 MB/s eta 0:00:01\r\u001b[K     |███████████████████████████████▍| 604 kB 3.9 MB/s eta 0:00:01\r\u001b[K     |███████████████████████████████▉| 614 kB 3.9 MB/s eta 0:00:01\r\u001b[K     |████████████████████████████████| 616 kB 3.9 MB/s \n",
            "\u001b[K     |████████████████████████████████| 120 kB 68.0 MB/s \n",
            "\u001b[K     |████████████████████████████████| 1.1 MB 62.7 MB/s \n",
            "\u001b[K     |████████████████████████████████| 234 kB 51.9 MB/s \n",
            "\u001b[K     |████████████████████████████████| 840 kB 58.9 MB/s \n",
            "\u001b[K     |████████████████████████████████| 3.4 MB 57.5 MB/s \n",
            "\u001b[K     |████████████████████████████████| 1.2 MB 28.1 MB/s \n",
            "\u001b[K     |████████████████████████████████| 596 kB 72.1 MB/s \n",
            "\u001b[K     |████████████████████████████████| 6.4 MB 58.7 MB/s \n",
            "\u001b[K     |████████████████████████████████| 77 kB 8.1 MB/s \n",
            "\u001b[K     |████████████████████████████████| 87 kB 7.5 MB/s \n",
            "\u001b[K     |████████████████████████████████| 1.1 MB 57.5 MB/s \n",
            "\u001b[K     |████████████████████████████████| 25.3 MB 1.2 MB/s \n",
            "\u001b[K     |████████████████████████████████| 99 kB 12.9 MB/s \n",
            "\u001b[K     |████████████████████████████████| 352 kB 66.2 MB/s \n",
            "\u001b[K     |████████████████████████████████| 47.7 MB 1.6 MB/s \n",
            "\u001b[K     |████████████████████████████████| 462 kB 74.0 MB/s \n",
            "\u001b[K     |████████████████████████████████| 211 kB 65.1 MB/s \n",
            "\u001b[?25h  Building wheel for fire (setup.py) ... \u001b[?25l\u001b[?25hdone\n",
            "  Building wheel for py-cpuinfo (setup.py) ... \u001b[?25l\u001b[?25hdone\n"
          ]
        }
      ],
      "source": [
        "!pip install -q tflite-model-maker\n",
        "!pip install -q pycocotools\n",
        "\n"
      ],
      "id": "6f5a7a6b"
    },
    {
      "cell_type": "code",
      "execution_count": 5,
      "metadata": {
        "id": "5b521f21"
      },
      "outputs": [],
      "source": [
        "import numpy as np\n",
        "import os\n",
        "\n",
        "from tflite_model_maker.config import ExportFormat\n",
        "from tflite_model_maker import model_spec\n",
        "from tflite_model_maker import object_detector\n",
        "import time\n",
        "\n",
        "import tensorflow as tf\n",
        "assert tf.__version__.startswith('2')\n",
        "\n",
        "tf.get_logger().setLevel('ERROR')\n",
        "from absl import logging\n",
        "logging.set_verbosity(logging.ERROR)\n",
        "from tensorflow import keras"
      ],
      "id": "5b521f21"
    },
    {
      "cell_type": "code",
      "execution_count": 6,
      "metadata": {
        "id": "XUlsc1tEd6XH"
      },
      "outputs": [],
      "source": [
        "train_image_dir = '/content/final_currency_dataset/train images'\n",
        "train_annotation_dir = '/content/final_currency_dataset/train anotation'\n",
        "validate_image_dir = '/content/final_currency_dataset/validate Images'\n",
        "validate_anaotation_dir = '/content/final_currency_dataset/validate anotation '\n",
        "test_image_dir = '/content/final_currency_dataset/test image'\n",
        "test_anotation_dir = '/content/final_currency_dataset/test anotation'"
      ],
      "id": "XUlsc1tEd6XH"
    },
    {
      "cell_type": "code",
      "execution_count": 7,
      "metadata": {
        "id": "Vx26vmSMc8AD"
      },
      "outputs": [],
      "source": [
        "train_dir = object_detector.DataLoader.from_pascal_voc(train_image_dir, train_annotation_dir, label_map={1:\"10\", 2: \"20\",3:\"50\",4:\"100\",5:\"200\",6:\"500\",7:\"2000\"})"
      ],
      "id": "Vx26vmSMc8AD"
    },
    {
      "cell_type": "code",
      "execution_count": 8,
      "metadata": {
        "id": "E1OSKKoeqlrU"
      },
      "outputs": [],
      "source": [
        "validate_dir = object_detector.DataLoader.from_pascal_voc(validate_image_dir, validate_anaotation_dir, label_map={1:\"10\", 2:\"20\",3:\"50\",4:\"100\",5:\"200\",6:\"500\",7:\"2000\"})"
      ],
      "id": "E1OSKKoeqlrU"
    },
    {
      "cell_type": "code",
      "source": [
        "test_dir = object_detector.DataLoader.from_pascal_voc(test_image_dir, test_anotation_dir, label_map={1:\"10\", 2:\"20\",3:\"50\",4:\"100\",5:\"200\",6:\"500\",7:\"2000\"})"
      ],
      "metadata": {
        "id": "1Ube9Unpx4_x"
      },
      "id": "1Ube9Unpx4_x",
      "execution_count": 9,
      "outputs": []
    },
    {
      "cell_type": "code",
      "source": [
        "print(len(train_dir))\n",
        "print(len(validate_dir))\n",
        "print(len(test_dir))"
      ],
      "metadata": {
        "colab": {
          "base_uri": "https://localhost:8080/"
        },
        "id": "kaE2UvhpcvVu",
        "outputId": "9ee34e84-ba96-4125-95da-a43ad4a9c160"
      },
      "id": "kaE2UvhpcvVu",
      "execution_count": 10,
      "outputs": [
        {
          "output_type": "stream",
          "name": "stdout",
          "text": [
            "2383\n",
            "671\n",
            "345\n"
          ]
        }
      ]
    },
    {
      "cell_type": "code",
      "execution_count": 11,
      "metadata": {
        "id": "IaknFpWYe-wq"
      },
      "outputs": [],
      "source": [
        "spec = model_spec.get('efficientdet_lite0')"
      ],
      "id": "IaknFpWYe-wq"
    },
    {
      "cell_type": "code",
      "execution_count": 12,
      "metadata": {
        "colab": {
          "base_uri": "https://localhost:8080/"
        },
        "id": "Op_27CahFyC_",
        "outputId": "913be5aa-c15b-4c9b-c437-f2c4b2d3dd21"
      },
      "outputs": [
        {
          "output_type": "stream",
          "name": "stdout",
          "text": [
            "Epoch 1/10\n",
            "397/397 [==============================] - 111s 188ms/step - det_loss: 1.0581 - cls_loss: 0.7907 - box_loss: 0.0053 - reg_l2_loss: 0.0641 - loss: 1.1221 - learning_rate: 0.0078 - gradient_norm: 3.0024 - val_det_loss: 0.7302 - val_cls_loss: 0.6195 - val_box_loss: 0.0022 - val_reg_l2_loss: 0.0643 - val_loss: 0.7944\n",
            "Epoch 2/10\n",
            "397/397 [==============================] - 73s 183ms/step - det_loss: 0.6764 - cls_loss: 0.5353 - box_loss: 0.0028 - reg_l2_loss: 0.0644 - loss: 0.7409 - learning_rate: 0.0070 - gradient_norm: 3.0447 - val_det_loss: 0.5310 - val_cls_loss: 0.4538 - val_box_loss: 0.0015 - val_reg_l2_loss: 0.0646 - val_loss: 0.5956\n",
            "Epoch 3/10\n",
            "397/397 [==============================] - 72s 183ms/step - det_loss: 0.5951 - cls_loss: 0.4814 - box_loss: 0.0023 - reg_l2_loss: 0.0647 - loss: 0.6598 - learning_rate: 0.0061 - gradient_norm: 3.0753 - val_det_loss: 0.4257 - val_cls_loss: 0.3544 - val_box_loss: 0.0014 - val_reg_l2_loss: 0.0648 - val_loss: 0.4905\n",
            "Epoch 4/10\n",
            "397/397 [==============================] - 73s 184ms/step - det_loss: 0.5316 - cls_loss: 0.4339 - box_loss: 0.0020 - reg_l2_loss: 0.0649 - loss: 0.5964 - learning_rate: 0.0050 - gradient_norm: 2.9460 - val_det_loss: 0.3659 - val_cls_loss: 0.3051 - val_box_loss: 0.0012 - val_reg_l2_loss: 0.0649 - val_loss: 0.4309\n",
            "Epoch 5/10\n",
            "397/397 [==============================] - 96s 242ms/step - det_loss: 0.4868 - cls_loss: 0.3998 - box_loss: 0.0017 - reg_l2_loss: 0.0650 - loss: 0.5517 - learning_rate: 0.0038 - gradient_norm: 3.1495 - val_det_loss: 0.3482 - val_cls_loss: 0.2646 - val_box_loss: 0.0017 - val_reg_l2_loss: 0.0650 - val_loss: 0.4131\n",
            "Epoch 6/10\n",
            "397/397 [==============================] - 73s 183ms/step - det_loss: 0.4530 - cls_loss: 0.3731 - box_loss: 0.0016 - reg_l2_loss: 0.0650 - loss: 0.5180 - learning_rate: 0.0025 - gradient_norm: 3.1803 - val_det_loss: 0.3210 - val_cls_loss: 0.2782 - val_box_loss: 8.5526e-04 - val_reg_l2_loss: 0.0650 - val_loss: 0.3860\n",
            "Epoch 7/10\n",
            "397/397 [==============================] - 74s 185ms/step - det_loss: 0.4245 - cls_loss: 0.3515 - box_loss: 0.0015 - reg_l2_loss: 0.0650 - loss: 0.4895 - learning_rate: 0.0014 - gradient_norm: 3.1943 - val_det_loss: 0.2409 - val_cls_loss: 0.2010 - val_box_loss: 7.9917e-04 - val_reg_l2_loss: 0.0650 - val_loss: 0.3059\n",
            "Epoch 8/10\n",
            "397/397 [==============================] - 73s 184ms/step - det_loss: 0.4088 - cls_loss: 0.3380 - box_loss: 0.0014 - reg_l2_loss: 0.0650 - loss: 0.4738 - learning_rate: 5.1895e-04 - gradient_norm: 3.2753 - val_det_loss: 0.2261 - val_cls_loss: 0.1882 - val_box_loss: 7.5782e-04 - val_reg_l2_loss: 0.0650 - val_loss: 0.2911\n",
            "Epoch 9/10\n",
            "397/397 [==============================] - 73s 183ms/step - det_loss: 0.4070 - cls_loss: 0.3366 - box_loss: 0.0014 - reg_l2_loss: 0.0650 - loss: 0.4720 - learning_rate: 7.5786e-05 - gradient_norm: 3.2573 - val_det_loss: 0.2271 - val_cls_loss: 0.1934 - val_box_loss: 6.7493e-04 - val_reg_l2_loss: 0.0650 - val_loss: 0.2921\n",
            "Epoch 10/10\n",
            "397/397 [==============================] - 91s 229ms/step - det_loss: 0.3970 - cls_loss: 0.3297 - box_loss: 0.0013 - reg_l2_loss: 0.0650 - loss: 0.4620 - learning_rate: 7.5783e-05 - gradient_norm: 3.1530 - val_det_loss: 0.2217 - val_cls_loss: 0.1916 - val_box_loss: 6.0019e-04 - val_reg_l2_loss: 0.0650 - val_loss: 0.2867\n"
          ]
        }
      ],
      "source": [
        "start = time.time()\n",
        "model = object_detector.create(train_dir, \n",
        "                               model_spec=spec, \n",
        "                               epochs=10, \n",
        "                               batch_size=6, \n",
        "                               train_whole_model=True, \n",
        "                               validation_data=validate_dir)\n",
        "end = time.time()"
      ],
      "id": "Op_27CahFyC_"
    },
    {
      "cell_type": "code",
      "source": [
        "print(\"The time of execution of training is :\", end-start)"
      ],
      "metadata": {
        "colab": {
          "base_uri": "https://localhost:8080/"
        },
        "id": "Ft9_WYGBo2K6",
        "outputId": "ca8612cf-5ac1-4e87-d6bc-69473dba1aac"
      },
      "id": "Ft9_WYGBo2K6",
      "execution_count": 13,
      "outputs": [
        {
          "output_type": "stream",
          "name": "stdout",
          "text": [
            "The time of execution of training is : 828.3327279090881\n"
          ]
        }
      ]
    },
    {
      "cell_type": "code",
      "source": [
        "start = time.time()\n",
        "ap = model.evaluate(test_dir,batch_size=5)\n",
        "print(ap)\n",
        "end = time.time()\n"
      ],
      "metadata": {
        "colab": {
          "base_uri": "https://localhost:8080/"
        },
        "id": "LtKo54b0msK4",
        "outputId": "fe33f558-371a-45cf-9055-6502a0d7a75d"
      },
      "id": "LtKo54b0msK4",
      "execution_count": 14,
      "outputs": [
        {
          "output_type": "stream",
          "name": "stdout",
          "text": [
            "69/69 [==============================] - 11s 104ms/step\n",
            "\n",
            "{'AP': 0.6363581, 'AP50': 0.78524816, 'AP75': 0.72951263, 'APs': -1.0, 'APm': 0.42806292, 'APl': 0.6499516, 'ARmax1': 0.6742318, 'ARmax10': 0.7917895, 'ARmax100': 0.79944265, 'ARs': -1.0, 'ARm': 0.55, 'ARl': 0.8132934, 'AP_/10': 0.42366618, 'AP_/20': 0.71495056, 'AP_/50': 0.42770353, 'AP_/100': 0.7387704, 'AP_/200': 0.780183, 'AP_/500': 0.7252539, 'AP_/2000': 0.64397883}\n"
          ]
        }
      ]
    },
    {
      "cell_type": "code",
      "source": [
        "print(\"The time of execution of evaluation is  :\", end-start)"
      ],
      "metadata": {
        "colab": {
          "base_uri": "https://localhost:8080/"
        },
        "id": "tKCL9HdMo3ug",
        "outputId": "1e29a332-9dfc-409d-b706-f71d326f964d"
      },
      "id": "tKCL9HdMo3ug",
      "execution_count": 15,
      "outputs": [
        {
          "output_type": "stream",
          "name": "stdout",
          "text": [
            "The time of execution of evaluation is  : 23.599231481552124\n"
          ]
        }
      ]
    },
    {
      "cell_type": "code",
      "execution_count": null,
      "metadata": {
        "id": "OyAxn7grfCkW"
      },
      "outputs": [],
      "source": [
        "#model = object_detector.create(train_dir, model_spec=spec, epochs=30, batch_size=8, train_whole_model=True)"
      ],
      "id": "OyAxn7grfCkW"
    },
    {
      "cell_type": "code",
      "execution_count": 16,
      "metadata": {
        "id": "iuhu3CyHrVJf"
      },
      "outputs": [],
      "source": [
        "model.export(export_dir='/content/')"
      ],
      "id": "iuhu3CyHrVJf"
    }
  ],
  "metadata": {
    "accelerator": "GPU",
    "colab": {
      "collapsed_sections": [],
      "name": "10_20_50 model.ipynb",
      "provenance": []
    },
    "kernelspec": {
      "display_name": "Python 3",
      "language": "python",
      "name": "python3"
    },
    "language_info": {
      "codemirror_mode": {
        "name": "ipython",
        "version": 3
      },
      "file_extension": ".py",
      "mimetype": "text/x-python",
      "name": "python",
      "nbconvert_exporter": "python",
      "pygments_lexer": "ipython3",
      "version": "3.9.5"
    }
  },
  "nbformat": 4,
  "nbformat_minor": 5
}