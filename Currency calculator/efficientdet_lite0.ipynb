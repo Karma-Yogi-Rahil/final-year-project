{
  "cells": [
    {
      "cell_type": "code",
      "execution_count": 1,
      "metadata": {
        "id": "FZRWUwlnAkPw"
      },
      "outputs": [],
      "source": [
        "import os \n",
        "os.environ['KAGGLE_CONFIG_DIR'] = '/content/'"
      ],
      "id": "FZRWUwlnAkPw"
    },
    {
      "cell_type": "code",
      "source": [
        "!kaggle datasets download -d rahilmehtaucoe2784/indian-currency"
      ],
      "metadata": {
        "colab": {
          "base_uri": "https://localhost:8080/"
        },
        "id": "MRp0Y3YCwrgB",
        "outputId": "6bf92ab6-c40e-4dfa-aada-0689a23ce11a"
      },
      "id": "MRp0Y3YCwrgB",
      "execution_count": 2,
      "outputs": [
        {
          "output_type": "stream",
          "name": "stdout",
          "text": [
            "Warning: Your Kaggle API key is readable by other users on this system! To fix this, you can run 'chmod 600 /content/kaggle.json'\n",
            "Downloading indian-currency.zip to /content\n",
            " 93% 80.0M/85.7M [00:01<00:00, 68.8MB/s]\n",
            "100% 85.7M/85.7M [00:01<00:00, 77.1MB/s]\n"
          ]
        }
      ]
    },
    {
      "cell_type": "code",
      "source": [
        "%%capture\n",
        "!unzip \\*.zip && rm *.zip &> /dev/null"
      ],
      "metadata": {
        "id": "5eeueRCuws-j"
      },
      "id": "5eeueRCuws-j",
      "execution_count": 3,
      "outputs": []
    },
    {
      "cell_type": "code",
      "execution_count": 4,
      "metadata": {
        "colab": {
          "base_uri": "https://localhost:8080/"
        },
        "id": "6f5a7a6b",
        "outputId": "afc90b85-781e-4fdc-ed2d-db5c51a79b8c",
        "scrolled": true
      },
      "outputs": [
        {
          "output_type": "stream",
          "name": "stdout",
          "text": [
            "\u001b[K     |████████████████████████████████| 616 kB 10.1 MB/s \n",
            "\u001b[K     |████████████████████████████████| 840 kB 55.7 MB/s \n",
            "\u001b[K     |████████████████████████████████| 120 kB 72.2 MB/s \n",
            "\u001b[K     |████████████████████████████████| 3.4 MB 50.8 MB/s \n",
            "\u001b[K     |████████████████████████████████| 1.1 MB 61.0 MB/s \n",
            "\u001b[K     |████████████████████████████████| 77 kB 6.8 MB/s \n",
            "\u001b[K     |████████████████████████████████| 6.4 MB 59.2 MB/s \n",
            "\u001b[K     |████████████████████████████████| 87 kB 8.6 MB/s \n",
            "\u001b[K     |████████████████████████████████| 234 kB 63.4 MB/s \n",
            "\u001b[K     |████████████████████████████████| 1.2 MB 79.1 MB/s \n",
            "\u001b[K     |████████████████████████████████| 596 kB 85.4 MB/s \n",
            "\u001b[K     |████████████████████████████████| 1.1 MB 83.4 MB/s \n",
            "\u001b[K     |████████████████████████████████| 25.3 MB 1.2 MB/s \n",
            "\u001b[K     |████████████████████████████████| 99 kB 11.8 MB/s \n",
            "\u001b[K     |████████████████████████████████| 352 kB 73.7 MB/s \n",
            "\u001b[K     |████████████████████████████████| 47.7 MB 64.9 MB/s \n",
            "\u001b[K     |████████████████████████████████| 462 kB 75.0 MB/s \n",
            "\u001b[K     |████████████████████████████████| 211 kB 74.8 MB/s \n",
            "\u001b[?25h  Building wheel for fire (setup.py) ... \u001b[?25l\u001b[?25hdone\n",
            "  Building wheel for py-cpuinfo (setup.py) ... \u001b[?25l\u001b[?25hdone\n"
          ]
        }
      ],
      "source": [
        "!pip install -q tflite-model-maker\n",
        "!pip install -q pycocotools\n",
        "\n"
      ],
      "id": "6f5a7a6b"
    },
    {
      "cell_type": "code",
      "execution_count": 5,
      "metadata": {
        "id": "5b521f21"
      },
      "outputs": [],
      "source": [
        "import numpy as np\n",
        "import os\n",
        "\n",
        "from tflite_model_maker.config import ExportFormat\n",
        "from tflite_model_maker import model_spec\n",
        "from tflite_model_maker import object_detector\n",
        "import time\n",
        "\n",
        "import tensorflow as tf\n",
        "assert tf.__version__.startswith('2')\n",
        "\n",
        "tf.get_logger().setLevel('ERROR')\n",
        "from absl import logging\n",
        "logging.set_verbosity(logging.ERROR)\n",
        "from tensorflow import keras"
      ],
      "id": "5b521f21"
    },
    {
      "cell_type": "code",
      "execution_count": 6,
      "metadata": {
        "id": "XUlsc1tEd6XH"
      },
      "outputs": [],
      "source": [
        "train_image_dir = '/content/final_currency_dataset/train images'\n",
        "train_annotation_dir = '/content/final_currency_dataset/train anotation'\n",
        "validate_image_dir = '/content/final_currency_dataset/validate Images'\n",
        "validate_anaotation_dir = '/content/final_currency_dataset/validate anotation '\n",
        "test_image_dir = '/content/final_currency_dataset/test image'\n",
        "test_anotation_dir = '/content/final_currency_dataset/test anotation'"
      ],
      "id": "XUlsc1tEd6XH"
    },
    {
      "cell_type": "code",
      "execution_count": 7,
      "metadata": {
        "id": "Vx26vmSMc8AD"
      },
      "outputs": [],
      "source": [
        "train_dir = object_detector.DataLoader.from_pascal_voc(train_image_dir, train_annotation_dir, label_map={1:\"10\", 2: \"20\",3:\"50\",4:\"100\",5:\"200\",6:\"500\",7:\"2000\"})"
      ],
      "id": "Vx26vmSMc8AD"
    },
    {
      "cell_type": "code",
      "execution_count": 8,
      "metadata": {
        "id": "E1OSKKoeqlrU"
      },
      "outputs": [],
      "source": [
        "validate_dir = object_detector.DataLoader.from_pascal_voc(validate_image_dir, validate_anaotation_dir, label_map={1:\"10\", 2:\"20\",3:\"50\",4:\"100\",5:\"200\",6:\"500\",7:\"2000\"})"
      ],
      "id": "E1OSKKoeqlrU"
    },
    {
      "cell_type": "code",
      "source": [
        "test_dir = object_detector.DataLoader.from_pascal_voc(test_image_dir, test_anotation_dir, label_map={1:\"10\", 2:\"20\",3:\"50\",4:\"100\",5:\"200\",6:\"500\",7:\"2000\"})"
      ],
      "metadata": {
        "id": "1Ube9Unpx4_x"
      },
      "id": "1Ube9Unpx4_x",
      "execution_count": 9,
      "outputs": []
    },
    {
      "cell_type": "code",
      "source": [
        "print(len(train_dir))\n",
        "print(len(validate_dir))\n",
        "print(len(test_dir))"
      ],
      "metadata": {
        "colab": {
          "base_uri": "https://localhost:8080/"
        },
        "id": "kaE2UvhpcvVu",
        "outputId": "21d4abca-57da-4692-ff6b-ab0185ea3bce"
      },
      "id": "kaE2UvhpcvVu",
      "execution_count": null,
      "outputs": [
        {
          "output_type": "stream",
          "name": "stdout",
          "text": [
            "2383\n",
            "671\n",
            "345\n"
          ]
        }
      ]
    },
    {
      "cell_type": "code",
      "execution_count": 10,
      "metadata": {
        "id": "IaknFpWYe-wq"
      },
      "outputs": [],
      "source": [
        "spec = model_spec.get('efficientdet_lite2')"
      ],
      "id": "IaknFpWYe-wq"
    },
    {
      "cell_type": "code",
      "execution_count": 11,
      "metadata": {
        "colab": {
          "base_uri": "https://localhost:8080/"
        },
        "id": "Op_27CahFyC_",
        "outputId": "ba0c44fe-5eb3-4f26-c6d7-82724f6acd2b"
      },
      "outputs": [
        {
          "output_type": "stream",
          "name": "stdout",
          "text": [
            "Epoch 1/10\n",
            "397/397 [==============================] - 173s 321ms/step - det_loss: 1.0619 - cls_loss: 0.8233 - box_loss: 0.0048 - reg_l2_loss: 0.0771 - loss: 1.1390 - learning_rate: 0.0078 - gradient_norm: 3.6364 - val_det_loss: 0.6146 - val_cls_loss: 0.5433 - val_box_loss: 0.0014 - val_reg_l2_loss: 0.0774 - val_loss: 0.6921\n",
            "Epoch 2/10\n",
            "397/397 [==============================] - 124s 313ms/step - det_loss: 0.6482 - cls_loss: 0.5198 - box_loss: 0.0026 - reg_l2_loss: 0.0776 - loss: 0.7259 - learning_rate: 0.0070 - gradient_norm: 3.4913 - val_det_loss: 0.5013 - val_cls_loss: 0.4524 - val_box_loss: 9.7897e-04 - val_reg_l2_loss: 0.0779 - val_loss: 0.5792\n",
            "Epoch 3/10\n",
            "397/397 [==============================] - 124s 313ms/step - det_loss: 0.5678 - cls_loss: 0.4677 - box_loss: 0.0020 - reg_l2_loss: 0.0780 - loss: 0.6458 - learning_rate: 0.0061 - gradient_norm: 3.1580 - val_det_loss: 0.4487 - val_cls_loss: 0.3976 - val_box_loss: 0.0010 - val_reg_l2_loss: 0.0781 - val_loss: 0.5268\n",
            "Epoch 4/10\n",
            "397/397 [==============================] - 125s 315ms/step - det_loss: 0.5114 - cls_loss: 0.4239 - box_loss: 0.0017 - reg_l2_loss: 0.0781 - loss: 0.5895 - learning_rate: 0.0050 - gradient_norm: 3.2080 - val_det_loss: 0.4918 - val_cls_loss: 0.4456 - val_box_loss: 9.2501e-04 - val_reg_l2_loss: 0.0782 - val_loss: 0.5700\n",
            "Epoch 5/10\n",
            "397/397 [==============================] - 145s 366ms/step - det_loss: 0.4679 - cls_loss: 0.3924 - box_loss: 0.0015 - reg_l2_loss: 0.0782 - loss: 0.5461 - learning_rate: 0.0038 - gradient_norm: 3.4278 - val_det_loss: 0.3448 - val_cls_loss: 0.3103 - val_box_loss: 6.9078e-04 - val_reg_l2_loss: 0.0783 - val_loss: 0.4231\n",
            "Epoch 6/10\n",
            "397/397 [==============================] - 124s 314ms/step - det_loss: 0.4364 - cls_loss: 0.3664 - box_loss: 0.0014 - reg_l2_loss: 0.0783 - loss: 0.5147 - learning_rate: 0.0025 - gradient_norm: 3.3885 - val_det_loss: 0.2811 - val_cls_loss: 0.2588 - val_box_loss: 4.4649e-04 - val_reg_l2_loss: 0.0783 - val_loss: 0.3594\n",
            "Epoch 7/10\n",
            "397/397 [==============================] - 129s 326ms/step - det_loss: 0.4051 - cls_loss: 0.3424 - box_loss: 0.0013 - reg_l2_loss: 0.0783 - loss: 0.4834 - learning_rate: 0.0014 - gradient_norm: 3.3774 - val_det_loss: 0.2628 - val_cls_loss: 0.2360 - val_box_loss: 5.3658e-04 - val_reg_l2_loss: 0.0783 - val_loss: 0.3411\n",
            "Epoch 8/10\n",
            "397/397 [==============================] - 124s 313ms/step - det_loss: 0.3870 - cls_loss: 0.3285 - box_loss: 0.0012 - reg_l2_loss: 0.0783 - loss: 0.4652 - learning_rate: 5.1895e-04 - gradient_norm: 3.3893 - val_det_loss: 0.2522 - val_cls_loss: 0.2321 - val_box_loss: 4.0295e-04 - val_reg_l2_loss: 0.0783 - val_loss: 0.3305\n",
            "Epoch 9/10\n",
            "397/397 [==============================] - 124s 313ms/step - det_loss: 0.3818 - cls_loss: 0.3237 - box_loss: 0.0012 - reg_l2_loss: 0.0783 - loss: 0.4600 - learning_rate: 7.5786e-05 - gradient_norm: 3.3850 - val_det_loss: 0.2465 - val_cls_loss: 0.2262 - val_box_loss: 4.0644e-04 - val_reg_l2_loss: 0.0783 - val_loss: 0.3248\n",
            "Epoch 10/10\n",
            "397/397 [==============================] - 140s 354ms/step - det_loss: 0.3837 - cls_loss: 0.3245 - box_loss: 0.0012 - reg_l2_loss: 0.0783 - loss: 0.4620 - learning_rate: 7.5783e-05 - gradient_norm: 3.4170 - val_det_loss: 0.2488 - val_cls_loss: 0.2251 - val_box_loss: 4.7308e-04 - val_reg_l2_loss: 0.0783 - val_loss: 0.3271\n"
          ]
        }
      ],
      "source": [
        "start = time.time()\n",
        "model = object_detector.create(train_dir, \n",
        "                               model_spec=spec, \n",
        "                               epochs=10, \n",
        "                               batch_size=6, \n",
        "                               train_whole_model=True, \n",
        "                               validation_data=validate_dir)\n",
        "end = time.time()"
      ],
      "id": "Op_27CahFyC_"
    },
    {
      "cell_type": "code",
      "source": [
        "print(\"The time of execution of training is :\", end-start)"
      ],
      "metadata": {
        "colab": {
          "base_uri": "https://localhost:8080/"
        },
        "id": "Ft9_WYGBo2K6",
        "outputId": "6e9ab280-a32e-4291-f607-4877dd738682"
      },
      "id": "Ft9_WYGBo2K6",
      "execution_count": 12,
      "outputs": [
        {
          "output_type": "stream",
          "name": "stdout",
          "text": [
            "The time of execution of training is : 1354.0227739810944\n"
          ]
        }
      ]
    },
    {
      "cell_type": "code",
      "source": [
        "start = time.time()\n",
        "ap = model.evaluate(test_dir,batch_size=5)\n",
        "print(ap)\n",
        "end = time.time()\n"
      ],
      "metadata": {
        "colab": {
          "base_uri": "https://localhost:8080/"
        },
        "id": "LtKo54b0msK4",
        "outputId": "9b51b7aa-73d8-4e1c-f128-e3a96cb219fc"
      },
      "id": "LtKo54b0msK4",
      "execution_count": 13,
      "outputs": [
        {
          "output_type": "stream",
          "name": "stdout",
          "text": [
            "69/69 [==============================] - 10s 85ms/step\n",
            "\n",
            "{'AP': 0.64008343, 'AP50': 0.77762264, 'AP75': 0.7176023, 'APs': -1.0, 'APm': 0.33791107, 'APl': 0.6580155, 'ARmax1': 0.6812883, 'ARmax10': 0.8062028, 'ARmax100': 0.81453186, 'ARs': -1.0, 'ARm': 0.5940476, 'ARl': 0.82824963, 'AP_/10': 0.5537684, 'AP_/20': 0.6717521, 'AP_/50': 0.508648, 'AP_/100': 0.77997935, 'AP_/200': 0.64832777, 'AP_/500': 0.66529983, 'AP_/2000': 0.65280867}\n"
          ]
        }
      ]
    },
    {
      "cell_type": "code",
      "source": [
        "print(\"The time of execution of evaluation is  :\", end-start)"
      ],
      "metadata": {
        "colab": {
          "base_uri": "https://localhost:8080/"
        },
        "id": "tKCL9HdMo3ug",
        "outputId": "3bc043d1-069a-4c67-dd63-ae5d67cb69c2"
      },
      "id": "tKCL9HdMo3ug",
      "execution_count": 14,
      "outputs": [
        {
          "output_type": "stream",
          "name": "stdout",
          "text": [
            "The time of execution of evaluation is  : 13.036428213119507\n"
          ]
        }
      ]
    },
    {
      "cell_type": "code",
      "execution_count": null,
      "metadata": {
        "id": "OyAxn7grfCkW"
      },
      "outputs": [],
      "source": [
        "#model = object_detector.create(train_dir, model_spec=spec, epochs=30, batch_size=8, train_whole_model=True)"
      ],
      "id": "OyAxn7grfCkW"
    },
    {
      "cell_type": "code",
      "execution_count": 15,
      "metadata": {
        "id": "iuhu3CyHrVJf"
      },
      "outputs": [],
      "source": [
        "model.export(export_dir='/content/')"
      ],
      "id": "iuhu3CyHrVJf"
    }
  ],
  "metadata": {
    "accelerator": "GPU",
    "colab": {
      "collapsed_sections": [],
      "machine_shape": "hm",
      "name": "10_20_50 model.ipynb",
      "provenance": []
    },
    "kernelspec": {
      "display_name": "Python 3",
      "language": "python",
      "name": "python3"
    },
    "language_info": {
      "codemirror_mode": {
        "name": "ipython",
        "version": 3
      },
      "file_extension": ".py",
      "mimetype": "text/x-python",
      "name": "python",
      "nbconvert_exporter": "python",
      "pygments_lexer": "ipython3",
      "version": "3.9.5"
    }
  },
  "nbformat": 4,
  "nbformat_minor": 5
}