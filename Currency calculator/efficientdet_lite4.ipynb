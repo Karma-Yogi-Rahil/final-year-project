{
  "cells": [
    {
      "cell_type": "code",
      "execution_count": 1,
      "metadata": {
        "id": "FZRWUwlnAkPw"
      },
      "outputs": [],
      "source": [
        "import os \n",
        "os.environ['KAGGLE_CONFIG_DIR'] = '/content/'"
      ],
      "id": "FZRWUwlnAkPw"
    },
    {
      "cell_type": "code",
      "source": [
        "!kaggle datasets download -d rahilmehtaucoe2784/indian-currency"
      ],
      "metadata": {
        "colab": {
          "base_uri": "https://localhost:8080/"
        },
        "id": "MRp0Y3YCwrgB",
        "outputId": "39136dd8-8f36-4139-fb8e-b56ce9fa9b3f"
      },
      "id": "MRp0Y3YCwrgB",
      "execution_count": 2,
      "outputs": [
        {
          "output_type": "stream",
          "name": "stdout",
          "text": [
            "Warning: Your Kaggle API key is readable by other users on this system! To fix this, you can run 'chmod 600 /content/kaggle.json'\n",
            "Downloading indian-currency.zip to /content\n",
            " 76% 65.0M/85.7M [00:01<00:00, 28.7MB/s]\n",
            "100% 85.7M/85.7M [00:01<00:00, 77.0MB/s]\n"
          ]
        }
      ]
    },
    {
      "cell_type": "code",
      "source": [
        "%%capture\n",
        "!unzip \\*.zip && rm *.zip &> /dev/null"
      ],
      "metadata": {
        "id": "5eeueRCuws-j"
      },
      "id": "5eeueRCuws-j",
      "execution_count": 3,
      "outputs": []
    },
    {
      "cell_type": "code",
      "execution_count": 4,
      "metadata": {
        "colab": {
          "base_uri": "https://localhost:8080/"
        },
        "id": "6f5a7a6b",
        "outputId": "41b720b7-d50e-46ce-ff51-475cc1393f54",
        "scrolled": true
      },
      "outputs": [
        {
          "output_type": "stream",
          "name": "stdout",
          "text": [
            "\u001b[K     |████████████████████████████████| 616 kB 13.6 MB/s \n",
            "\u001b[K     |████████████████████████████████| 596 kB 70.6 MB/s \n",
            "\u001b[K     |████████████████████████████████| 1.2 MB 60.5 MB/s \n",
            "\u001b[K     |████████████████████████████████| 6.4 MB 54.1 MB/s \n",
            "\u001b[K     |████████████████████████████████| 77 kB 6.6 MB/s \n",
            "\u001b[K     |████████████████████████████████| 1.1 MB 68.8 MB/s \n",
            "\u001b[K     |████████████████████████████████| 3.4 MB 66.0 MB/s \n",
            "\u001b[K     |████████████████████████████████| 840 kB 63.8 MB/s \n",
            "\u001b[K     |████████████████████████████████| 87 kB 7.0 MB/s \n",
            "\u001b[K     |████████████████████████████████| 120 kB 51.0 MB/s \n",
            "\u001b[K     |████████████████████████████████| 234 kB 65.7 MB/s \n",
            "\u001b[K     |████████████████████████████████| 1.1 MB 36.7 MB/s \n",
            "\u001b[K     |████████████████████████████████| 25.3 MB 1.3 MB/s \n",
            "\u001b[K     |████████████████████████████████| 99 kB 11.0 MB/s \n",
            "\u001b[K     |████████████████████████████████| 352 kB 82.1 MB/s \n",
            "\u001b[K     |████████████████████████████████| 47.7 MB 1.2 MB/s \n",
            "\u001b[K     |████████████████████████████████| 462 kB 64.7 MB/s \n",
            "\u001b[K     |████████████████████████████████| 211 kB 61.3 MB/s \n",
            "\u001b[?25h  Building wheel for fire (setup.py) ... \u001b[?25l\u001b[?25hdone\n",
            "  Building wheel for py-cpuinfo (setup.py) ... \u001b[?25l\u001b[?25hdone\n"
          ]
        }
      ],
      "source": [
        "!pip install -q tflite-model-maker\n",
        "!pip install -q pycocotools\n",
        "\n"
      ],
      "id": "6f5a7a6b"
    },
    {
      "cell_type": "code",
      "execution_count": 5,
      "metadata": {
        "id": "5b521f21"
      },
      "outputs": [],
      "source": [
        "import numpy as np\n",
        "import os\n",
        "\n",
        "from tflite_model_maker.config import ExportFormat\n",
        "from tflite_model_maker import model_spec\n",
        "from tflite_model_maker import object_detector\n",
        "import time\n",
        "\n",
        "import tensorflow as tf\n",
        "assert tf.__version__.startswith('2')\n",
        "\n",
        "tf.get_logger().setLevel('ERROR')\n",
        "from absl import logging\n",
        "logging.set_verbosity(logging.ERROR)\n",
        "from tensorflow import keras"
      ],
      "id": "5b521f21"
    },
    {
      "cell_type": "code",
      "execution_count": 6,
      "metadata": {
        "id": "XUlsc1tEd6XH"
      },
      "outputs": [],
      "source": [
        "train_image_dir = '/content/final_currency_dataset/train images'\n",
        "train_annotation_dir = '/content/final_currency_dataset/train anotation'\n",
        "validate_image_dir = '/content/final_currency_dataset/validate Images'\n",
        "validate_anaotation_dir = '/content/final_currency_dataset/validate anotation '\n",
        "test_image_dir = '/content/final_currency_dataset/test image'\n",
        "test_anotation_dir = '/content/final_currency_dataset/test anotation'"
      ],
      "id": "XUlsc1tEd6XH"
    },
    {
      "cell_type": "code",
      "execution_count": 7,
      "metadata": {
        "id": "Vx26vmSMc8AD"
      },
      "outputs": [],
      "source": [
        "train_dir = object_detector.DataLoader.from_pascal_voc(train_image_dir, train_annotation_dir, label_map={1:\"10\", 2: \"20\",3:\"50\",4:\"100\",5:\"200\",6:\"500\",7:\"2000\"})"
      ],
      "id": "Vx26vmSMc8AD"
    },
    {
      "cell_type": "code",
      "execution_count": 8,
      "metadata": {
        "id": "E1OSKKoeqlrU"
      },
      "outputs": [],
      "source": [
        "validate_dir = object_detector.DataLoader.from_pascal_voc(validate_image_dir, validate_anaotation_dir, label_map={1:\"10\", 2:\"20\",3:\"50\",4:\"100\",5:\"200\",6:\"500\",7:\"2000\"})"
      ],
      "id": "E1OSKKoeqlrU"
    },
    {
      "cell_type": "code",
      "source": [
        "test_dir = object_detector.DataLoader.from_pascal_voc(test_image_dir, test_anotation_dir, label_map={1:\"10\", 2:\"20\",3:\"50\",4:\"100\",5:\"200\",6:\"500\",7:\"2000\"})"
      ],
      "metadata": {
        "id": "1Ube9Unpx4_x"
      },
      "id": "1Ube9Unpx4_x",
      "execution_count": 9,
      "outputs": []
    },
    {
      "cell_type": "code",
      "source": [
        "print(len(train_dir))\n",
        "print(len(validate_dir))\n",
        "print(len(test_dir))"
      ],
      "metadata": {
        "colab": {
          "base_uri": "https://localhost:8080/"
        },
        "id": "kaE2UvhpcvVu",
        "outputId": "3e556fd7-3d7b-43db-caf7-01ee65408295"
      },
      "id": "kaE2UvhpcvVu",
      "execution_count": 10,
      "outputs": [
        {
          "output_type": "stream",
          "name": "stdout",
          "text": [
            "2383\n",
            "671\n",
            "345\n"
          ]
        }
      ]
    },
    {
      "cell_type": "code",
      "execution_count": 13,
      "metadata": {
        "id": "IaknFpWYe-wq"
      },
      "outputs": [],
      "source": [
        "spec = model_spec.get('efficientdet_lite4')"
      ],
      "id": "IaknFpWYe-wq"
    },
    {
      "cell_type": "code",
      "execution_count": 18,
      "metadata": {
        "colab": {
          "base_uri": "https://localhost:8080/"
        },
        "id": "Op_27CahFyC_",
        "outputId": "4ade2ed9-e074-43ae-f18f-b124ee5d6b6b"
      },
      "outputs": [
        {
          "output_type": "stream",
          "name": "stdout",
          "text": [
            "Epoch 1/10\n",
            "397/397 [==============================] - 595s 1s/step - det_loss: 0.9694 - cls_loss: 0.7847 - box_loss: 0.0037 - reg_l2_loss: 0.1090 - loss: 1.0784 - learning_rate: 0.0078 - gradient_norm: 3.6196 - val_det_loss: 0.5294 - val_cls_loss: 0.4751 - val_box_loss: 0.0011 - val_reg_l2_loss: 0.1094 - val_loss: 0.6388\n",
            "Epoch 2/10\n",
            "397/397 [==============================] - 539s 1s/step - det_loss: 0.5936 - cls_loss: 0.5026 - box_loss: 0.0018 - reg_l2_loss: 0.1096 - loss: 0.7032 - learning_rate: 0.0070 - gradient_norm: 3.3884 - val_det_loss: 0.4446 - val_cls_loss: 0.3934 - val_box_loss: 0.0010 - val_reg_l2_loss: 0.1097 - val_loss: 0.5543\n",
            "Epoch 3/10\n",
            "397/397 [==============================] - 541s 1s/step - det_loss: 0.5118 - cls_loss: 0.4365 - box_loss: 0.0015 - reg_l2_loss: 0.1099 - loss: 0.6216 - learning_rate: 0.0061 - gradient_norm: 3.6082 - val_det_loss: 0.3776 - val_cls_loss: 0.3334 - val_box_loss: 8.8301e-04 - val_reg_l2_loss: 0.1100 - val_loss: 0.4876\n",
            "Epoch 4/10\n",
            "397/397 [==============================] - 540s 1s/step - det_loss: 0.4435 - cls_loss: 0.3794 - box_loss: 0.0013 - reg_l2_loss: 0.1101 - loss: 0.5536 - learning_rate: 0.0050 - gradient_norm: 3.8508 - val_det_loss: 0.3050 - val_cls_loss: 0.2805 - val_box_loss: 4.8956e-04 - val_reg_l2_loss: 0.1102 - val_loss: 0.4152\n",
            "Epoch 5/10\n",
            "397/397 [==============================] - 584s 1s/step - det_loss: 0.3969 - cls_loss: 0.3409 - box_loss: 0.0011 - reg_l2_loss: 0.1103 - loss: 0.5072 - learning_rate: 0.0038 - gradient_norm: 3.8994 - val_det_loss: 0.2848 - val_cls_loss: 0.2492 - val_box_loss: 7.1202e-04 - val_reg_l2_loss: 0.1103 - val_loss: 0.3951\n",
            "Epoch 6/10\n",
            "397/397 [==============================] - 539s 1s/step - det_loss: 0.3541 - cls_loss: 0.3037 - box_loss: 0.0010 - reg_l2_loss: 0.1103 - loss: 0.4644 - learning_rate: 0.0025 - gradient_norm: 3.8044 - val_det_loss: 0.2260 - val_cls_loss: 0.1999 - val_box_loss: 5.2340e-04 - val_reg_l2_loss: 0.1103 - val_loss: 0.3363\n",
            "Epoch 7/10\n",
            "397/397 [==============================] - 540s 1s/step - det_loss: 0.3157 - cls_loss: 0.2701 - box_loss: 9.1085e-04 - reg_l2_loss: 0.1103 - loss: 0.4260 - learning_rate: 0.0014 - gradient_norm: 3.8689 - val_det_loss: 0.2044 - val_cls_loss: 0.1779 - val_box_loss: 5.3013e-04 - val_reg_l2_loss: 0.1103 - val_loss: 0.3147\n",
            "Epoch 8/10\n",
            "397/397 [==============================] - 544s 1s/step - det_loss: 0.3002 - cls_loss: 0.2562 - box_loss: 8.7897e-04 - reg_l2_loss: 0.1103 - loss: 0.4105 - learning_rate: 5.1895e-04 - gradient_norm: 4.0727 - val_det_loss: 0.1906 - val_cls_loss: 0.1654 - val_box_loss: 5.0439e-04 - val_reg_l2_loss: 0.1103 - val_loss: 0.3009\n",
            "Epoch 9/10\n",
            "397/397 [==============================] - 541s 1s/step - det_loss: 0.2903 - cls_loss: 0.2457 - box_loss: 8.9116e-04 - reg_l2_loss: 0.1103 - loss: 0.4006 - learning_rate: 7.5786e-05 - gradient_norm: 3.8729 - val_det_loss: 0.1948 - val_cls_loss: 0.1679 - val_box_loss: 5.3843e-04 - val_reg_l2_loss: 0.1103 - val_loss: 0.3051\n",
            "Epoch 10/10\n",
            "397/397 [==============================] - 578s 1s/step - det_loss: 0.2853 - cls_loss: 0.2418 - box_loss: 8.7081e-04 - reg_l2_loss: 0.1103 - loss: 0.3956 - learning_rate: 7.5783e-05 - gradient_norm: 3.8737 - val_det_loss: 0.2097 - val_cls_loss: 0.1826 - val_box_loss: 5.4079e-04 - val_reg_l2_loss: 0.1103 - val_loss: 0.3200\n"
          ]
        }
      ],
      "source": [
        "start = time.time()\n",
        "model = object_detector.create(train_dir, \n",
        "                               model_spec=spec, \n",
        "                               epochs=10, \n",
        "                               batch_size=6, \n",
        "                               train_whole_model=True, \n",
        "                               validation_data=validate_dir)\n",
        "end = time.time()"
      ],
      "id": "Op_27CahFyC_"
    },
    {
      "cell_type": "code",
      "source": [
        "print(\"The time of execution of training is :\", end-start)"
      ],
      "metadata": {
        "colab": {
          "base_uri": "https://localhost:8080/"
        },
        "id": "Ft9_WYGBo2K6",
        "outputId": "1ffaf8df-bd02-4016-b671-38d0dd717d9b"
      },
      "id": "Ft9_WYGBo2K6",
      "execution_count": 19,
      "outputs": [
        {
          "output_type": "stream",
          "name": "stdout",
          "text": [
            "The time of execution of training is : 5564.068696022034\n"
          ]
        }
      ]
    },
    {
      "cell_type": "code",
      "source": [
        "start = time.time()\n",
        "ap = model.evaluate(test_dir,batch_size=5)\n",
        "print(ap)\n",
        "end = time.time()\n"
      ],
      "metadata": {
        "colab": {
          "base_uri": "https://localhost:8080/"
        },
        "id": "LtKo54b0msK4",
        "outputId": "9f77bfaf-75ba-4cf7-9bf9-b214c9cda0ce"
      },
      "id": "LtKo54b0msK4",
      "execution_count": 23,
      "outputs": [
        {
          "output_type": "stream",
          "name": "stdout",
          "text": [
            "69/69 [==============================] - 22s 251ms/step\n",
            "\n",
            "{'AP': 0.78369546, 'AP50': 0.89814377, 'AP75': 0.8494696, 'APs': -1.0, 'APm': 0.5592966, 'APl': 0.7969842, 'ARmax1': 0.74215245, 'ARmax10': 0.8527381, 'ARmax100': 0.8586781, 'ARs': -1.0, 'ARm': 0.63166666, 'ARl': 0.87120247, 'AP_/10': 0.68068445, 'AP_/20': 0.80811995, 'AP_/50': 0.7562806, 'AP_/100': 0.86769056, 'AP_/200': 0.84757006, 'AP_/500': 0.7874181, 'AP_/2000': 0.7381046}\n"
          ]
        }
      ]
    },
    {
      "cell_type": "code",
      "source": [
        "print(\"The time of execution of evaluation is  :\", end-start)"
      ],
      "metadata": {
        "colab": {
          "base_uri": "https://localhost:8080/"
        },
        "id": "tKCL9HdMo3ug",
        "outputId": "fe26f9d6-030b-4087-c89d-9056332ed6b8"
      },
      "id": "tKCL9HdMo3ug",
      "execution_count": 24,
      "outputs": [
        {
          "output_type": "stream",
          "name": "stdout",
          "text": [
            "The time of execution of evaluation is  : 24.731475353240967\n"
          ]
        }
      ]
    },
    {
      "cell_type": "code",
      "execution_count": null,
      "metadata": {
        "id": "OyAxn7grfCkW"
      },
      "outputs": [],
      "source": [
        "#model = object_detector.create(train_dir, model_spec=spec, epochs=30, batch_size=8, train_whole_model=True)"
      ],
      "id": "OyAxn7grfCkW"
    },
    {
      "cell_type": "code",
      "execution_count": 22,
      "metadata": {
        "id": "iuhu3CyHrVJf"
      },
      "outputs": [],
      "source": [
        "model.export(export_dir='/content/')"
      ],
      "id": "iuhu3CyHrVJf"
    }
  ],
  "metadata": {
    "accelerator": "GPU",
    "colab": {
      "collapsed_sections": [],
      "machine_shape": "hm",
      "name": "10_20_50 model.ipynb",
      "provenance": []
    },
    "kernelspec": {
      "display_name": "Python 3",
      "language": "python",
      "name": "python3"
    },
    "language_info": {
      "codemirror_mode": {
        "name": "ipython",
        "version": 3
      },
      "file_extension": ".py",
      "mimetype": "text/x-python",
      "name": "python",
      "nbconvert_exporter": "python",
      "pygments_lexer": "ipython3",
      "version": "3.9.5"
    }
  },
  "nbformat": 4,
  "nbformat_minor": 5
}