{
  "cells": [
    {
      "cell_type": "code",
      "execution_count": 1,
      "metadata": {
        "id": "FZRWUwlnAkPw"
      },
      "outputs": [],
      "source": [
        "import os \n",
        "os.environ['KAGGLE_CONFIG_DIR'] = '/content/'"
      ],
      "id": "FZRWUwlnAkPw"
    },
    {
      "cell_type": "code",
      "source": [
        "!kaggle datasets download -d rahilmehtaucoe2784/indian-currency"
      ],
      "metadata": {
        "colab": {
          "base_uri": "https://localhost:8080/"
        },
        "id": "MRp0Y3YCwrgB",
        "outputId": "6bc255ca-22aa-44bc-c44b-106732e345de"
      },
      "id": "MRp0Y3YCwrgB",
      "execution_count": 2,
      "outputs": [
        {
          "output_type": "stream",
          "name": "stdout",
          "text": [
            "Warning: Your Kaggle API key is readable by other users on this system! To fix this, you can run 'chmod 600 /content/kaggle.json'\n",
            "Downloading indian-currency.zip to /content\n",
            " 89% 76.0M/85.7M [00:00<00:00, 127MB/s]\n",
            "100% 85.7M/85.7M [00:00<00:00, 126MB/s]\n"
          ]
        }
      ]
    },
    {
      "cell_type": "code",
      "source": [
        "%%capture\n",
        "!unzip \\*.zip && rm *.zip &> /dev/null"
      ],
      "metadata": {
        "id": "5eeueRCuws-j"
      },
      "id": "5eeueRCuws-j",
      "execution_count": 3,
      "outputs": []
    },
    {
      "cell_type": "code",
      "execution_count": 4,
      "metadata": {
        "colab": {
          "base_uri": "https://localhost:8080/"
        },
        "id": "6f5a7a6b",
        "outputId": "544412af-918f-4292-9e91-07d47330550a",
        "scrolled": true
      },
      "outputs": [
        {
          "output_type": "stream",
          "name": "stdout",
          "text": [
            "\u001b[K     |████████████████████████████████| 616 kB 7.0 MB/s \n",
            "\u001b[K     |████████████████████████████████| 6.4 MB 73.3 MB/s \n",
            "\u001b[K     |████████████████████████████████| 840 kB 38.8 MB/s \n",
            "\u001b[K     |████████████████████████████████| 77 kB 7.3 MB/s \n",
            "\u001b[K     |████████████████████████████████| 1.1 MB 55.9 MB/s \n",
            "\u001b[K     |████████████████████████████████| 87 kB 8.2 MB/s \n",
            "\u001b[K     |████████████████████████████████| 1.2 MB 59.8 MB/s \n",
            "\u001b[K     |████████████████████████████████| 120 kB 103.6 MB/s \n",
            "\u001b[K     |████████████████████████████████| 1.1 MB 72.9 MB/s \n",
            "\u001b[K     |████████████████████████████████| 234 kB 86.2 MB/s \n",
            "\u001b[K     |████████████████████████████████| 3.4 MB 64.7 MB/s \n",
            "\u001b[K     |████████████████████████████████| 596 kB 65.1 MB/s \n",
            "\u001b[K     |████████████████████████████████| 25.3 MB 1.1 MB/s \n",
            "\u001b[K     |████████████████████████████████| 99 kB 11.7 MB/s \n",
            "\u001b[K     |████████████████████████████████| 352 kB 66.7 MB/s \n",
            "\u001b[K     |████████████████████████████████| 47.7 MB 1.2 MB/s \n",
            "\u001b[K     |████████████████████████████████| 462 kB 88.0 MB/s \n",
            "\u001b[K     |████████████████████████████████| 211 kB 87.6 MB/s \n",
            "\u001b[?25h  Building wheel for fire (setup.py) ... \u001b[?25l\u001b[?25hdone\n",
            "  Building wheel for py-cpuinfo (setup.py) ... \u001b[?25l\u001b[?25hdone\n"
          ]
        }
      ],
      "source": [
        "!pip install -q tflite-model-maker\n",
        "!pip install -q pycocotools\n",
        "\n"
      ],
      "id": "6f5a7a6b"
    },
    {
      "cell_type": "code",
      "execution_count": 5,
      "metadata": {
        "id": "5b521f21"
      },
      "outputs": [],
      "source": [
        "import numpy as np\n",
        "import os\n",
        "\n",
        "from tflite_model_maker.config import ExportFormat\n",
        "from tflite_model_maker import model_spec\n",
        "from tflite_model_maker import object_detector\n",
        "import time\n",
        "\n",
        "import tensorflow as tf\n",
        "assert tf.__version__.startswith('2')\n",
        "\n",
        "tf.get_logger().setLevel('ERROR')\n",
        "from absl import logging\n",
        "logging.set_verbosity(logging.ERROR)\n",
        "from tensorflow import keras"
      ],
      "id": "5b521f21"
    },
    {
      "cell_type": "code",
      "execution_count": 6,
      "metadata": {
        "id": "XUlsc1tEd6XH"
      },
      "outputs": [],
      "source": [
        "train_image_dir = '/content/final_currency_dataset/train images'\n",
        "train_annotation_dir = '/content/final_currency_dataset/train anotation'\n",
        "validate_image_dir = '/content/final_currency_dataset/validate Images'\n",
        "validate_anaotation_dir = '/content/final_currency_dataset/validate anotation '\n",
        "test_image_dir = '/content/final_currency_dataset/test image'\n",
        "test_anotation_dir = '/content/final_currency_dataset/test anotation'"
      ],
      "id": "XUlsc1tEd6XH"
    },
    {
      "cell_type": "code",
      "execution_count": 7,
      "metadata": {
        "id": "Vx26vmSMc8AD"
      },
      "outputs": [],
      "source": [
        "train_dir = object_detector.DataLoader.from_pascal_voc(train_image_dir, train_annotation_dir, label_map={1:\"10\", 2: \"20\",3:\"50\",4:\"100\",5:\"200\",6:\"500\",7:\"2000\"})"
      ],
      "id": "Vx26vmSMc8AD"
    },
    {
      "cell_type": "code",
      "execution_count": 8,
      "metadata": {
        "id": "E1OSKKoeqlrU"
      },
      "outputs": [],
      "source": [
        "validate_dir = object_detector.DataLoader.from_pascal_voc(validate_image_dir, validate_anaotation_dir, label_map={1:\"10\", 2:\"20\",3:\"50\",4:\"100\",5:\"200\",6:\"500\",7:\"2000\"})"
      ],
      "id": "E1OSKKoeqlrU"
    },
    {
      "cell_type": "code",
      "source": [
        "test_dir = object_detector.DataLoader.from_pascal_voc(test_image_dir, test_anotation_dir, label_map={1:\"10\", 2:\"20\",3:\"50\",4:\"100\",5:\"200\",6:\"500\",7:\"2000\"})"
      ],
      "metadata": {
        "id": "1Ube9Unpx4_x"
      },
      "id": "1Ube9Unpx4_x",
      "execution_count": 9,
      "outputs": []
    },
    {
      "cell_type": "code",
      "source": [
        "print(len(train_dir))\n",
        "print(len(validate_dir))\n",
        "print(len(test_dir))"
      ],
      "metadata": {
        "colab": {
          "base_uri": "https://localhost:8080/"
        },
        "id": "kaE2UvhpcvVu",
        "outputId": "92f15a05-0cc0-4ffa-a9d1-62554d2d051a"
      },
      "id": "kaE2UvhpcvVu",
      "execution_count": 10,
      "outputs": [
        {
          "output_type": "stream",
          "name": "stdout",
          "text": [
            "2383\n",
            "671\n",
            "345\n"
          ]
        }
      ]
    },
    {
      "cell_type": "code",
      "execution_count": 18,
      "metadata": {
        "id": "IaknFpWYe-wq"
      },
      "outputs": [],
      "source": [
        "spec = model_spec.get('efficientdet_lite1')"
      ],
      "id": "IaknFpWYe-wq"
    },
    {
      "cell_type": "code",
      "execution_count": 19,
      "metadata": {
        "colab": {
          "base_uri": "https://localhost:8080/"
        },
        "id": "Op_27CahFyC_",
        "outputId": "c09deb91-58e4-415c-cd3d-2721e3f37334"
      },
      "outputs": [
        {
          "output_type": "stream",
          "name": "stdout",
          "text": [
            "Epoch 1/30\n",
            "397/397 [==============================] - 134s 256ms/step - det_loss: 1.0394 - cls_loss: 0.7836 - box_loss: 0.0051 - reg_l2_loss: 0.0717 - loss: 1.1112 - learning_rate: 0.0078 - gradient_norm: 3.3444 - val_det_loss: 0.5835 - val_cls_loss: 0.4841 - val_box_loss: 0.0020 - val_reg_l2_loss: 0.0720 - val_loss: 0.6556\n",
            "Epoch 2/30\n",
            "397/397 [==============================] - 100s 252ms/step - det_loss: 0.6513 - cls_loss: 0.5165 - box_loss: 0.0027 - reg_l2_loss: 0.0723 - loss: 0.7236 - learning_rate: 0.0074 - gradient_norm: 3.4657 - val_det_loss: 0.5538 - val_cls_loss: 0.4129 - val_box_loss: 0.0028 - val_reg_l2_loss: 0.0725 - val_loss: 0.6264\n",
            "Epoch 3/30\n",
            "397/397 [==============================] - 99s 250ms/step - det_loss: 0.5643 - cls_loss: 0.4580 - box_loss: 0.0021 - reg_l2_loss: 0.0727 - loss: 0.6370 - learning_rate: 0.0074 - gradient_norm: 3.0880 - val_det_loss: 0.4256 - val_cls_loss: 0.3655 - val_box_loss: 0.0012 - val_reg_l2_loss: 0.0728 - val_loss: 0.4985\n",
            "Epoch 4/30\n",
            "397/397 [==============================] - 99s 250ms/step - det_loss: 0.5241 - cls_loss: 0.4277 - box_loss: 0.0019 - reg_l2_loss: 0.0730 - loss: 0.5971 - learning_rate: 0.0072 - gradient_norm: 3.2011 - val_det_loss: 0.3455 - val_cls_loss: 0.3041 - val_box_loss: 8.2642e-04 - val_reg_l2_loss: 0.0732 - val_loss: 0.4186\n",
            "Epoch 5/30\n",
            "397/397 [==============================] - 118s 297ms/step - det_loss: 0.4959 - cls_loss: 0.4025 - box_loss: 0.0019 - reg_l2_loss: 0.0733 - loss: 0.5693 - learning_rate: 0.0071 - gradient_norm: 3.3082 - val_det_loss: 0.4373 - val_cls_loss: 0.3832 - val_box_loss: 0.0011 - val_reg_l2_loss: 0.0735 - val_loss: 0.5108\n",
            "Epoch 6/30\n",
            "397/397 [==============================] - 99s 250ms/step - det_loss: 0.4619 - cls_loss: 0.3717 - box_loss: 0.0018 - reg_l2_loss: 0.0737 - loss: 0.5356 - learning_rate: 0.0069 - gradient_norm: 3.5208 - val_det_loss: 0.2960 - val_cls_loss: 0.2323 - val_box_loss: 0.0013 - val_reg_l2_loss: 0.0739 - val_loss: 0.3699\n",
            "Epoch 7/30\n",
            "397/397 [==============================] - 99s 249ms/step - det_loss: 0.4280 - cls_loss: 0.3455 - box_loss: 0.0016 - reg_l2_loss: 0.0740 - loss: 0.5020 - learning_rate: 0.0066 - gradient_norm: 3.4258 - val_det_loss: 0.4742 - val_cls_loss: 0.4209 - val_box_loss: 0.0011 - val_reg_l2_loss: 0.0742 - val_loss: 0.5484\n",
            "Epoch 8/30\n",
            "397/397 [==============================] - 99s 249ms/step - det_loss: 0.4129 - cls_loss: 0.3351 - box_loss: 0.0016 - reg_l2_loss: 0.0743 - loss: 0.4872 - learning_rate: 0.0063 - gradient_norm: 3.5836 - val_det_loss: 0.2404 - val_cls_loss: 0.1989 - val_box_loss: 8.2997e-04 - val_reg_l2_loss: 0.0745 - val_loss: 0.3149\n",
            "Epoch 9/30\n",
            "397/397 [==============================] - 99s 250ms/step - det_loss: 0.4065 - cls_loss: 0.3263 - box_loss: 0.0016 - reg_l2_loss: 0.0746 - loss: 0.4812 - learning_rate: 0.0060 - gradient_norm: 3.7112 - val_det_loss: 0.3595 - val_cls_loss: 0.2393 - val_box_loss: 0.0024 - val_reg_l2_loss: 0.0748 - val_loss: 0.4343\n",
            "Epoch 10/30\n",
            "397/397 [==============================] - 114s 286ms/step - det_loss: 0.3662 - cls_loss: 0.2953 - box_loss: 0.0014 - reg_l2_loss: 0.0749 - loss: 0.4411 - learning_rate: 0.0057 - gradient_norm: 3.4571 - val_det_loss: 0.2259 - val_cls_loss: 0.1553 - val_box_loss: 0.0014 - val_reg_l2_loss: 0.0750 - val_loss: 0.3009\n",
            "Epoch 11/30\n",
            "397/397 [==============================] - 99s 250ms/step - det_loss: 0.3569 - cls_loss: 0.2865 - box_loss: 0.0014 - reg_l2_loss: 0.0751 - loss: 0.4320 - learning_rate: 0.0053 - gradient_norm: 3.6443 - val_det_loss: 0.2037 - val_cls_loss: 0.1751 - val_box_loss: 5.7229e-04 - val_reg_l2_loss: 0.0752 - val_loss: 0.2789\n",
            "Epoch 12/30\n",
            "397/397 [==============================] - 99s 250ms/step - det_loss: 0.3482 - cls_loss: 0.2773 - box_loss: 0.0014 - reg_l2_loss: 0.0753 - loss: 0.4235 - learning_rate: 0.0049 - gradient_norm: 3.7102 - val_det_loss: 0.1803 - val_cls_loss: 0.1323 - val_box_loss: 9.5883e-04 - val_reg_l2_loss: 0.0754 - val_loss: 0.2557\n",
            "Epoch 13/30\n",
            "397/397 [==============================] - 99s 249ms/step - det_loss: 0.3277 - cls_loss: 0.2604 - box_loss: 0.0013 - reg_l2_loss: 0.0755 - loss: 0.4032 - learning_rate: 0.0046 - gradient_norm: 3.6300 - val_det_loss: 0.2159 - val_cls_loss: 0.1924 - val_box_loss: 4.6993e-04 - val_reg_l2_loss: 0.0756 - val_loss: 0.2914\n",
            "Epoch 14/30\n",
            "397/397 [==============================] - 99s 250ms/step - det_loss: 0.3074 - cls_loss: 0.2462 - box_loss: 0.0012 - reg_l2_loss: 0.0756 - loss: 0.3830 - learning_rate: 0.0042 - gradient_norm: 3.4080 - val_det_loss: 0.2832 - val_cls_loss: 0.2556 - val_box_loss: 5.5220e-04 - val_reg_l2_loss: 0.0757 - val_loss: 0.3589\n",
            "Epoch 15/30\n",
            "397/397 [==============================] - 113s 285ms/step - det_loss: 0.2955 - cls_loss: 0.2335 - box_loss: 0.0012 - reg_l2_loss: 0.0757 - loss: 0.3712 - learning_rate: 0.0038 - gradient_norm: 3.4235 - val_det_loss: 0.1260 - val_cls_loss: 0.0993 - val_box_loss: 5.3460e-04 - val_reg_l2_loss: 0.0757 - val_loss: 0.2018\n",
            "Epoch 16/30\n",
            "397/397 [==============================] - 99s 250ms/step - det_loss: 0.2913 - cls_loss: 0.2295 - box_loss: 0.0012 - reg_l2_loss: 0.0758 - loss: 0.3671 - learning_rate: 0.0033 - gradient_norm: 3.5539 - val_det_loss: 0.1223 - val_cls_loss: 0.0937 - val_box_loss: 5.7142e-04 - val_reg_l2_loss: 0.0758 - val_loss: 0.1981\n",
            "Epoch 17/30\n",
            "397/397 [==============================] - 99s 250ms/step - det_loss: 0.2646 - cls_loss: 0.2083 - box_loss: 0.0011 - reg_l2_loss: 0.0758 - loss: 0.3405 - learning_rate: 0.0029 - gradient_norm: 3.4711 - val_det_loss: 0.1212 - val_cls_loss: 0.0967 - val_box_loss: 4.8904e-04 - val_reg_l2_loss: 0.0759 - val_loss: 0.1970\n",
            "Epoch 18/30\n",
            "397/397 [==============================] - 99s 250ms/step - det_loss: 0.2571 - cls_loss: 0.2032 - box_loss: 0.0011 - reg_l2_loss: 0.0759 - loss: 0.3330 - learning_rate: 0.0026 - gradient_norm: 3.3401 - val_det_loss: 0.1712 - val_cls_loss: 0.1436 - val_box_loss: 5.5335e-04 - val_reg_l2_loss: 0.0759 - val_loss: 0.2471\n",
            "Epoch 19/30\n",
            "397/397 [==============================] - 99s 249ms/step - det_loss: 0.2521 - cls_loss: 0.1988 - box_loss: 0.0011 - reg_l2_loss: 0.0759 - loss: 0.3280 - learning_rate: 0.0022 - gradient_norm: 3.4399 - val_det_loss: 0.1036 - val_cls_loss: 0.0818 - val_box_loss: 4.3445e-04 - val_reg_l2_loss: 0.0759 - val_loss: 0.1795\n",
            "Epoch 20/30\n",
            "397/397 [==============================] - 113s 284ms/step - det_loss: 0.2472 - cls_loss: 0.1936 - box_loss: 0.0011 - reg_l2_loss: 0.0759 - loss: 0.3231 - learning_rate: 0.0018 - gradient_norm: 3.5232 - val_det_loss: 0.0991 - val_cls_loss: 0.0789 - val_box_loss: 4.0384e-04 - val_reg_l2_loss: 0.0759 - val_loss: 0.1750\n",
            "Epoch 21/30\n",
            "397/397 [==============================] - 99s 250ms/step - det_loss: 0.2304 - cls_loss: 0.1808 - box_loss: 9.9169e-04 - reg_l2_loss: 0.0759 - loss: 0.3062 - learning_rate: 0.0015 - gradient_norm: 3.1001 - val_det_loss: 0.1023 - val_cls_loss: 0.0786 - val_box_loss: 4.7453e-04 - val_reg_l2_loss: 0.0759 - val_loss: 0.1782\n",
            "Epoch 22/30\n",
            "397/397 [==============================] - 99s 249ms/step - det_loss: 0.2250 - cls_loss: 0.1770 - box_loss: 9.5931e-04 - reg_l2_loss: 0.0759 - loss: 0.3009 - learning_rate: 0.0012 - gradient_norm: 3.0803 - val_det_loss: 0.1031 - val_cls_loss: 0.0797 - val_box_loss: 4.6863e-04 - val_reg_l2_loss: 0.0759 - val_loss: 0.1790\n",
            "Epoch 23/30\n",
            "397/397 [==============================] - 100s 252ms/step - det_loss: 0.2219 - cls_loss: 0.1716 - box_loss: 0.0010 - reg_l2_loss: 0.0759 - loss: 0.2978 - learning_rate: 8.9330e-04 - gradient_norm: 3.1922 - val_det_loss: 0.0930 - val_cls_loss: 0.0758 - val_box_loss: 3.4422e-04 - val_reg_l2_loss: 0.0759 - val_loss: 0.1689\n",
            "Epoch 24/30\n",
            "397/397 [==============================] - 99s 249ms/step - det_loss: 0.2120 - cls_loss: 0.1637 - box_loss: 9.6530e-04 - reg_l2_loss: 0.0759 - loss: 0.2879 - learning_rate: 6.4769e-04 - gradient_norm: 3.1683 - val_det_loss: 0.0909 - val_cls_loss: 0.0731 - val_box_loss: 3.5482e-04 - val_reg_l2_loss: 0.0759 - val_loss: 0.1668\n",
            "Epoch 25/30\n",
            "397/397 [==============================] - 112s 281ms/step - det_loss: 0.2112 - cls_loss: 0.1640 - box_loss: 9.4348e-04 - reg_l2_loss: 0.0759 - loss: 0.2870 - learning_rate: 4.3846e-04 - gradient_norm: 3.0249 - val_det_loss: 0.0866 - val_cls_loss: 0.0700 - val_box_loss: 3.3284e-04 - val_reg_l2_loss: 0.0759 - val_loss: 0.1625\n",
            "Epoch 26/30\n",
            "397/397 [==============================] - 100s 252ms/step - det_loss: 0.2046 - cls_loss: 0.1592 - box_loss: 9.0654e-04 - reg_l2_loss: 0.0759 - loss: 0.2804 - learning_rate: 2.6805e-04 - gradient_norm: 2.9010 - val_det_loss: 0.0889 - val_cls_loss: 0.0714 - val_box_loss: 3.5003e-04 - val_reg_l2_loss: 0.0759 - val_loss: 0.1647\n",
            "Epoch 27/30\n",
            "397/397 [==============================] - 99s 249ms/step - det_loss: 0.2009 - cls_loss: 0.1544 - box_loss: 9.2915e-04 - reg_l2_loss: 0.0759 - loss: 0.2768 - learning_rate: 1.3846e-04 - gradient_norm: 2.8897 - val_det_loss: 0.0897 - val_cls_loss: 0.0717 - val_box_loss: 3.5977e-04 - val_reg_l2_loss: 0.0759 - val_loss: 0.1656\n",
            "Epoch 28/30\n",
            "397/397 [==============================] - 99s 250ms/step - det_loss: 0.2045 - cls_loss: 0.1584 - box_loss: 9.2269e-04 - reg_l2_loss: 0.0759 - loss: 0.2804 - learning_rate: 5.1219e-05 - gradient_norm: 2.9941 - val_det_loss: 0.0891 - val_cls_loss: 0.0712 - val_box_loss: 3.5715e-04 - val_reg_l2_loss: 0.0759 - val_loss: 0.1649\n",
            "Epoch 29/30\n",
            "397/397 [==============================] - 99s 250ms/step - det_loss: 0.2005 - cls_loss: 0.1530 - box_loss: 9.4990e-04 - reg_l2_loss: 0.0759 - loss: 0.2764 - learning_rate: 7.3396e-06 - gradient_norm: 2.8749 - val_det_loss: 0.0899 - val_cls_loss: 0.0720 - val_box_loss: 3.5801e-04 - val_reg_l2_loss: 0.0759 - val_loss: 0.1658\n",
            "Epoch 30/30\n",
            "397/397 [==============================] - 113s 284ms/step - det_loss: 0.2027 - cls_loss: 0.1573 - box_loss: 9.0802e-04 - reg_l2_loss: 0.0759 - loss: 0.2786 - learning_rate: 7.3394e-06 - gradient_norm: 2.8596 - val_det_loss: 0.0882 - val_cls_loss: 0.0709 - val_box_loss: 3.4721e-04 - val_reg_l2_loss: 0.0759 - val_loss: 0.1641\n"
          ]
        }
      ],
      "source": [
        "start = time.time()\n",
        "model = object_detector.create(train_dir, \n",
        "                               model_spec=spec, \n",
        "                               epochs=30, \n",
        "                               batch_size=6, \n",
        "                               train_whole_model=True, \n",
        "                               validation_data=validate_dir)\n",
        "end = time.time()"
      ],
      "id": "Op_27CahFyC_"
    },
    {
      "cell_type": "code",
      "source": [
        "print(\"The time of execution of training is :\", end-start)"
      ],
      "metadata": {
        "colab": {
          "base_uri": "https://localhost:8080/"
        },
        "id": "Ft9_WYGBo2K6",
        "outputId": "bb88baa9-dfbc-4073-d1e0-d346e76c94e4"
      },
      "id": "Ft9_WYGBo2K6",
      "execution_count": 20,
      "outputs": [
        {
          "output_type": "stream",
          "name": "stdout",
          "text": [
            "The time of execution of training is : 3113.679764032364\n"
          ]
        }
      ]
    },
    {
      "cell_type": "code",
      "source": [
        "start = time.time()\n",
        "ap = model.evaluate(test_dir,batch_size=5)\n",
        "print(ap)\n",
        "end = time.time()\n"
      ],
      "metadata": {
        "colab": {
          "base_uri": "https://localhost:8080/"
        },
        "id": "LtKo54b0msK4",
        "outputId": "9cbf696b-a0ef-47b2-8d6d-7b5ae91f9f91"
      },
      "id": "LtKo54b0msK4",
      "execution_count": 21,
      "outputs": [
        {
          "output_type": "stream",
          "name": "stdout",
          "text": [
            "69/69 [==============================] - 8s 62ms/step\n",
            "\n",
            "{'AP': 0.8115674, 'AP50': 0.9277198, 'AP75': 0.87656873, 'APs': -1.0, 'APm': 0.5777142, 'APl': 0.824583, 'ARmax1': 0.74710935, 'ARmax10': 0.86134857, 'ARmax100': 0.8708335, 'ARs': -1.0, 'ARm': 0.6788095, 'ARl': 0.88194776, 'AP_/10': 0.759351, 'AP_/20': 0.8240029, 'AP_/50': 0.8336428, 'AP_/100': 0.90833616, 'AP_/200': 0.8494571, 'AP_/500': 0.80042607, 'AP_/2000': 0.70575607}\n"
          ]
        }
      ]
    },
    {
      "cell_type": "code",
      "source": [
        "print(\"The time of execution of evaluation is  :\", end-start)"
      ],
      "metadata": {
        "colab": {
          "base_uri": "https://localhost:8080/"
        },
        "id": "tKCL9HdMo3ug",
        "outputId": "f6433f72-1686-49b3-afde-c4a005198b56"
      },
      "id": "tKCL9HdMo3ug",
      "execution_count": 22,
      "outputs": [
        {
          "output_type": "stream",
          "name": "stdout",
          "text": [
            "The time of execution of evaluation is  : 10.523140668869019\n"
          ]
        }
      ]
    },
    {
      "cell_type": "code",
      "execution_count": 16,
      "metadata": {
        "id": "OyAxn7grfCkW"
      },
      "outputs": [],
      "source": [
        "#model = object_detector.create(train_dir, model_spec=spec, epochs=30, batch_size=8, train_whole_model=True)"
      ],
      "id": "OyAxn7grfCkW"
    },
    {
      "cell_type": "code",
      "execution_count": null,
      "metadata": {
        "id": "iuhu3CyHrVJf"
      },
      "outputs": [],
      "source": [
        "model.export(export_dir='/content/')"
      ],
      "id": "iuhu3CyHrVJf"
    }
  ],
  "metadata": {
    "accelerator": "GPU",
    "colab": {
      "collapsed_sections": [],
      "machine_shape": "hm",
      "name": "10_20_50 model.ipynb",
      "provenance": []
    },
    "kernelspec": {
      "display_name": "Python 3",
      "language": "python",
      "name": "python3"
    },
    "language_info": {
      "codemirror_mode": {
        "name": "ipython",
        "version": 3
      },
      "file_extension": ".py",
      "mimetype": "text/x-python",
      "name": "python",
      "nbconvert_exporter": "python",
      "pygments_lexer": "ipython3",
      "version": "3.9.5"
    }
  },
  "nbformat": 4,
  "nbformat_minor": 5
}