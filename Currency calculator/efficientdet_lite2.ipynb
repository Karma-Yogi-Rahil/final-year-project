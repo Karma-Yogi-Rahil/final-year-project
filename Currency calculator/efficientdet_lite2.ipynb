{
  "cells": [
    {
      "cell_type": "code",
      "execution_count": 1,
      "metadata": {
        "id": "FZRWUwlnAkPw"
      },
      "outputs": [],
      "source": [
        "import os \n",
        "os.environ['KAGGLE_CONFIG_DIR'] = '/content/'"
      ],
      "id": "FZRWUwlnAkPw"
    },
    {
      "cell_type": "code",
      "source": [
        "!kaggle datasets download -d rahilmehtaucoe2784/indian-currency"
      ],
      "metadata": {
        "colab": {
          "base_uri": "https://localhost:8080/"
        },
        "id": "MRp0Y3YCwrgB",
        "outputId": "3c6c42eb-42b1-41bc-8bf3-e084c6a1a04b"
      },
      "id": "MRp0Y3YCwrgB",
      "execution_count": 2,
      "outputs": [
        {
          "output_type": "stream",
          "name": "stdout",
          "text": [
            "Warning: Your Kaggle API key is readable by other users on this system! To fix this, you can run 'chmod 600 /content/kaggle.json'\n",
            "Downloading indian-currency.zip to /content\n",
            " 85% 73.0M/85.7M [00:00<00:00, 48.1MB/s]\n",
            "100% 85.7M/85.7M [00:01<00:00, 84.2MB/s]\n"
          ]
        }
      ]
    },
    {
      "cell_type": "code",
      "source": [
        "%%capture\n",
        "!unzip \\*.zip && rm *.zip &> /dev/null"
      ],
      "metadata": {
        "id": "5eeueRCuws-j"
      },
      "id": "5eeueRCuws-j",
      "execution_count": 3,
      "outputs": []
    },
    {
      "cell_type": "code",
      "execution_count": 4,
      "metadata": {
        "colab": {
          "base_uri": "https://localhost:8080/"
        },
        "id": "6f5a7a6b",
        "outputId": "e1fa4ab3-87c4-4c86-e4bb-e93082cfadd0",
        "scrolled": true
      },
      "outputs": [
        {
          "output_type": "stream",
          "name": "stdout",
          "text": [
            "\u001b[K     |████████████████████████████████| 616 kB 7.8 MB/s \n",
            "\u001b[K     |████████████████████████████████| 87 kB 6.6 MB/s \n",
            "\u001b[K     |████████████████████████████████| 6.4 MB 61.9 MB/s \n",
            "\u001b[K     |████████████████████████████████| 1.1 MB 39.5 MB/s \n",
            "\u001b[K     |████████████████████████████████| 840 kB 8.7 MB/s \n",
            "\u001b[K     |████████████████████████████████| 120 kB 69.2 MB/s \n",
            "\u001b[K     |████████████████████████████████| 234 kB 45.6 MB/s \n",
            "\u001b[K     |████████████████████████████████| 1.2 MB 46.9 MB/s \n",
            "\u001b[K     |████████████████████████████████| 3.4 MB 40.3 MB/s \n",
            "\u001b[K     |████████████████████████████████| 596 kB 64.0 MB/s \n",
            "\u001b[K     |████████████████████████████████| 1.1 MB 49.7 MB/s \n",
            "\u001b[K     |████████████████████████████████| 77 kB 5.6 MB/s \n",
            "\u001b[K     |████████████████████████████████| 25.3 MB 1.2 MB/s \n",
            "\u001b[K     |████████████████████████████████| 99 kB 9.2 MB/s \n",
            "\u001b[K     |████████████████████████████████| 47.7 MB 1.2 MB/s \n",
            "\u001b[K     |████████████████████████████████| 352 kB 59.9 MB/s \n",
            "\u001b[K     |████████████████████████████████| 462 kB 49.5 MB/s \n",
            "\u001b[K     |████████████████████████████████| 211 kB 57.8 MB/s \n",
            "\u001b[?25h  Building wheel for fire (setup.py) ... \u001b[?25l\u001b[?25hdone\n",
            "  Building wheel for py-cpuinfo (setup.py) ... \u001b[?25l\u001b[?25hdone\n"
          ]
        }
      ],
      "source": [
        "!pip install -q tflite-model-maker\n",
        "!pip install -q pycocotools\n",
        "\n"
      ],
      "id": "6f5a7a6b"
    },
    {
      "cell_type": "code",
      "execution_count": 5,
      "metadata": {
        "id": "5b521f21"
      },
      "outputs": [],
      "source": [
        "import numpy as np\n",
        "import os\n",
        "\n",
        "from tflite_model_maker.config import ExportFormat\n",
        "from tflite_model_maker import model_spec\n",
        "from tflite_model_maker import object_detector\n",
        "import time\n",
        "\n",
        "import tensorflow as tf\n",
        "assert tf.__version__.startswith('2')\n",
        "\n",
        "tf.get_logger().setLevel('ERROR')\n",
        "from absl import logging\n",
        "logging.set_verbosity(logging.ERROR)\n",
        "from tensorflow import keras"
      ],
      "id": "5b521f21"
    },
    {
      "cell_type": "code",
      "execution_count": 6,
      "metadata": {
        "id": "XUlsc1tEd6XH"
      },
      "outputs": [],
      "source": [
        "train_image_dir = '/content/final_currency_dataset/train images'\n",
        "train_annotation_dir = '/content/final_currency_dataset/train anotation'\n",
        "validate_image_dir = '/content/final_currency_dataset/validate Images'\n",
        "validate_anaotation_dir = '/content/final_currency_dataset/validate anotation '\n",
        "test_image_dir = '/content/final_currency_dataset/test image'\n",
        "test_anotation_dir = '/content/final_currency_dataset/test anotation'"
      ],
      "id": "XUlsc1tEd6XH"
    },
    {
      "cell_type": "code",
      "execution_count": 7,
      "metadata": {
        "id": "Vx26vmSMc8AD"
      },
      "outputs": [],
      "source": [
        "train_dir = object_detector.DataLoader.from_pascal_voc(train_image_dir, train_annotation_dir, label_map={1:\"10\", 2: \"20\",3:\"50\",4:\"100\",5:\"200\",6:\"500\",7:\"2000\"})"
      ],
      "id": "Vx26vmSMc8AD"
    },
    {
      "cell_type": "code",
      "execution_count": 8,
      "metadata": {
        "id": "E1OSKKoeqlrU"
      },
      "outputs": [],
      "source": [
        "validate_dir = object_detector.DataLoader.from_pascal_voc(validate_image_dir, validate_anaotation_dir, label_map={1:\"10\", 2:\"20\",3:\"50\",4:\"100\",5:\"200\",6:\"500\",7:\"2000\"})"
      ],
      "id": "E1OSKKoeqlrU"
    },
    {
      "cell_type": "code",
      "source": [
        "test_dir = object_detector.DataLoader.from_pascal_voc(test_image_dir, test_anotation_dir, label_map={1:\"10\", 2:\"20\",3:\"50\",4:\"100\",5:\"200\",6:\"500\",7:\"2000\"})"
      ],
      "metadata": {
        "id": "1Ube9Unpx4_x"
      },
      "id": "1Ube9Unpx4_x",
      "execution_count": 9,
      "outputs": []
    },
    {
      "cell_type": "code",
      "source": [
        "print(len(train_dir))\n",
        "print(len(validate_dir))\n",
        "print(len(test_dir))"
      ],
      "metadata": {
        "colab": {
          "base_uri": "https://localhost:8080/"
        },
        "id": "kaE2UvhpcvVu",
        "outputId": "21d4abca-57da-4692-ff6b-ab0185ea3bce"
      },
      "id": "kaE2UvhpcvVu",
      "execution_count": 10,
      "outputs": [
        {
          "output_type": "stream",
          "name": "stdout",
          "text": [
            "2383\n",
            "671\n",
            "345\n"
          ]
        }
      ]
    },
    {
      "cell_type": "code",
      "execution_count": 11,
      "metadata": {
        "id": "IaknFpWYe-wq"
      },
      "outputs": [],
      "source": [
        "spec = model_spec.get('efficientdet_lite3')"
      ],
      "id": "IaknFpWYe-wq"
    },
    {
      "cell_type": "code",
      "execution_count": 12,
      "metadata": {
        "colab": {
          "base_uri": "https://localhost:8080/"
        },
        "id": "Op_27CahFyC_",
        "outputId": "b1d49795-8a82-42be-89ec-ff986b4e3bd4"
      },
      "outputs": [
        {
          "output_type": "stream",
          "name": "stdout",
          "text": [
            "Epoch 1/10\n",
            "397/397 [==============================] - 266s 512ms/step - det_loss: 0.9525 - cls_loss: 0.7506 - box_loss: 0.0040 - reg_l2_loss: 0.0938 - loss: 1.0462 - learning_rate: 0.0078 - gradient_norm: 3.5614 - val_det_loss: 0.5037 - val_cls_loss: 0.4330 - val_box_loss: 0.0014 - val_reg_l2_loss: 0.0941 - val_loss: 0.5978\n",
            "Epoch 2/10\n",
            "397/397 [==============================] - 200s 504ms/step - det_loss: 0.5731 - cls_loss: 0.4726 - box_loss: 0.0020 - reg_l2_loss: 0.0943 - loss: 0.6674 - learning_rate: 0.0070 - gradient_norm: 3.5773 - val_det_loss: 0.3866 - val_cls_loss: 0.3398 - val_box_loss: 9.3620e-04 - val_reg_l2_loss: 0.0945 - val_loss: 0.4811\n",
            "Epoch 3/10\n",
            "397/397 [==============================] - 200s 503ms/step - det_loss: 0.5049 - cls_loss: 0.4239 - box_loss: 0.0016 - reg_l2_loss: 0.0946 - loss: 0.5996 - learning_rate: 0.0061 - gradient_norm: 3.4142 - val_det_loss: 0.3647 - val_cls_loss: 0.3273 - val_box_loss: 7.4922e-04 - val_reg_l2_loss: 0.0947 - val_loss: 0.4595\n",
            "Epoch 4/10\n",
            "397/397 [==============================] - 199s 502ms/step - det_loss: 0.4509 - cls_loss: 0.3776 - box_loss: 0.0015 - reg_l2_loss: 0.0948 - loss: 0.5457 - learning_rate: 0.0050 - gradient_norm: 3.7207 - val_det_loss: 0.2572 - val_cls_loss: 0.2083 - val_box_loss: 9.7817e-04 - val_reg_l2_loss: 0.0949 - val_loss: 0.3522\n",
            "Epoch 5/10\n",
            "397/397 [==============================] - 229s 576ms/step - det_loss: 0.3989 - cls_loss: 0.3351 - box_loss: 0.0013 - reg_l2_loss: 0.0950 - loss: 0.4938 - learning_rate: 0.0038 - gradient_norm: 3.7486 - val_det_loss: 0.2279 - val_cls_loss: 0.2090 - val_box_loss: 3.7844e-04 - val_reg_l2_loss: 0.0950 - val_loss: 0.3230\n",
            "Epoch 6/10\n",
            "397/397 [==============================] - 199s 502ms/step - det_loss: 0.3562 - cls_loss: 0.2990 - box_loss: 0.0011 - reg_l2_loss: 0.0950 - loss: 0.4513 - learning_rate: 0.0025 - gradient_norm: 3.6790 - val_det_loss: 0.2721 - val_cls_loss: 0.2437 - val_box_loss: 5.6898e-04 - val_reg_l2_loss: 0.0950 - val_loss: 0.3672\n",
            "Epoch 7/10\n",
            "397/397 [==============================] - 200s 503ms/step - det_loss: 0.3277 - cls_loss: 0.2751 - box_loss: 0.0011 - reg_l2_loss: 0.0950 - loss: 0.4228 - learning_rate: 0.0014 - gradient_norm: 3.8355 - val_det_loss: 0.2522 - val_cls_loss: 0.2218 - val_box_loss: 6.0869e-04 - val_reg_l2_loss: 0.0950 - val_loss: 0.3473\n",
            "Epoch 8/10\n",
            "397/397 [==============================] - 200s 503ms/step - det_loss: 0.3127 - cls_loss: 0.2608 - box_loss: 0.0010 - reg_l2_loss: 0.0950 - loss: 0.4077 - learning_rate: 5.1895e-04 - gradient_norm: 3.8527 - val_det_loss: 0.2539 - val_cls_loss: 0.2297 - val_box_loss: 4.8375e-04 - val_reg_l2_loss: 0.0950 - val_loss: 0.3489\n",
            "Epoch 9/10\n",
            "397/397 [==============================] - 200s 504ms/step - det_loss: 0.2997 - cls_loss: 0.2517 - box_loss: 9.5931e-04 - reg_l2_loss: 0.0950 - loss: 0.3947 - learning_rate: 7.5786e-05 - gradient_norm: 3.8077 - val_det_loss: 0.2432 - val_cls_loss: 0.2175 - val_box_loss: 5.1389e-04 - val_reg_l2_loss: 0.0950 - val_loss: 0.3382\n",
            "Epoch 10/10\n",
            "397/397 [==============================] - 223s 561ms/step - det_loss: 0.2948 - cls_loss: 0.2461 - box_loss: 9.7388e-04 - reg_l2_loss: 0.0950 - loss: 0.3898 - learning_rate: 7.5783e-05 - gradient_norm: 3.8437 - val_det_loss: 0.2296 - val_cls_loss: 0.2068 - val_box_loss: 4.5779e-04 - val_reg_l2_loss: 0.0950 - val_loss: 0.3247\n"
          ]
        }
      ],
      "source": [
        "start = time.time()\n",
        "model = object_detector.create(train_dir, \n",
        "                               model_spec=spec, \n",
        "                               epochs=10, \n",
        "                               batch_size=6, \n",
        "                               train_whole_model=True, \n",
        "                               validation_data=validate_dir)\n",
        "end = time.time()"
      ],
      "id": "Op_27CahFyC_"
    },
    {
      "cell_type": "code",
      "source": [
        "print(\"The time of execution of training is :\", end-start)"
      ],
      "metadata": {
        "colab": {
          "base_uri": "https://localhost:8080/"
        },
        "id": "Ft9_WYGBo2K6",
        "outputId": "5e074e9d-ec8e-42cc-e8ed-2a11e077f83e"
      },
      "id": "Ft9_WYGBo2K6",
      "execution_count": 13,
      "outputs": [
        {
          "output_type": "stream",
          "name": "stdout",
          "text": [
            "The time of execution of training is : 2145.5916378498077\n"
          ]
        }
      ]
    },
    {
      "cell_type": "code",
      "source": [
        "start = time.time()\n",
        "ap = model.evaluate(test_dir,batch_size=5)\n",
        "print(ap)\n",
        "end = time.time()\n"
      ],
      "metadata": {
        "colab": {
          "base_uri": "https://localhost:8080/"
        },
        "id": "LtKo54b0msK4",
        "outputId": "b2b5aade-8e52-47bb-d70a-164227a4c68b"
      },
      "id": "LtKo54b0msK4",
      "execution_count": 14,
      "outputs": [
        {
          "output_type": "stream",
          "name": "stdout",
          "text": [
            "69/69 [==============================] - 14s 130ms/step\n",
            "\n",
            "{'AP': 0.7592346, 'AP50': 0.89143574, 'AP75': 0.83172977, 'APs': -1.0, 'APm': 0.58194244, 'APl': 0.7716284, 'ARmax1': 0.7205888, 'ARmax10': 0.83053833, 'ARmax100': 0.83863795, 'ARs': -1.0, 'ARm': 0.6390476, 'ARl': 0.85107815, 'AP_/10': 0.69898134, 'AP_/20': 0.81452394, 'AP_/50': 0.6936544, 'AP_/100': 0.8199153, 'AP_/200': 0.8389262, 'AP_/500': 0.77747947, 'AP_/2000': 0.67116135}\n"
          ]
        }
      ]
    },
    {
      "cell_type": "code",
      "source": [
        "print(\"The time of execution of evaluation is  :\", end-start)"
      ],
      "metadata": {
        "colab": {
          "base_uri": "https://localhost:8080/"
        },
        "id": "tKCL9HdMo3ug",
        "outputId": "e0b45a05-15a0-4d4c-cc28-7a7ab5700307"
      },
      "id": "tKCL9HdMo3ug",
      "execution_count": 15,
      "outputs": [
        {
          "output_type": "stream",
          "name": "stdout",
          "text": [
            "The time of execution of evaluation is  : 17.566981315612793\n"
          ]
        }
      ]
    },
    {
      "cell_type": "code",
      "execution_count": null,
      "metadata": {
        "id": "OyAxn7grfCkW"
      },
      "outputs": [],
      "source": [
        "#model = object_detector.create(train_dir, model_spec=spec, epochs=30, batch_size=8, train_whole_model=True)"
      ],
      "id": "OyAxn7grfCkW"
    },
    {
      "cell_type": "code",
      "execution_count": 16,
      "metadata": {
        "id": "iuhu3CyHrVJf"
      },
      "outputs": [],
      "source": [
        "model.export(export_dir='/content/')"
      ],
      "id": "iuhu3CyHrVJf"
    }
  ],
  "metadata": {
    "accelerator": "GPU",
    "colab": {
      "collapsed_sections": [],
      "machine_shape": "hm",
      "name": "10_20_50 model.ipynb",
      "provenance": []
    },
    "kernelspec": {
      "display_name": "Python 3",
      "language": "python",
      "name": "python3"
    },
    "language_info": {
      "codemirror_mode": {
        "name": "ipython",
        "version": 3
      },
      "file_extension": ".py",
      "mimetype": "text/x-python",
      "name": "python",
      "nbconvert_exporter": "python",
      "pygments_lexer": "ipython3",
      "version": "3.9.5"
    }
  },
  "nbformat": 4,
  "nbformat_minor": 5
}