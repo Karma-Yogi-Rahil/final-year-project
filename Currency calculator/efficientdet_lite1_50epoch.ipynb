{
  "cells": [
    {
      "cell_type": "code",
      "execution_count": 1,
      "metadata": {
        "id": "FZRWUwlnAkPw"
      },
      "outputs": [],
      "source": [
        "import os \n",
        "os.environ['KAGGLE_CONFIG_DIR'] = '/content/'"
      ],
      "id": "FZRWUwlnAkPw"
    },
    {
      "cell_type": "code",
      "source": [
        "!kaggle datasets download -d rahilmehtaucoe2784/indian-currency"
      ],
      "metadata": {
        "colab": {
          "base_uri": "https://localhost:8080/"
        },
        "id": "MRp0Y3YCwrgB",
        "outputId": "6bc255ca-22aa-44bc-c44b-106732e345de"
      },
      "id": "MRp0Y3YCwrgB",
      "execution_count": 2,
      "outputs": [
        {
          "output_type": "stream",
          "name": "stdout",
          "text": [
            "Warning: Your Kaggle API key is readable by other users on this system! To fix this, you can run 'chmod 600 /content/kaggle.json'\n",
            "Downloading indian-currency.zip to /content\n",
            " 89% 76.0M/85.7M [00:00<00:00, 127MB/s]\n",
            "100% 85.7M/85.7M [00:00<00:00, 126MB/s]\n"
          ]
        }
      ]
    },
    {
      "cell_type": "code",
      "source": [
        "%%capture\n",
        "!unzip \\*.zip && rm *.zip &> /dev/null"
      ],
      "metadata": {
        "id": "5eeueRCuws-j"
      },
      "id": "5eeueRCuws-j",
      "execution_count": 3,
      "outputs": []
    },
    {
      "cell_type": "code",
      "execution_count": 4,
      "metadata": {
        "colab": {
          "base_uri": "https://localhost:8080/"
        },
        "id": "6f5a7a6b",
        "outputId": "544412af-918f-4292-9e91-07d47330550a",
        "scrolled": true
      },
      "outputs": [
        {
          "output_type": "stream",
          "name": "stdout",
          "text": [
            "\u001b[K     |████████████████████████████████| 616 kB 7.0 MB/s \n",
            "\u001b[K     |████████████████████████████████| 6.4 MB 73.3 MB/s \n",
            "\u001b[K     |████████████████████████████████| 840 kB 38.8 MB/s \n",
            "\u001b[K     |████████████████████████████████| 77 kB 7.3 MB/s \n",
            "\u001b[K     |████████████████████████████████| 1.1 MB 55.9 MB/s \n",
            "\u001b[K     |████████████████████████████████| 87 kB 8.2 MB/s \n",
            "\u001b[K     |████████████████████████████████| 1.2 MB 59.8 MB/s \n",
            "\u001b[K     |████████████████████████████████| 120 kB 103.6 MB/s \n",
            "\u001b[K     |████████████████████████████████| 1.1 MB 72.9 MB/s \n",
            "\u001b[K     |████████████████████████████████| 234 kB 86.2 MB/s \n",
            "\u001b[K     |████████████████████████████████| 3.4 MB 64.7 MB/s \n",
            "\u001b[K     |████████████████████████████████| 596 kB 65.1 MB/s \n",
            "\u001b[K     |████████████████████████████████| 25.3 MB 1.1 MB/s \n",
            "\u001b[K     |████████████████████████████████| 99 kB 11.7 MB/s \n",
            "\u001b[K     |████████████████████████████████| 352 kB 66.7 MB/s \n",
            "\u001b[K     |████████████████████████████████| 47.7 MB 1.2 MB/s \n",
            "\u001b[K     |████████████████████████████████| 462 kB 88.0 MB/s \n",
            "\u001b[K     |████████████████████████████████| 211 kB 87.6 MB/s \n",
            "\u001b[?25h  Building wheel for fire (setup.py) ... \u001b[?25l\u001b[?25hdone\n",
            "  Building wheel for py-cpuinfo (setup.py) ... \u001b[?25l\u001b[?25hdone\n"
          ]
        }
      ],
      "source": [
        "!pip install -q tflite-model-maker\n",
        "!pip install -q pycocotools\n",
        "\n"
      ],
      "id": "6f5a7a6b"
    },
    {
      "cell_type": "code",
      "execution_count": 5,
      "metadata": {
        "id": "5b521f21"
      },
      "outputs": [],
      "source": [
        "import numpy as np\n",
        "import os\n",
        "\n",
        "from tflite_model_maker.config import ExportFormat\n",
        "from tflite_model_maker import model_spec\n",
        "from tflite_model_maker import object_detector\n",
        "import time\n",
        "\n",
        "import tensorflow as tf\n",
        "assert tf.__version__.startswith('2')\n",
        "\n",
        "tf.get_logger().setLevel('ERROR')\n",
        "from absl import logging\n",
        "logging.set_verbosity(logging.ERROR)\n",
        "from tensorflow import keras"
      ],
      "id": "5b521f21"
    },
    {
      "cell_type": "code",
      "execution_count": 6,
      "metadata": {
        "id": "XUlsc1tEd6XH"
      },
      "outputs": [],
      "source": [
        "train_image_dir = '/content/final_currency_dataset/train images'\n",
        "train_annotation_dir = '/content/final_currency_dataset/train anotation'\n",
        "validate_image_dir = '/content/final_currency_dataset/validate Images'\n",
        "validate_anaotation_dir = '/content/final_currency_dataset/validate anotation '\n",
        "test_image_dir = '/content/final_currency_dataset/test image'\n",
        "test_anotation_dir = '/content/final_currency_dataset/test anotation'"
      ],
      "id": "XUlsc1tEd6XH"
    },
    {
      "cell_type": "code",
      "execution_count": 7,
      "metadata": {
        "id": "Vx26vmSMc8AD"
      },
      "outputs": [],
      "source": [
        "train_dir = object_detector.DataLoader.from_pascal_voc(train_image_dir, train_annotation_dir, label_map={1:\"10\", 2: \"20\",3:\"50\",4:\"100\",5:\"200\",6:\"500\",7:\"2000\"})"
      ],
      "id": "Vx26vmSMc8AD"
    },
    {
      "cell_type": "code",
      "execution_count": 8,
      "metadata": {
        "id": "E1OSKKoeqlrU"
      },
      "outputs": [],
      "source": [
        "validate_dir = object_detector.DataLoader.from_pascal_voc(validate_image_dir, validate_anaotation_dir, label_map={1:\"10\", 2:\"20\",3:\"50\",4:\"100\",5:\"200\",6:\"500\",7:\"2000\"})"
      ],
      "id": "E1OSKKoeqlrU"
    },
    {
      "cell_type": "code",
      "source": [
        "test_dir = object_detector.DataLoader.from_pascal_voc(test_image_dir, test_anotation_dir, label_map={1:\"10\", 2:\"20\",3:\"50\",4:\"100\",5:\"200\",6:\"500\",7:\"2000\"})"
      ],
      "metadata": {
        "id": "1Ube9Unpx4_x"
      },
      "id": "1Ube9Unpx4_x",
      "execution_count": 9,
      "outputs": []
    },
    {
      "cell_type": "code",
      "source": [
        "print(len(train_dir))\n",
        "print(len(validate_dir))\n",
        "print(len(test_dir))"
      ],
      "metadata": {
        "colab": {
          "base_uri": "https://localhost:8080/"
        },
        "id": "kaE2UvhpcvVu",
        "outputId": "92f15a05-0cc0-4ffa-a9d1-62554d2d051a"
      },
      "id": "kaE2UvhpcvVu",
      "execution_count": 10,
      "outputs": [
        {
          "output_type": "stream",
          "name": "stdout",
          "text": [
            "2383\n",
            "671\n",
            "345\n"
          ]
        }
      ]
    },
    {
      "cell_type": "code",
      "execution_count": 24,
      "metadata": {
        "id": "IaknFpWYe-wq"
      },
      "outputs": [],
      "source": [
        "spec = model_spec.get('efficientdet_lite1')"
      ],
      "id": "IaknFpWYe-wq"
    },
    {
      "cell_type": "code",
      "execution_count": 25,
      "metadata": {
        "colab": {
          "base_uri": "https://localhost:8080/"
        },
        "id": "Op_27CahFyC_",
        "outputId": "d263cdf2-143d-476b-f105-78700133a526"
      },
      "outputs": [
        {
          "output_type": "stream",
          "name": "stdout",
          "text": [
            "Epoch 1/50\n",
            "397/397 [==============================] - 133s 256ms/step - det_loss: 1.0238 - cls_loss: 0.7702 - box_loss: 0.0051 - reg_l2_loss: 0.0717 - loss: 1.0955 - learning_rate: 0.0078 - gradient_norm: 3.5447 - val_det_loss: 0.6390 - val_cls_loss: 0.4936 - val_box_loss: 0.0029 - val_reg_l2_loss: 0.0721 - val_loss: 0.7111\n",
            "Epoch 2/50\n",
            "397/397 [==============================] - 99s 249ms/step - det_loss: 0.6520 - cls_loss: 0.5203 - box_loss: 0.0026 - reg_l2_loss: 0.0723 - loss: 0.7243 - learning_rate: 0.0075 - gradient_norm: 3.3843 - val_det_loss: 0.4857 - val_cls_loss: 0.4053 - val_box_loss: 0.0016 - val_reg_l2_loss: 0.0725 - val_loss: 0.5582\n",
            "Epoch 3/50\n",
            "397/397 [==============================] - 99s 250ms/step - det_loss: 0.5770 - cls_loss: 0.4654 - box_loss: 0.0022 - reg_l2_loss: 0.0727 - loss: 0.6497 - learning_rate: 0.0075 - gradient_norm: 3.2530 - val_det_loss: 0.4185 - val_cls_loss: 0.3218 - val_box_loss: 0.0019 - val_reg_l2_loss: 0.0729 - val_loss: 0.4914\n",
            "Epoch 4/50\n",
            "397/397 [==============================] - 100s 252ms/step - det_loss: 0.5381 - cls_loss: 0.4354 - box_loss: 0.0021 - reg_l2_loss: 0.0730 - loss: 0.6112 - learning_rate: 0.0074 - gradient_norm: 3.2135 - val_det_loss: 0.4054 - val_cls_loss: 0.3542 - val_box_loss: 0.0010 - val_reg_l2_loss: 0.0732 - val_loss: 0.4786\n",
            "Epoch 5/50\n",
            "397/397 [==============================] - 115s 290ms/step - det_loss: 0.5096 - cls_loss: 0.4112 - box_loss: 0.0020 - reg_l2_loss: 0.0734 - loss: 0.5830 - learning_rate: 0.0073 - gradient_norm: 3.3203 - val_det_loss: 0.3531 - val_cls_loss: 0.2815 - val_box_loss: 0.0014 - val_reg_l2_loss: 0.0736 - val_loss: 0.4267\n",
            "Epoch 6/50\n",
            "397/397 [==============================] - 99s 250ms/step - det_loss: 0.4746 - cls_loss: 0.3799 - box_loss: 0.0019 - reg_l2_loss: 0.0738 - loss: 0.5483 - learning_rate: 0.0073 - gradient_norm: 3.3369 - val_det_loss: 0.3267 - val_cls_loss: 0.2320 - val_box_loss: 0.0019 - val_reg_l2_loss: 0.0739 - val_loss: 0.4007\n",
            "Epoch 7/50\n",
            "397/397 [==============================] - 100s 252ms/step - det_loss: 0.4439 - cls_loss: 0.3587 - box_loss: 0.0017 - reg_l2_loss: 0.0741 - loss: 0.5179 - learning_rate: 0.0072 - gradient_norm: 3.2961 - val_det_loss: 0.3300 - val_cls_loss: 0.2750 - val_box_loss: 0.0011 - val_reg_l2_loss: 0.0743 - val_loss: 0.4043\n",
            "Epoch 8/50\n",
            "397/397 [==============================] - 99s 249ms/step - det_loss: 0.4307 - cls_loss: 0.3451 - box_loss: 0.0017 - reg_l2_loss: 0.0744 - loss: 0.5051 - learning_rate: 0.0071 - gradient_norm: 3.3505 - val_det_loss: 0.2475 - val_cls_loss: 0.2019 - val_box_loss: 9.1148e-04 - val_reg_l2_loss: 0.0746 - val_loss: 0.3221\n",
            "Epoch 9/50\n",
            "397/397 [==============================] - 99s 250ms/step - det_loss: 0.4100 - cls_loss: 0.3307 - box_loss: 0.0016 - reg_l2_loss: 0.0747 - loss: 0.4848 - learning_rate: 0.0070 - gradient_norm: 3.3371 - val_det_loss: 0.3069 - val_cls_loss: 0.2549 - val_box_loss: 0.0010 - val_reg_l2_loss: 0.0749 - val_loss: 0.3818\n",
            "Epoch 10/50\n",
            "397/397 [==============================] - 112s 282ms/step - det_loss: 0.3937 - cls_loss: 0.3156 - box_loss: 0.0016 - reg_l2_loss: 0.0750 - loss: 0.4687 - learning_rate: 0.0068 - gradient_norm: 3.3052 - val_det_loss: 0.2140 - val_cls_loss: 0.1712 - val_box_loss: 8.5613e-04 - val_reg_l2_loss: 0.0752 - val_loss: 0.2892\n",
            "Epoch 11/50\n",
            "397/397 [==============================] - 100s 252ms/step - det_loss: 0.3777 - cls_loss: 0.3021 - box_loss: 0.0015 - reg_l2_loss: 0.0753 - loss: 0.4530 - learning_rate: 0.0067 - gradient_norm: 3.2613 - val_det_loss: 0.2763 - val_cls_loss: 0.2190 - val_box_loss: 0.0011 - val_reg_l2_loss: 0.0754 - val_loss: 0.3517\n",
            "Epoch 12/50\n",
            "397/397 [==============================] - 99s 250ms/step - det_loss: 0.3572 - cls_loss: 0.2832 - box_loss: 0.0015 - reg_l2_loss: 0.0756 - loss: 0.4328 - learning_rate: 0.0065 - gradient_norm: 3.3435 - val_det_loss: 0.2794 - val_cls_loss: 0.2550 - val_box_loss: 4.8830e-04 - val_reg_l2_loss: 0.0757 - val_loss: 0.3551\n",
            "Epoch 13/50\n",
            "397/397 [==============================] - 99s 250ms/step - det_loss: 0.3510 - cls_loss: 0.2782 - box_loss: 0.0015 - reg_l2_loss: 0.0758 - loss: 0.4268 - learning_rate: 0.0064 - gradient_norm: 3.3884 - val_det_loss: 0.3833 - val_cls_loss: 0.3423 - val_box_loss: 8.2178e-04 - val_reg_l2_loss: 0.0760 - val_loss: 0.4593\n",
            "Epoch 14/50\n",
            "397/397 [==============================] - 99s 250ms/step - det_loss: 0.3512 - cls_loss: 0.2770 - box_loss: 0.0015 - reg_l2_loss: 0.0761 - loss: 0.4273 - learning_rate: 0.0062 - gradient_norm: 3.4695 - val_det_loss: 0.2405 - val_cls_loss: 0.1923 - val_box_loss: 9.6400e-04 - val_reg_l2_loss: 0.0762 - val_loss: 0.3168\n",
            "Epoch 15/50\n",
            "397/397 [==============================] - 114s 286ms/step - det_loss: 0.3287 - cls_loss: 0.2604 - box_loss: 0.0014 - reg_l2_loss: 0.0764 - loss: 0.4050 - learning_rate: 0.0060 - gradient_norm: 3.4970 - val_det_loss: 0.4221 - val_cls_loss: 0.3193 - val_box_loss: 0.0021 - val_reg_l2_loss: 0.0765 - val_loss: 0.4986\n",
            "Epoch 16/50\n",
            "397/397 [==============================] - 99s 250ms/step - det_loss: 0.3216 - cls_loss: 0.2549 - box_loss: 0.0013 - reg_l2_loss: 0.0766 - loss: 0.3982 - learning_rate: 0.0058 - gradient_norm: 3.4309 - val_det_loss: 0.1666 - val_cls_loss: 0.1264 - val_box_loss: 8.0270e-04 - val_reg_l2_loss: 0.0767 - val_loss: 0.2433\n",
            "Epoch 17/50\n",
            "397/397 [==============================] - 99s 249ms/step - det_loss: 0.3095 - cls_loss: 0.2447 - box_loss: 0.0013 - reg_l2_loss: 0.0768 - loss: 0.3863 - learning_rate: 0.0056 - gradient_norm: 3.3983 - val_det_loss: 0.2869 - val_cls_loss: 0.2463 - val_box_loss: 8.1259e-04 - val_reg_l2_loss: 0.0769 - val_loss: 0.3639\n",
            "Epoch 18/50\n",
            "397/397 [==============================] - 99s 250ms/step - det_loss: 0.3036 - cls_loss: 0.2393 - box_loss: 0.0013 - reg_l2_loss: 0.0770 - loss: 0.3806 - learning_rate: 0.0054 - gradient_norm: 3.4054 - val_det_loss: 0.2536 - val_cls_loss: 0.2244 - val_box_loss: 5.8295e-04 - val_reg_l2_loss: 0.0771 - val_loss: 0.3307\n",
            "Epoch 19/50\n",
            "397/397 [==============================] - 99s 250ms/step - det_loss: 0.2923 - cls_loss: 0.2303 - box_loss: 0.0012 - reg_l2_loss: 0.0772 - loss: 0.3695 - learning_rate: 0.0052 - gradient_norm: 3.2840 - val_det_loss: 0.2914 - val_cls_loss: 0.2313 - val_box_loss: 0.0012 - val_reg_l2_loss: 0.0773 - val_loss: 0.3687\n",
            "Epoch 20/50\n",
            "397/397 [==============================] - 113s 286ms/step - det_loss: 0.2815 - cls_loss: 0.2205 - box_loss: 0.0012 - reg_l2_loss: 0.0773 - loss: 0.3588 - learning_rate: 0.0049 - gradient_norm: 3.2608 - val_det_loss: 0.2446 - val_cls_loss: 0.1840 - val_box_loss: 0.0012 - val_reg_l2_loss: 0.0774 - val_loss: 0.3220\n",
            "Epoch 21/50\n",
            "397/397 [==============================] - 99s 250ms/step - det_loss: 0.2700 - cls_loss: 0.2107 - box_loss: 0.0012 - reg_l2_loss: 0.0775 - loss: 0.3475 - learning_rate: 0.0047 - gradient_norm: 3.2684 - val_det_loss: 0.2002 - val_cls_loss: 0.1706 - val_box_loss: 5.9089e-04 - val_reg_l2_loss: 0.0775 - val_loss: 0.2777\n",
            "Epoch 22/50\n",
            "397/397 [==============================] - 99s 250ms/step - det_loss: 0.2641 - cls_loss: 0.2061 - box_loss: 0.0012 - reg_l2_loss: 0.0776 - loss: 0.3417 - learning_rate: 0.0045 - gradient_norm: 3.2711 - val_det_loss: 0.1294 - val_cls_loss: 0.0888 - val_box_loss: 8.1293e-04 - val_reg_l2_loss: 0.0776 - val_loss: 0.2071\n",
            "Epoch 23/50\n",
            "397/397 [==============================] - 99s 250ms/step - det_loss: 0.2666 - cls_loss: 0.2070 - box_loss: 0.0012 - reg_l2_loss: 0.0777 - loss: 0.3443 - learning_rate: 0.0042 - gradient_norm: 3.2839 - val_det_loss: 0.2019 - val_cls_loss: 0.1644 - val_box_loss: 7.5138e-04 - val_reg_l2_loss: 0.0777 - val_loss: 0.2797\n",
            "Epoch 24/50\n",
            "397/397 [==============================] - 99s 250ms/step - det_loss: 0.2458 - cls_loss: 0.1910 - box_loss: 0.0011 - reg_l2_loss: 0.0778 - loss: 0.3236 - learning_rate: 0.0040 - gradient_norm: 2.9881 - val_det_loss: 0.1704 - val_cls_loss: 0.1315 - val_box_loss: 7.7788e-04 - val_reg_l2_loss: 0.0778 - val_loss: 0.2482\n",
            "Epoch 25/50\n",
            "397/397 [==============================] - 113s 285ms/step - det_loss: 0.2451 - cls_loss: 0.1902 - box_loss: 0.0011 - reg_l2_loss: 0.0778 - loss: 0.3230 - learning_rate: 0.0038 - gradient_norm: 3.2295 - val_det_loss: 0.1166 - val_cls_loss: 0.0923 - val_box_loss: 4.8503e-04 - val_reg_l2_loss: 0.0778 - val_loss: 0.1944\n",
            "Epoch 26/50\n",
            "397/397 [==============================] - 99s 250ms/step - det_loss: 0.2355 - cls_loss: 0.1837 - box_loss: 0.0010 - reg_l2_loss: 0.0779 - loss: 0.3134 - learning_rate: 0.0035 - gradient_norm: 2.9984 - val_det_loss: 0.1033 - val_cls_loss: 0.0861 - val_box_loss: 3.4470e-04 - val_reg_l2_loss: 0.0779 - val_loss: 0.1812\n",
            "Epoch 27/50\n",
            "397/397 [==============================] - 99s 250ms/step - det_loss: 0.2235 - cls_loss: 0.1725 - box_loss: 0.0010 - reg_l2_loss: 0.0779 - loss: 0.3014 - learning_rate: 0.0033 - gradient_norm: 2.9898 - val_det_loss: 0.1118 - val_cls_loss: 0.0877 - val_box_loss: 4.8147e-04 - val_reg_l2_loss: 0.0779 - val_loss: 0.1897\n",
            "Epoch 28/50\n",
            "397/397 [==============================] - 100s 253ms/step - det_loss: 0.2221 - cls_loss: 0.1694 - box_loss: 0.0011 - reg_l2_loss: 0.0779 - loss: 0.3000 - learning_rate: 0.0030 - gradient_norm: 2.9389 - val_det_loss: 0.1157 - val_cls_loss: 0.0882 - val_box_loss: 5.5025e-04 - val_reg_l2_loss: 0.0779 - val_loss: 0.1936\n",
            "Epoch 29/50\n",
            "397/397 [==============================] - 99s 250ms/step - det_loss: 0.2228 - cls_loss: 0.1701 - box_loss: 0.0011 - reg_l2_loss: 0.0779 - loss: 0.3007 - learning_rate: 0.0028 - gradient_norm: 3.0865 - val_det_loss: 0.1096 - val_cls_loss: 0.0860 - val_box_loss: 4.7247e-04 - val_reg_l2_loss: 0.0779 - val_loss: 0.1875\n",
            "Epoch 30/50\n",
            "397/397 [==============================] - 112s 282ms/step - det_loss: 0.2186 - cls_loss: 0.1708 - box_loss: 9.5772e-04 - reg_l2_loss: 0.0779 - loss: 0.2966 - learning_rate: 0.0026 - gradient_norm: 2.9765 - val_det_loss: 0.1049 - val_cls_loss: 0.0747 - val_box_loss: 6.0339e-04 - val_reg_l2_loss: 0.0779 - val_loss: 0.1829\n",
            "Epoch 31/50\n",
            "397/397 [==============================] - 100s 253ms/step - det_loss: 0.2155 - cls_loss: 0.1666 - box_loss: 9.7649e-04 - reg_l2_loss: 0.0779 - loss: 0.2934 - learning_rate: 0.0023 - gradient_norm: 3.0602 - val_det_loss: 0.1039 - val_cls_loss: 0.0790 - val_box_loss: 4.9813e-04 - val_reg_l2_loss: 0.0779 - val_loss: 0.1819\n",
            "Epoch 32/50\n",
            "397/397 [==============================] - 99s 250ms/step - det_loss: 0.2039 - cls_loss: 0.1580 - box_loss: 9.1825e-04 - reg_l2_loss: 0.0779 - loss: 0.2819 - learning_rate: 0.0021 - gradient_norm: 2.8232 - val_det_loss: 0.1057 - val_cls_loss: 0.0880 - val_box_loss: 3.5573e-04 - val_reg_l2_loss: 0.0779 - val_loss: 0.1837\n",
            "Epoch 33/50\n",
            "397/397 [==============================] - 99s 250ms/step - det_loss: 0.1987 - cls_loss: 0.1510 - box_loss: 9.5522e-04 - reg_l2_loss: 0.0779 - loss: 0.2767 - learning_rate: 0.0019 - gradient_norm: 2.6241 - val_det_loss: 0.0944 - val_cls_loss: 0.0704 - val_box_loss: 4.7978e-04 - val_reg_l2_loss: 0.0779 - val_loss: 0.1723\n",
            "Epoch 34/50\n",
            "397/397 [==============================] - 99s 250ms/step - det_loss: 0.1965 - cls_loss: 0.1521 - box_loss: 8.8938e-04 - reg_l2_loss: 0.0779 - loss: 0.2745 - learning_rate: 0.0017 - gradient_norm: 2.7086 - val_det_loss: 0.0904 - val_cls_loss: 0.0637 - val_box_loss: 5.3353e-04 - val_reg_l2_loss: 0.0779 - val_loss: 0.1683\n",
            "Epoch 35/50\n",
            "397/397 [==============================] - 113s 285ms/step - det_loss: 0.1950 - cls_loss: 0.1493 - box_loss: 9.1331e-04 - reg_l2_loss: 0.0779 - loss: 0.2729 - learning_rate: 0.0015 - gradient_norm: 2.7992 - val_det_loss: 0.1062 - val_cls_loss: 0.0816 - val_box_loss: 4.9387e-04 - val_reg_l2_loss: 0.0779 - val_loss: 0.1842\n",
            "Epoch 36/50\n",
            "397/397 [==============================] - 99s 250ms/step - det_loss: 0.1897 - cls_loss: 0.1452 - box_loss: 8.9121e-04 - reg_l2_loss: 0.0779 - loss: 0.2676 - learning_rate: 0.0013 - gradient_norm: 2.8943 - val_det_loss: 0.1081 - val_cls_loss: 0.0775 - val_box_loss: 6.1255e-04 - val_reg_l2_loss: 0.0779 - val_loss: 0.1860\n",
            "Epoch 37/50\n",
            "397/397 [==============================] - 100s 251ms/step - det_loss: 0.1831 - cls_loss: 0.1406 - box_loss: 8.4987e-04 - reg_l2_loss: 0.0779 - loss: 0.2610 - learning_rate: 0.0011 - gradient_norm: 2.5957 - val_det_loss: 0.0884 - val_cls_loss: 0.0674 - val_box_loss: 4.1998e-04 - val_reg_l2_loss: 0.0779 - val_loss: 0.1663\n",
            "Epoch 38/50\n",
            "397/397 [==============================] - 99s 250ms/step - det_loss: 0.1811 - cls_loss: 0.1397 - box_loss: 8.2767e-04 - reg_l2_loss: 0.0779 - loss: 0.2589 - learning_rate: 9.7444e-04 - gradient_norm: 2.5963 - val_det_loss: 0.0929 - val_cls_loss: 0.0718 - val_box_loss: 4.2195e-04 - val_reg_l2_loss: 0.0779 - val_loss: 0.1708\n",
            "Epoch 39/50\n",
            "397/397 [==============================] - 99s 250ms/step - det_loss: 0.1777 - cls_loss: 0.1367 - box_loss: 8.2060e-04 - reg_l2_loss: 0.0779 - loss: 0.2555 - learning_rate: 8.1864e-04 - gradient_norm: 2.5650 - val_det_loss: 0.0906 - val_cls_loss: 0.0699 - val_box_loss: 4.1402e-04 - val_reg_l2_loss: 0.0779 - val_loss: 0.1685\n",
            "Epoch 40/50\n",
            "397/397 [==============================] - 113s 285ms/step - det_loss: 0.1744 - cls_loss: 0.1331 - box_loss: 8.2596e-04 - reg_l2_loss: 0.0779 - loss: 0.2522 - learning_rate: 6.7488e-04 - gradient_norm: 2.4677 - val_det_loss: 0.0886 - val_cls_loss: 0.0702 - val_box_loss: 3.6930e-04 - val_reg_l2_loss: 0.0778 - val_loss: 0.1665\n",
            "Epoch 41/50\n",
            "397/397 [==============================] - 99s 251ms/step - det_loss: 0.1755 - cls_loss: 0.1349 - box_loss: 8.1204e-04 - reg_l2_loss: 0.0778 - loss: 0.2533 - learning_rate: 5.4377e-04 - gradient_norm: 2.5573 - val_det_loss: 0.0922 - val_cls_loss: 0.0695 - val_box_loss: 4.5543e-04 - val_reg_l2_loss: 0.0778 - val_loss: 0.1701\n",
            "Epoch 42/50\n",
            "397/397 [==============================] - 100s 251ms/step - det_loss: 0.1723 - cls_loss: 0.1325 - box_loss: 7.9688e-04 - reg_l2_loss: 0.0778 - loss: 0.2502 - learning_rate: 4.2583e-04 - gradient_norm: 2.4284 - val_det_loss: 0.0924 - val_cls_loss: 0.0709 - val_box_loss: 4.2861e-04 - val_reg_l2_loss: 0.0778 - val_loss: 0.1702\n",
            "Epoch 43/50\n",
            "397/397 [==============================] - 99s 250ms/step - det_loss: 0.1714 - cls_loss: 0.1310 - box_loss: 8.0907e-04 - reg_l2_loss: 0.0778 - loss: 0.2493 - learning_rate: 3.2154e-04 - gradient_norm: 2.4363 - val_det_loss: 0.0908 - val_cls_loss: 0.0694 - val_box_loss: 4.2903e-04 - val_reg_l2_loss: 0.0778 - val_loss: 0.1686\n",
            "Epoch 44/50\n",
            "397/397 [==============================] - 99s 250ms/step - det_loss: 0.1725 - cls_loss: 0.1311 - box_loss: 8.2790e-04 - reg_l2_loss: 0.0778 - loss: 0.2504 - learning_rate: 2.3135e-04 - gradient_norm: 2.4160 - val_det_loss: 0.0879 - val_cls_loss: 0.0670 - val_box_loss: 4.1640e-04 - val_reg_l2_loss: 0.0778 - val_loss: 0.1657\n",
            "Epoch 45/50\n",
            "397/397 [==============================] - 113s 284ms/step - det_loss: 0.1684 - cls_loss: 0.1290 - box_loss: 7.8832e-04 - reg_l2_loss: 0.0778 - loss: 0.2462 - learning_rate: 1.5561e-04 - gradient_norm: 2.3794 - val_det_loss: 0.0807 - val_cls_loss: 0.0631 - val_box_loss: 3.5316e-04 - val_reg_l2_loss: 0.0778 - val_loss: 0.1586\n",
            "Epoch 46/50\n",
            "397/397 [==============================] - 99s 250ms/step - det_loss: 0.1701 - cls_loss: 0.1304 - box_loss: 7.9445e-04 - reg_l2_loss: 0.0778 - loss: 0.2479 - learning_rate: 9.4650e-05 - gradient_norm: 2.4507 - val_det_loss: 0.0857 - val_cls_loss: 0.0651 - val_box_loss: 4.1210e-04 - val_reg_l2_loss: 0.0778 - val_loss: 0.1635\n",
            "Epoch 47/50\n",
            "397/397 [==============================] - 100s 251ms/step - det_loss: 0.1693 - cls_loss: 0.1294 - box_loss: 7.9747e-04 - reg_l2_loss: 0.0778 - loss: 0.2471 - learning_rate: 4.8706e-05 - gradient_norm: 2.3944 - val_det_loss: 0.0856 - val_cls_loss: 0.0655 - val_box_loss: 4.0198e-04 - val_reg_l2_loss: 0.0778 - val_loss: 0.1634\n",
            "Epoch 48/50\n",
            "397/397 [==============================] - 100s 251ms/step - det_loss: 0.1731 - cls_loss: 0.1315 - box_loss: 8.3117e-04 - reg_l2_loss: 0.0778 - loss: 0.2509 - learning_rate: 1.7971e-05 - gradient_norm: 2.4488 - val_det_loss: 0.0869 - val_cls_loss: 0.0665 - val_box_loss: 4.0763e-04 - val_reg_l2_loss: 0.0778 - val_loss: 0.1647\n",
            "Epoch 49/50\n",
            "397/397 [==============================] - 101s 254ms/step - det_loss: 0.1714 - cls_loss: 0.1304 - box_loss: 8.1936e-04 - reg_l2_loss: 0.0778 - loss: 0.2492 - learning_rate: 2.5718e-06 - gradient_norm: 2.4620 - val_det_loss: 0.0864 - val_cls_loss: 0.0656 - val_box_loss: 4.1594e-04 - val_reg_l2_loss: 0.0778 - val_loss: 0.1642\n",
            "Epoch 50/50\n",
            "397/397 [==============================] - 112s 282ms/step - det_loss: 0.1632 - cls_loss: 0.1252 - box_loss: 7.6135e-04 - reg_l2_loss: 0.0778 - loss: 0.2411 - learning_rate: 2.5718e-06 - gradient_norm: 2.2826 - val_det_loss: 0.0868 - val_cls_loss: 0.0663 - val_box_loss: 4.1101e-04 - val_reg_l2_loss: 0.0778 - val_loss: 0.1646\n"
          ]
        }
      ],
      "source": [
        "start = time.time()\n",
        "model = object_detector.create(train_dir, \n",
        "                               model_spec=spec, \n",
        "                               epochs=50, \n",
        "                               batch_size=6, \n",
        "                               train_whole_model=True, \n",
        "                               validation_data=validate_dir)\n",
        "end = time.time()"
      ],
      "id": "Op_27CahFyC_"
    },
    {
      "cell_type": "code",
      "source": [
        "print(\"The time of execution of training is :\", end-start)"
      ],
      "metadata": {
        "colab": {
          "base_uri": "https://localhost:8080/"
        },
        "id": "Ft9_WYGBo2K6",
        "outputId": "b4ae0498-5b7d-4821-bfc8-379a393b309f"
      },
      "id": "Ft9_WYGBo2K6",
      "execution_count": 30,
      "outputs": [
        {
          "output_type": "stream",
          "name": "stdout",
          "text": [
            "The time of execution of training is : 13.355716228485107\n"
          ]
        }
      ]
    },
    {
      "cell_type": "code",
      "source": [
        "start = time.time()\n",
        "ap = model.evaluate(test_dir,batch_size=5)\n",
        "print(ap)\n",
        "end = time.time()\n"
      ],
      "metadata": {
        "colab": {
          "base_uri": "https://localhost:8080/"
        },
        "id": "LtKo54b0msK4",
        "outputId": "902bedba-39ca-429a-c172-91d29edaac43"
      },
      "id": "LtKo54b0msK4",
      "execution_count": 31,
      "outputs": [
        {
          "output_type": "stream",
          "name": "stdout",
          "text": [
            "69/69 [==============================] - 8s 60ms/step\n",
            "\n",
            "{'AP': 0.8110015, 'AP50': 0.91954523, 'AP75': 0.8763327, 'APs': -1.0, 'APm': 0.5424568, 'APl': 0.8269359, 'ARmax1': 0.7444827, 'ARmax10': 0.85751396, 'ARmax100': 0.86267465, 'ARs': -1.0, 'ARm': 0.62166667, 'ARl': 0.8768247, 'AP_/10': 0.75473535, 'AP_/20': 0.8052898, 'AP_/50': 0.83127046, 'AP_/100': 0.9141584, 'AP_/200': 0.8352446, 'AP_/500': 0.8041812, 'AP_/2000': 0.73213035}\n"
          ]
        }
      ]
    },
    {
      "cell_type": "code",
      "source": [
        "print(\"The time of execution of evaluation is  :\", end-start)"
      ],
      "metadata": {
        "colab": {
          "base_uri": "https://localhost:8080/"
        },
        "id": "tKCL9HdMo3ug",
        "outputId": "59c47a0f-a907-42f6-98f2-0de598f49f5b"
      },
      "id": "tKCL9HdMo3ug",
      "execution_count": 32,
      "outputs": [
        {
          "output_type": "stream",
          "name": "stdout",
          "text": [
            "The time of execution of evaluation is  : 10.377341270446777\n"
          ]
        }
      ]
    },
    {
      "cell_type": "code",
      "execution_count": 33,
      "metadata": {
        "id": "OyAxn7grfCkW"
      },
      "outputs": [],
      "source": [
        "#model = object_detector.create(train_dir, model_spec=spec, epochs=30, batch_size=8, train_whole_model=True)"
      ],
      "id": "OyAxn7grfCkW"
    },
    {
      "cell_type": "code",
      "execution_count": null,
      "metadata": {
        "id": "iuhu3CyHrVJf"
      },
      "outputs": [],
      "source": [
        "model.export(export_dir='/content/')"
      ],
      "id": "iuhu3CyHrVJf"
    }
  ],
  "metadata": {
    "accelerator": "GPU",
    "colab": {
      "collapsed_sections": [],
      "machine_shape": "hm",
      "name": "10_20_50 model.ipynb",
      "provenance": []
    },
    "kernelspec": {
      "display_name": "Python 3",
      "language": "python",
      "name": "python3"
    },
    "language_info": {
      "codemirror_mode": {
        "name": "ipython",
        "version": 3
      },
      "file_extension": ".py",
      "mimetype": "text/x-python",
      "name": "python",
      "nbconvert_exporter": "python",
      "pygments_lexer": "ipython3",
      "version": "3.9.5"
    }
  },
  "nbformat": 4,
  "nbformat_minor": 5
}