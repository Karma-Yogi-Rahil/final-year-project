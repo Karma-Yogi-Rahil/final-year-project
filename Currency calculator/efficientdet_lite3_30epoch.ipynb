{
  "cells": [
    {
      "cell_type": "code",
      "execution_count": 4,
      "metadata": {
        "id": "FZRWUwlnAkPw"
      },
      "outputs": [],
      "source": [
        "import os \n",
        "os.environ['KAGGLE_CONFIG_DIR'] = '/content/'"
      ],
      "id": "FZRWUwlnAkPw"
    },
    {
      "cell_type": "code",
      "source": [
        "!kaggle datasets download -d rahilmehtaucoe2784/indian-currency"
      ],
      "metadata": {
        "colab": {
          "base_uri": "https://localhost:8080/"
        },
        "id": "MRp0Y3YCwrgB",
        "outputId": "6474840e-8e25-4453-99a0-e1908f204779"
      },
      "id": "MRp0Y3YCwrgB",
      "execution_count": 5,
      "outputs": [
        {
          "output_type": "stream",
          "name": "stdout",
          "text": [
            "Warning: Your Kaggle API key is readable by other users on this system! To fix this, you can run 'chmod 600 /content/kaggle.json'\n",
            "Downloading indian-currency.zip to /content\n",
            " 95% 81.0M/85.7M [00:02<00:00, 19.9MB/s]\n",
            "100% 85.7M/85.7M [00:02<00:00, 33.6MB/s]\n"
          ]
        }
      ]
    },
    {
      "cell_type": "code",
      "source": [
        "%%capture\n",
        "!unzip \\*.zip && rm *.zip &> /dev/null"
      ],
      "metadata": {
        "id": "5eeueRCuws-j"
      },
      "id": "5eeueRCuws-j",
      "execution_count": 6,
      "outputs": []
    },
    {
      "cell_type": "code",
      "execution_count": 7,
      "metadata": {
        "colab": {
          "base_uri": "https://localhost:8080/"
        },
        "id": "6f5a7a6b",
        "outputId": "4ed7f56a-d915-4492-f010-3696b9649856",
        "scrolled": true
      },
      "outputs": [
        {
          "output_type": "stream",
          "name": "stdout",
          "text": [
            "\u001b[K     |████████████████████████████████| 616 kB 4.4 MB/s \n",
            "\u001b[K     |████████████████████████████████| 840 kB 78.7 MB/s \n",
            "\u001b[K     |████████████████████████████████| 1.2 MB 84.1 MB/s \n",
            "\u001b[K     |████████████████████████████████| 87 kB 8.8 MB/s \n",
            "\u001b[K     |████████████████████████████████| 596 kB 74.4 MB/s \n",
            "\u001b[K     |████████████████████████████████| 1.1 MB 79.6 MB/s \n",
            "\u001b[K     |████████████████████████████████| 120 kB 89.0 MB/s \n",
            "\u001b[K     |████████████████████████████████| 234 kB 88.6 MB/s \n",
            "\u001b[K     |████████████████████████████████| 3.4 MB 77.7 MB/s \n",
            "\u001b[K     |████████████████████████████████| 77 kB 7.3 MB/s \n",
            "\u001b[K     |████████████████████████████████| 6.4 MB 67.1 MB/s \n",
            "\u001b[K     |████████████████████████████████| 1.1 MB 68.1 MB/s \n",
            "\u001b[K     |████████████████████████████████| 25.3 MB 93.7 MB/s \n",
            "\u001b[K     |████████████████████████████████| 99 kB 12.1 MB/s \n",
            "\u001b[K     |████████████████████████████████| 352 kB 62.0 MB/s \n",
            "\u001b[K     |████████████████████████████████| 47.7 MB 72 kB/s \n",
            "\u001b[K     |████████████████████████████████| 462 kB 69.4 MB/s \n",
            "\u001b[K     |████████████████████████████████| 211 kB 76.0 MB/s \n",
            "\u001b[?25h  Building wheel for fire (setup.py) ... \u001b[?25l\u001b[?25hdone\n",
            "  Building wheel for py-cpuinfo (setup.py) ... \u001b[?25l\u001b[?25hdone\n"
          ]
        }
      ],
      "source": [
        "!pip install -q tflite-model-maker\n",
        "!pip install -q pycocotools\n",
        "\n"
      ],
      "id": "6f5a7a6b"
    },
    {
      "cell_type": "code",
      "execution_count": 8,
      "metadata": {
        "id": "5b521f21"
      },
      "outputs": [],
      "source": [
        "import numpy as np\n",
        "import os\n",
        "\n",
        "from tflite_model_maker.config import ExportFormat\n",
        "from tflite_model_maker import model_spec\n",
        "from tflite_model_maker import object_detector\n",
        "import time\n",
        "\n",
        "import tensorflow as tf\n",
        "assert tf.__version__.startswith('2')\n",
        "\n",
        "tf.get_logger().setLevel('ERROR')\n",
        "from absl import logging\n",
        "logging.set_verbosity(logging.ERROR)\n",
        "from tensorflow import keras"
      ],
      "id": "5b521f21"
    },
    {
      "cell_type": "code",
      "execution_count": 9,
      "metadata": {
        "id": "XUlsc1tEd6XH"
      },
      "outputs": [],
      "source": [
        "train_image_dir = '/content/final_currency_dataset/train images'\n",
        "train_annotation_dir = '/content/final_currency_dataset/train anotation'\n",
        "validate_image_dir = '/content/final_currency_dataset/validate Images'\n",
        "validate_anaotation_dir = '/content/final_currency_dataset/validate anotation '\n",
        "test_image_dir = '/content/final_currency_dataset/test image'\n",
        "test_anotation_dir = '/content/final_currency_dataset/test anotation'"
      ],
      "id": "XUlsc1tEd6XH"
    },
    {
      "cell_type": "code",
      "execution_count": 10,
      "metadata": {
        "id": "Vx26vmSMc8AD"
      },
      "outputs": [],
      "source": [
        "train_dir = object_detector.DataLoader.from_pascal_voc(train_image_dir, train_annotation_dir, label_map={1:\"10\", 2: \"20\",3:\"50\",4:\"100\",5:\"200\",6:\"500\",7:\"2000\"})"
      ],
      "id": "Vx26vmSMc8AD"
    },
    {
      "cell_type": "code",
      "execution_count": 11,
      "metadata": {
        "id": "E1OSKKoeqlrU"
      },
      "outputs": [],
      "source": [
        "validate_dir = object_detector.DataLoader.from_pascal_voc(validate_image_dir, validate_anaotation_dir, label_map={1:\"10\", 2:\"20\",3:\"50\",4:\"100\",5:\"200\",6:\"500\",7:\"2000\"})"
      ],
      "id": "E1OSKKoeqlrU"
    },
    {
      "cell_type": "code",
      "source": [
        "test_dir = object_detector.DataLoader.from_pascal_voc(test_image_dir, test_anotation_dir, label_map={1:\"10\", 2:\"20\",3:\"50\",4:\"100\",5:\"200\",6:\"500\",7:\"2000\"})"
      ],
      "metadata": {
        "id": "1Ube9Unpx4_x"
      },
      "id": "1Ube9Unpx4_x",
      "execution_count": 12,
      "outputs": []
    },
    {
      "cell_type": "code",
      "source": [
        "print(len(train_dir))\n",
        "print(len(validate_dir))\n",
        "print(len(test_dir))"
      ],
      "metadata": {
        "colab": {
          "base_uri": "https://localhost:8080/"
        },
        "id": "kaE2UvhpcvVu",
        "outputId": "b1122491-d70c-45d5-85c7-718fecf19dda"
      },
      "id": "kaE2UvhpcvVu",
      "execution_count": 13,
      "outputs": [
        {
          "output_type": "stream",
          "name": "stdout",
          "text": [
            "2383\n",
            "671\n",
            "345\n"
          ]
        }
      ]
    },
    {
      "cell_type": "code",
      "execution_count": 14,
      "metadata": {
        "id": "IaknFpWYe-wq"
      },
      "outputs": [],
      "source": [
        "spec = model_spec.get('efficientdet_lite3')"
      ],
      "id": "IaknFpWYe-wq"
    },
    {
      "cell_type": "code",
      "execution_count": 16,
      "metadata": {
        "colab": {
          "base_uri": "https://localhost:8080/"
        },
        "id": "Op_27CahFyC_",
        "outputId": "ef49ec62-53e0-436c-b9ca-7251a21b3d23"
      },
      "outputs": [
        {
          "output_type": "stream",
          "name": "stdout",
          "text": [
            "Epoch 1/30\n",
            "397/397 [==============================] - 242s 502ms/step - det_loss: 0.9765 - cls_loss: 0.7771 - box_loss: 0.0040 - reg_l2_loss: 0.0937 - loss: 1.0702 - learning_rate: 0.0078 - gradient_norm: 3.4216 - val_det_loss: 0.7011 - val_cls_loss: 0.5867 - val_box_loss: 0.0023 - val_reg_l2_loss: 0.0940 - val_loss: 0.7951\n",
            "Epoch 2/30\n",
            "397/397 [==============================] - 195s 491ms/step - det_loss: 0.5851 - cls_loss: 0.4858 - box_loss: 0.0020 - reg_l2_loss: 0.0943 - loss: 0.6794 - learning_rate: 0.0074 - gradient_norm: 3.5426 - val_det_loss: 0.4886 - val_cls_loss: 0.4500 - val_box_loss: 7.7264e-04 - val_reg_l2_loss: 0.0945 - val_loss: 0.5831\n",
            "Epoch 3/30\n",
            "397/397 [==============================] - 195s 491ms/step - det_loss: 0.5235 - cls_loss: 0.4353 - box_loss: 0.0018 - reg_l2_loss: 0.0946 - loss: 0.6182 - learning_rate: 0.0074 - gradient_norm: 3.3526 - val_det_loss: 0.5626 - val_cls_loss: 0.4762 - val_box_loss: 0.0017 - val_reg_l2_loss: 0.0948 - val_loss: 0.6574\n",
            "Epoch 4/30\n",
            "397/397 [==============================] - 195s 491ms/step - det_loss: 0.4744 - cls_loss: 0.3990 - box_loss: 0.0015 - reg_l2_loss: 0.0949 - loss: 0.5694 - learning_rate: 0.0072 - gradient_norm: 3.1868 - val_det_loss: 0.3915 - val_cls_loss: 0.3222 - val_box_loss: 0.0014 - val_reg_l2_loss: 0.0951 - val_loss: 0.4866\n",
            "Epoch 5/30\n",
            "397/397 [==============================] - 220s 553ms/step - det_loss: 0.4534 - cls_loss: 0.3793 - box_loss: 0.0015 - reg_l2_loss: 0.0952 - loss: 0.5486 - learning_rate: 0.0071 - gradient_norm: 3.1432 - val_det_loss: 0.4581 - val_cls_loss: 0.4327 - val_box_loss: 5.0789e-04 - val_reg_l2_loss: 0.0953 - val_loss: 0.5534\n",
            "Epoch 6/30\n",
            "397/397 [==============================] - 195s 491ms/step - det_loss: 0.4272 - cls_loss: 0.3582 - box_loss: 0.0014 - reg_l2_loss: 0.0955 - loss: 0.5227 - learning_rate: 0.0069 - gradient_norm: 3.3175 - val_det_loss: 0.2619 - val_cls_loss: 0.2331 - val_box_loss: 5.7427e-04 - val_reg_l2_loss: 0.0956 - val_loss: 0.3575\n",
            "Epoch 7/30\n",
            "397/397 [==============================] - 195s 492ms/step - det_loss: 0.3912 - cls_loss: 0.3287 - box_loss: 0.0013 - reg_l2_loss: 0.0957 - loss: 0.4869 - learning_rate: 0.0066 - gradient_norm: 3.2476 - val_det_loss: 0.2376 - val_cls_loss: 0.1997 - val_box_loss: 7.5825e-04 - val_reg_l2_loss: 0.0958 - val_loss: 0.3334\n",
            "Epoch 8/30\n",
            "397/397 [==============================] - 195s 491ms/step - det_loss: 0.3763 - cls_loss: 0.3128 - box_loss: 0.0013 - reg_l2_loss: 0.0960 - loss: 0.4723 - learning_rate: 0.0063 - gradient_norm: 3.7069 - val_det_loss: 0.2719 - val_cls_loss: 0.2375 - val_box_loss: 6.8826e-04 - val_reg_l2_loss: 0.0961 - val_loss: 0.3680\n",
            "Epoch 9/30\n",
            "397/397 [==============================] - 195s 491ms/step - det_loss: 0.3523 - cls_loss: 0.2935 - box_loss: 0.0012 - reg_l2_loss: 0.0963 - loss: 0.4486 - learning_rate: 0.0060 - gradient_norm: 3.5691 - val_det_loss: 0.2364 - val_cls_loss: 0.2010 - val_box_loss: 7.0742e-04 - val_reg_l2_loss: 0.0964 - val_loss: 0.3328\n",
            "Epoch 10/30\n",
            "397/397 [==============================] - 216s 545ms/step - det_loss: 0.3340 - cls_loss: 0.2730 - box_loss: 0.0012 - reg_l2_loss: 0.0965 - loss: 0.4305 - learning_rate: 0.0057 - gradient_norm: 3.5567 - val_det_loss: 0.1784 - val_cls_loss: 0.1426 - val_box_loss: 7.1539e-04 - val_reg_l2_loss: 0.0966 - val_loss: 0.2750\n",
            "Epoch 11/30\n",
            "397/397 [==============================] - 195s 492ms/step - det_loss: 0.3100 - cls_loss: 0.2553 - box_loss: 0.0011 - reg_l2_loss: 0.0967 - loss: 0.4068 - learning_rate: 0.0053 - gradient_norm: 3.6678 - val_det_loss: 0.2211 - val_cls_loss: 0.1846 - val_box_loss: 7.2990e-04 - val_reg_l2_loss: 0.0968 - val_loss: 0.3179\n",
            "Epoch 12/30\n",
            "397/397 [==============================] - 195s 491ms/step - det_loss: 0.2904 - cls_loss: 0.2388 - box_loss: 0.0010 - reg_l2_loss: 0.0969 - loss: 0.3873 - learning_rate: 0.0049 - gradient_norm: 3.6019 - val_det_loss: 0.1533 - val_cls_loss: 0.1319 - val_box_loss: 4.2868e-04 - val_reg_l2_loss: 0.0970 - val_loss: 0.2503\n",
            "Epoch 13/30\n",
            "397/397 [==============================] - 195s 491ms/step - det_loss: 0.2798 - cls_loss: 0.2290 - box_loss: 0.0010 - reg_l2_loss: 0.0970 - loss: 0.3768 - learning_rate: 0.0046 - gradient_norm: 3.5110 - val_det_loss: 0.1634 - val_cls_loss: 0.1316 - val_box_loss: 6.3759e-04 - val_reg_l2_loss: 0.0971 - val_loss: 0.2605\n",
            "Epoch 14/30\n",
            "397/397 [==============================] - 196s 495ms/step - det_loss: 0.2575 - cls_loss: 0.2104 - box_loss: 9.4172e-04 - reg_l2_loss: 0.0971 - loss: 0.3546 - learning_rate: 0.0042 - gradient_norm: 3.6231 - val_det_loss: 0.1492 - val_cls_loss: 0.1200 - val_box_loss: 5.8286e-04 - val_reg_l2_loss: 0.0972 - val_loss: 0.2463\n",
            "Epoch 15/30\n",
            "397/397 [==============================] - 214s 540ms/step - det_loss: 0.2458 - cls_loss: 0.2002 - box_loss: 9.1277e-04 - reg_l2_loss: 0.0972 - loss: 0.3431 - learning_rate: 0.0038 - gradient_norm: 3.2951 - val_det_loss: 0.1409 - val_cls_loss: 0.1159 - val_box_loss: 4.9956e-04 - val_reg_l2_loss: 0.0972 - val_loss: 0.2381\n",
            "Epoch 16/30\n",
            "397/397 [==============================] - 195s 492ms/step - det_loss: 0.2316 - cls_loss: 0.1876 - box_loss: 8.7905e-04 - reg_l2_loss: 0.0973 - loss: 0.3288 - learning_rate: 0.0033 - gradient_norm: 3.4259 - val_det_loss: 0.1412 - val_cls_loss: 0.1162 - val_box_loss: 5.0051e-04 - val_reg_l2_loss: 0.0973 - val_loss: 0.2385\n",
            "Epoch 17/30\n",
            "397/397 [==============================] - 196s 494ms/step - det_loss: 0.2257 - cls_loss: 0.1809 - box_loss: 8.9574e-04 - reg_l2_loss: 0.0973 - loss: 0.3230 - learning_rate: 0.0029 - gradient_norm: 3.3459 - val_det_loss: 0.1318 - val_cls_loss: 0.1030 - val_box_loss: 5.7613e-04 - val_reg_l2_loss: 0.0973 - val_loss: 0.2290\n",
            "Epoch 18/30\n",
            "397/397 [==============================] - 195s 491ms/step - det_loss: 0.2173 - cls_loss: 0.1750 - box_loss: 8.4580e-04 - reg_l2_loss: 0.0973 - loss: 0.3146 - learning_rate: 0.0026 - gradient_norm: 3.5374 - val_det_loss: 0.1144 - val_cls_loss: 0.0994 - val_box_loss: 3.0040e-04 - val_reg_l2_loss: 0.0973 - val_loss: 0.2117\n",
            "Epoch 19/30\n",
            "397/397 [==============================] - 195s 492ms/step - det_loss: 0.2007 - cls_loss: 0.1608 - box_loss: 7.9676e-04 - reg_l2_loss: 0.0973 - loss: 0.2980 - learning_rate: 0.0022 - gradient_norm: 3.0733 - val_det_loss: 0.1100 - val_cls_loss: 0.0994 - val_box_loss: 2.1232e-04 - val_reg_l2_loss: 0.0973 - val_loss: 0.2073\n",
            "Epoch 20/30\n",
            "397/397 [==============================] - 215s 541ms/step - det_loss: 0.1944 - cls_loss: 0.1554 - box_loss: 7.7922e-04 - reg_l2_loss: 0.0973 - loss: 0.2917 - learning_rate: 0.0018 - gradient_norm: 2.9762 - val_det_loss: 0.0987 - val_cls_loss: 0.0877 - val_box_loss: 2.2003e-04 - val_reg_l2_loss: 0.0973 - val_loss: 0.1959\n",
            "Epoch 21/30\n",
            "397/397 [==============================] - 195s 492ms/step - det_loss: 0.1897 - cls_loss: 0.1514 - box_loss: 7.6586e-04 - reg_l2_loss: 0.0973 - loss: 0.2870 - learning_rate: 0.0015 - gradient_norm: 3.2339 - val_det_loss: 0.1158 - val_cls_loss: 0.0997 - val_box_loss: 3.2214e-04 - val_reg_l2_loss: 0.0973 - val_loss: 0.2131\n",
            "Epoch 22/30\n",
            "397/397 [==============================] - 195s 491ms/step - det_loss: 0.1767 - cls_loss: 0.1409 - box_loss: 7.1510e-04 - reg_l2_loss: 0.0973 - loss: 0.2739 - learning_rate: 0.0012 - gradient_norm: 2.8035 - val_det_loss: 0.1241 - val_cls_loss: 0.1019 - val_box_loss: 4.4383e-04 - val_reg_l2_loss: 0.0973 - val_loss: 0.2213\n",
            "Epoch 23/30\n",
            "397/397 [==============================] - 195s 492ms/step - det_loss: 0.1733 - cls_loss: 0.1373 - box_loss: 7.1911e-04 - reg_l2_loss: 0.0972 - loss: 0.2705 - learning_rate: 8.9330e-04 - gradient_norm: 2.8614 - val_det_loss: 0.1333 - val_cls_loss: 0.1068 - val_box_loss: 5.3067e-04 - val_reg_l2_loss: 0.0972 - val_loss: 0.2305\n",
            "Epoch 24/30\n",
            "397/397 [==============================] - 195s 491ms/step - det_loss: 0.1732 - cls_loss: 0.1370 - box_loss: 7.2467e-04 - reg_l2_loss: 0.0972 - loss: 0.2705 - learning_rate: 6.4769e-04 - gradient_norm: 2.8232 - val_det_loss: 0.1148 - val_cls_loss: 0.0914 - val_box_loss: 4.6695e-04 - val_reg_l2_loss: 0.0972 - val_loss: 0.2120\n",
            "Epoch 25/30\n",
            "397/397 [==============================] - 215s 541ms/step - det_loss: 0.1759 - cls_loss: 0.1396 - box_loss: 7.2590e-04 - reg_l2_loss: 0.0972 - loss: 0.2732 - learning_rate: 4.3846e-04 - gradient_norm: 2.9423 - val_det_loss: 0.1192 - val_cls_loss: 0.0948 - val_box_loss: 4.8696e-04 - val_reg_l2_loss: 0.0972 - val_loss: 0.2164\n",
            "Epoch 26/30\n",
            "397/397 [==============================] - 195s 492ms/step - det_loss: 0.1672 - cls_loss: 0.1316 - box_loss: 7.1206e-04 - reg_l2_loss: 0.0972 - loss: 0.2644 - learning_rate: 2.6805e-04 - gradient_norm: 2.7385 - val_det_loss: 0.1129 - val_cls_loss: 0.0902 - val_box_loss: 4.5484e-04 - val_reg_l2_loss: 0.0972 - val_loss: 0.2101\n",
            "Epoch 27/30\n",
            "397/397 [==============================] - 195s 491ms/step - det_loss: 0.1712 - cls_loss: 0.1353 - box_loss: 7.1891e-04 - reg_l2_loss: 0.0972 - loss: 0.2684 - learning_rate: 1.3846e-04 - gradient_norm: 2.8800 - val_det_loss: 0.1122 - val_cls_loss: 0.0909 - val_box_loss: 4.2614e-04 - val_reg_l2_loss: 0.0972 - val_loss: 0.2094\n",
            "Epoch 28/30\n",
            "397/397 [==============================] - 195s 492ms/step - det_loss: 0.1633 - cls_loss: 0.1285 - box_loss: 6.9454e-04 - reg_l2_loss: 0.0972 - loss: 0.2605 - learning_rate: 5.1219e-05 - gradient_norm: 2.5461 - val_det_loss: 0.1116 - val_cls_loss: 0.0905 - val_box_loss: 4.2240e-04 - val_reg_l2_loss: 0.0972 - val_loss: 0.2088\n",
            "Epoch 29/30\n",
            "397/397 [==============================] - 196s 495ms/step - det_loss: 0.1671 - cls_loss: 0.1320 - box_loss: 7.0288e-04 - reg_l2_loss: 0.0972 - loss: 0.2643 - learning_rate: 7.3396e-06 - gradient_norm: 2.7665 - val_det_loss: 0.1118 - val_cls_loss: 0.0908 - val_box_loss: 4.1947e-04 - val_reg_l2_loss: 0.0972 - val_loss: 0.2090\n",
            "Epoch 30/30\n",
            "397/397 [==============================] - 213s 538ms/step - det_loss: 0.1660 - cls_loss: 0.1311 - box_loss: 6.9745e-04 - reg_l2_loss: 0.0972 - loss: 0.2632 - learning_rate: 7.3394e-06 - gradient_norm: 2.8791 - val_det_loss: 0.1131 - val_cls_loss: 0.0914 - val_box_loss: 4.3424e-04 - val_reg_l2_loss: 0.0972 - val_loss: 0.2103\n"
          ]
        }
      ],
      "source": [
        "start = time.time()\n",
        "model = object_detector.create(train_dir, \n",
        "                               model_spec=spec, \n",
        "                               epochs=30, \n",
        "                               batch_size=6, \n",
        "                               train_whole_model=True, \n",
        "                               validation_data=validate_dir)\n",
        "end = time.time()"
      ],
      "id": "Op_27CahFyC_"
    },
    {
      "cell_type": "code",
      "source": [
        "print(\"The time of execution of training is :\", end-start)"
      ],
      "metadata": {
        "colab": {
          "base_uri": "https://localhost:8080/"
        },
        "id": "Ft9_WYGBo2K6",
        "outputId": "44bf930d-75e9-4466-b40d-0f24e7af0d43"
      },
      "id": "Ft9_WYGBo2K6",
      "execution_count": 21,
      "outputs": [
        {
          "output_type": "stream",
          "name": "stdout",
          "text": [
            "The time of execution of training is : 14.556704759597778\n"
          ]
        }
      ]
    },
    {
      "cell_type": "code",
      "source": [
        "start = time.time()\n",
        "ap = model.evaluate(test_dir,batch_size=5)\n",
        "print(ap)\n",
        "end = time.time()\n"
      ],
      "metadata": {
        "colab": {
          "base_uri": "https://localhost:8080/"
        },
        "id": "LtKo54b0msK4",
        "outputId": "fbfe1c2c-dd93-453f-b435-99b20b95fe6d"
      },
      "id": "LtKo54b0msK4",
      "execution_count": 22,
      "outputs": [
        {
          "output_type": "stream",
          "name": "stdout",
          "text": [
            "69/69 [==============================] - 12s 107ms/step\n",
            "\n",
            "{'AP': 0.8373387, 'AP50': 0.9388482, 'AP75': 0.9021607, 'APs': -1.0, 'APm': 0.5979853, 'APl': 0.8522986, 'ARmax1': 0.7591174, 'ARmax10': 0.8827886, 'ARmax100': 0.88752747, 'ARs': -1.0, 'ARm': 0.6716667, 'ARl': 0.9004663, 'AP_/10': 0.7718218, 'AP_/20': 0.8750044, 'AP_/50': 0.84905607, 'AP_/100': 0.9423837, 'AP_/200': 0.86441165, 'AP_/500': 0.8294986, 'AP_/2000': 0.72919464}\n"
          ]
        }
      ]
    },
    {
      "cell_type": "code",
      "source": [
        "print(\"The time of execution of evaluation is  :\", end-start)"
      ],
      "metadata": {
        "colab": {
          "base_uri": "https://localhost:8080/"
        },
        "id": "tKCL9HdMo3ug",
        "outputId": "35d4ed81-9b45-46ba-8382-8712099fe561"
      },
      "id": "tKCL9HdMo3ug",
      "execution_count": 23,
      "outputs": [
        {
          "output_type": "stream",
          "name": "stdout",
          "text": [
            "The time of execution of evaluation is  : 16.869204998016357\n"
          ]
        }
      ]
    },
    {
      "cell_type": "code",
      "execution_count": 24,
      "metadata": {
        "id": "OyAxn7grfCkW"
      },
      "outputs": [],
      "source": [
        "#model = object_detector.create(train_dir, model_spec=spec, epochs=30, batch_size=8, train_whole_model=True)"
      ],
      "id": "OyAxn7grfCkW"
    },
    {
      "cell_type": "code",
      "execution_count": 25,
      "metadata": {
        "id": "iuhu3CyHrVJf"
      },
      "outputs": [],
      "source": [
        "model.export(export_dir='/content/')"
      ],
      "id": "iuhu3CyHrVJf"
    }
  ],
  "metadata": {
    "accelerator": "GPU",
    "colab": {
      "collapsed_sections": [],
      "machine_shape": "hm",
      "name": "10_20_50 model.ipynb",
      "provenance": []
    },
    "kernelspec": {
      "display_name": "Python 3",
      "language": "python",
      "name": "python3"
    },
    "language_info": {
      "codemirror_mode": {
        "name": "ipython",
        "version": 3
      },
      "file_extension": ".py",
      "mimetype": "text/x-python",
      "name": "python",
      "nbconvert_exporter": "python",
      "pygments_lexer": "ipython3",
      "version": "3.9.5"
    }
  },
  "nbformat": 4,
  "nbformat_minor": 5
}