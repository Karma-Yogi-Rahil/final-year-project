{
  "cells": [
    {
      "cell_type": "code",
      "execution_count": 1,
      "metadata": {
        "id": "FZRWUwlnAkPw"
      },
      "outputs": [],
      "source": [
        "import os \n",
        "os.environ['KAGGLE_CONFIG_DIR'] = '/content/'"
      ],
      "id": "FZRWUwlnAkPw"
    },
    {
      "cell_type": "code",
      "source": [
        "!kaggle datasets download -d rahilmehtaucoe2784/indian-currency"
      ],
      "metadata": {
        "colab": {
          "base_uri": "https://localhost:8080/"
        },
        "id": "MRp0Y3YCwrgB",
        "outputId": "6bc255ca-22aa-44bc-c44b-106732e345de"
      },
      "id": "MRp0Y3YCwrgB",
      "execution_count": 2,
      "outputs": [
        {
          "output_type": "stream",
          "name": "stdout",
          "text": [
            "Warning: Your Kaggle API key is readable by other users on this system! To fix this, you can run 'chmod 600 /content/kaggle.json'\n",
            "Downloading indian-currency.zip to /content\n",
            " 89% 76.0M/85.7M [00:00<00:00, 127MB/s]\n",
            "100% 85.7M/85.7M [00:00<00:00, 126MB/s]\n"
          ]
        }
      ]
    },
    {
      "cell_type": "code",
      "source": [
        "%%capture\n",
        "!unzip \\*.zip && rm *.zip &> /dev/null"
      ],
      "metadata": {
        "id": "5eeueRCuws-j"
      },
      "id": "5eeueRCuws-j",
      "execution_count": 3,
      "outputs": []
    },
    {
      "cell_type": "code",
      "execution_count": 4,
      "metadata": {
        "colab": {
          "base_uri": "https://localhost:8080/"
        },
        "id": "6f5a7a6b",
        "outputId": "544412af-918f-4292-9e91-07d47330550a",
        "scrolled": true
      },
      "outputs": [
        {
          "output_type": "stream",
          "name": "stdout",
          "text": [
            "\u001b[K     |████████████████████████████████| 616 kB 7.0 MB/s \n",
            "\u001b[K     |████████████████████████████████| 6.4 MB 73.3 MB/s \n",
            "\u001b[K     |████████████████████████████████| 840 kB 38.8 MB/s \n",
            "\u001b[K     |████████████████████████████████| 77 kB 7.3 MB/s \n",
            "\u001b[K     |████████████████████████████████| 1.1 MB 55.9 MB/s \n",
            "\u001b[K     |████████████████████████████████| 87 kB 8.2 MB/s \n",
            "\u001b[K     |████████████████████████████████| 1.2 MB 59.8 MB/s \n",
            "\u001b[K     |████████████████████████████████| 120 kB 103.6 MB/s \n",
            "\u001b[K     |████████████████████████████████| 1.1 MB 72.9 MB/s \n",
            "\u001b[K     |████████████████████████████████| 234 kB 86.2 MB/s \n",
            "\u001b[K     |████████████████████████████████| 3.4 MB 64.7 MB/s \n",
            "\u001b[K     |████████████████████████████████| 596 kB 65.1 MB/s \n",
            "\u001b[K     |████████████████████████████████| 25.3 MB 1.1 MB/s \n",
            "\u001b[K     |████████████████████████████████| 99 kB 11.7 MB/s \n",
            "\u001b[K     |████████████████████████████████| 352 kB 66.7 MB/s \n",
            "\u001b[K     |████████████████████████████████| 47.7 MB 1.2 MB/s \n",
            "\u001b[K     |████████████████████████████████| 462 kB 88.0 MB/s \n",
            "\u001b[K     |████████████████████████████████| 211 kB 87.6 MB/s \n",
            "\u001b[?25h  Building wheel for fire (setup.py) ... \u001b[?25l\u001b[?25hdone\n",
            "  Building wheel for py-cpuinfo (setup.py) ... \u001b[?25l\u001b[?25hdone\n"
          ]
        }
      ],
      "source": [
        "!pip install -q tflite-model-maker\n",
        "!pip install -q pycocotools\n",
        "\n"
      ],
      "id": "6f5a7a6b"
    },
    {
      "cell_type": "code",
      "execution_count": 5,
      "metadata": {
        "id": "5b521f21"
      },
      "outputs": [],
      "source": [
        "import numpy as np\n",
        "import os\n",
        "\n",
        "from tflite_model_maker.config import ExportFormat\n",
        "from tflite_model_maker import model_spec\n",
        "from tflite_model_maker import object_detector\n",
        "import time\n",
        "\n",
        "import tensorflow as tf\n",
        "assert tf.__version__.startswith('2')\n",
        "\n",
        "tf.get_logger().setLevel('ERROR')\n",
        "from absl import logging\n",
        "logging.set_verbosity(logging.ERROR)\n",
        "from tensorflow import keras"
      ],
      "id": "5b521f21"
    },
    {
      "cell_type": "code",
      "execution_count": 6,
      "metadata": {
        "id": "XUlsc1tEd6XH"
      },
      "outputs": [],
      "source": [
        "train_image_dir = '/content/final_currency_dataset/train images'\n",
        "train_annotation_dir = '/content/final_currency_dataset/train anotation'\n",
        "validate_image_dir = '/content/final_currency_dataset/validate Images'\n",
        "validate_anaotation_dir = '/content/final_currency_dataset/validate anotation '\n",
        "test_image_dir = '/content/final_currency_dataset/test image'\n",
        "test_anotation_dir = '/content/final_currency_dataset/test anotation'"
      ],
      "id": "XUlsc1tEd6XH"
    },
    {
      "cell_type": "code",
      "execution_count": 7,
      "metadata": {
        "id": "Vx26vmSMc8AD"
      },
      "outputs": [],
      "source": [
        "train_dir = object_detector.DataLoader.from_pascal_voc(train_image_dir, train_annotation_dir, label_map={1:\"10\", 2: \"20\",3:\"50\",4:\"100\",5:\"200\",6:\"500\",7:\"2000\"})"
      ],
      "id": "Vx26vmSMc8AD"
    },
    {
      "cell_type": "code",
      "execution_count": 8,
      "metadata": {
        "id": "E1OSKKoeqlrU"
      },
      "outputs": [],
      "source": [
        "validate_dir = object_detector.DataLoader.from_pascal_voc(validate_image_dir, validate_anaotation_dir, label_map={1:\"10\", 2:\"20\",3:\"50\",4:\"100\",5:\"200\",6:\"500\",7:\"2000\"})"
      ],
      "id": "E1OSKKoeqlrU"
    },
    {
      "cell_type": "code",
      "source": [
        "test_dir = object_detector.DataLoader.from_pascal_voc(test_image_dir, test_anotation_dir, label_map={1:\"10\", 2:\"20\",3:\"50\",4:\"100\",5:\"200\",6:\"500\",7:\"2000\"})"
      ],
      "metadata": {
        "id": "1Ube9Unpx4_x"
      },
      "id": "1Ube9Unpx4_x",
      "execution_count": 9,
      "outputs": []
    },
    {
      "cell_type": "code",
      "source": [
        "print(len(train_dir))\n",
        "print(len(validate_dir))\n",
        "print(len(test_dir))"
      ],
      "metadata": {
        "colab": {
          "base_uri": "https://localhost:8080/"
        },
        "id": "kaE2UvhpcvVu",
        "outputId": "92f15a05-0cc0-4ffa-a9d1-62554d2d051a"
      },
      "id": "kaE2UvhpcvVu",
      "execution_count": 10,
      "outputs": [
        {
          "output_type": "stream",
          "name": "stdout",
          "text": [
            "2383\n",
            "671\n",
            "345\n"
          ]
        }
      ]
    },
    {
      "cell_type": "code",
      "execution_count": 11,
      "metadata": {
        "id": "IaknFpWYe-wq"
      },
      "outputs": [],
      "source": [
        "spec = model_spec.get('efficientdet_lite1')"
      ],
      "id": "IaknFpWYe-wq"
    },
    {
      "cell_type": "code",
      "execution_count": 12,
      "metadata": {
        "colab": {
          "base_uri": "https://localhost:8080/"
        },
        "id": "Op_27CahFyC_",
        "outputId": "acfa0ed2-642d-4a7e-e104-e2b808f9efef"
      },
      "outputs": [
        {
          "output_type": "stream",
          "name": "stdout",
          "text": [
            "Epoch 1/10\n",
            "397/397 [==============================] - 143s 256ms/step - det_loss: 1.0230 - cls_loss: 0.7703 - box_loss: 0.0051 - reg_l2_loss: 0.0718 - loss: 1.0947 - learning_rate: 0.0078 - gradient_norm: 3.4966 - val_det_loss: 0.6060 - val_cls_loss: 0.5022 - val_box_loss: 0.0021 - val_reg_l2_loss: 0.0721 - val_loss: 0.6782\n",
            "Epoch 2/10\n",
            "397/397 [==============================] - 98s 248ms/step - det_loss: 0.6375 - cls_loss: 0.5113 - box_loss: 0.0025 - reg_l2_loss: 0.0723 - loss: 0.7098 - learning_rate: 0.0070 - gradient_norm: 3.2678 - val_det_loss: 0.3967 - val_cls_loss: 0.3205 - val_box_loss: 0.0015 - val_reg_l2_loss: 0.0725 - val_loss: 0.4692\n",
            "Epoch 3/10\n",
            "397/397 [==============================] - 99s 249ms/step - det_loss: 0.5575 - cls_loss: 0.4519 - box_loss: 0.0021 - reg_l2_loss: 0.0726 - loss: 0.6301 - learning_rate: 0.0061 - gradient_norm: 3.4037 - val_det_loss: 0.3560 - val_cls_loss: 0.2965 - val_box_loss: 0.0012 - val_reg_l2_loss: 0.0727 - val_loss: 0.4288\n",
            "Epoch 4/10\n",
            "397/397 [==============================] - 99s 249ms/step - det_loss: 0.5051 - cls_loss: 0.4109 - box_loss: 0.0019 - reg_l2_loss: 0.0728 - loss: 0.5779 - learning_rate: 0.0050 - gradient_norm: 3.3286 - val_det_loss: 0.3035 - val_cls_loss: 0.2538 - val_box_loss: 9.9407e-04 - val_reg_l2_loss: 0.0729 - val_loss: 0.3764\n",
            "Epoch 5/10\n",
            "397/397 [==============================] - 118s 298ms/step - det_loss: 0.4551 - cls_loss: 0.3713 - box_loss: 0.0017 - reg_l2_loss: 0.0729 - loss: 0.5280 - learning_rate: 0.0038 - gradient_norm: 3.3700 - val_det_loss: 0.2183 - val_cls_loss: 0.1856 - val_box_loss: 6.5274e-04 - val_reg_l2_loss: 0.0730 - val_loss: 0.2912\n",
            "Epoch 6/10\n",
            "397/397 [==============================] - 99s 249ms/step - det_loss: 0.4168 - cls_loss: 0.3428 - box_loss: 0.0015 - reg_l2_loss: 0.0730 - loss: 0.4898 - learning_rate: 0.0025 - gradient_norm: 3.4515 - val_det_loss: 0.2374 - val_cls_loss: 0.1954 - val_box_loss: 8.4141e-04 - val_reg_l2_loss: 0.0730 - val_loss: 0.3104\n",
            "Epoch 7/10\n",
            "397/397 [==============================] - 99s 249ms/step - det_loss: 0.3893 - cls_loss: 0.3214 - box_loss: 0.0014 - reg_l2_loss: 0.0730 - loss: 0.4623 - learning_rate: 0.0014 - gradient_norm: 3.4135 - val_det_loss: 0.2276 - val_cls_loss: 0.1943 - val_box_loss: 6.6712e-04 - val_reg_l2_loss: 0.0730 - val_loss: 0.3006\n",
            "Epoch 8/10\n",
            "397/397 [==============================] - 99s 250ms/step - det_loss: 0.3741 - cls_loss: 0.3085 - box_loss: 0.0013 - reg_l2_loss: 0.0730 - loss: 0.4471 - learning_rate: 5.1895e-04 - gradient_norm: 3.4224 - val_det_loss: 0.2285 - val_cls_loss: 0.1947 - val_box_loss: 6.7520e-04 - val_reg_l2_loss: 0.0730 - val_loss: 0.3015\n",
            "Epoch 9/10\n",
            "397/397 [==============================] - 99s 249ms/step - det_loss: 0.3678 - cls_loss: 0.3022 - box_loss: 0.0013 - reg_l2_loss: 0.0730 - loss: 0.4408 - learning_rate: 7.5786e-05 - gradient_norm: 3.5056 - val_det_loss: 0.2155 - val_cls_loss: 0.1843 - val_box_loss: 6.2482e-04 - val_reg_l2_loss: 0.0730 - val_loss: 0.2885\n",
            "Epoch 10/10\n",
            "397/397 [==============================] - 113s 285ms/step - det_loss: 0.3682 - cls_loss: 0.3026 - box_loss: 0.0013 - reg_l2_loss: 0.0730 - loss: 0.4412 - learning_rate: 7.5783e-05 - gradient_norm: 3.4976 - val_det_loss: 0.2187 - val_cls_loss: 0.1873 - val_box_loss: 6.2637e-04 - val_reg_l2_loss: 0.0730 - val_loss: 0.2916\n"
          ]
        }
      ],
      "source": [
        "start = time.time()\n",
        "model = object_detector.create(train_dir, \n",
        "                               model_spec=spec, \n",
        "                               epochs=10, \n",
        "                               batch_size=6, \n",
        "                               train_whole_model=True, \n",
        "                               validation_data=validate_dir)\n",
        "end = time.time()"
      ],
      "id": "Op_27CahFyC_"
    },
    {
      "cell_type": "code",
      "source": [
        "print(\"The time of execution of training is :\", end-start)"
      ],
      "metadata": {
        "colab": {
          "base_uri": "https://localhost:8080/"
        },
        "id": "Ft9_WYGBo2K6",
        "outputId": "6d6b68eb-b254-4e6b-d964-8a44f4d5a25f"
      },
      "id": "Ft9_WYGBo2K6",
      "execution_count": 13,
      "outputs": [
        {
          "output_type": "stream",
          "name": "stdout",
          "text": [
            "The time of execution of training is : 1084.2518074512482\n"
          ]
        }
      ]
    },
    {
      "cell_type": "code",
      "source": [
        "start = time.time()\n",
        "ap = model.evaluate(test_dir,batch_size=5)\n",
        "print(ap)\n",
        "end = time.time()\n"
      ],
      "metadata": {
        "colab": {
          "base_uri": "https://localhost:8080/"
        },
        "id": "LtKo54b0msK4",
        "outputId": "c38684bd-b84a-49e2-84b4-26e23976fbdf"
      },
      "id": "LtKo54b0msK4",
      "execution_count": 14,
      "outputs": [
        {
          "output_type": "stream",
          "name": "stdout",
          "text": [
            "69/69 [==============================] - 8s 70ms/step\n",
            "\n",
            "{'AP': 0.71199334, 'AP50': 0.8530414, 'AP75': 0.8087596, 'APs': -1.0, 'APm': 0.29096285, 'APl': 0.73246765, 'ARmax1': 0.6918344, 'ARmax10': 0.8138554, 'ARmax100': 0.8161841, 'ARs': -1.0, 'ARm': 0.495, 'ARl': 0.8326775, 'AP_/10': 0.6640918, 'AP_/20': 0.75932205, 'AP_/50': 0.5892854, 'AP_/100': 0.7794949, 'AP_/200': 0.7991296, 'AP_/500': 0.70790553, 'AP_/2000': 0.68472415}\n"
          ]
        }
      ]
    },
    {
      "cell_type": "code",
      "source": [
        "print(\"The time of execution of evaluation is  :\", end-start)"
      ],
      "metadata": {
        "colab": {
          "base_uri": "https://localhost:8080/"
        },
        "id": "tKCL9HdMo3ug",
        "outputId": "a53baa85-aaca-40c0-ec33-0aefa02592cf"
      },
      "id": "tKCL9HdMo3ug",
      "execution_count": 15,
      "outputs": [
        {
          "output_type": "stream",
          "name": "stdout",
          "text": [
            "The time of execution of evaluation is  : 11.884723424911499\n"
          ]
        }
      ]
    },
    {
      "cell_type": "code",
      "execution_count": 16,
      "metadata": {
        "id": "OyAxn7grfCkW"
      },
      "outputs": [],
      "source": [
        "#model = object_detector.create(train_dir, model_spec=spec, epochs=30, batch_size=8, train_whole_model=True)"
      ],
      "id": "OyAxn7grfCkW"
    },
    {
      "cell_type": "code",
      "execution_count": 17,
      "metadata": {
        "id": "iuhu3CyHrVJf"
      },
      "outputs": [],
      "source": [
        "model.export(export_dir='/content/')"
      ],
      "id": "iuhu3CyHrVJf"
    }
  ],
  "metadata": {
    "accelerator": "GPU",
    "colab": {
      "collapsed_sections": [],
      "machine_shape": "hm",
      "name": "10_20_50 model.ipynb",
      "provenance": []
    },
    "kernelspec": {
      "display_name": "Python 3",
      "language": "python",
      "name": "python3"
    },
    "language_info": {
      "codemirror_mode": {
        "name": "ipython",
        "version": 3
      },
      "file_extension": ".py",
      "mimetype": "text/x-python",
      "name": "python",
      "nbconvert_exporter": "python",
      "pygments_lexer": "ipython3",
      "version": "3.9.5"
    }
  },
  "nbformat": 4,
  "nbformat_minor": 5
}