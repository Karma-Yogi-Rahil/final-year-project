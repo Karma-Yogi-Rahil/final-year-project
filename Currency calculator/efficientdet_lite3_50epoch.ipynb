{
  "cells": [
    {
      "cell_type": "code",
      "execution_count": null,
      "metadata": {
        "id": "FZRWUwlnAkPw"
      },
      "outputs": [],
      "source": [
        "import os \n",
        "os.environ['KAGGLE_CONFIG_DIR'] = '/content/'"
      ],
      "id": "FZRWUwlnAkPw"
    },
    {
      "cell_type": "code",
      "source": [
        "!kaggle datasets download -d rahilmehtaucoe2784/indian-currency"
      ],
      "metadata": {
        "colab": {
          "base_uri": "https://localhost:8080/"
        },
        "id": "MRp0Y3YCwrgB",
        "outputId": "3c6c42eb-42b1-41bc-8bf3-e084c6a1a04b"
      },
      "id": "MRp0Y3YCwrgB",
      "execution_count": null,
      "outputs": [
        {
          "output_type": "stream",
          "name": "stdout",
          "text": [
            "Warning: Your Kaggle API key is readable by other users on this system! To fix this, you can run 'chmod 600 /content/kaggle.json'\n",
            "Downloading indian-currency.zip to /content\n",
            " 85% 73.0M/85.7M [00:00<00:00, 48.1MB/s]\n",
            "100% 85.7M/85.7M [00:01<00:00, 84.2MB/s]\n"
          ]
        }
      ]
    },
    {
      "cell_type": "code",
      "source": [
        "%%capture\n",
        "!unzip \\*.zip && rm *.zip &> /dev/null"
      ],
      "metadata": {
        "id": "5eeueRCuws-j"
      },
      "id": "5eeueRCuws-j",
      "execution_count": null,
      "outputs": []
    },
    {
      "cell_type": "code",
      "execution_count": null,
      "metadata": {
        "colab": {
          "base_uri": "https://localhost:8080/"
        },
        "id": "6f5a7a6b",
        "outputId": "e1fa4ab3-87c4-4c86-e4bb-e93082cfadd0",
        "scrolled": true
      },
      "outputs": [
        {
          "output_type": "stream",
          "name": "stdout",
          "text": [
            "\u001b[K     |████████████████████████████████| 616 kB 7.8 MB/s \n",
            "\u001b[K     |████████████████████████████████| 87 kB 6.6 MB/s \n",
            "\u001b[K     |████████████████████████████████| 6.4 MB 61.9 MB/s \n",
            "\u001b[K     |████████████████████████████████| 1.1 MB 39.5 MB/s \n",
            "\u001b[K     |████████████████████████████████| 840 kB 8.7 MB/s \n",
            "\u001b[K     |████████████████████████████████| 120 kB 69.2 MB/s \n",
            "\u001b[K     |████████████████████████████████| 234 kB 45.6 MB/s \n",
            "\u001b[K     |████████████████████████████████| 1.2 MB 46.9 MB/s \n",
            "\u001b[K     |████████████████████████████████| 3.4 MB 40.3 MB/s \n",
            "\u001b[K     |████████████████████████████████| 596 kB 64.0 MB/s \n",
            "\u001b[K     |████████████████████████████████| 1.1 MB 49.7 MB/s \n",
            "\u001b[K     |████████████████████████████████| 77 kB 5.6 MB/s \n",
            "\u001b[K     |████████████████████████████████| 25.3 MB 1.2 MB/s \n",
            "\u001b[K     |████████████████████████████████| 99 kB 9.2 MB/s \n",
            "\u001b[K     |████████████████████████████████| 47.7 MB 1.2 MB/s \n",
            "\u001b[K     |████████████████████████████████| 352 kB 59.9 MB/s \n",
            "\u001b[K     |████████████████████████████████| 462 kB 49.5 MB/s \n",
            "\u001b[K     |████████████████████████████████| 211 kB 57.8 MB/s \n",
            "\u001b[?25h  Building wheel for fire (setup.py) ... \u001b[?25l\u001b[?25hdone\n",
            "  Building wheel for py-cpuinfo (setup.py) ... \u001b[?25l\u001b[?25hdone\n"
          ]
        }
      ],
      "source": [
        "!pip install -q tflite-model-maker\n",
        "!pip install -q pycocotools\n",
        "\n"
      ],
      "id": "6f5a7a6b"
    },
    {
      "cell_type": "code",
      "execution_count": null,
      "metadata": {
        "id": "5b521f21"
      },
      "outputs": [],
      "source": [
        "import numpy as np\n",
        "import os\n",
        "\n",
        "from tflite_model_maker.config import ExportFormat\n",
        "from tflite_model_maker import model_spec\n",
        "from tflite_model_maker import object_detector\n",
        "import time\n",
        "\n",
        "import tensorflow as tf\n",
        "assert tf.__version__.startswith('2')\n",
        "\n",
        "tf.get_logger().setLevel('ERROR')\n",
        "from absl import logging\n",
        "logging.set_verbosity(logging.ERROR)\n",
        "from tensorflow import keras"
      ],
      "id": "5b521f21"
    },
    {
      "cell_type": "code",
      "execution_count": null,
      "metadata": {
        "id": "XUlsc1tEd6XH"
      },
      "outputs": [],
      "source": [
        "train_image_dir = '/content/final_currency_dataset/train images'\n",
        "train_annotation_dir = '/content/final_currency_dataset/train anotation'\n",
        "validate_image_dir = '/content/final_currency_dataset/validate Images'\n",
        "validate_anaotation_dir = '/content/final_currency_dataset/validate anotation '\n",
        "test_image_dir = '/content/final_currency_dataset/test image'\n",
        "test_anotation_dir = '/content/final_currency_dataset/test anotation'"
      ],
      "id": "XUlsc1tEd6XH"
    },
    {
      "cell_type": "code",
      "execution_count": null,
      "metadata": {
        "id": "Vx26vmSMc8AD"
      },
      "outputs": [],
      "source": [
        "train_dir = object_detector.DataLoader.from_pascal_voc(train_image_dir, train_annotation_dir, label_map={1:\"10\", 2: \"20\",3:\"50\",4:\"100\",5:\"200\",6:\"500\",7:\"2000\"})"
      ],
      "id": "Vx26vmSMc8AD"
    },
    {
      "cell_type": "code",
      "execution_count": null,
      "metadata": {
        "id": "E1OSKKoeqlrU"
      },
      "outputs": [],
      "source": [
        "validate_dir = object_detector.DataLoader.from_pascal_voc(validate_image_dir, validate_anaotation_dir, label_map={1:\"10\", 2:\"20\",3:\"50\",4:\"100\",5:\"200\",6:\"500\",7:\"2000\"})"
      ],
      "id": "E1OSKKoeqlrU"
    },
    {
      "cell_type": "code",
      "source": [
        "test_dir = object_detector.DataLoader.from_pascal_voc(test_image_dir, test_anotation_dir, label_map={1:\"10\", 2:\"20\",3:\"50\",4:\"100\",5:\"200\",6:\"500\",7:\"2000\"})"
      ],
      "metadata": {
        "id": "1Ube9Unpx4_x"
      },
      "id": "1Ube9Unpx4_x",
      "execution_count": null,
      "outputs": []
    },
    {
      "cell_type": "code",
      "source": [
        "print(len(train_dir))\n",
        "print(len(validate_dir))\n",
        "print(len(test_dir))"
      ],
      "metadata": {
        "colab": {
          "base_uri": "https://localhost:8080/"
        },
        "id": "kaE2UvhpcvVu",
        "outputId": "21d4abca-57da-4692-ff6b-ab0185ea3bce"
      },
      "id": "kaE2UvhpcvVu",
      "execution_count": null,
      "outputs": [
        {
          "output_type": "stream",
          "name": "stdout",
          "text": [
            "2383\n",
            "671\n",
            "345\n"
          ]
        }
      ]
    },
    {
      "cell_type": "code",
      "execution_count": null,
      "metadata": {
        "id": "IaknFpWYe-wq"
      },
      "outputs": [],
      "source": [
        "spec = model_spec.get('efficientdet_lite3')"
      ],
      "id": "IaknFpWYe-wq"
    },
    {
      "cell_type": "code",
      "execution_count": 27,
      "metadata": {
        "colab": {
          "base_uri": "https://localhost:8080/"
        },
        "id": "Op_27CahFyC_",
        "outputId": "bb4d6548-3bdb-4360-e02c-a530ea3ef59c"
      },
      "outputs": [
        {
          "output_type": "stream",
          "name": "stdout",
          "text": [
            "Epoch 1/50\n",
            "397/397 [==============================] - 240s 499ms/step - det_loss: 0.9414 - cls_loss: 0.7425 - box_loss: 0.0040 - reg_l2_loss: 0.0938 - loss: 1.0351 - learning_rate: 0.0078 - gradient_norm: 3.5079 - val_det_loss: 0.6002 - val_cls_loss: 0.5131 - val_box_loss: 0.0017 - val_reg_l2_loss: 0.0941 - val_loss: 0.6942\n",
            "Epoch 2/50\n",
            "397/397 [==============================] - 196s 494ms/step - det_loss: 0.6077 - cls_loss: 0.5054 - box_loss: 0.0020 - reg_l2_loss: 0.0943 - loss: 0.7019 - learning_rate: 0.0075 - gradient_norm: 3.2182 - val_det_loss: 0.4804 - val_cls_loss: 0.4436 - val_box_loss: 7.3611e-04 - val_reg_l2_loss: 0.0944 - val_loss: 0.5748\n",
            "Epoch 3/50\n",
            "397/397 [==============================] - 195s 491ms/step - det_loss: 0.5383 - cls_loss: 0.4521 - box_loss: 0.0017 - reg_l2_loss: 0.0946 - loss: 0.6328 - learning_rate: 0.0075 - gradient_norm: 3.2185 - val_det_loss: 0.4479 - val_cls_loss: 0.3873 - val_box_loss: 0.0012 - val_reg_l2_loss: 0.0947 - val_loss: 0.5426\n",
            "Epoch 4/50\n",
            "397/397 [==============================] - 195s 492ms/step - det_loss: 0.4998 - cls_loss: 0.4170 - box_loss: 0.0017 - reg_l2_loss: 0.0949 - loss: 0.5947 - learning_rate: 0.0074 - gradient_norm: 3.5009 - val_det_loss: 0.5529 - val_cls_loss: 0.4807 - val_box_loss: 0.0014 - val_reg_l2_loss: 0.0952 - val_loss: 0.6480\n",
            "Epoch 5/50\n",
            "397/397 [==============================] - 219s 551ms/step - det_loss: 0.4621 - cls_loss: 0.3891 - box_loss: 0.0015 - reg_l2_loss: 0.0953 - loss: 0.5574 - learning_rate: 0.0073 - gradient_norm: 3.2031 - val_det_loss: 0.3097 - val_cls_loss: 0.2879 - val_box_loss: 4.3645e-04 - val_reg_l2_loss: 0.0954 - val_loss: 0.4051\n",
            "Epoch 6/50\n",
            "397/397 [==============================] - 197s 496ms/step - det_loss: 0.4387 - cls_loss: 0.3672 - box_loss: 0.0014 - reg_l2_loss: 0.0956 - loss: 0.5343 - learning_rate: 0.0073 - gradient_norm: 3.4771 - val_det_loss: 0.3791 - val_cls_loss: 0.3404 - val_box_loss: 7.7313e-04 - val_reg_l2_loss: 0.0958 - val_loss: 0.4749\n",
            "Epoch 7/50\n",
            "397/397 [==============================] - 195s 492ms/step - det_loss: 0.4060 - cls_loss: 0.3419 - box_loss: 0.0013 - reg_l2_loss: 0.0959 - loss: 0.5019 - learning_rate: 0.0072 - gradient_norm: 3.2805 - val_det_loss: 0.2919 - val_cls_loss: 0.2562 - val_box_loss: 7.1454e-04 - val_reg_l2_loss: 0.0961 - val_loss: 0.3880\n",
            "Epoch 8/50\n",
            "397/397 [==============================] - 195s 492ms/step - det_loss: 0.3886 - cls_loss: 0.3229 - box_loss: 0.0013 - reg_l2_loss: 0.0963 - loss: 0.4849 - learning_rate: 0.0071 - gradient_norm: 3.4665 - val_det_loss: 0.4159 - val_cls_loss: 0.3766 - val_box_loss: 7.8505e-04 - val_reg_l2_loss: 0.0964 - val_loss: 0.5123\n",
            "Epoch 9/50\n",
            "397/397 [==============================] - 195s 492ms/step - det_loss: 0.3704 - cls_loss: 0.3090 - box_loss: 0.0012 - reg_l2_loss: 0.0966 - loss: 0.4670 - learning_rate: 0.0070 - gradient_norm: 3.4332 - val_det_loss: 0.2471 - val_cls_loss: 0.2287 - val_box_loss: 3.6681e-04 - val_reg_l2_loss: 0.0968 - val_loss: 0.3438\n",
            "Epoch 10/50\n",
            "397/397 [==============================] - 216s 544ms/step - det_loss: 0.3439 - cls_loss: 0.2855 - box_loss: 0.0012 - reg_l2_loss: 0.0969 - loss: 0.4408 - learning_rate: 0.0068 - gradient_norm: 3.4904 - val_det_loss: 0.3755 - val_cls_loss: 0.3178 - val_box_loss: 0.0012 - val_reg_l2_loss: 0.0971 - val_loss: 0.4726\n",
            "Epoch 11/50\n",
            "397/397 [==============================] - 195s 492ms/step - det_loss: 0.3274 - cls_loss: 0.2692 - box_loss: 0.0012 - reg_l2_loss: 0.0972 - loss: 0.4246 - learning_rate: 0.0067 - gradient_norm: 3.3781 - val_det_loss: 0.2086 - val_cls_loss: 0.1709 - val_box_loss: 7.5503e-04 - val_reg_l2_loss: 0.0973 - val_loss: 0.3060\n",
            "Epoch 12/50\n",
            "397/397 [==============================] - 195s 492ms/step - det_loss: 0.3153 - cls_loss: 0.2589 - box_loss: 0.0011 - reg_l2_loss: 0.0975 - loss: 0.4128 - learning_rate: 0.0065 - gradient_norm: 3.4423 - val_det_loss: 0.2519 - val_cls_loss: 0.1877 - val_box_loss: 0.0013 - val_reg_l2_loss: 0.0976 - val_loss: 0.3495\n",
            "Epoch 13/50\n",
            "397/397 [==============================] - 195s 492ms/step - det_loss: 0.2949 - cls_loss: 0.2416 - box_loss: 0.0011 - reg_l2_loss: 0.0977 - loss: 0.3926 - learning_rate: 0.0064 - gradient_norm: 3.5283 - val_det_loss: 0.2150 - val_cls_loss: 0.1869 - val_box_loss: 5.6031e-04 - val_reg_l2_loss: 0.0979 - val_loss: 0.3128\n",
            "Epoch 14/50\n",
            "397/397 [==============================] - 195s 492ms/step - det_loss: 0.2938 - cls_loss: 0.2369 - box_loss: 0.0011 - reg_l2_loss: 0.0980 - loss: 0.3918 - learning_rate: 0.0062 - gradient_norm: 3.6078 - val_det_loss: 0.2191 - val_cls_loss: 0.1990 - val_box_loss: 4.0241e-04 - val_reg_l2_loss: 0.0981 - val_loss: 0.3172\n",
            "Epoch 15/50\n",
            "397/397 [==============================] - 216s 544ms/step - det_loss: 0.2805 - cls_loss: 0.2283 - box_loss: 0.0010 - reg_l2_loss: 0.0983 - loss: 0.3788 - learning_rate: 0.0060 - gradient_norm: 3.5937 - val_det_loss: 0.2235 - val_cls_loss: 0.2006 - val_box_loss: 4.5859e-04 - val_reg_l2_loss: 0.0984 - val_loss: 0.3219\n",
            "Epoch 16/50\n",
            "397/397 [==============================] - 195s 492ms/step - det_loss: 0.2796 - cls_loss: 0.2275 - box_loss: 0.0010 - reg_l2_loss: 0.0985 - loss: 0.3781 - learning_rate: 0.0058 - gradient_norm: 3.5223 - val_det_loss: 0.1108 - val_cls_loss: 0.0926 - val_box_loss: 3.6507e-04 - val_reg_l2_loss: 0.0986 - val_loss: 0.2095\n",
            "Epoch 17/50\n",
            "397/397 [==============================] - 195s 491ms/step - det_loss: 0.2634 - cls_loss: 0.2137 - box_loss: 9.9495e-04 - reg_l2_loss: 0.0987 - loss: 0.3621 - learning_rate: 0.0056 - gradient_norm: 3.4354 - val_det_loss: 0.1300 - val_cls_loss: 0.1080 - val_box_loss: 4.4042e-04 - val_reg_l2_loss: 0.0988 - val_loss: 0.2288\n",
            "Epoch 18/50\n",
            "397/397 [==============================] - 195s 492ms/step - det_loss: 0.2574 - cls_loss: 0.2063 - box_loss: 0.0010 - reg_l2_loss: 0.0989 - loss: 0.3564 - learning_rate: 0.0054 - gradient_norm: 3.4862 - val_det_loss: 0.1791 - val_cls_loss: 0.1464 - val_box_loss: 6.5449e-04 - val_reg_l2_loss: 0.0990 - val_loss: 0.2781\n",
            "Epoch 19/50\n",
            "397/397 [==============================] - 196s 495ms/step - det_loss: 0.2404 - cls_loss: 0.1918 - box_loss: 9.7179e-04 - reg_l2_loss: 0.0991 - loss: 0.3395 - learning_rate: 0.0052 - gradient_norm: 3.3628 - val_det_loss: 0.1584 - val_cls_loss: 0.1368 - val_box_loss: 4.3160e-04 - val_reg_l2_loss: 0.0992 - val_loss: 0.2576\n",
            "Epoch 20/50\n",
            "397/397 [==============================] - 214s 539ms/step - det_loss: 0.2323 - cls_loss: 0.1860 - box_loss: 9.2705e-04 - reg_l2_loss: 0.0992 - loss: 0.3316 - learning_rate: 0.0049 - gradient_norm: 3.3518 - val_det_loss: 0.1502 - val_cls_loss: 0.1292 - val_box_loss: 4.2034e-04 - val_reg_l2_loss: 0.0993 - val_loss: 0.2495\n",
            "Epoch 21/50\n",
            "397/397 [==============================] - 195s 491ms/step - det_loss: 0.2238 - cls_loss: 0.1795 - box_loss: 8.8631e-04 - reg_l2_loss: 0.0994 - loss: 0.3231 - learning_rate: 0.0047 - gradient_norm: 3.2311 - val_det_loss: 0.2328 - val_cls_loss: 0.1889 - val_box_loss: 8.7746e-04 - val_reg_l2_loss: 0.0994 - val_loss: 0.3322\n",
            "Epoch 22/50\n",
            "397/397 [==============================] - 195s 492ms/step - det_loss: 0.2129 - cls_loss: 0.1692 - box_loss: 8.7359e-04 - reg_l2_loss: 0.0994 - loss: 0.3124 - learning_rate: 0.0045 - gradient_norm: 3.0753 - val_det_loss: 0.1342 - val_cls_loss: 0.1058 - val_box_loss: 5.6699e-04 - val_reg_l2_loss: 0.0995 - val_loss: 0.2336\n",
            "Epoch 23/50\n",
            "397/397 [==============================] - 196s 494ms/step - det_loss: 0.2051 - cls_loss: 0.1610 - box_loss: 8.8108e-04 - reg_l2_loss: 0.0995 - loss: 0.3046 - learning_rate: 0.0042 - gradient_norm: 3.1284 - val_det_loss: 0.1276 - val_cls_loss: 0.0985 - val_box_loss: 5.8145e-04 - val_reg_l2_loss: 0.0995 - val_loss: 0.2271\n",
            "Epoch 24/50\n",
            "397/397 [==============================] - 195s 492ms/step - det_loss: 0.1984 - cls_loss: 0.1579 - box_loss: 8.0904e-04 - reg_l2_loss: 0.0996 - loss: 0.2979 - learning_rate: 0.0040 - gradient_norm: 3.1806 - val_det_loss: 0.1464 - val_cls_loss: 0.1274 - val_box_loss: 3.7927e-04 - val_reg_l2_loss: 0.0996 - val_loss: 0.2460\n",
            "Epoch 25/50\n",
            "397/397 [==============================] - 214s 540ms/step - det_loss: 0.2009 - cls_loss: 0.1573 - box_loss: 8.7317e-04 - reg_l2_loss: 0.0996 - loss: 0.3006 - learning_rate: 0.0038 - gradient_norm: 3.0983 - val_det_loss: 0.1189 - val_cls_loss: 0.0939 - val_box_loss: 4.9916e-04 - val_reg_l2_loss: 0.0996 - val_loss: 0.2185\n",
            "Epoch 26/50\n",
            "397/397 [==============================] - 197s 495ms/step - det_loss: 0.1862 - cls_loss: 0.1470 - box_loss: 7.8349e-04 - reg_l2_loss: 0.0996 - loss: 0.2858 - learning_rate: 0.0035 - gradient_norm: 2.8068 - val_det_loss: 0.1197 - val_cls_loss: 0.1042 - val_box_loss: 3.0936e-04 - val_reg_l2_loss: 0.0996 - val_loss: 0.2193\n",
            "Epoch 27/50\n",
            "397/397 [==============================] - 195s 492ms/step - det_loss: 0.1811 - cls_loss: 0.1429 - box_loss: 7.6422e-04 - reg_l2_loss: 0.0996 - loss: 0.2807 - learning_rate: 0.0033 - gradient_norm: 2.8526 - val_det_loss: 0.0979 - val_cls_loss: 0.0867 - val_box_loss: 2.2410e-04 - val_reg_l2_loss: 0.0996 - val_loss: 0.1976\n",
            "Epoch 28/50\n",
            "397/397 [==============================] - 196s 493ms/step - det_loss: 0.1797 - cls_loss: 0.1405 - box_loss: 7.8523e-04 - reg_l2_loss: 0.0996 - loss: 0.2794 - learning_rate: 0.0030 - gradient_norm: 2.8102 - val_det_loss: 0.0967 - val_cls_loss: 0.0823 - val_box_loss: 2.8750e-04 - val_reg_l2_loss: 0.0996 - val_loss: 0.1963\n",
            "Epoch 29/50\n",
            "397/397 [==============================] - 195s 492ms/step - det_loss: 0.1767 - cls_loss: 0.1382 - box_loss: 7.6909e-04 - reg_l2_loss: 0.0996 - loss: 0.2763 - learning_rate: 0.0028 - gradient_norm: 2.8750 - val_det_loss: 0.0926 - val_cls_loss: 0.0719 - val_box_loss: 4.1499e-04 - val_reg_l2_loss: 0.0996 - val_loss: 0.1922\n",
            "Epoch 30/50\n",
            "397/397 [==============================] - 215s 541ms/step - det_loss: 0.1614 - cls_loss: 0.1274 - box_loss: 6.7976e-04 - reg_l2_loss: 0.0996 - loss: 0.2610 - learning_rate: 0.0026 - gradient_norm: 2.7365 - val_det_loss: 0.0914 - val_cls_loss: 0.0805 - val_box_loss: 2.1810e-04 - val_reg_l2_loss: 0.0996 - val_loss: 0.1910\n",
            "Epoch 31/50\n",
            "397/397 [==============================] - 195s 492ms/step - det_loss: 0.1643 - cls_loss: 0.1294 - box_loss: 6.9717e-04 - reg_l2_loss: 0.0996 - loss: 0.2639 - learning_rate: 0.0023 - gradient_norm: 2.6773 - val_det_loss: 0.0893 - val_cls_loss: 0.0755 - val_box_loss: 2.7600e-04 - val_reg_l2_loss: 0.0996 - val_loss: 0.1889\n",
            "Epoch 32/50\n",
            "397/397 [==============================] - 195s 492ms/step - det_loss: 0.1624 - cls_loss: 0.1261 - box_loss: 7.2577e-04 - reg_l2_loss: 0.0996 - loss: 0.2620 - learning_rate: 0.0021 - gradient_norm: 2.6771 - val_det_loss: 0.0798 - val_cls_loss: 0.0681 - val_box_loss: 2.3274e-04 - val_reg_l2_loss: 0.0996 - val_loss: 0.1793\n",
            "Epoch 33/50\n",
            "397/397 [==============================] - 196s 493ms/step - det_loss: 0.1545 - cls_loss: 0.1197 - box_loss: 6.9548e-04 - reg_l2_loss: 0.0996 - loss: 0.2541 - learning_rate: 0.0019 - gradient_norm: 2.5671 - val_det_loss: 0.0844 - val_cls_loss: 0.0719 - val_box_loss: 2.4894e-04 - val_reg_l2_loss: 0.0996 - val_loss: 0.1840\n",
            "Epoch 34/50\n",
            "397/397 [==============================] - 195s 492ms/step - det_loss: 0.1498 - cls_loss: 0.1166 - box_loss: 6.6414e-04 - reg_l2_loss: 0.0995 - loss: 0.2494 - learning_rate: 0.0017 - gradient_norm: 2.5005 - val_det_loss: 0.0883 - val_cls_loss: 0.0772 - val_box_loss: 2.2176e-04 - val_reg_l2_loss: 0.0995 - val_loss: 0.1878\n",
            "Epoch 35/50\n",
            "397/397 [==============================] - 214s 540ms/step - det_loss: 0.1500 - cls_loss: 0.1165 - box_loss: 6.6978e-04 - reg_l2_loss: 0.0995 - loss: 0.2495 - learning_rate: 0.0015 - gradient_norm: 2.4334 - val_det_loss: 0.0871 - val_cls_loss: 0.0745 - val_box_loss: 2.5276e-04 - val_reg_l2_loss: 0.0995 - val_loss: 0.1866\n",
            "Epoch 36/50\n",
            "397/397 [==============================] - 195s 492ms/step - det_loss: 0.1494 - cls_loss: 0.1174 - box_loss: 6.4030e-04 - reg_l2_loss: 0.0995 - loss: 0.2489 - learning_rate: 0.0013 - gradient_norm: 2.5995 - val_det_loss: 0.0869 - val_cls_loss: 0.0716 - val_box_loss: 3.0560e-04 - val_reg_l2_loss: 0.0995 - val_loss: 0.1864\n",
            "Epoch 37/50\n",
            "397/397 [==============================] - 196s 493ms/step - det_loss: 0.1479 - cls_loss: 0.1151 - box_loss: 6.5603e-04 - reg_l2_loss: 0.0995 - loss: 0.2474 - learning_rate: 0.0011 - gradient_norm: 2.4802 - val_det_loss: 0.0797 - val_cls_loss: 0.0709 - val_box_loss: 1.7742e-04 - val_reg_l2_loss: 0.0995 - val_loss: 0.1792\n",
            "Epoch 38/50\n",
            "397/397 [==============================] - 195s 492ms/step - det_loss: 0.1410 - cls_loss: 0.1095 - box_loss: 6.3189e-04 - reg_l2_loss: 0.0995 - loss: 0.2405 - learning_rate: 9.7444e-04 - gradient_norm: 2.4175 - val_det_loss: 0.0812 - val_cls_loss: 0.0733 - val_box_loss: 1.5729e-04 - val_reg_l2_loss: 0.0994 - val_loss: 0.1806\n",
            "Epoch 39/50\n",
            "397/397 [==============================] - 195s 492ms/step - det_loss: 0.1444 - cls_loss: 0.1120 - box_loss: 6.4832e-04 - reg_l2_loss: 0.0994 - loss: 0.2438 - learning_rate: 8.1864e-04 - gradient_norm: 2.3448 - val_det_loss: 0.0793 - val_cls_loss: 0.0715 - val_box_loss: 1.5582e-04 - val_reg_l2_loss: 0.0994 - val_loss: 0.1788\n",
            "Epoch 40/50\n",
            "397/397 [==============================] - 214s 540ms/step - det_loss: 0.1398 - cls_loss: 0.1078 - box_loss: 6.4046e-04 - reg_l2_loss: 0.0994 - loss: 0.2393 - learning_rate: 6.7488e-04 - gradient_norm: 2.2289 - val_det_loss: 0.0791 - val_cls_loss: 0.0676 - val_box_loss: 2.2984e-04 - val_reg_l2_loss: 0.0994 - val_loss: 0.1785\n",
            "Epoch 41/50\n",
            "397/397 [==============================] - 195s 492ms/step - det_loss: 0.1336 - cls_loss: 0.1040 - box_loss: 5.9068e-04 - reg_l2_loss: 0.0994 - loss: 0.2330 - learning_rate: 5.4377e-04 - gradient_norm: 2.1886 - val_det_loss: 0.0794 - val_cls_loss: 0.0707 - val_box_loss: 1.7317e-04 - val_reg_l2_loss: 0.0994 - val_loss: 0.1788\n",
            "Epoch 42/50\n",
            "397/397 [==============================] - 195s 492ms/step - det_loss: 0.1342 - cls_loss: 0.1041 - box_loss: 6.0172e-04 - reg_l2_loss: 0.0994 - loss: 0.2336 - learning_rate: 4.2583e-04 - gradient_norm: 2.2285 - val_det_loss: 0.0800 - val_cls_loss: 0.0698 - val_box_loss: 2.0590e-04 - val_reg_l2_loss: 0.0994 - val_loss: 0.1794\n",
            "Epoch 43/50\n",
            "397/397 [==============================] - 196s 494ms/step - det_loss: 0.1323 - cls_loss: 0.1027 - box_loss: 5.9269e-04 - reg_l2_loss: 0.0994 - loss: 0.2317 - learning_rate: 3.2154e-04 - gradient_norm: 2.2756 - val_det_loss: 0.0804 - val_cls_loss: 0.0706 - val_box_loss: 1.9570e-04 - val_reg_l2_loss: 0.0994 - val_loss: 0.1798\n",
            "Epoch 44/50\n",
            "397/397 [==============================] - 195s 492ms/step - det_loss: 0.1285 - cls_loss: 0.0991 - box_loss: 5.8829e-04 - reg_l2_loss: 0.0994 - loss: 0.2279 - learning_rate: 2.3135e-04 - gradient_norm: 2.1770 - val_det_loss: 0.0860 - val_cls_loss: 0.0775 - val_box_loss: 1.7001e-04 - val_reg_l2_loss: 0.0994 - val_loss: 0.1854\n",
            "Epoch 45/50\n",
            "397/397 [==============================] - 213s 536ms/step - det_loss: 0.1280 - cls_loss: 0.0988 - box_loss: 5.8489e-04 - reg_l2_loss: 0.0994 - loss: 0.2274 - learning_rate: 1.5561e-04 - gradient_norm: 2.1357 - val_det_loss: 0.0829 - val_cls_loss: 0.0743 - val_box_loss: 1.7224e-04 - val_reg_l2_loss: 0.0994 - val_loss: 0.1822\n",
            "Epoch 46/50\n",
            "397/397 [==============================] - 195s 492ms/step - det_loss: 0.1328 - cls_loss: 0.1021 - box_loss: 6.1306e-04 - reg_l2_loss: 0.0994 - loss: 0.2321 - learning_rate: 9.4650e-05 - gradient_norm: 2.1678 - val_det_loss: 0.0817 - val_cls_loss: 0.0729 - val_box_loss: 1.7566e-04 - val_reg_l2_loss: 0.0994 - val_loss: 0.1810\n",
            "Epoch 47/50\n",
            "397/397 [==============================] - 196s 495ms/step - det_loss: 0.1346 - cls_loss: 0.1036 - box_loss: 6.1970e-04 - reg_l2_loss: 0.0994 - loss: 0.2340 - learning_rate: 4.8706e-05 - gradient_norm: 2.2422 - val_det_loss: 0.0822 - val_cls_loss: 0.0729 - val_box_loss: 1.8516e-04 - val_reg_l2_loss: 0.0994 - val_loss: 0.1816\n",
            "Epoch 48/50\n",
            "397/397 [==============================] - 195s 492ms/step - det_loss: 0.1314 - cls_loss: 0.1020 - box_loss: 5.8782e-04 - reg_l2_loss: 0.0994 - loss: 0.2308 - learning_rate: 1.7971e-05 - gradient_norm: 2.2135 - val_det_loss: 0.0814 - val_cls_loss: 0.0722 - val_box_loss: 1.8314e-04 - val_reg_l2_loss: 0.0994 - val_loss: 0.1808\n",
            "Epoch 49/50\n",
            "397/397 [==============================] - 196s 492ms/step - det_loss: 0.1352 - cls_loss: 0.1044 - box_loss: 6.1595e-04 - reg_l2_loss: 0.0994 - loss: 0.2345 - learning_rate: 2.5718e-06 - gradient_norm: 2.1824 - val_det_loss: 0.0825 - val_cls_loss: 0.0731 - val_box_loss: 1.8767e-04 - val_reg_l2_loss: 0.0994 - val_loss: 0.1818\n",
            "Epoch 50/50\n",
            "397/397 [==============================] - 213s 538ms/step - det_loss: 0.1312 - cls_loss: 0.1013 - box_loss: 5.9868e-04 - reg_l2_loss: 0.0994 - loss: 0.2306 - learning_rate: 2.5718e-06 - gradient_norm: 2.2117 - val_det_loss: 0.0825 - val_cls_loss: 0.0733 - val_box_loss: 1.8413e-04 - val_reg_l2_loss: 0.0994 - val_loss: 0.1819\n"
          ]
        }
      ],
      "source": [
        "start = time.time()\n",
        "model = object_detector.create(train_dir, \n",
        "                               model_spec=spec, \n",
        "                               epochs=10, \n",
        "                               batch_size=6, \n",
        "                               train_whole_model=True, \n",
        "                               validation_data=validate_dir)\n",
        "end = time.time()"
      ],
      "id": "Op_27CahFyC_"
    },
    {
      "cell_type": "code",
      "source": [
        "print(\"The time of execution of training is :\", end-start)"
      ],
      "metadata": {
        "colab": {
          "base_uri": "https://localhost:8080/"
        },
        "id": "Ft9_WYGBo2K6",
        "outputId": "5dae342d-8f11-4fdf-8acc-23c97e2a84c7"
      },
      "id": "Ft9_WYGBo2K6",
      "execution_count": 28,
      "outputs": [
        {
          "output_type": "stream",
          "name": "stdout",
          "text": [
            "The time of execution of training is : 10034.77288532257\n"
          ]
        }
      ]
    },
    {
      "cell_type": "code",
      "source": [
        "start = time.time()\n",
        "ap = model.evaluate(test_dir,batch_size=5)\n",
        "print(ap)\n",
        "end = time.time()\n"
      ],
      "metadata": {
        "colab": {
          "base_uri": "https://localhost:8080/"
        },
        "id": "LtKo54b0msK4",
        "outputId": "9379d372-1982-463e-aaa8-e5f3081d5e70"
      },
      "id": "LtKo54b0msK4",
      "execution_count": 29,
      "outputs": [
        {
          "output_type": "stream",
          "name": "stdout",
          "text": [
            "69/69 [==============================] - 15s 100ms/step\n",
            "\n",
            "{'AP': 0.8398091, 'AP50': 0.9415507, 'AP75': 0.8927373, 'APs': -1.0, 'APm': 0.6279617, 'APl': 0.85373497, 'ARmax1': 0.75979257, 'ARmax10': 0.88312644, 'ARmax100': 0.8897697, 'ARs': -1.0, 'ARm': 0.67333335, 'ARl': 0.9020386, 'AP_/10': 0.788982, 'AP_/20': 0.83456755, 'AP_/50': 0.8669382, 'AP_/100': 0.93162507, 'AP_/200': 0.8833593, 'AP_/500': 0.8195699, 'AP_/2000': 0.7536219}\n"
          ]
        }
      ]
    },
    {
      "cell_type": "code",
      "source": [
        "print(\"The time of execution of evaluation is  :\", end-start)"
      ],
      "metadata": {
        "colab": {
          "base_uri": "https://localhost:8080/"
        },
        "id": "tKCL9HdMo3ug",
        "outputId": "e57a10ec-1c0e-4865-9a0d-26f7730bf206"
      },
      "id": "tKCL9HdMo3ug",
      "execution_count": 30,
      "outputs": [
        {
          "output_type": "stream",
          "name": "stdout",
          "text": [
            "The time of execution of evaluation is  : 17.591188192367554\n"
          ]
        }
      ]
    },
    {
      "cell_type": "code",
      "execution_count": null,
      "metadata": {
        "id": "OyAxn7grfCkW"
      },
      "outputs": [],
      "source": [
        "#model = object_detector.create(train_dir, model_spec=spec, epochs=30, batch_size=8, train_whole_model=True)"
      ],
      "id": "OyAxn7grfCkW"
    },
    {
      "cell_type": "code",
      "execution_count": null,
      "metadata": {
        "id": "iuhu3CyHrVJf"
      },
      "outputs": [],
      "source": [
        "model.export(export_dir='/content/')"
      ],
      "id": "iuhu3CyHrVJf"
    }
  ],
  "metadata": {
    "accelerator": "GPU",
    "colab": {
      "collapsed_sections": [],
      "machine_shape": "hm",
      "name": "10_20_50 model.ipynb",
      "provenance": []
    },
    "kernelspec": {
      "display_name": "Python 3",
      "language": "python",
      "name": "python3"
    },
    "language_info": {
      "codemirror_mode": {
        "name": "ipython",
        "version": 3
      },
      "file_extension": ".py",
      "mimetype": "text/x-python",
      "name": "python",
      "nbconvert_exporter": "python",
      "pygments_lexer": "ipython3",
      "version": "3.9.5"
    }
  },
  "nbformat": 4,
  "nbformat_minor": 5
}