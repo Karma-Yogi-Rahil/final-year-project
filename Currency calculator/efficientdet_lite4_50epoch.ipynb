{
  "cells": [
    {
      "cell_type": "code",
      "execution_count": 1,
      "metadata": {
        "id": "FZRWUwlnAkPw"
      },
      "outputs": [],
      "source": [
        "import os \n",
        "os.environ['KAGGLE_CONFIG_DIR'] = '/content/'"
      ],
      "id": "FZRWUwlnAkPw"
    },
    {
      "cell_type": "code",
      "source": [
        "!kaggle datasets download -d rahilmehtaucoe2784/indian-currency"
      ],
      "metadata": {
        "colab": {
          "base_uri": "https://localhost:8080/"
        },
        "id": "MRp0Y3YCwrgB",
        "outputId": "0e832c49-9158-4769-c79e-b1315a24a6da"
      },
      "id": "MRp0Y3YCwrgB",
      "execution_count": 2,
      "outputs": [
        {
          "output_type": "stream",
          "name": "stdout",
          "text": [
            "Warning: Your Kaggle API key is readable by other users on this system! To fix this, you can run 'chmod 600 /content/kaggle.json'\n",
            "Downloading indian-currency.zip to /content\n",
            " 99% 85.0M/85.7M [00:01<00:00, 64.1MB/s]\n",
            "100% 85.7M/85.7M [00:01<00:00, 73.9MB/s]\n"
          ]
        }
      ]
    },
    {
      "cell_type": "code",
      "source": [
        "%%capture\n",
        "!unzip \\*.zip && rm *.zip &> /dev/null"
      ],
      "metadata": {
        "id": "5eeueRCuws-j"
      },
      "id": "5eeueRCuws-j",
      "execution_count": 3,
      "outputs": []
    },
    {
      "cell_type": "code",
      "execution_count": 4,
      "metadata": {
        "colab": {
          "base_uri": "https://localhost:8080/"
        },
        "id": "6f5a7a6b",
        "outputId": "f21f2894-d841-4ef5-f84e-83d9d2d3cf56",
        "scrolled": true
      },
      "outputs": [
        {
          "output_type": "stream",
          "name": "stdout",
          "text": [
            "\u001b[K     |████████████████████████████████| 616 kB 13.4 MB/s \n",
            "\u001b[K     |████████████████████████████████| 1.2 MB 86.1 MB/s \n",
            "\u001b[K     |████████████████████████████████| 6.4 MB 63.6 MB/s \n",
            "\u001b[K     |████████████████████████████████| 120 kB 72.8 MB/s \n",
            "\u001b[K     |████████████████████████████████| 77 kB 7.4 MB/s \n",
            "\u001b[K     |████████████████████████████████| 3.4 MB 69.6 MB/s \n",
            "\u001b[K     |████████████████████████████████| 1.1 MB 52.8 MB/s \n",
            "\u001b[K     |████████████████████████████████| 87 kB 8.9 MB/s \n",
            "\u001b[K     |████████████████████████████████| 596 kB 67.4 MB/s \n",
            "\u001b[K     |████████████████████████████████| 234 kB 70.8 MB/s \n",
            "\u001b[K     |████████████████████████████████| 1.1 MB 61.3 MB/s \n",
            "\u001b[K     |████████████████████████████████| 840 kB 61.3 MB/s \n",
            "\u001b[K     |████████████████████████████████| 25.3 MB 1.2 MB/s \n",
            "\u001b[K     |████████████████████████████████| 99 kB 13.2 MB/s \n",
            "\u001b[K     |████████████████████████████████| 47.7 MB 1.1 MB/s \n",
            "\u001b[K     |████████████████████████████████| 352 kB 80.5 MB/s \n",
            "\u001b[K     |████████████████████████████████| 462 kB 78.0 MB/s \n",
            "\u001b[K     |████████████████████████████████| 211 kB 86.4 MB/s \n",
            "\u001b[?25h  Building wheel for fire (setup.py) ... \u001b[?25l\u001b[?25hdone\n",
            "  Building wheel for py-cpuinfo (setup.py) ... \u001b[?25l\u001b[?25hdone\n"
          ]
        }
      ],
      "source": [
        "!pip install -q tflite-model-maker\n",
        "!pip install -q pycocotools\n",
        "\n"
      ],
      "id": "6f5a7a6b"
    },
    {
      "cell_type": "code",
      "execution_count": null,
      "metadata": {
        "id": "5b521f21"
      },
      "outputs": [],
      "source": [
        "import numpy as np\n",
        "import os\n",
        "\n",
        "from tflite_model_maker.config import ExportFormat\n",
        "from tflite_model_maker import model_spec\n",
        "from tflite_model_maker import object_detector\n",
        "import time\n",
        "\n",
        "import tensorflow as tf\n",
        "assert tf.__version__.startswith('2')\n",
        "\n",
        "tf.get_logger().setLevel('ERROR')\n",
        "from absl import logging\n",
        "logging.set_verbosity(logging.ERROR)\n",
        "from tensorflow import keras"
      ],
      "id": "5b521f21"
    },
    {
      "cell_type": "code",
      "execution_count": null,
      "metadata": {
        "id": "XUlsc1tEd6XH"
      },
      "outputs": [],
      "source": [
        "train_image_dir = '/content/final_currency_dataset/train images'\n",
        "train_annotation_dir = '/content/final_currency_dataset/train anotation'\n",
        "validate_image_dir = '/content/final_currency_dataset/validate Images'\n",
        "validate_anaotation_dir = '/content/final_currency_dataset/validate anotation '\n",
        "test_image_dir = '/content/final_currency_dataset/test image'\n",
        "test_anotation_dir = '/content/final_currency_dataset/test anotation'"
      ],
      "id": "XUlsc1tEd6XH"
    },
    {
      "cell_type": "code",
      "execution_count": null,
      "metadata": {
        "id": "Vx26vmSMc8AD"
      },
      "outputs": [],
      "source": [
        "train_dir = object_detector.DataLoader.from_pascal_voc(train_image_dir, train_annotation_dir, label_map={1:\"10\", 2: \"20\",3:\"50\",4:\"100\",5:\"200\",6:\"500\",7:\"2000\"})"
      ],
      "id": "Vx26vmSMc8AD"
    },
    {
      "cell_type": "code",
      "execution_count": null,
      "metadata": {
        "id": "E1OSKKoeqlrU"
      },
      "outputs": [],
      "source": [
        "validate_dir = object_detector.DataLoader.from_pascal_voc(validate_image_dir, validate_anaotation_dir, label_map={1:\"10\", 2:\"20\",3:\"50\",4:\"100\",5:\"200\",6:\"500\",7:\"2000\"})"
      ],
      "id": "E1OSKKoeqlrU"
    },
    {
      "cell_type": "code",
      "source": [
        "test_dir = object_detector.DataLoader.from_pascal_voc(test_image_dir, test_anotation_dir, label_map={1:\"10\", 2:\"20\",3:\"50\",4:\"100\",5:\"200\",6:\"500\",7:\"2000\"})"
      ],
      "metadata": {
        "id": "1Ube9Unpx4_x"
      },
      "id": "1Ube9Unpx4_x",
      "execution_count": null,
      "outputs": []
    },
    {
      "cell_type": "code",
      "source": [
        "print(len(train_dir))\n",
        "print(len(validate_dir))\n",
        "print(len(test_dir))"
      ],
      "metadata": {
        "id": "kaE2UvhpcvVu"
      },
      "id": "kaE2UvhpcvVu",
      "execution_count": null,
      "outputs": []
    },
    {
      "cell_type": "code",
      "execution_count": 11,
      "metadata": {
        "id": "IaknFpWYe-wq"
      },
      "outputs": [],
      "source": [
        "spec = model_spec.get('efficientdet_lite4')"
      ],
      "id": "IaknFpWYe-wq"
    },
    {
      "cell_type": "code",
      "execution_count": 12,
      "metadata": {
        "colab": {
          "base_uri": "https://localhost:8080/"
        },
        "id": "Op_27CahFyC_",
        "outputId": "a38aade4-7440-48f9-d9a8-ab199af0f211"
      },
      "outputs": [
        {
          "output_type": "stream",
          "name": "stdout",
          "text": [
            "Epoch 1/50\n",
            "397/397 [==============================] - 617s 1s/step - det_loss: 0.9737 - cls_loss: 0.7961 - box_loss: 0.0036 - reg_l2_loss: 0.1090 - loss: 1.0827 - learning_rate: 0.0078 - gradient_norm: 3.7198 - val_det_loss: 0.6120 - val_cls_loss: 0.5459 - val_box_loss: 0.0013 - val_reg_l2_loss: 0.1094 - val_loss: 0.7214\n",
            "Epoch 2/50\n",
            "397/397 [==============================] - 553s 1s/step - det_loss: 0.5988 - cls_loss: 0.5098 - box_loss: 0.0018 - reg_l2_loss: 0.1097 - loss: 0.7085 - learning_rate: 0.0075 - gradient_norm: 3.5568 - val_det_loss: 0.5109 - val_cls_loss: 0.4271 - val_box_loss: 0.0017 - val_reg_l2_loss: 0.1099 - val_loss: 0.6208\n",
            "Epoch 3/50\n",
            "397/397 [==============================] - 554s 1s/step - det_loss: 0.5354 - cls_loss: 0.4545 - box_loss: 0.0016 - reg_l2_loss: 0.1101 - loss: 0.6456 - learning_rate: 0.0075 - gradient_norm: 3.6252 - val_det_loss: 0.5043 - val_cls_loss: 0.4580 - val_box_loss: 9.2586e-04 - val_reg_l2_loss: 0.1104 - val_loss: 0.6146\n",
            "Epoch 4/50\n",
            "397/397 [==============================] - 554s 1s/step - det_loss: 0.4779 - cls_loss: 0.4102 - box_loss: 0.0014 - reg_l2_loss: 0.1105 - loss: 0.5884 - learning_rate: 0.0074 - gradient_norm: 3.3561 - val_det_loss: 0.3290 - val_cls_loss: 0.2913 - val_box_loss: 7.5436e-04 - val_reg_l2_loss: 0.1107 - val_loss: 0.4397\n",
            "Epoch 5/50\n",
            "397/397 [==============================] - 600s 2s/step - det_loss: 0.4506 - cls_loss: 0.3822 - box_loss: 0.0014 - reg_l2_loss: 0.1109 - loss: 0.5615 - learning_rate: 0.0073 - gradient_norm: 3.5890 - val_det_loss: 0.4431 - val_cls_loss: 0.3991 - val_box_loss: 8.7996e-04 - val_reg_l2_loss: 0.1111 - val_loss: 0.5542\n",
            "Epoch 6/50\n",
            "397/397 [==============================] - 554s 1s/step - det_loss: 0.4200 - cls_loss: 0.3544 - box_loss: 0.0013 - reg_l2_loss: 0.1113 - loss: 0.5313 - learning_rate: 0.0073 - gradient_norm: 3.7284 - val_det_loss: 0.2699 - val_cls_loss: 0.2412 - val_box_loss: 5.7326e-04 - val_reg_l2_loss: 0.1115 - val_loss: 0.3814\n",
            "Epoch 7/50\n",
            "397/397 [==============================] - 560s 1s/step - det_loss: 0.3800 - cls_loss: 0.3205 - box_loss: 0.0012 - reg_l2_loss: 0.1117 - loss: 0.4917 - learning_rate: 0.0072 - gradient_norm: 3.5586 - val_det_loss: 0.3497 - val_cls_loss: 0.2919 - val_box_loss: 0.0012 - val_reg_l2_loss: 0.1119 - val_loss: 0.4616\n",
            "Epoch 8/50\n",
            "397/397 [==============================] - 554s 1s/step - det_loss: 0.3596 - cls_loss: 0.3030 - box_loss: 0.0011 - reg_l2_loss: 0.1121 - loss: 0.4716 - learning_rate: 0.0071 - gradient_norm: 3.6255 - val_det_loss: 0.2233 - val_cls_loss: 0.1931 - val_box_loss: 6.0232e-04 - val_reg_l2_loss: 0.1122 - val_loss: 0.3355\n",
            "Epoch 9/50\n",
            "397/397 [==============================] - 554s 1s/step - det_loss: 0.3369 - cls_loss: 0.2819 - box_loss: 0.0011 - reg_l2_loss: 0.1124 - loss: 0.4493 - learning_rate: 0.0070 - gradient_norm: 3.8908 - val_det_loss: 0.2589 - val_cls_loss: 0.2284 - val_box_loss: 6.0926e-04 - val_reg_l2_loss: 0.1127 - val_loss: 0.3715\n",
            "Epoch 10/50\n",
            "397/397 [==============================] - 595s 1s/step - det_loss: 0.3314 - cls_loss: 0.2743 - box_loss: 0.0011 - reg_l2_loss: 0.1128 - loss: 0.4442 - learning_rate: 0.0068 - gradient_norm: 3.6715 - val_det_loss: 0.1563 - val_cls_loss: 0.1195 - val_box_loss: 7.3488e-04 - val_reg_l2_loss: 0.1130 - val_loss: 0.2693\n",
            "Epoch 11/50\n",
            "397/397 [==============================] - 555s 1s/step - det_loss: 0.3081 - cls_loss: 0.2553 - box_loss: 0.0011 - reg_l2_loss: 0.1132 - loss: 0.4213 - learning_rate: 0.0067 - gradient_norm: 3.6904 - val_det_loss: 0.3171 - val_cls_loss: 0.2830 - val_box_loss: 6.8186e-04 - val_reg_l2_loss: 0.1133 - val_loss: 0.4305\n",
            "Epoch 12/50\n",
            "397/397 [==============================] - 554s 1s/step - det_loss: 0.2928 - cls_loss: 0.2405 - box_loss: 0.0010 - reg_l2_loss: 0.1135 - loss: 0.4062 - learning_rate: 0.0065 - gradient_norm: 3.7332 - val_det_loss: 0.3599 - val_cls_loss: 0.3189 - val_box_loss: 8.2012e-04 - val_reg_l2_loss: 0.1137 - val_loss: 0.4736\n",
            "Epoch 13/50\n",
            "397/397 [==============================] - 553s 1s/step - det_loss: 0.2819 - cls_loss: 0.2328 - box_loss: 9.8085e-04 - reg_l2_loss: 0.1138 - loss: 0.3957 - learning_rate: 0.0064 - gradient_norm: 3.7099 - val_det_loss: 0.1572 - val_cls_loss: 0.1366 - val_box_loss: 4.1171e-04 - val_reg_l2_loss: 0.1140 - val_loss: 0.2712\n",
            "Epoch 14/50\n",
            "397/397 [==============================] - 555s 1s/step - det_loss: 0.2704 - cls_loss: 0.2215 - box_loss: 9.7788e-04 - reg_l2_loss: 0.1142 - loss: 0.3846 - learning_rate: 0.0062 - gradient_norm: 3.9450 - val_det_loss: 0.3571 - val_cls_loss: 0.3276 - val_box_loss: 5.8941e-04 - val_reg_l2_loss: 0.1143 - val_loss: 0.4714\n",
            "Epoch 15/50\n",
            "397/397 [==============================] - 591s 1s/step - det_loss: 0.2661 - cls_loss: 0.2200 - box_loss: 9.2210e-04 - reg_l2_loss: 0.1145 - loss: 0.3806 - learning_rate: 0.0060 - gradient_norm: 3.8033 - val_det_loss: 0.1098 - val_cls_loss: 0.0891 - val_box_loss: 4.1501e-04 - val_reg_l2_loss: 0.1146 - val_loss: 0.2245\n",
            "Epoch 16/50\n",
            "397/397 [==============================] - 554s 1s/step - det_loss: 0.2562 - cls_loss: 0.2096 - box_loss: 9.3054e-04 - reg_l2_loss: 0.1148 - loss: 0.3709 - learning_rate: 0.0058 - gradient_norm: 3.6366 - val_det_loss: 0.1222 - val_cls_loss: 0.1051 - val_box_loss: 3.4098e-04 - val_reg_l2_loss: 0.1149 - val_loss: 0.2371\n",
            "Epoch 17/50\n",
            "397/397 [==============================] - 555s 1s/step - det_loss: 0.2520 - cls_loss: 0.2038 - box_loss: 9.6512e-04 - reg_l2_loss: 0.1150 - loss: 0.3670 - learning_rate: 0.0056 - gradient_norm: 3.6747 - val_det_loss: 0.3203 - val_cls_loss: 0.2871 - val_box_loss: 6.6405e-04 - val_reg_l2_loss: 0.1151 - val_loss: 0.4354\n",
            "Epoch 18/50\n",
            "397/397 [==============================] - 554s 1s/step - det_loss: 0.2257 - cls_loss: 0.1844 - box_loss: 8.2617e-04 - reg_l2_loss: 0.1152 - loss: 0.3409 - learning_rate: 0.0054 - gradient_norm: 3.3415 - val_det_loss: 0.1359 - val_cls_loss: 0.1100 - val_box_loss: 5.1807e-04 - val_reg_l2_loss: 0.1153 - val_loss: 0.2512\n",
            "Epoch 19/50\n",
            "397/397 [==============================] - 556s 1s/step - det_loss: 0.2278 - cls_loss: 0.1833 - box_loss: 8.9001e-04 - reg_l2_loss: 0.1153 - loss: 0.3431 - learning_rate: 0.0052 - gradient_norm: 3.3837 - val_det_loss: 0.1075 - val_cls_loss: 0.0905 - val_box_loss: 3.4095e-04 - val_reg_l2_loss: 0.1154 - val_loss: 0.2229\n",
            "Epoch 20/50\n",
            "397/397 [==============================] - 592s 1s/step - det_loss: 0.2129 - cls_loss: 0.1719 - box_loss: 8.2053e-04 - reg_l2_loss: 0.1155 - loss: 0.3284 - learning_rate: 0.0049 - gradient_norm: 3.3479 - val_det_loss: 0.1359 - val_cls_loss: 0.1062 - val_box_loss: 5.9322e-04 - val_reg_l2_loss: 0.1155 - val_loss: 0.2514\n",
            "Epoch 21/50\n",
            "397/397 [==============================] - 553s 1s/step - det_loss: 0.2137 - cls_loss: 0.1726 - box_loss: 8.2229e-04 - reg_l2_loss: 0.1156 - loss: 0.3292 - learning_rate: 0.0047 - gradient_norm: 3.3951 - val_det_loss: 0.1170 - val_cls_loss: 0.0896 - val_box_loss: 5.4670e-04 - val_reg_l2_loss: 0.1156 - val_loss: 0.2326\n",
            "Epoch 22/50\n",
            "397/397 [==============================] - 555s 1s/step - det_loss: 0.2021 - cls_loss: 0.1629 - box_loss: 7.8544e-04 - reg_l2_loss: 0.1157 - loss: 0.3178 - learning_rate: 0.0045 - gradient_norm: 3.1539 - val_det_loss: 0.0971 - val_cls_loss: 0.0770 - val_box_loss: 4.0173e-04 - val_reg_l2_loss: 0.1157 - val_loss: 0.2128\n",
            "Epoch 23/50\n",
            "397/397 [==============================] - 555s 1s/step - det_loss: 0.1982 - cls_loss: 0.1595 - box_loss: 7.7338e-04 - reg_l2_loss: 0.1157 - loss: 0.3139 - learning_rate: 0.0042 - gradient_norm: 3.2084 - val_det_loss: 0.0987 - val_cls_loss: 0.0743 - val_box_loss: 4.8861e-04 - val_reg_l2_loss: 0.1157 - val_loss: 0.2144\n",
            "Epoch 24/50\n",
            "397/397 [==============================] - 555s 1s/step - det_loss: 0.1879 - cls_loss: 0.1494 - box_loss: 7.6870e-04 - reg_l2_loss: 0.1158 - loss: 0.3036 - learning_rate: 0.0040 - gradient_norm: 3.1902 - val_det_loss: 0.1077 - val_cls_loss: 0.0779 - val_box_loss: 5.9449e-04 - val_reg_l2_loss: 0.1158 - val_loss: 0.2234\n",
            "Epoch 25/50\n",
            "397/397 [==============================] - 593s 1s/step - det_loss: 0.1858 - cls_loss: 0.1483 - box_loss: 7.5011e-04 - reg_l2_loss: 0.1158 - loss: 0.3016 - learning_rate: 0.0038 - gradient_norm: 3.0548 - val_det_loss: 0.1041 - val_cls_loss: 0.0758 - val_box_loss: 5.6553e-04 - val_reg_l2_loss: 0.1158 - val_loss: 0.2199\n",
            "Epoch 26/50\n",
            "397/397 [==============================] - 554s 1s/step - det_loss: 0.1762 - cls_loss: 0.1400 - box_loss: 7.2475e-04 - reg_l2_loss: 0.1158 - loss: 0.2921 - learning_rate: 0.0035 - gradient_norm: 3.0146 - val_det_loss: 0.0915 - val_cls_loss: 0.0654 - val_box_loss: 5.2259e-04 - val_reg_l2_loss: 0.1158 - val_loss: 0.2073\n",
            "Epoch 27/50\n",
            "397/397 [==============================] - 555s 1s/step - det_loss: 0.1607 - cls_loss: 0.1268 - box_loss: 6.7612e-04 - reg_l2_loss: 0.1158 - loss: 0.2765 - learning_rate: 0.0033 - gradient_norm: 2.8316 - val_det_loss: 0.0699 - val_cls_loss: 0.0593 - val_box_loss: 2.1290e-04 - val_reg_l2_loss: 0.1158 - val_loss: 0.1857\n",
            "Epoch 28/50\n",
            "397/397 [==============================] - 554s 1s/step - det_loss: 0.1641 - cls_loss: 0.1319 - box_loss: 6.4391e-04 - reg_l2_loss: 0.1158 - loss: 0.2800 - learning_rate: 0.0030 - gradient_norm: 2.9692 - val_det_loss: 0.0712 - val_cls_loss: 0.0594 - val_box_loss: 2.3589e-04 - val_reg_l2_loss: 0.1158 - val_loss: 0.1870\n",
            "Epoch 29/50\n",
            "397/397 [==============================] - 556s 1s/step - det_loss: 0.1662 - cls_loss: 0.1327 - box_loss: 6.6959e-04 - reg_l2_loss: 0.1158 - loss: 0.2820 - learning_rate: 0.0028 - gradient_norm: 3.0060 - val_det_loss: 0.0824 - val_cls_loss: 0.0651 - val_box_loss: 3.4517e-04 - val_reg_l2_loss: 0.1158 - val_loss: 0.1982\n",
            "Epoch 30/50\n",
            "397/397 [==============================] - 593s 1s/step - det_loss: 0.1532 - cls_loss: 0.1205 - box_loss: 6.5218e-04 - reg_l2_loss: 0.1158 - loss: 0.2689 - learning_rate: 0.0026 - gradient_norm: 2.5885 - val_det_loss: 0.0720 - val_cls_loss: 0.0594 - val_box_loss: 2.5180e-04 - val_reg_l2_loss: 0.1158 - val_loss: 0.1878\n",
            "Epoch 31/50\n",
            "397/397 [==============================] - 554s 1s/step - det_loss: 0.1519 - cls_loss: 0.1214 - box_loss: 6.1094e-04 - reg_l2_loss: 0.1158 - loss: 0.2677 - learning_rate: 0.0023 - gradient_norm: 2.6177 - val_det_loss: 0.0714 - val_cls_loss: 0.0577 - val_box_loss: 2.7309e-04 - val_reg_l2_loss: 0.1157 - val_loss: 0.1871\n",
            "Epoch 32/50\n",
            "397/397 [==============================] - 554s 1s/step - det_loss: 0.1479 - cls_loss: 0.1168 - box_loss: 6.2076e-04 - reg_l2_loss: 0.1157 - loss: 0.2636 - learning_rate: 0.0021 - gradient_norm: 2.5332 - val_det_loss: 0.0720 - val_cls_loss: 0.0606 - val_box_loss: 2.2914e-04 - val_reg_l2_loss: 0.1157 - val_loss: 0.1878\n",
            "Epoch 33/50\n",
            "397/397 [==============================] - 555s 1s/step - det_loss: 0.1430 - cls_loss: 0.1125 - box_loss: 6.0851e-04 - reg_l2_loss: 0.1157 - loss: 0.2587 - learning_rate: 0.0019 - gradient_norm: 2.5233 - val_det_loss: 0.0693 - val_cls_loss: 0.0547 - val_box_loss: 2.9172e-04 - val_reg_l2_loss: 0.1157 - val_loss: 0.1849\n",
            "Epoch 34/50\n",
            "397/397 [==============================] - 555s 1s/step - det_loss: 0.1398 - cls_loss: 0.1104 - box_loss: 5.8877e-04 - reg_l2_loss: 0.1157 - loss: 0.2555 - learning_rate: 0.0017 - gradient_norm: 2.4329 - val_det_loss: 0.0692 - val_cls_loss: 0.0572 - val_box_loss: 2.3970e-04 - val_reg_l2_loss: 0.1157 - val_loss: 0.1848\n",
            "Epoch 35/50\n",
            "397/397 [==============================] - 591s 1s/step - det_loss: 0.1399 - cls_loss: 0.1104 - box_loss: 5.9080e-04 - reg_l2_loss: 0.1156 - loss: 0.2555 - learning_rate: 0.0015 - gradient_norm: 2.5880 - val_det_loss: 0.0706 - val_cls_loss: 0.0555 - val_box_loss: 3.0078e-04 - val_reg_l2_loss: 0.1156 - val_loss: 0.1862\n",
            "Epoch 36/50\n",
            "397/397 [==============================] - 553s 1s/step - det_loss: 0.1391 - cls_loss: 0.1093 - box_loss: 5.9587e-04 - reg_l2_loss: 0.1156 - loss: 0.2547 - learning_rate: 0.0013 - gradient_norm: 2.4646 - val_det_loss: 0.0624 - val_cls_loss: 0.0500 - val_box_loss: 2.4778e-04 - val_reg_l2_loss: 0.1156 - val_loss: 0.1780\n",
            "Epoch 37/50\n",
            "397/397 [==============================] - 554s 1s/step - det_loss: 0.1303 - cls_loss: 0.1019 - box_loss: 5.6646e-04 - reg_l2_loss: 0.1156 - loss: 0.2458 - learning_rate: 0.0011 - gradient_norm: 2.2101 - val_det_loss: 0.0738 - val_cls_loss: 0.0583 - val_box_loss: 3.0983e-04 - val_reg_l2_loss: 0.1156 - val_loss: 0.1894\n",
            "Epoch 38/50\n",
            "397/397 [==============================] - 555s 1s/step - det_loss: 0.1311 - cls_loss: 0.1020 - box_loss: 5.8174e-04 - reg_l2_loss: 0.1156 - loss: 0.2467 - learning_rate: 9.7444e-04 - gradient_norm: 2.3999 - val_det_loss: 0.0791 - val_cls_loss: 0.0614 - val_box_loss: 3.5360e-04 - val_reg_l2_loss: 0.1155 - val_loss: 0.1946\n",
            "Epoch 39/50\n",
            "397/397 [==============================] - 554s 1s/step - det_loss: 0.1286 - cls_loss: 0.1015 - box_loss: 5.4116e-04 - reg_l2_loss: 0.1155 - loss: 0.2441 - learning_rate: 8.1864e-04 - gradient_norm: 2.3367 - val_det_loss: 0.0684 - val_cls_loss: 0.0585 - val_box_loss: 1.9644e-04 - val_reg_l2_loss: 0.1155 - val_loss: 0.1839\n",
            "Epoch 40/50\n",
            "397/397 [==============================] - 593s 1s/step - det_loss: 0.1275 - cls_loss: 0.1004 - box_loss: 5.4215e-04 - reg_l2_loss: 0.1155 - loss: 0.2430 - learning_rate: 6.7488e-04 - gradient_norm: 2.3194 - val_det_loss: 0.0761 - val_cls_loss: 0.0594 - val_box_loss: 3.3372e-04 - val_reg_l2_loss: 0.1155 - val_loss: 0.1916\n",
            "Epoch 41/50\n",
            "397/397 [==============================] - 554s 1s/step - det_loss: 0.1269 - cls_loss: 0.1001 - box_loss: 5.3677e-04 - reg_l2_loss: 0.1155 - loss: 0.2424 - learning_rate: 5.4377e-04 - gradient_norm: 2.2684 - val_det_loss: 0.0648 - val_cls_loss: 0.0535 - val_box_loss: 2.2530e-04 - val_reg_l2_loss: 0.1155 - val_loss: 0.1802\n",
            "Epoch 42/50\n",
            "397/397 [==============================] - 555s 1s/step - det_loss: 0.1247 - cls_loss: 0.0975 - box_loss: 5.4477e-04 - reg_l2_loss: 0.1155 - loss: 0.2402 - learning_rate: 4.2583e-04 - gradient_norm: 2.1675 - val_det_loss: 0.0722 - val_cls_loss: 0.0574 - val_box_loss: 2.9611e-04 - val_reg_l2_loss: 0.1155 - val_loss: 0.1876\n",
            "Epoch 43/50\n",
            "397/397 [==============================] - 554s 1s/step - det_loss: 0.1239 - cls_loss: 0.0972 - box_loss: 5.3496e-04 - reg_l2_loss: 0.1155 - loss: 0.2394 - learning_rate: 3.2154e-04 - gradient_norm: 2.2385 - val_det_loss: 0.0690 - val_cls_loss: 0.0554 - val_box_loss: 2.7186e-04 - val_reg_l2_loss: 0.1155 - val_loss: 0.1845\n",
            "Epoch 44/50\n",
            "397/397 [==============================] - 553s 1s/step - det_loss: 0.1212 - cls_loss: 0.0952 - box_loss: 5.1911e-04 - reg_l2_loss: 0.1155 - loss: 0.2366 - learning_rate: 2.3135e-04 - gradient_norm: 2.1492 - val_det_loss: 0.0678 - val_cls_loss: 0.0557 - val_box_loss: 2.4209e-04 - val_reg_l2_loss: 0.1155 - val_loss: 0.1833\n",
            "Epoch 45/50\n",
            "397/397 [==============================] - 592s 1s/step - det_loss: 0.1212 - cls_loss: 0.0949 - box_loss: 5.2598e-04 - reg_l2_loss: 0.1155 - loss: 0.2367 - learning_rate: 1.5561e-04 - gradient_norm: 2.1257 - val_det_loss: 0.0691 - val_cls_loss: 0.0552 - val_box_loss: 2.7829e-04 - val_reg_l2_loss: 0.1155 - val_loss: 0.1846\n",
            "Epoch 46/50\n",
            "397/397 [==============================] - 555s 1s/step - det_loss: 0.1246 - cls_loss: 0.0976 - box_loss: 5.4095e-04 - reg_l2_loss: 0.1155 - loss: 0.2401 - learning_rate: 9.4650e-05 - gradient_norm: 2.2830 - val_det_loss: 0.0660 - val_cls_loss: 0.0539 - val_box_loss: 2.4110e-04 - val_reg_l2_loss: 0.1154 - val_loss: 0.1814\n",
            "Epoch 47/50\n",
            "397/397 [==============================] - 555s 1s/step - det_loss: 0.1210 - cls_loss: 0.0952 - box_loss: 5.1553e-04 - reg_l2_loss: 0.1154 - loss: 0.2364 - learning_rate: 4.8706e-05 - gradient_norm: 2.1655 - val_det_loss: 0.0652 - val_cls_loss: 0.0536 - val_box_loss: 2.3192e-04 - val_reg_l2_loss: 0.1154 - val_loss: 0.1807\n",
            "Epoch 48/50\n",
            "397/397 [==============================] - 553s 1s/step - det_loss: 0.1211 - cls_loss: 0.0951 - box_loss: 5.2197e-04 - reg_l2_loss: 0.1154 - loss: 0.2366 - learning_rate: 1.7971e-05 - gradient_norm: 2.1891 - val_det_loss: 0.0659 - val_cls_loss: 0.0539 - val_box_loss: 2.3962e-04 - val_reg_l2_loss: 0.1154 - val_loss: 0.1814\n",
            "Epoch 49/50\n",
            "397/397 [==============================] - 553s 1s/step - det_loss: 0.1207 - cls_loss: 0.0950 - box_loss: 5.1411e-04 - reg_l2_loss: 0.1154 - loss: 0.2361 - learning_rate: 2.5718e-06 - gradient_norm: 2.0855 - val_det_loss: 0.0660 - val_cls_loss: 0.0542 - val_box_loss: 2.3561e-04 - val_reg_l2_loss: 0.1154 - val_loss: 0.1815\n",
            "Epoch 50/50\n",
            "397/397 [==============================] - 592s 1s/step - det_loss: 0.1222 - cls_loss: 0.0956 - box_loss: 5.3162e-04 - reg_l2_loss: 0.1154 - loss: 0.2376 - learning_rate: 2.5718e-06 - gradient_norm: 2.1454 - val_det_loss: 0.0656 - val_cls_loss: 0.0538 - val_box_loss: 2.3713e-04 - val_reg_l2_loss: 0.1154 - val_loss: 0.1811\n"
          ]
        }
      ],
      "source": [
        "start = time.time()\n",
        "model = object_detector.create(train_dir, \n",
        "                               model_spec=spec, \n",
        "                               epochs=50, \n",
        "                               batch_size=6, \n",
        "                               train_whole_model=True, \n",
        "                               validation_data=validate_dir)\n",
        "end = time.time()"
      ],
      "id": "Op_27CahFyC_"
    },
    {
      "cell_type": "code",
      "source": [
        "print(\"The time of execution of training is :\", end-start)"
      ],
      "metadata": {
        "colab": {
          "base_uri": "https://localhost:8080/"
        },
        "id": "Ft9_WYGBo2K6",
        "outputId": "063a4aef-21ba-43bd-b8ca-8585308e71cd"
      },
      "id": "Ft9_WYGBo2K6",
      "execution_count": 13,
      "outputs": [
        {
          "output_type": "stream",
          "name": "stdout",
          "text": [
            "The time of execution of training is : 28202.00845527649\n"
          ]
        }
      ]
    },
    {
      "cell_type": "code",
      "source": [
        "start = time.time()\n",
        "ap = model.evaluate(test_dir,batch_size=5)\n",
        "print(ap)\n",
        "end = time.time()\n"
      ],
      "metadata": {
        "colab": {
          "base_uri": "https://localhost:8080/"
        },
        "id": "LtKo54b0msK4",
        "outputId": "162d8f60-02ae-4dc9-e40b-e70a607ad7c5"
      },
      "id": "LtKo54b0msK4",
      "execution_count": 14,
      "outputs": [
        {
          "output_type": "stream",
          "name": "stdout",
          "text": [
            "69/69 [==============================] - 24s 246ms/step\n",
            "\n",
            "{'AP': 0.8407219, 'AP50': 0.93246996, 'AP75': 0.8939441, 'APs': -1.0, 'APm': 0.58920294, 'APl': 0.85505164, 'ARmax1': 0.7674507, 'ARmax10': 0.88487846, 'ARmax100': 0.8895023, 'ARs': -1.0, 'ARm': 0.64166665, 'ARl': 0.90313053, 'AP_/10': 0.78154725, 'AP_/20': 0.85811657, 'AP_/50': 0.8308702, 'AP_/100': 0.93808603, 'AP_/200': 0.88287127, 'AP_/500': 0.8408019, 'AP_/2000': 0.75276023}\n"
          ]
        }
      ]
    },
    {
      "cell_type": "code",
      "source": [
        "print(\"The time of execution of evaluation is  :\", end-start)"
      ],
      "metadata": {
        "colab": {
          "base_uri": "https://localhost:8080/"
        },
        "id": "tKCL9HdMo3ug",
        "outputId": "8ec3d364-05f4-4c3d-e188-66dc429ed302"
      },
      "id": "tKCL9HdMo3ug",
      "execution_count": 15,
      "outputs": [
        {
          "output_type": "stream",
          "name": "stdout",
          "text": [
            "The time of execution of evaluation is  : 27.505277633666992\n"
          ]
        }
      ]
    },
    {
      "cell_type": "code",
      "execution_count": null,
      "metadata": {
        "id": "OyAxn7grfCkW"
      },
      "outputs": [],
      "source": [
        "#model = object_detector.create(train_dir, model_spec=spec, epochs=30, batch_size=8, train_whole_model=True)"
      ],
      "id": "OyAxn7grfCkW"
    },
    {
      "cell_type": "code",
      "execution_count": 16,
      "metadata": {
        "id": "iuhu3CyHrVJf"
      },
      "outputs": [],
      "source": [
        "model.export(export_dir='/content/')"
      ],
      "id": "iuhu3CyHrVJf"
    }
  ],
  "metadata": {
    "accelerator": "GPU",
    "colab": {
      "collapsed_sections": [],
      "machine_shape": "hm",
      "name": "10_20_50 model.ipynb",
      "provenance": []
    },
    "kernelspec": {
      "display_name": "Python 3",
      "language": "python",
      "name": "python3"
    },
    "language_info": {
      "codemirror_mode": {
        "name": "ipython",
        "version": 3
      },
      "file_extension": ".py",
      "mimetype": "text/x-python",
      "name": "python",
      "nbconvert_exporter": "python",
      "pygments_lexer": "ipython3",
      "version": "3.9.5"
    }
  },
  "nbformat": 4,
  "nbformat_minor": 5
}