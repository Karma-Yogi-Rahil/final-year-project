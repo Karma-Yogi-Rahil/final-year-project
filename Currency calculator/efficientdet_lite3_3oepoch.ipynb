{
  "cells": [
    {
      "cell_type": "code",
      "execution_count": 1,
      "metadata": {
        "id": "FZRWUwlnAkPw"
      },
      "outputs": [],
      "source": [
        "import os \n",
        "os.environ['KAGGLE_CONFIG_DIR'] = '/content/'"
      ],
      "id": "FZRWUwlnAkPw"
    },
    {
      "cell_type": "code",
      "source": [
        "!kaggle datasets download -d rahilmehtaucoe2784/indian-currency"
      ],
      "metadata": {
        "colab": {
          "base_uri": "https://localhost:8080/"
        },
        "id": "MRp0Y3YCwrgB",
        "outputId": "b5652ca2-e45b-4984-8532-dcb811794626"
      },
      "id": "MRp0Y3YCwrgB",
      "execution_count": 2,
      "outputs": [
        {
          "output_type": "stream",
          "name": "stdout",
          "text": [
            "Warning: Your Kaggle API key is readable by other users on this system! To fix this, you can run 'chmod 600 /content/kaggle.json'\n",
            "Downloading indian-currency.zip to /content\n",
            " 85% 73.0M/85.7M [00:00<00:00, 64.2MB/s]\n",
            "100% 85.7M/85.7M [00:01<00:00, 88.4MB/s]\n"
          ]
        }
      ]
    },
    {
      "cell_type": "code",
      "source": [
        "%%capture\n",
        "!unzip \\*.zip && rm *.zip &> /dev/null"
      ],
      "metadata": {
        "id": "5eeueRCuws-j"
      },
      "id": "5eeueRCuws-j",
      "execution_count": 3,
      "outputs": []
    },
    {
      "cell_type": "code",
      "execution_count": 4,
      "metadata": {
        "colab": {
          "base_uri": "https://localhost:8080/"
        },
        "id": "6f5a7a6b",
        "outputId": "49e3b70e-7d0d-4c9e-bbbc-6938674930b8",
        "scrolled": true
      },
      "outputs": [
        {
          "output_type": "stream",
          "name": "stdout",
          "text": [
            "\u001b[?25l\r\u001b[K     |▌                               | 10 kB 39.7 MB/s eta 0:00:01\r\u001b[K     |█                               | 20 kB 24.9 MB/s eta 0:00:01\r\u001b[K     |█▋                              | 30 kB 18.2 MB/s eta 0:00:01\r\u001b[K     |██▏                             | 40 kB 16.0 MB/s eta 0:00:01\r\u001b[K     |██▋                             | 51 kB 7.3 MB/s eta 0:00:01\r\u001b[K     |███▏                            | 61 kB 8.6 MB/s eta 0:00:01\r\u001b[K     |███▊                            | 71 kB 7.9 MB/s eta 0:00:01\r\u001b[K     |████▎                           | 81 kB 8.8 MB/s eta 0:00:01\r\u001b[K     |████▉                           | 92 kB 9.8 MB/s eta 0:00:01\r\u001b[K     |█████▎                          | 102 kB 8.1 MB/s eta 0:00:01\r\u001b[K     |█████▉                          | 112 kB 8.1 MB/s eta 0:00:01\r\u001b[K     |██████▍                         | 122 kB 8.1 MB/s eta 0:00:01\r\u001b[K     |███████                         | 133 kB 8.1 MB/s eta 0:00:01\r\u001b[K     |███████▍                        | 143 kB 8.1 MB/s eta 0:00:01\r\u001b[K     |████████                        | 153 kB 8.1 MB/s eta 0:00:01\r\u001b[K     |████████▌                       | 163 kB 8.1 MB/s eta 0:00:01\r\u001b[K     |█████████                       | 174 kB 8.1 MB/s eta 0:00:01\r\u001b[K     |█████████▋                      | 184 kB 8.1 MB/s eta 0:00:01\r\u001b[K     |██████████                      | 194 kB 8.1 MB/s eta 0:00:01\r\u001b[K     |██████████▋                     | 204 kB 8.1 MB/s eta 0:00:01\r\u001b[K     |███████████▏                    | 215 kB 8.1 MB/s eta 0:00:01\r\u001b[K     |███████████▊                    | 225 kB 8.1 MB/s eta 0:00:01\r\u001b[K     |████████████▏                   | 235 kB 8.1 MB/s eta 0:00:01\r\u001b[K     |████████████▊                   | 245 kB 8.1 MB/s eta 0:00:01\r\u001b[K     |█████████████▎                  | 256 kB 8.1 MB/s eta 0:00:01\r\u001b[K     |█████████████▉                  | 266 kB 8.1 MB/s eta 0:00:01\r\u001b[K     |██████████████▍                 | 276 kB 8.1 MB/s eta 0:00:01\r\u001b[K     |██████████████▉                 | 286 kB 8.1 MB/s eta 0:00:01\r\u001b[K     |███████████████▍                | 296 kB 8.1 MB/s eta 0:00:01\r\u001b[K     |████████████████                | 307 kB 8.1 MB/s eta 0:00:01\r\u001b[K     |████████████████▌               | 317 kB 8.1 MB/s eta 0:00:01\r\u001b[K     |█████████████████               | 327 kB 8.1 MB/s eta 0:00:01\r\u001b[K     |█████████████████▌              | 337 kB 8.1 MB/s eta 0:00:01\r\u001b[K     |██████████████████              | 348 kB 8.1 MB/s eta 0:00:01\r\u001b[K     |██████████████████▋             | 358 kB 8.1 MB/s eta 0:00:01\r\u001b[K     |███████████████████▏            | 368 kB 8.1 MB/s eta 0:00:01\r\u001b[K     |███████████████████▋            | 378 kB 8.1 MB/s eta 0:00:01\r\u001b[K     |████████████████████▏           | 389 kB 8.1 MB/s eta 0:00:01\r\u001b[K     |████████████████████▊           | 399 kB 8.1 MB/s eta 0:00:01\r\u001b[K     |█████████████████████▎          | 409 kB 8.1 MB/s eta 0:00:01\r\u001b[K     |█████████████████████▉          | 419 kB 8.1 MB/s eta 0:00:01\r\u001b[K     |██████████████████████▎         | 430 kB 8.1 MB/s eta 0:00:01\r\u001b[K     |██████████████████████▉         | 440 kB 8.1 MB/s eta 0:00:01\r\u001b[K     |███████████████████████▍        | 450 kB 8.1 MB/s eta 0:00:01\r\u001b[K     |████████████████████████        | 460 kB 8.1 MB/s eta 0:00:01\r\u001b[K     |████████████████████████▍       | 471 kB 8.1 MB/s eta 0:00:01\r\u001b[K     |█████████████████████████       | 481 kB 8.1 MB/s eta 0:00:01\r\u001b[K     |█████████████████████████▌      | 491 kB 8.1 MB/s eta 0:00:01\r\u001b[K     |██████████████████████████      | 501 kB 8.1 MB/s eta 0:00:01\r\u001b[K     |██████████████████████████▋     | 512 kB 8.1 MB/s eta 0:00:01\r\u001b[K     |███████████████████████████     | 522 kB 8.1 MB/s eta 0:00:01\r\u001b[K     |███████████████████████████▋    | 532 kB 8.1 MB/s eta 0:00:01\r\u001b[K     |████████████████████████████▏   | 542 kB 8.1 MB/s eta 0:00:01\r\u001b[K     |████████████████████████████▊   | 552 kB 8.1 MB/s eta 0:00:01\r\u001b[K     |█████████████████████████████▏  | 563 kB 8.1 MB/s eta 0:00:01\r\u001b[K     |█████████████████████████████▊  | 573 kB 8.1 MB/s eta 0:00:01\r\u001b[K     |██████████████████████████████▎ | 583 kB 8.1 MB/s eta 0:00:01\r\u001b[K     |██████████████████████████████▉ | 593 kB 8.1 MB/s eta 0:00:01\r\u001b[K     |███████████████████████████████▍| 604 kB 8.1 MB/s eta 0:00:01\r\u001b[K     |███████████████████████████████▉| 614 kB 8.1 MB/s eta 0:00:01\r\u001b[K     |████████████████████████████████| 616 kB 8.1 MB/s \n",
            "\u001b[K     |████████████████████████████████| 87 kB 9.7 MB/s \n",
            "\u001b[K     |████████████████████████████████| 596 kB 62.1 MB/s \n",
            "\u001b[K     |████████████████████████████████| 1.2 MB 87.3 MB/s \n",
            "\u001b[K     |████████████████████████████████| 234 kB 81.6 MB/s \n",
            "\u001b[K     |████████████████████████████████| 77 kB 7.8 MB/s \n",
            "\u001b[K     |████████████████████████████████| 6.4 MB 64.6 MB/s \n",
            "\u001b[K     |████████████████████████████████| 840 kB 90.1 MB/s \n",
            "\u001b[K     |████████████████████████████████| 3.4 MB 76.5 MB/s \n",
            "\u001b[K     |████████████████████████████████| 120 kB 56.8 MB/s \n",
            "\u001b[K     |████████████████████████████████| 1.1 MB 87.1 MB/s \n",
            "\u001b[K     |████████████████████████████████| 1.1 MB 84.4 MB/s \n",
            "\u001b[K     |████████████████████████████████| 25.3 MB 87.2 MB/s \n",
            "\u001b[K     |████████████████████████████████| 352 kB 90.8 MB/s \n",
            "\u001b[K     |████████████████████████████████| 99 kB 12.6 MB/s \n",
            "\u001b[K     |████████████████████████████████| 47.7 MB 116 kB/s \n",
            "\u001b[K     |████████████████████████████████| 462 kB 83.1 MB/s \n",
            "\u001b[K     |████████████████████████████████| 211 kB 100.4 MB/s \n",
            "\u001b[?25h  Building wheel for fire (setup.py) ... \u001b[?25l\u001b[?25hdone\n",
            "  Building wheel for py-cpuinfo (setup.py) ... \u001b[?25l\u001b[?25hdone\n"
          ]
        }
      ],
      "source": [
        "!pip install -q tflite-model-maker\n",
        "!pip install -q pycocotools\n",
        "\n"
      ],
      "id": "6f5a7a6b"
    },
    {
      "cell_type": "code",
      "execution_count": 5,
      "metadata": {
        "id": "5b521f21"
      },
      "outputs": [],
      "source": [
        "import numpy as np\n",
        "import os\n",
        "\n",
        "from tflite_model_maker.config import ExportFormat\n",
        "from tflite_model_maker import model_spec\n",
        "from tflite_model_maker import object_detector\n",
        "import time\n",
        "\n",
        "import tensorflow as tf\n",
        "assert tf.__version__.startswith('2')\n",
        "\n",
        "tf.get_logger().setLevel('ERROR')\n",
        "from absl import logging\n",
        "logging.set_verbosity(logging.ERROR)\n",
        "from tensorflow import keras"
      ],
      "id": "5b521f21"
    },
    {
      "cell_type": "code",
      "execution_count": 6,
      "metadata": {
        "id": "XUlsc1tEd6XH"
      },
      "outputs": [],
      "source": [
        "train_image_dir = '/content/final_currency_dataset/train images'\n",
        "train_annotation_dir = '/content/final_currency_dataset/train anotation'\n",
        "validate_image_dir = '/content/final_currency_dataset/validate Images'\n",
        "validate_anaotation_dir = '/content/final_currency_dataset/validate anotation '\n",
        "test_image_dir = '/content/final_currency_dataset/test image'\n",
        "test_anotation_dir = '/content/final_currency_dataset/test anotation'"
      ],
      "id": "XUlsc1tEd6XH"
    },
    {
      "cell_type": "code",
      "execution_count": 7,
      "metadata": {
        "id": "Vx26vmSMc8AD"
      },
      "outputs": [],
      "source": [
        "train_dir = object_detector.DataLoader.from_pascal_voc(train_image_dir, train_annotation_dir, label_map={1:\"10\", 2: \"20\",3:\"50\",4:\"100\",5:\"200\",6:\"500\",7:\"2000\"})"
      ],
      "id": "Vx26vmSMc8AD"
    },
    {
      "cell_type": "code",
      "execution_count": 8,
      "metadata": {
        "id": "E1OSKKoeqlrU"
      },
      "outputs": [],
      "source": [
        "validate_dir = object_detector.DataLoader.from_pascal_voc(validate_image_dir, validate_anaotation_dir, label_map={1:\"10\", 2:\"20\",3:\"50\",4:\"100\",5:\"200\",6:\"500\",7:\"2000\"})"
      ],
      "id": "E1OSKKoeqlrU"
    },
    {
      "cell_type": "code",
      "source": [
        "test_dir = object_detector.DataLoader.from_pascal_voc(test_image_dir, test_anotation_dir, label_map={1:\"10\", 2:\"20\",3:\"50\",4:\"100\",5:\"200\",6:\"500\",7:\"2000\"})"
      ],
      "metadata": {
        "id": "1Ube9Unpx4_x"
      },
      "id": "1Ube9Unpx4_x",
      "execution_count": 9,
      "outputs": []
    },
    {
      "cell_type": "code",
      "source": [
        "print(len(train_dir))\n",
        "print(len(validate_dir))\n",
        "print(len(test_dir))"
      ],
      "metadata": {
        "colab": {
          "base_uri": "https://localhost:8080/"
        },
        "id": "kaE2UvhpcvVu",
        "outputId": "fa1ea617-d1cd-4d65-fdb3-aa7131864f9b"
      },
      "id": "kaE2UvhpcvVu",
      "execution_count": 10,
      "outputs": [
        {
          "output_type": "stream",
          "name": "stdout",
          "text": [
            "2383\n",
            "671\n",
            "345\n"
          ]
        }
      ]
    },
    {
      "cell_type": "code",
      "execution_count": 11,
      "metadata": {
        "id": "IaknFpWYe-wq"
      },
      "outputs": [],
      "source": [
        "spec = model_spec.get('efficientdet_lite3')"
      ],
      "id": "IaknFpWYe-wq"
    },
    {
      "cell_type": "code",
      "execution_count": 12,
      "metadata": {
        "colab": {
          "base_uri": "https://localhost:8080/"
        },
        "id": "Op_27CahFyC_",
        "outputId": "cc4404cd-177a-436d-89ca-a7ba3aa4ae7b"
      },
      "outputs": [
        {
          "output_type": "stream",
          "name": "stdout",
          "text": [
            "Epoch 1/30\n",
            "397/397 [==============================] - 250s 500ms/step - det_loss: 0.9517 - cls_loss: 0.7482 - box_loss: 0.0041 - reg_l2_loss: 0.0938 - loss: 1.0454 - learning_rate: 0.0078 - gradient_norm: 3.6133 - val_det_loss: 0.5846 - val_cls_loss: 0.5344 - val_box_loss: 0.0010 - val_reg_l2_loss: 0.0941 - val_loss: 0.6787\n",
            "Epoch 2/30\n",
            "397/397 [==============================] - 196s 495ms/step - det_loss: 0.6191 - cls_loss: 0.5089 - box_loss: 0.0022 - reg_l2_loss: 0.0944 - loss: 0.7135 - learning_rate: 0.0074 - gradient_norm: 3.6802 - val_det_loss: 0.4650 - val_cls_loss: 0.4218 - val_box_loss: 8.6286e-04 - val_reg_l2_loss: 0.0946 - val_loss: 0.5596\n",
            "Epoch 3/30\n",
            "397/397 [==============================] - 196s 493ms/step - det_loss: 0.5530 - cls_loss: 0.4660 - box_loss: 0.0017 - reg_l2_loss: 0.0948 - loss: 0.6478 - learning_rate: 0.0074 - gradient_norm: 3.0108 - val_det_loss: 0.4078 - val_cls_loss: 0.3652 - val_box_loss: 8.5301e-04 - val_reg_l2_loss: 0.0949 - val_loss: 0.5027\n",
            "Epoch 4/30\n",
            "397/397 [==============================] - 196s 493ms/step - det_loss: 0.5189 - cls_loss: 0.4392 - box_loss: 0.0016 - reg_l2_loss: 0.0950 - loss: 0.6139 - learning_rate: 0.0072 - gradient_norm: 2.9706 - val_det_loss: 0.4178 - val_cls_loss: 0.3724 - val_box_loss: 9.0796e-04 - val_reg_l2_loss: 0.0951 - val_loss: 0.5129\n",
            "Epoch 5/30\n",
            "397/397 [==============================] - 222s 559ms/step - det_loss: 0.4827 - cls_loss: 0.4089 - box_loss: 0.0015 - reg_l2_loss: 0.0952 - loss: 0.5779 - learning_rate: 0.0071 - gradient_norm: 2.9730 - val_det_loss: 0.3915 - val_cls_loss: 0.3666 - val_box_loss: 4.9820e-04 - val_reg_l2_loss: 0.0953 - val_loss: 0.4868\n",
            "Epoch 6/30\n",
            "397/397 [==============================] - 196s 493ms/step - det_loss: 0.4495 - cls_loss: 0.3815 - box_loss: 0.0014 - reg_l2_loss: 0.0954 - loss: 0.5449 - learning_rate: 0.0069 - gradient_norm: 3.1029 - val_det_loss: 0.3235 - val_cls_loss: 0.3010 - val_box_loss: 4.5049e-04 - val_reg_l2_loss: 0.0955 - val_loss: 0.4190\n",
            "Epoch 7/30\n",
            "397/397 [==============================] - 196s 494ms/step - det_loss: 0.4260 - cls_loss: 0.3583 - box_loss: 0.0014 - reg_l2_loss: 0.0957 - loss: 0.5217 - learning_rate: 0.0066 - gradient_norm: 3.2961 - val_det_loss: 0.2349 - val_cls_loss: 0.2191 - val_box_loss: 3.1566e-04 - val_reg_l2_loss: 0.0958 - val_loss: 0.3307\n",
            "Epoch 8/30\n",
            "397/397 [==============================] - 196s 494ms/step - det_loss: 0.4026 - cls_loss: 0.3376 - box_loss: 0.0013 - reg_l2_loss: 0.0959 - loss: 0.4984 - learning_rate: 0.0063 - gradient_norm: 3.4543 - val_det_loss: 0.3438 - val_cls_loss: 0.2846 - val_box_loss: 0.0012 - val_reg_l2_loss: 0.0960 - val_loss: 0.4398\n",
            "Epoch 9/30\n",
            "397/397 [==============================] - 196s 495ms/step - det_loss: 0.3738 - cls_loss: 0.3134 - box_loss: 0.0012 - reg_l2_loss: 0.0961 - loss: 0.4700 - learning_rate: 0.0060 - gradient_norm: 3.4349 - val_det_loss: 0.2655 - val_cls_loss: 0.2348 - val_box_loss: 6.1345e-04 - val_reg_l2_loss: 0.0962 - val_loss: 0.3617\n",
            "Epoch 10/30\n",
            "397/397 [==============================] - 216s 544ms/step - det_loss: 0.3555 - cls_loss: 0.2963 - box_loss: 0.0012 - reg_l2_loss: 0.0963 - loss: 0.4518 - learning_rate: 0.0057 - gradient_norm: 3.5859 - val_det_loss: 0.2301 - val_cls_loss: 0.2127 - val_box_loss: 3.4697e-04 - val_reg_l2_loss: 0.0964 - val_loss: 0.3265\n",
            "Epoch 11/30\n",
            "397/397 [==============================] - 196s 494ms/step - det_loss: 0.3341 - cls_loss: 0.2773 - box_loss: 0.0011 - reg_l2_loss: 0.0965 - loss: 0.4306 - learning_rate: 0.0053 - gradient_norm: 3.4868 - val_det_loss: 0.1501 - val_cls_loss: 0.1271 - val_box_loss: 4.5981e-04 - val_reg_l2_loss: 0.0966 - val_loss: 0.2467\n",
            "Epoch 12/30\n",
            "397/397 [==============================] - 196s 494ms/step - det_loss: 0.3168 - cls_loss: 0.2622 - box_loss: 0.0011 - reg_l2_loss: 0.0967 - loss: 0.4135 - learning_rate: 0.0049 - gradient_norm: 3.5480 - val_det_loss: 0.2316 - val_cls_loss: 0.2139 - val_box_loss: 3.5235e-04 - val_reg_l2_loss: 0.0967 - val_loss: 0.3283\n",
            "Epoch 13/30\n",
            "397/397 [==============================] - 196s 494ms/step - det_loss: 0.2988 - cls_loss: 0.2470 - box_loss: 0.0010 - reg_l2_loss: 0.0968 - loss: 0.3956 - learning_rate: 0.0046 - gradient_norm: 3.6075 - val_det_loss: 0.2819 - val_cls_loss: 0.2450 - val_box_loss: 7.3908e-04 - val_reg_l2_loss: 0.0969 - val_loss: 0.3788\n",
            "Epoch 14/30\n",
            "397/397 [==============================] - 196s 495ms/step - det_loss: 0.2873 - cls_loss: 0.2375 - box_loss: 9.9464e-04 - reg_l2_loss: 0.0969 - loss: 0.3842 - learning_rate: 0.0042 - gradient_norm: 3.7268 - val_det_loss: 0.1394 - val_cls_loss: 0.1252 - val_box_loss: 2.8359e-04 - val_reg_l2_loss: 0.0970 - val_loss: 0.2364\n",
            "Epoch 15/30\n",
            "397/397 [==============================] - 216s 543ms/step - det_loss: 0.2699 - cls_loss: 0.2223 - box_loss: 9.5303e-04 - reg_l2_loss: 0.0970 - loss: 0.3669 - learning_rate: 0.0038 - gradient_norm: 3.6172 - val_det_loss: 0.2130 - val_cls_loss: 0.1926 - val_box_loss: 4.0930e-04 - val_reg_l2_loss: 0.0970 - val_loss: 0.3101\n",
            "Epoch 16/30\n",
            "397/397 [==============================] - 196s 494ms/step - det_loss: 0.2518 - cls_loss: 0.2070 - box_loss: 8.9678e-04 - reg_l2_loss: 0.0971 - loss: 0.3489 - learning_rate: 0.0033 - gradient_norm: 3.4454 - val_det_loss: 0.1184 - val_cls_loss: 0.1009 - val_box_loss: 3.5048e-04 - val_reg_l2_loss: 0.0971 - val_loss: 0.2155\n",
            "Epoch 17/30\n",
            "397/397 [==============================] - 196s 494ms/step - det_loss: 0.2409 - cls_loss: 0.1963 - box_loss: 8.9261e-04 - reg_l2_loss: 0.0971 - loss: 0.3380 - learning_rate: 0.0029 - gradient_norm: 3.4940 - val_det_loss: 0.1441 - val_cls_loss: 0.1131 - val_box_loss: 6.2173e-04 - val_reg_l2_loss: 0.0971 - val_loss: 0.2412\n",
            "Epoch 18/30\n",
            "397/397 [==============================] - 197s 495ms/step - det_loss: 0.2330 - cls_loss: 0.1899 - box_loss: 8.6214e-04 - reg_l2_loss: 0.0971 - loss: 0.3301 - learning_rate: 0.0026 - gradient_norm: 3.6184 - val_det_loss: 0.1290 - val_cls_loss: 0.1080 - val_box_loss: 4.1982e-04 - val_reg_l2_loss: 0.0971 - val_loss: 0.2261\n",
            "Epoch 19/30\n",
            "397/397 [==============================] - 196s 493ms/step - det_loss: 0.2191 - cls_loss: 0.1774 - box_loss: 8.3359e-04 - reg_l2_loss: 0.0971 - loss: 0.3162 - learning_rate: 0.0022 - gradient_norm: 3.3088 - val_det_loss: 0.1096 - val_cls_loss: 0.0916 - val_box_loss: 3.5985e-04 - val_reg_l2_loss: 0.0971 - val_loss: 0.2067\n",
            "Epoch 20/30\n",
            "397/397 [==============================] - 215s 541ms/step - det_loss: 0.2144 - cls_loss: 0.1738 - box_loss: 8.1292e-04 - reg_l2_loss: 0.0971 - loss: 0.3116 - learning_rate: 0.0018 - gradient_norm: 3.5088 - val_det_loss: 0.0987 - val_cls_loss: 0.0837 - val_box_loss: 2.9928e-04 - val_reg_l2_loss: 0.0971 - val_loss: 0.1958\n",
            "Epoch 21/30\n",
            "397/397 [==============================] - 196s 493ms/step - det_loss: 0.2055 - cls_loss: 0.1647 - box_loss: 8.1591e-04 - reg_l2_loss: 0.0971 - loss: 0.3026 - learning_rate: 0.0015 - gradient_norm: 3.1627 - val_det_loss: 0.1053 - val_cls_loss: 0.0899 - val_box_loss: 3.0812e-04 - val_reg_l2_loss: 0.0971 - val_loss: 0.2024\n",
            "Epoch 22/30\n",
            "397/397 [==============================] - 196s 495ms/step - det_loss: 0.2021 - cls_loss: 0.1640 - box_loss: 7.6314e-04 - reg_l2_loss: 0.0971 - loss: 0.2992 - learning_rate: 0.0012 - gradient_norm: 3.2320 - val_det_loss: 0.0962 - val_cls_loss: 0.0830 - val_box_loss: 2.6546e-04 - val_reg_l2_loss: 0.0971 - val_loss: 0.1933\n",
            "Epoch 23/30\n",
            "397/397 [==============================] - 196s 494ms/step - det_loss: 0.1846 - cls_loss: 0.1486 - box_loss: 7.2151e-04 - reg_l2_loss: 0.0971 - loss: 0.2817 - learning_rate: 8.9330e-04 - gradient_norm: 3.1580 - val_det_loss: 0.0923 - val_cls_loss: 0.0785 - val_box_loss: 2.7464e-04 - val_reg_l2_loss: 0.0971 - val_loss: 0.1893\n",
            "Epoch 24/30\n",
            "397/397 [==============================] - 196s 494ms/step - det_loss: 0.1870 - cls_loss: 0.1497 - box_loss: 7.4555e-04 - reg_l2_loss: 0.0971 - loss: 0.2840 - learning_rate: 6.4769e-04 - gradient_norm: 3.0837 - val_det_loss: 0.0907 - val_cls_loss: 0.0765 - val_box_loss: 2.8507e-04 - val_reg_l2_loss: 0.0971 - val_loss: 0.1878\n",
            "Epoch 25/30\n",
            "397/397 [==============================] - 215s 541ms/step - det_loss: 0.1794 - cls_loss: 0.1426 - box_loss: 7.3640e-04 - reg_l2_loss: 0.0971 - loss: 0.2764 - learning_rate: 4.3846e-04 - gradient_norm: 3.0293 - val_det_loss: 0.0831 - val_cls_loss: 0.0714 - val_box_loss: 2.3425e-04 - val_reg_l2_loss: 0.0970 - val_loss: 0.1801\n",
            "Epoch 26/30\n",
            "397/397 [==============================] - 196s 494ms/step - det_loss: 0.1787 - cls_loss: 0.1419 - box_loss: 7.3556e-04 - reg_l2_loss: 0.0970 - loss: 0.2757 - learning_rate: 2.6805e-04 - gradient_norm: 3.0763 - val_det_loss: 0.0828 - val_cls_loss: 0.0713 - val_box_loss: 2.3010e-04 - val_reg_l2_loss: 0.0970 - val_loss: 0.1798\n",
            "Epoch 27/30\n",
            "397/397 [==============================] - 197s 495ms/step - det_loss: 0.1773 - cls_loss: 0.1399 - box_loss: 7.4725e-04 - reg_l2_loss: 0.0970 - loss: 0.2743 - learning_rate: 1.3846e-04 - gradient_norm: 3.0775 - val_det_loss: 0.0846 - val_cls_loss: 0.0725 - val_box_loss: 2.4224e-04 - val_reg_l2_loss: 0.0970 - val_loss: 0.1817\n",
            "Epoch 28/30\n",
            "397/397 [==============================] - 196s 494ms/step - det_loss: 0.1722 - cls_loss: 0.1362 - box_loss: 7.2006e-04 - reg_l2_loss: 0.0970 - loss: 0.2692 - learning_rate: 5.1219e-05 - gradient_norm: 2.8837 - val_det_loss: 0.0831 - val_cls_loss: 0.0714 - val_box_loss: 2.3344e-04 - val_reg_l2_loss: 0.0970 - val_loss: 0.1801\n",
            "Epoch 29/30\n",
            "397/397 [==============================] - 196s 495ms/step - det_loss: 0.1749 - cls_loss: 0.1391 - box_loss: 7.1611e-04 - reg_l2_loss: 0.0970 - loss: 0.2719 - learning_rate: 7.3396e-06 - gradient_norm: 3.1332 - val_det_loss: 0.0838 - val_cls_loss: 0.0717 - val_box_loss: 2.4149e-04 - val_reg_l2_loss: 0.0970 - val_loss: 0.1808\n",
            "Epoch 30/30\n",
            "397/397 [==============================] - 215s 542ms/step - det_loss: 0.1774 - cls_loss: 0.1414 - box_loss: 7.2168e-04 - reg_l2_loss: 0.0970 - loss: 0.2745 - learning_rate: 7.3394e-06 - gradient_norm: 2.9939 - val_det_loss: 0.0844 - val_cls_loss: 0.0723 - val_box_loss: 2.4282e-04 - val_reg_l2_loss: 0.0970 - val_loss: 0.1815\n"
          ]
        }
      ],
      "source": [
        "start = time.time()\n",
        "model = object_detector.create(train_dir, \n",
        "                               model_spec=spec, \n",
        "                               epochs=30, \n",
        "                               batch_size=6, \n",
        "                               train_whole_model=True, \n",
        "                               validation_data=validate_dir)\n",
        "end = time.time()"
      ],
      "id": "Op_27CahFyC_"
    },
    {
      "cell_type": "code",
      "source": [
        "print(\"The time of execution of training is :\", end-start)"
      ],
      "metadata": {
        "colab": {
          "base_uri": "https://localhost:8080/"
        },
        "id": "Ft9_WYGBo2K6",
        "outputId": "eafbbf2c-9e8a-4be5-b03c-78cd881099ae"
      },
      "id": "Ft9_WYGBo2K6",
      "execution_count": 13,
      "outputs": [
        {
          "output_type": "stream",
          "name": "stdout",
          "text": [
            "The time of execution of training is : 6080.623876571655\n"
          ]
        }
      ]
    },
    {
      "cell_type": "code",
      "source": [
        "start = time.time()\n",
        "ap = model.evaluate(test_dir,batch_size=5)\n",
        "print(ap)\n",
        "end = time.time()\n"
      ],
      "metadata": {
        "colab": {
          "base_uri": "https://localhost:8080/"
        },
        "id": "LtKo54b0msK4",
        "outputId": "b8f2351c-b611-4330-e7b9-c1a4a6425080"
      },
      "id": "LtKo54b0msK4",
      "execution_count": 14,
      "outputs": [
        {
          "output_type": "stream",
          "name": "stdout",
          "text": [
            "69/69 [==============================] - 11s 103ms/step\n",
            "\n",
            "{'AP': 0.831334, 'AP50': 0.9298945, 'AP75': 0.8881959, 'APs': -1.0, 'APm': 0.54478085, 'APl': 0.8472001, 'ARmax1': 0.7592451, 'ARmax10': 0.8764373, 'ARmax100': 0.8826016, 'ARs': -1.0, 'ARm': 0.6547619, 'ARl': 0.8955642, 'AP_/10': 0.7960171, 'AP_/20': 0.8460947, 'AP_/50': 0.8361172, 'AP_/100': 0.9368319, 'AP_/200': 0.8680846, 'AP_/500': 0.81500536, 'AP_/2000': 0.72118694}\n"
          ]
        }
      ]
    },
    {
      "cell_type": "code",
      "source": [
        "print(\"The time of execution of evaluation is  :\", end-start)"
      ],
      "metadata": {
        "colab": {
          "base_uri": "https://localhost:8080/"
        },
        "id": "tKCL9HdMo3ug",
        "outputId": "da372e3a-fd88-46c3-a589-80e0a275d1e2"
      },
      "id": "tKCL9HdMo3ug",
      "execution_count": 15,
      "outputs": [
        {
          "output_type": "stream",
          "name": "stdout",
          "text": [
            "The time of execution of evaluation is  : 14.847809076309204\n"
          ]
        }
      ]
    },
    {
      "cell_type": "code",
      "execution_count": null,
      "metadata": {
        "id": "OyAxn7grfCkW"
      },
      "outputs": [],
      "source": [
        "#model = object_detector.create(train_dir, model_spec=spec, epochs=30, batch_size=8, train_whole_model=True)"
      ],
      "id": "OyAxn7grfCkW"
    },
    {
      "cell_type": "code",
      "execution_count": 16,
      "metadata": {
        "id": "iuhu3CyHrVJf"
      },
      "outputs": [],
      "source": [
        "model.export(export_dir='/content/')"
      ],
      "id": "iuhu3CyHrVJf"
    }
  ],
  "metadata": {
    "accelerator": "GPU",
    "colab": {
      "collapsed_sections": [],
      "machine_shape": "hm",
      "name": "10_20_50 model.ipynb",
      "provenance": []
    },
    "kernelspec": {
      "display_name": "Python 3",
      "language": "python",
      "name": "python3"
    },
    "language_info": {
      "codemirror_mode": {
        "name": "ipython",
        "version": 3
      },
      "file_extension": ".py",
      "mimetype": "text/x-python",
      "name": "python",
      "nbconvert_exporter": "python",
      "pygments_lexer": "ipython3",
      "version": "3.9.5"
    }
  },
  "nbformat": 4,
  "nbformat_minor": 5
}