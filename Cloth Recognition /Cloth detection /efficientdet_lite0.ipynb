{
  "cells": [
    {
      "cell_type": "markdown",
      "source": [
        "## Loading dataset "
      ],
      "metadata": {
        "id": "5tVI7uB_9Hez"
      }
    },
    {
      "cell_type": "code",
      "execution_count": 2,
      "metadata": {
        "id": "1LYZMlueITZL"
      },
      "outputs": [],
      "source": [
        "import os \n",
        "os.environ['KAGGLE_CONFIG_DIR'] = '/content/'"
      ]
    },
    {
      "cell_type": "markdown",
      "source": [
        ""
      ],
      "metadata": {
        "id": "KQJprHFL9K0S"
      }
    },
    {
      "cell_type": "code",
      "execution_count": 3,
      "metadata": {
        "colab": {
          "base_uri": "https://localhost:8080/"
        },
        "id": "7HJFATrIId7P",
        "outputId": "af301586-d788-44d2-e925-7c4b17625965"
      },
      "outputs": [
        {
          "output_type": "stream",
          "name": "stdout",
          "text": [
            "Warning: Your Kaggle API key is readable by other users on this system! To fix this, you can run 'chmod 600 /content/kaggle.json'\n",
            "Downloading fashion.zip to /content\n",
            " 93% 178M/191M [00:00<00:00, 198MB/s]\n",
            "100% 191M/191M [00:01<00:00, 197MB/s]\n"
          ]
        }
      ],
      "source": [
        "! kaggle datasets download -d rahilmehtaucoe2784/fashion"
      ]
    },
    {
      "cell_type": "code",
      "execution_count": 4,
      "metadata": {
        "id": "1J2KVGkRIkan"
      },
      "outputs": [],
      "source": [
        "%%capture\n",
        "!unzip \\*.zip && rm *.zip &> /dev/null"
      ]
    },
    {
      "cell_type": "markdown",
      "source": [
        "## installing and importing Libraries "
      ],
      "metadata": {
        "id": "S4A81jNW9Mq7"
      }
    },
    {
      "cell_type": "code",
      "execution_count": 5,
      "metadata": {
        "colab": {
          "base_uri": "https://localhost:8080/"
        },
        "id": "LBPX2I6f8VbH",
        "outputId": "3b7ece0a-c588-4244-93d9-833487d9cac6"
      },
      "outputs": [
        {
          "output_type": "stream",
          "name": "stdout",
          "text": [
            "\u001b[K     |████████████████████████████████| 616 kB 14.1 MB/s \n",
            "\u001b[K     |████████████████████████████████| 1.2 MB 92.8 MB/s \n",
            "\u001b[K     |████████████████████████████████| 1.1 MB 79.7 MB/s \n",
            "\u001b[K     |████████████████████████████████| 120 kB 91.7 MB/s \n",
            "\u001b[K     |████████████████████████████████| 596 kB 82.9 MB/s \n",
            "\u001b[K     |████████████████████████████████| 6.4 MB 60.5 MB/s \n",
            "\u001b[K     |████████████████████████████████| 840 kB 77.4 MB/s \n",
            "\u001b[K     |████████████████████████████████| 87 kB 8.5 MB/s \n",
            "\u001b[K     |████████████████████████████████| 3.4 MB 74.4 MB/s \n",
            "\u001b[K     |████████████████████████████████| 1.1 MB 70.2 MB/s \n",
            "\u001b[K     |████████████████████████████████| 234 kB 69.1 MB/s \n",
            "\u001b[K     |████████████████████████████████| 77 kB 7.1 MB/s \n",
            "\u001b[K     |████████████████████████████████| 25.3 MB 1.2 MB/s \n",
            "\u001b[K     |████████████████████████████████| 352 kB 92.9 MB/s \n",
            "\u001b[K     |████████████████████████████████| 99 kB 13.5 MB/s \n",
            "\u001b[K     |████████████████████████████████| 47.7 MB 1.2 MB/s \n",
            "\u001b[K     |████████████████████████████████| 462 kB 88.2 MB/s \n",
            "\u001b[K     |████████████████████████████████| 211 kB 91.5 MB/s \n",
            "\u001b[?25h  Building wheel for fire (setup.py) ... \u001b[?25l\u001b[?25hdone\n",
            "  Building wheel for py-cpuinfo (setup.py) ... \u001b[?25l\u001b[?25hdone\n"
          ]
        }
      ],
      "source": [
        "!pip install -q tflite-model-maker\n",
        "!pip install -q pycocotools"
      ]
    },
    {
      "cell_type": "code",
      "execution_count": 6,
      "metadata": {
        "id": "06DKhsLi45v2"
      },
      "outputs": [],
      "source": [
        "import numpy as np\n",
        "import os\n",
        "\n",
        "#from tflite_model_maker.config import ExportFormat\n",
        "from tflite_model_maker import model_spec\n",
        "from tflite_model_maker import object_detector\n",
        "\n",
        "import tensorflow as tf\n",
        "assert tf.__version__.startswith('2')\n",
        "\n",
        "tf.get_logger().setLevel('ERROR')\n",
        "from absl import logging\n",
        "logging.set_verbosity(logging.ERROR)\n",
        "from tensorflow import keras"
      ]
    },
    {
      "cell_type": "code",
      "source": [
        ""
      ],
      "metadata": {
        "id": "ytwmMNWR9RNv"
      },
      "execution_count": null,
      "outputs": []
    },
    {
      "cell_type": "markdown",
      "source": [
        "## Training "
      ],
      "metadata": {
        "id": "yrtPmpQ49RlQ"
      }
    },
    {
      "cell_type": "code",
      "execution_count": 7,
      "metadata": {
        "id": "8m1Ma4LB48TK"
      },
      "outputs": [],
      "source": [
        "train_image_dir = '/content/Final Img copy 2/train'\n",
        "train_annotation_dir = '/content/Final Img copy 2/train anotation'\n",
        "validate_image_dir = '/content/Final Img copy 2/valid'\n",
        "validate_anaotation_dir = '/content/Final Img copy 2/valid anotation '"
      ]
    },
    {
      "cell_type": "code",
      "execution_count": 8,
      "metadata": {
        "id": "fNHc_8UJ4-v_"
      },
      "outputs": [],
      "source": [
        "\n",
        "spec = model_spec.get('efficientdet_lite0')"
      ]
    },
    {
      "cell_type": "code",
      "execution_count": 9,
      "metadata": {
        "id": "0CvbWzBl5BR_"
      },
      "outputs": [],
      "source": [
        "train_dir = object_detector.DataLoader.from_pascal_voc(train_image_dir, train_annotation_dir, label_map={1:\"Design Kurta\", 2: \"Plain kurta\", 3: \"Casual Shirt\", 4:\"Formal Shirt\", 5: \"Desgin sherwani\", 6:\"Plain sherwani\", 7:\"tshirt\"})"
      ]
    },
    {
      "cell_type": "code",
      "execution_count": 10,
      "metadata": {
        "id": "qc-JL6j45EwG"
      },
      "outputs": [],
      "source": [
        "validate_dir = object_detector.DataLoader.from_pascal_voc(validate_image_dir, validate_anaotation_dir, label_map={1:\"Design Kurta\", 2: \"Plain kurta\", 3: \"Casual Shirt\", 4:\"Formal Shirt\", 5: \"Desgin sherwani\", 6:\"Plain sherwani\",7:\"tshirt\"})"
      ]
    },
    {
      "cell_type": "code",
      "execution_count": 11,
      "metadata": {
        "colab": {
          "base_uri": "https://localhost:8080/"
        },
        "id": "GhOnS5GA5G_3",
        "outputId": "617b773f-6c34-4c00-9277-e01029abcd0e"
      },
      "outputs": [
        {
          "output_type": "stream",
          "name": "stdout",
          "text": [
            "Epoch 1/10\n",
            "176/176 [==============================] - 76s 211ms/step - det_loss: 1.2365 - cls_loss: 0.9246 - box_loss: 0.0062 - reg_l2_loss: 0.0640 - loss: 1.3005 - learning_rate: 0.0071 - gradient_norm: 2.7314 - val_det_loss: 0.8084 - val_cls_loss: 0.7132 - val_box_loss: 0.0019 - val_reg_l2_loss: 0.0640 - val_loss: 0.8725\n",
            "Epoch 2/10\n",
            "176/176 [==============================] - 35s 200ms/step - det_loss: 0.7071 - cls_loss: 0.5923 - box_loss: 0.0023 - reg_l2_loss: 0.0641 - loss: 0.7712 - learning_rate: 0.0058 - gradient_norm: 3.0898 - val_det_loss: 0.6401 - val_cls_loss: 0.5414 - val_box_loss: 0.0020 - val_reg_l2_loss: 0.0641 - val_loss: 0.7043\n",
            "Epoch 3/10\n",
            "176/176 [==============================] - 36s 202ms/step - det_loss: 0.5767 - cls_loss: 0.4905 - box_loss: 0.0017 - reg_l2_loss: 0.0642 - loss: 0.6409 - learning_rate: 0.0051 - gradient_norm: 2.9896 - val_det_loss: 0.5626 - val_cls_loss: 0.5366 - val_box_loss: 5.1992e-04 - val_reg_l2_loss: 0.0642 - val_loss: 0.6268\n",
            "Epoch 4/10\n",
            "176/176 [==============================] - 36s 202ms/step - det_loss: 0.5183 - cls_loss: 0.4453 - box_loss: 0.0015 - reg_l2_loss: 0.0642 - loss: 0.5826 - learning_rate: 0.0042 - gradient_norm: 2.9471 - val_det_loss: 0.5407 - val_cls_loss: 0.5091 - val_box_loss: 6.3197e-04 - val_reg_l2_loss: 0.0643 - val_loss: 0.6049\n",
            "Epoch 5/10\n",
            "176/176 [==============================] - 48s 271ms/step - det_loss: 0.4699 - cls_loss: 0.4113 - box_loss: 0.0012 - reg_l2_loss: 0.0643 - loss: 0.5342 - learning_rate: 0.0031 - gradient_norm: 2.8283 - val_det_loss: 0.4481 - val_cls_loss: 0.4284 - val_box_loss: 3.9438e-04 - val_reg_l2_loss: 0.0643 - val_loss: 0.5124\n",
            "Epoch 6/10\n",
            "176/176 [==============================] - 36s 202ms/step - det_loss: 0.4438 - cls_loss: 0.3941 - box_loss: 9.9361e-04 - reg_l2_loss: 0.0643 - loss: 0.5081 - learning_rate: 0.0021 - gradient_norm: 2.8110 - val_det_loss: 0.4554 - val_cls_loss: 0.4380 - val_box_loss: 3.4769e-04 - val_reg_l2_loss: 0.0643 - val_loss: 0.5197\n",
            "Epoch 7/10\n",
            "176/176 [==============================] - 35s 200ms/step - det_loss: 0.4207 - cls_loss: 0.3747 - box_loss: 9.2124e-04 - reg_l2_loss: 0.0643 - loss: 0.4850 - learning_rate: 0.0011 - gradient_norm: 2.8474 - val_det_loss: 0.4150 - val_cls_loss: 0.4013 - val_box_loss: 2.7269e-04 - val_reg_l2_loss: 0.0643 - val_loss: 0.4792\n",
            "Epoch 8/10\n",
            "176/176 [==============================] - 35s 200ms/step - det_loss: 0.4061 - cls_loss: 0.3636 - box_loss: 8.5078e-04 - reg_l2_loss: 0.0643 - loss: 0.4704 - learning_rate: 4.3256e-04 - gradient_norm: 2.7493 - val_det_loss: 0.4061 - val_cls_loss: 0.3913 - val_box_loss: 2.9493e-04 - val_reg_l2_loss: 0.0643 - val_loss: 0.4704\n",
            "Epoch 9/10\n",
            "176/176 [==============================] - 36s 203ms/step - det_loss: 0.4005 - cls_loss: 0.3582 - box_loss: 8.4552e-04 - reg_l2_loss: 0.0643 - loss: 0.4648 - learning_rate: 6.3253e-05 - gradient_norm: 2.7496 - val_det_loss: 0.4070 - val_cls_loss: 0.3927 - val_box_loss: 2.8582e-04 - val_reg_l2_loss: 0.0643 - val_loss: 0.4713\n",
            "Epoch 10/10\n",
            "176/176 [==============================] - 44s 250ms/step - det_loss: 0.3991 - cls_loss: 0.3551 - box_loss: 8.7954e-04 - reg_l2_loss: 0.0643 - loss: 0.4633 - learning_rate: 6.3242e-05 - gradient_norm: 2.6401 - val_det_loss: 0.4042 - val_cls_loss: 0.3896 - val_box_loss: 2.9178e-04 - val_reg_l2_loss: 0.0643 - val_loss: 0.4684\n"
          ]
        }
      ],
      "source": [
        "model = object_detector.create(train_dir, \n",
        "                               model_spec=spec, \n",
        "                               epochs=10, \n",
        "                               batch_size=5, \n",
        "                               train_whole_model=True, \n",
        "                               validation_data=validate_dir\n",
        "                               )"
      ]
    },
    {
      "cell_type": "code",
      "source": [
        ""
      ],
      "metadata": {
        "id": "F6Nv-kXT9Wlh"
      },
      "execution_count": null,
      "outputs": []
    },
    {
      "cell_type": "markdown",
      "source": [
        "## Evaluating the model "
      ],
      "metadata": {
        "id": "i8r0YAIo9tLD"
      }
    },
    {
      "cell_type": "code",
      "source": [
        "model.evaluate(validate_dir,batch_size=5)"
      ],
      "metadata": {
        "id": "34FvBP799vWm",
        "outputId": "a2d8b89c-5520-41b3-ba81-853c335ae44b",
        "colab": {
          "base_uri": "https://localhost:8080/"
        }
      },
      "execution_count": 12,
      "outputs": [
        {
          "output_type": "stream",
          "name": "stdout",
          "text": [
            "49/49 [==============================] - 12s 178ms/step\n",
            "\n"
          ]
        },
        {
          "output_type": "execute_result",
          "data": {
            "text/plain": [
              "{'AP': 0.4827312,\n",
              " 'AP50': 0.5793742,\n",
              " 'AP75': 0.5633904,\n",
              " 'AP_/Casual Shirt': 0.41627264,\n",
              " 'AP_/Desgin sherwani': 0.61951107,\n",
              " 'AP_/Design Kurta': 0.21998873,\n",
              " 'AP_/Formal Shirt': 0.43771073,\n",
              " 'AP_/Plain kurta': 0.24873042,\n",
              " 'AP_/Plain sherwani': 0.61818707,\n",
              " 'AP_/tshirt': 0.8187177,\n",
              " 'APl': 0.48275006,\n",
              " 'APm': -1.0,\n",
              " 'APs': -1.0,\n",
              " 'ARl': 0.87229556,\n",
              " 'ARm': -1.0,\n",
              " 'ARmax1': 0.8382318,\n",
              " 'ARmax10': 0.87229556,\n",
              " 'ARmax100': 0.87229556,\n",
              " 'ARs': -1.0}"
            ]
          },
          "metadata": {},
          "execution_count": 12
        }
      ]
    },
    {
      "cell_type": "markdown",
      "source": [
        "## Saving Model "
      ],
      "metadata": {
        "id": "hSYSNYGI9XQd"
      }
    },
    {
      "cell_type": "code",
      "execution_count": 14,
      "metadata": {
        "id": "AJ9oA6_ALDeS"
      },
      "outputs": [],
      "source": [
        "model.export(export_dir='/content/')"
      ]
    }
  ],
  "metadata": {
    "accelerator": "GPU",
    "colab": {
      "collapsed_sections": [],
      "machine_shape": "hm",
      "name": "fashion dataset.ipynb",
      "provenance": []
    },
    "kernelspec": {
      "display_name": "Python 3",
      "name": "python3"
    },
    "language_info": {
      "name": "python"
    }
  },
  "nbformat": 4,
  "nbformat_minor": 0
}