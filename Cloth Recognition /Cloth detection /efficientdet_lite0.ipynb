{
  "cells": [
    {
      "cell_type": "markdown",
      "source": [
        "## Loading dataset "
      ],
      "metadata": {
        "id": "5tVI7uB_9Hez"
      }
    },
    {
      "cell_type": "code",
      "execution_count": 3,
      "metadata": {
        "id": "1LYZMlueITZL"
      },
      "outputs": [],
      "source": [
        "import os \n",
        "os.environ['KAGGLE_CONFIG_DIR'] = '/content/'"
      ]
    },
    {
      "cell_type": "markdown",
      "source": [
        ""
      ],
      "metadata": {
        "id": "KQJprHFL9K0S"
      }
    },
    {
      "cell_type": "code",
      "execution_count": 4,
      "metadata": {
        "colab": {
          "base_uri": "https://localhost:8080/"
        },
        "id": "7HJFATrIId7P",
        "outputId": "ef9f0306-02f7-4882-cae9-017ab5f5fc0d"
      },
      "outputs": [
        {
          "output_type": "stream",
          "name": "stdout",
          "text": [
            "Warning: Your Kaggle API key is readable by other users on this system! To fix this, you can run 'chmod 600 /content/kaggle.json'\n",
            "Downloading fashion.zip to /content\n",
            "100% 191M/191M [00:01<00:00, 162MB/s]\n",
            "\n"
          ]
        }
      ],
      "source": [
        "! kaggle datasets download -d rahilmehtaucoe2784/fashion"
      ]
    },
    {
      "cell_type": "code",
      "execution_count": 5,
      "metadata": {
        "id": "1J2KVGkRIkan"
      },
      "outputs": [],
      "source": [
        "%%capture\n",
        "!unzip \\*.zip && rm *.zip &> /dev/null"
      ]
    },
    {
      "cell_type": "markdown",
      "source": [
        "## installing and importing Libraries "
      ],
      "metadata": {
        "id": "S4A81jNW9Mq7"
      }
    },
    {
      "cell_type": "code",
      "execution_count": 6,
      "metadata": {
        "colab": {
          "base_uri": "https://localhost:8080/"
        },
        "id": "LBPX2I6f8VbH",
        "outputId": "15563808-1864-4f56-ef2e-c132493cc8a9"
      },
      "outputs": [
        {
          "output_type": "stream",
          "name": "stdout",
          "text": [
            "\u001b[K     |████████████████████████████████| 616 kB 8.1 MB/s \n",
            "\u001b[K     |████████████████████████████████| 1.2 MB 57.6 MB/s \n",
            "\u001b[K     |████████████████████████████████| 1.1 MB 53.9 MB/s \n",
            "\u001b[K     |████████████████████████████████| 120 kB 61.2 MB/s \n",
            "\u001b[K     |████████████████████████████████| 840 kB 38.9 MB/s \n",
            "\u001b[K     |████████████████████████████████| 3.4 MB 57.4 MB/s \n",
            "\u001b[K     |████████████████████████████████| 6.4 MB 53.9 MB/s \n",
            "\u001b[K     |████████████████████████████████| 1.1 MB 52.0 MB/s \n",
            "\u001b[K     |████████████████████████████████| 77 kB 6.1 MB/s \n",
            "\u001b[K     |████████████████████████████████| 596 kB 56.7 MB/s \n",
            "\u001b[K     |████████████████████████████████| 234 kB 54.8 MB/s \n",
            "\u001b[K     |████████████████████████████████| 87 kB 6.9 MB/s \n",
            "\u001b[K     |████████████████████████████████| 25.3 MB 1.4 MB/s \n",
            "\u001b[K     |████████████████████████████████| 99 kB 9.1 MB/s \n",
            "\u001b[K     |████████████████████████████████| 352 kB 46.7 MB/s \n",
            "\u001b[K     |████████████████████████████████| 47.7 MB 1.2 MB/s \n",
            "\u001b[K     |████████████████████████████████| 462 kB 55.6 MB/s \n",
            "\u001b[K     |████████████████████████████████| 211 kB 53.8 MB/s \n",
            "\u001b[?25h  Building wheel for fire (setup.py) ... \u001b[?25l\u001b[?25hdone\n",
            "  Building wheel for py-cpuinfo (setup.py) ... \u001b[?25l\u001b[?25hdone\n"
          ]
        }
      ],
      "source": [
        "!pip install -q tflite-model-maker\n",
        "!pip install -q pycocotools"
      ]
    },
    {
      "cell_type": "code",
      "execution_count": 7,
      "metadata": {
        "id": "06DKhsLi45v2"
      },
      "outputs": [],
      "source": [
        "import numpy as np\n",
        "import os\n",
        "\n",
        "#from tflite_model_maker.config import ExportFormat\n",
        "from tflite_model_maker import model_spec\n",
        "from tflite_model_maker import object_detector\n",
        "\n",
        "import tensorflow as tf\n",
        "assert tf.__version__.startswith('2')\n",
        "\n",
        "tf.get_logger().setLevel('ERROR')\n",
        "from absl import logging\n",
        "logging.set_verbosity(logging.ERROR)\n",
        "from tensorflow import keras"
      ]
    },
    {
      "cell_type": "code",
      "source": [
        ""
      ],
      "metadata": {
        "id": "ytwmMNWR9RNv"
      },
      "execution_count": null,
      "outputs": []
    },
    {
      "cell_type": "markdown",
      "source": [
        "## Training "
      ],
      "metadata": {
        "id": "yrtPmpQ49RlQ"
      }
    },
    {
      "cell_type": "code",
      "execution_count": 8,
      "metadata": {
        "id": "8m1Ma4LB48TK"
      },
      "outputs": [],
      "source": [
        "train_image_dir = '/content/Final Img copy 2/train'\n",
        "train_annotation_dir = '/content/Final Img copy 2/train anotation'\n",
        "validate_image_dir = '/content/Final Img copy 2/valid'\n",
        "validate_anaotation_dir = '/content/Final Img copy 2/valid anotation '"
      ]
    },
    {
      "cell_type": "code",
      "execution_count": 9,
      "metadata": {
        "id": "fNHc_8UJ4-v_"
      },
      "outputs": [],
      "source": [
        "\n",
        "spec = model_spec.get('efficientdet_lite1')"
      ]
    },
    {
      "cell_type": "code",
      "execution_count": 10,
      "metadata": {
        "id": "0CvbWzBl5BR_"
      },
      "outputs": [],
      "source": [
        "train_dir = object_detector.DataLoader.from_pascal_voc(train_image_dir, train_annotation_dir, label_map={1:\"Design Kurta\", 2: \"Plain kurta\", 3: \"Casual Shirt\", 4:\"Formal Shirt\", 5: \"Desgin sherwani\", 6:\"Plain sherwani\", 7:\"tshirt\"})"
      ]
    },
    {
      "cell_type": "code",
      "execution_count": 11,
      "metadata": {
        "id": "qc-JL6j45EwG"
      },
      "outputs": [],
      "source": [
        "validate_dir = object_detector.DataLoader.from_pascal_voc(validate_image_dir, validate_anaotation_dir, label_map={1:\"Design Kurta\", 2: \"Plain kurta\", 3: \"Casual Shirt\", 4:\"Formal Shirt\", 5: \"Desgin sherwani\", 6:\"Plain sherwani\",7:\"tshirt\"})"
      ]
    },
    {
      "cell_type": "code",
      "execution_count": 12,
      "metadata": {
        "colab": {
          "base_uri": "https://localhost:8080/"
        },
        "id": "GhOnS5GA5G_3",
        "outputId": "f92962de-5257-4cf9-cbf3-27cb6922c4ac"
      },
      "outputs": [
        {
          "output_type": "stream",
          "name": "stdout",
          "text": [
            "Epoch 1/10\n",
            "176/176 [==============================] - 115s 347ms/step - det_loss: 1.2121 - cls_loss: 0.9307 - box_loss: 0.0056 - reg_l2_loss: 0.0715 - loss: 1.2837 - learning_rate: 0.0071 - gradient_norm: 3.0839 - val_det_loss: 0.7549 - val_cls_loss: 0.6780 - val_box_loss: 0.0015 - val_reg_l2_loss: 0.0716 - val_loss: 0.8265\n",
            "Epoch 2/10\n",
            "176/176 [==============================] - 58s 332ms/step - det_loss: 0.6801 - cls_loss: 0.5731 - box_loss: 0.0021 - reg_l2_loss: 0.0717 - loss: 0.7519 - learning_rate: 0.0058 - gradient_norm: 3.5092 - val_det_loss: 0.6244 - val_cls_loss: 0.5862 - val_box_loss: 7.6419e-04 - val_reg_l2_loss: 0.0718 - val_loss: 0.6962\n",
            "Epoch 3/10\n",
            "176/176 [==============================] - 58s 331ms/step - det_loss: 0.5328 - cls_loss: 0.4613 - box_loss: 0.0014 - reg_l2_loss: 0.0719 - loss: 0.6046 - learning_rate: 0.0051 - gradient_norm: 3.4071 - val_det_loss: 0.4961 - val_cls_loss: 0.4715 - val_box_loss: 4.9329e-04 - val_reg_l2_loss: 0.0719 - val_loss: 0.5681\n",
            "Epoch 4/10\n",
            "176/176 [==============================] - 58s 329ms/step - det_loss: 0.4593 - cls_loss: 0.4034 - box_loss: 0.0011 - reg_l2_loss: 0.0719 - loss: 0.5312 - learning_rate: 0.0042 - gradient_norm: 3.2063 - val_det_loss: 0.4505 - val_cls_loss: 0.4174 - val_box_loss: 6.6261e-04 - val_reg_l2_loss: 0.0720 - val_loss: 0.5225\n",
            "Epoch 5/10\n",
            "176/176 [==============================] - 75s 429ms/step - det_loss: 0.4325 - cls_loss: 0.3820 - box_loss: 0.0010 - reg_l2_loss: 0.0720 - loss: 0.5045 - learning_rate: 0.0031 - gradient_norm: 3.4673 - val_det_loss: 0.4566 - val_cls_loss: 0.4409 - val_box_loss: 3.1383e-04 - val_reg_l2_loss: 0.0720 - val_loss: 0.5286\n",
            "Epoch 6/10\n",
            "176/176 [==============================] - 59s 333ms/step - det_loss: 0.3969 - cls_loss: 0.3527 - box_loss: 8.8382e-04 - reg_l2_loss: 0.0720 - loss: 0.4689 - learning_rate: 0.0021 - gradient_norm: 3.2312 - val_det_loss: 0.3997 - val_cls_loss: 0.3866 - val_box_loss: 2.6175e-04 - val_reg_l2_loss: 0.0720 - val_loss: 0.4717\n",
            "Epoch 7/10\n",
            "176/176 [==============================] - 58s 330ms/step - det_loss: 0.3734 - cls_loss: 0.3355 - box_loss: 7.5851e-04 - reg_l2_loss: 0.0720 - loss: 0.4454 - learning_rate: 0.0011 - gradient_norm: 3.1245 - val_det_loss: 0.3513 - val_cls_loss: 0.3373 - val_box_loss: 2.8120e-04 - val_reg_l2_loss: 0.0720 - val_loss: 0.4234\n",
            "Epoch 8/10\n",
            "176/176 [==============================] - 57s 327ms/step - det_loss: 0.3572 - cls_loss: 0.3219 - box_loss: 7.0642e-04 - reg_l2_loss: 0.0720 - loss: 0.4293 - learning_rate: 4.3256e-04 - gradient_norm: 3.0087 - val_det_loss: 0.3298 - val_cls_loss: 0.3200 - val_box_loss: 1.9584e-04 - val_reg_l2_loss: 0.0720 - val_loss: 0.4018\n",
            "Epoch 9/10\n",
            "176/176 [==============================] - 58s 330ms/step - det_loss: 0.3499 - cls_loss: 0.3159 - box_loss: 6.7955e-04 - reg_l2_loss: 0.0720 - loss: 0.4219 - learning_rate: 6.3253e-05 - gradient_norm: 2.9896 - val_det_loss: 0.3378 - val_cls_loss: 0.3274 - val_box_loss: 2.0699e-04 - val_reg_l2_loss: 0.0720 - val_loss: 0.4098\n",
            "Epoch 10/10\n",
            "176/176 [==============================] - 70s 398ms/step - det_loss: 0.3565 - cls_loss: 0.3196 - box_loss: 7.3849e-04 - reg_l2_loss: 0.0720 - loss: 0.4286 - learning_rate: 6.3242e-05 - gradient_norm: 3.0341 - val_det_loss: 0.3365 - val_cls_loss: 0.3261 - val_box_loss: 2.0744e-04 - val_reg_l2_loss: 0.0720 - val_loss: 0.4085\n"
          ]
        }
      ],
      "source": [
        "model = object_detector.create(train_dir, \n",
        "                               model_spec=spec, \n",
        "                               epochs=10, \n",
        "                               batch_size=5, \n",
        "                               train_whole_model=True, \n",
        "                               validation_data=validate_dir\n",
        "                               )"
      ]
    },
    {
      "cell_type": "code",
      "source": [
        ""
      ],
      "metadata": {
        "id": "F6Nv-kXT9Wlh"
      },
      "execution_count": null,
      "outputs": []
    },
    {
      "cell_type": "markdown",
      "source": [
        "## Evaluating the model "
      ],
      "metadata": {
        "id": "i8r0YAIo9tLD"
      }
    },
    {
      "cell_type": "code",
      "source": [
        "model.evaluate(validate_dir,batch_size=5)"
      ],
      "metadata": {
        "id": "34FvBP799vWm",
        "outputId": "76c5e22c-9a97-428b-b629-019469adedb9",
        "colab": {
          "base_uri": "https://localhost:8080/"
        }
      },
      "execution_count": 13,
      "outputs": [
        {
          "output_type": "stream",
          "name": "stdout",
          "text": [
            "49/49 [==============================] - 17s 244ms/step\n",
            "\n"
          ]
        },
        {
          "output_type": "execute_result",
          "data": {
            "text/plain": [
              "{'AP': 0.5740849,\n",
              " 'AP50': 0.6696043,\n",
              " 'AP75': 0.6460294,\n",
              " 'AP_/Casual Shirt': 0.49701744,\n",
              " 'AP_/Desgin sherwani': 0.74189126,\n",
              " 'AP_/Design Kurta': 0.43073243,\n",
              " 'AP_/Formal Shirt': 0.6729827,\n",
              " 'AP_/Plain kurta': 0.2559933,\n",
              " 'AP_/Plain sherwani': 0.6243117,\n",
              " 'AP_/tshirt': 0.7956652,\n",
              " 'APl': 0.5741126,\n",
              " 'APm': -1.0,\n",
              " 'APs': -1.0,\n",
              " 'ARl': 0.8674846,\n",
              " 'ARm': -1.0,\n",
              " 'ARmax1': 0.8388121,\n",
              " 'ARmax10': 0.8674846,\n",
              " 'ARmax100': 0.8674846,\n",
              " 'ARs': -1.0}"
            ]
          },
          "metadata": {},
          "execution_count": 13
        }
      ]
    },
    {
      "cell_type": "markdown",
      "source": [
        "## Saving Model "
      ],
      "metadata": {
        "id": "hSYSNYGI9XQd"
      }
    },
    {
      "cell_type": "code",
      "execution_count": 14,
      "metadata": {
        "id": "AJ9oA6_ALDeS"
      },
      "outputs": [],
      "source": [
        "model.export(export_dir='/content/')"
      ]
    }
  ],
  "metadata": {
    "accelerator": "GPU",
    "colab": {
      "collapsed_sections": [],
      "machine_shape": "hm",
      "name": "fashion dataset.ipynb",
      "provenance": []
    },
    "kernelspec": {
      "display_name": "Python 3",
      "name": "python3"
    },
    "language_info": {
      "name": "python"
    }
  },
  "nbformat": 4,
  "nbformat_minor": 0
}