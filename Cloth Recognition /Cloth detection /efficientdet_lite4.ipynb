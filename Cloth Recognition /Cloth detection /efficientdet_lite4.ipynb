{
  "cells": [
    {
      "cell_type": "markdown",
      "source": [
        "## Loading dataset "
      ],
      "metadata": {
        "id": "5tVI7uB_9Hez"
      }
    },
    {
      "cell_type": "code",
      "execution_count": 1,
      "metadata": {
        "id": "1LYZMlueITZL"
      },
      "outputs": [],
      "source": [
        "import os \n",
        "os.environ['KAGGLE_CONFIG_DIR'] = '/content'"
      ]
    },
    {
      "cell_type": "markdown",
      "source": [
        ""
      ],
      "metadata": {
        "id": "KQJprHFL9K0S"
      }
    },
    {
      "cell_type": "code",
      "execution_count": 2,
      "metadata": {
        "colab": {
          "base_uri": "https://localhost:8080/"
        },
        "id": "7HJFATrIId7P",
        "outputId": "1e23a6b4-790f-4c85-c93e-a0db33dbf060"
      },
      "outputs": [
        {
          "output_type": "stream",
          "name": "stdout",
          "text": [
            "Warning: Your Kaggle API key is readable by other users on this system! To fix this, you can run 'chmod 600 /content/kaggle.json'\n",
            "Downloading fashion.zip to /content\n",
            " 97% 185M/191M [00:06<00:00, 24.5MB/s]\n",
            "100% 191M/191M [00:06<00:00, 33.1MB/s]\n"
          ]
        }
      ],
      "source": [
        "! kaggle datasets download -d rahilmehtaucoe2784/fashion"
      ]
    },
    {
      "cell_type": "code",
      "execution_count": 3,
      "metadata": {
        "id": "1J2KVGkRIkan"
      },
      "outputs": [],
      "source": [
        "%%capture\n",
        "!unzip \\*.zip && rm *.zip &> /dev/null"
      ]
    },
    {
      "cell_type": "markdown",
      "source": [
        "## installing and importing Libraries "
      ],
      "metadata": {
        "id": "S4A81jNW9Mq7"
      }
    },
    {
      "cell_type": "code",
      "execution_count": 4,
      "metadata": {
        "colab": {
          "base_uri": "https://localhost:8080/"
        },
        "id": "LBPX2I6f8VbH",
        "outputId": "de159b75-388f-4f12-bc18-c1a0f3e7adf1"
      },
      "outputs": [
        {
          "output_type": "stream",
          "name": "stdout",
          "text": [
            "\u001b[?25l\r\u001b[K     |▌                               | 10 kB 30.2 MB/s eta 0:00:01\r\u001b[K     |█                               | 20 kB 10.3 MB/s eta 0:00:01\r\u001b[K     |█▋                              | 30 kB 8.4 MB/s eta 0:00:01\r\u001b[K     |██▏                             | 40 kB 3.7 MB/s eta 0:00:01\r\u001b[K     |██▋                             | 51 kB 3.7 MB/s eta 0:00:01\r\u001b[K     |███▏                            | 61 kB 4.4 MB/s eta 0:00:01\r\u001b[K     |███▊                            | 71 kB 4.5 MB/s eta 0:00:01\r\u001b[K     |████▎                           | 81 kB 4.9 MB/s eta 0:00:01\r\u001b[K     |████▉                           | 92 kB 5.4 MB/s eta 0:00:01\r\u001b[K     |█████▎                          | 102 kB 4.3 MB/s eta 0:00:01\r\u001b[K     |█████▉                          | 112 kB 4.3 MB/s eta 0:00:01\r\u001b[K     |██████▍                         | 122 kB 4.3 MB/s eta 0:00:01\r\u001b[K     |███████                         | 133 kB 4.3 MB/s eta 0:00:01\r\u001b[K     |███████▍                        | 143 kB 4.3 MB/s eta 0:00:01\r\u001b[K     |████████                        | 153 kB 4.3 MB/s eta 0:00:01\r\u001b[K     |████████▌                       | 163 kB 4.3 MB/s eta 0:00:01\r\u001b[K     |█████████                       | 174 kB 4.3 MB/s eta 0:00:01\r\u001b[K     |█████████▋                      | 184 kB 4.3 MB/s eta 0:00:01\r\u001b[K     |██████████                      | 194 kB 4.3 MB/s eta 0:00:01\r\u001b[K     |██████████▋                     | 204 kB 4.3 MB/s eta 0:00:01\r\u001b[K     |███████████▏                    | 215 kB 4.3 MB/s eta 0:00:01\r\u001b[K     |███████████▊                    | 225 kB 4.3 MB/s eta 0:00:01\r\u001b[K     |████████████▏                   | 235 kB 4.3 MB/s eta 0:00:01\r\u001b[K     |████████████▊                   | 245 kB 4.3 MB/s eta 0:00:01\r\u001b[K     |█████████████▎                  | 256 kB 4.3 MB/s eta 0:00:01\r\u001b[K     |█████████████▉                  | 266 kB 4.3 MB/s eta 0:00:01\r\u001b[K     |██████████████▍                 | 276 kB 4.3 MB/s eta 0:00:01\r\u001b[K     |██████████████▉                 | 286 kB 4.3 MB/s eta 0:00:01\r\u001b[K     |███████████████▍                | 296 kB 4.3 MB/s eta 0:00:01\r\u001b[K     |████████████████                | 307 kB 4.3 MB/s eta 0:00:01\r\u001b[K     |████████████████▌               | 317 kB 4.3 MB/s eta 0:00:01\r\u001b[K     |█████████████████               | 327 kB 4.3 MB/s eta 0:00:01\r\u001b[K     |█████████████████▌              | 337 kB 4.3 MB/s eta 0:00:01\r\u001b[K     |██████████████████              | 348 kB 4.3 MB/s eta 0:00:01\r\u001b[K     |██████████████████▋             | 358 kB 4.3 MB/s eta 0:00:01\r\u001b[K     |███████████████████▏            | 368 kB 4.3 MB/s eta 0:00:01\r\u001b[K     |███████████████████▋            | 378 kB 4.3 MB/s eta 0:00:01\r\u001b[K     |████████████████████▏           | 389 kB 4.3 MB/s eta 0:00:01\r\u001b[K     |████████████████████▊           | 399 kB 4.3 MB/s eta 0:00:01\r\u001b[K     |█████████████████████▎          | 409 kB 4.3 MB/s eta 0:00:01\r\u001b[K     |█████████████████████▉          | 419 kB 4.3 MB/s eta 0:00:01\r\u001b[K     |██████████████████████▎         | 430 kB 4.3 MB/s eta 0:00:01\r\u001b[K     |██████████████████████▉         | 440 kB 4.3 MB/s eta 0:00:01\r\u001b[K     |███████████████████████▍        | 450 kB 4.3 MB/s eta 0:00:01\r\u001b[K     |████████████████████████        | 460 kB 4.3 MB/s eta 0:00:01\r\u001b[K     |████████████████████████▍       | 471 kB 4.3 MB/s eta 0:00:01\r\u001b[K     |█████████████████████████       | 481 kB 4.3 MB/s eta 0:00:01\r\u001b[K     |█████████████████████████▌      | 491 kB 4.3 MB/s eta 0:00:01\r\u001b[K     |██████████████████████████      | 501 kB 4.3 MB/s eta 0:00:01\r\u001b[K     |██████████████████████████▋     | 512 kB 4.3 MB/s eta 0:00:01\r\u001b[K     |███████████████████████████     | 522 kB 4.3 MB/s eta 0:00:01\r\u001b[K     |███████████████████████████▋    | 532 kB 4.3 MB/s eta 0:00:01\r\u001b[K     |████████████████████████████▏   | 542 kB 4.3 MB/s eta 0:00:01\r\u001b[K     |████████████████████████████▊   | 552 kB 4.3 MB/s eta 0:00:01\r\u001b[K     |█████████████████████████████▏  | 563 kB 4.3 MB/s eta 0:00:01\r\u001b[K     |█████████████████████████████▊  | 573 kB 4.3 MB/s eta 0:00:01\r\u001b[K     |██████████████████████████████▎ | 583 kB 4.3 MB/s eta 0:00:01\r\u001b[K     |██████████████████████████████▉ | 593 kB 4.3 MB/s eta 0:00:01\r\u001b[K     |███████████████████████████████▍| 604 kB 4.3 MB/s eta 0:00:01\r\u001b[K     |███████████████████████████████▉| 614 kB 4.3 MB/s eta 0:00:01\r\u001b[K     |████████████████████████████████| 616 kB 4.3 MB/s \n",
            "\u001b[K     |████████████████████████████████| 120 kB 91.6 MB/s \n",
            "\u001b[K     |████████████████████████████████| 596 kB 81.7 MB/s \n",
            "\u001b[K     |████████████████████████████████| 6.4 MB 74.6 MB/s \n",
            "\u001b[K     |████████████████████████████████| 1.1 MB 68.7 MB/s \n",
            "\u001b[K     |████████████████████████████████| 87 kB 9.2 MB/s \n",
            "\u001b[K     |████████████████████████████████| 1.1 MB 55.7 MB/s \n",
            "\u001b[K     |████████████████████████████████| 1.2 MB 66.5 MB/s \n",
            "\u001b[K     |████████████████████████████████| 234 kB 77.7 MB/s \n",
            "\u001b[K     |████████████████████████████████| 77 kB 7.7 MB/s \n",
            "\u001b[K     |████████████████████████████████| 3.4 MB 65.9 MB/s \n",
            "\u001b[K     |████████████████████████████████| 840 kB 75.1 MB/s \n",
            "\u001b[K     |████████████████████████████████| 25.3 MB 1.2 MB/s \n",
            "\u001b[K     |████████████████████████████████| 99 kB 12.0 MB/s \n",
            "\u001b[K     |████████████████████████████████| 352 kB 79.5 MB/s \n",
            "\u001b[K     |████████████████████████████████| 47.7 MB 166 kB/s \n",
            "\u001b[K     |████████████████████████████████| 462 kB 95.8 MB/s \n",
            "\u001b[K     |████████████████████████████████| 211 kB 88.6 MB/s \n",
            "\u001b[?25h  Building wheel for fire (setup.py) ... \u001b[?25l\u001b[?25hdone\n",
            "  Building wheel for py-cpuinfo (setup.py) ... \u001b[?25l\u001b[?25hdone\n"
          ]
        }
      ],
      "source": [
        "!pip install -q tflite-model-maker\n",
        "!pip install -q pycocotools"
      ]
    },
    {
      "cell_type": "code",
      "execution_count": 5,
      "metadata": {
        "id": "06DKhsLi45v2"
      },
      "outputs": [],
      "source": [
        "import numpy as np\n",
        "import os\n",
        "\n",
        "#from tflite_model_maker.config import ExportFormat\n",
        "from tflite_model_maker import model_spec\n",
        "from tflite_model_maker import object_detector\n",
        "\n",
        "import tensorflow as tf\n",
        "assert tf.__version__.startswith('2')\n",
        "\n",
        "tf.get_logger().setLevel('ERROR')\n",
        "from absl import logging\n",
        "logging.set_verbosity(logging.ERROR)\n",
        "from tensorflow import keras"
      ]
    },
    {
      "cell_type": "code",
      "source": [
        ""
      ],
      "metadata": {
        "id": "ytwmMNWR9RNv"
      },
      "execution_count": null,
      "outputs": []
    },
    {
      "cell_type": "markdown",
      "source": [
        "## Training "
      ],
      "metadata": {
        "id": "yrtPmpQ49RlQ"
      }
    },
    {
      "cell_type": "code",
      "execution_count": 6,
      "metadata": {
        "id": "8m1Ma4LB48TK"
      },
      "outputs": [],
      "source": [
        "train_image_dir = '/content/Final Img copy 2/train'\n",
        "train_annotation_dir = '/content/Final Img copy 2/train anotation'\n",
        "validate_image_dir = '/content/Final Img copy 2/valid'\n",
        "validate_anaotation_dir = '/content/Final Img copy 2/valid anotation '"
      ]
    },
    {
      "cell_type": "code",
      "execution_count": 7,
      "metadata": {
        "id": "fNHc_8UJ4-v_"
      },
      "outputs": [],
      "source": [
        "\n",
        "spec = model_spec.get('efficientdet_lite4')"
      ]
    },
    {
      "cell_type": "code",
      "execution_count": 8,
      "metadata": {
        "id": "0CvbWzBl5BR_"
      },
      "outputs": [],
      "source": [
        "train_dir = object_detector.DataLoader.from_pascal_voc(train_image_dir, train_annotation_dir, label_map={1:\"Design Kurta\", 2: \"Plain kurta\", 3: \"Casual Shirt\", 4:\"Formal Shirt\", 5: \"Desgin sherwani\", 6:\"Plain sherwani\", 7:\"tshirt\"})"
      ]
    },
    {
      "cell_type": "code",
      "execution_count": 9,
      "metadata": {
        "id": "qc-JL6j45EwG"
      },
      "outputs": [],
      "source": [
        "validate_dir = object_detector.DataLoader.from_pascal_voc(validate_image_dir, validate_anaotation_dir, label_map={1:\"Design Kurta\", 2: \"Plain kurta\", 3: \"Casual Shirt\", 4:\"Formal Shirt\", 5: \"Desgin sherwani\", 6:\"Plain sherwani\",7:\"tshirt\"})"
      ]
    },
    {
      "cell_type": "code",
      "execution_count": 11,
      "metadata": {
        "colab": {
          "base_uri": "https://localhost:8080/"
        },
        "id": "GhOnS5GA5G_3",
        "outputId": "7fe4e414-673d-43fc-eeca-592400722c47"
      },
      "outputs": [
        {
          "output_type": "stream",
          "name": "stdout",
          "text": [
            "Epoch 1/10\n",
            "176/176 [==============================] - 254s 1s/step - det_loss: 1.1445 - cls_loss: 0.9139 - box_loss: 0.0046 - reg_l2_loss: 0.1087 - loss: 1.2533 - learning_rate: 0.0071 - gradient_norm: 2.8211 - val_det_loss: 0.6843 - val_cls_loss: 0.5812 - val_box_loss: 0.0021 - val_reg_l2_loss: 0.1088 - val_loss: 0.7931\n",
            "Epoch 2/10\n",
            "176/176 [==============================] - 204s 1s/step - det_loss: 0.5406 - cls_loss: 0.4833 - box_loss: 0.0011 - reg_l2_loss: 0.1089 - loss: 0.6495 - learning_rate: 0.0058 - gradient_norm: 3.3222 - val_det_loss: 0.5904 - val_cls_loss: 0.5691 - val_box_loss: 4.2639e-04 - val_reg_l2_loss: 0.1090 - val_loss: 0.6993\n",
            "Epoch 3/10\n",
            "176/176 [==============================] - 205s 1s/step - det_loss: 0.4458 - cls_loss: 0.4058 - box_loss: 8.0098e-04 - reg_l2_loss: 0.1090 - loss: 0.5548 - learning_rate: 0.0051 - gradient_norm: 3.5313 - val_det_loss: 0.4006 - val_cls_loss: 0.3817 - val_box_loss: 3.7653e-04 - val_reg_l2_loss: 0.1090 - val_loss: 0.5096\n",
            "Epoch 4/10\n",
            "176/176 [==============================] - 205s 1s/step - det_loss: 0.3891 - cls_loss: 0.3546 - box_loss: 6.8985e-04 - reg_l2_loss: 0.1091 - loss: 0.4981 - learning_rate: 0.0042 - gradient_norm: 3.3932 - val_det_loss: 0.3927 - val_cls_loss: 0.3768 - val_box_loss: 3.1758e-04 - val_reg_l2_loss: 0.1091 - val_loss: 0.5018\n",
            "Epoch 5/10\n",
            "176/176 [==============================] - 227s 1s/step - det_loss: 0.3552 - cls_loss: 0.3274 - box_loss: 5.5723e-04 - reg_l2_loss: 0.1091 - loss: 0.4643 - learning_rate: 0.0031 - gradient_norm: 3.4582 - val_det_loss: 0.3128 - val_cls_loss: 0.3054 - val_box_loss: 1.4741e-04 - val_reg_l2_loss: 0.1091 - val_loss: 0.4219\n",
            "Epoch 6/10\n",
            "176/176 [==============================] - 206s 1s/step - det_loss: 0.3268 - cls_loss: 0.3018 - box_loss: 4.9931e-04 - reg_l2_loss: 0.1091 - loss: 0.4359 - learning_rate: 0.0021 - gradient_norm: 3.3820 - val_det_loss: 0.2780 - val_cls_loss: 0.2698 - val_box_loss: 1.6460e-04 - val_reg_l2_loss: 0.1091 - val_loss: 0.3871\n",
            "Epoch 7/10\n",
            "176/176 [==============================] - 206s 1s/step - det_loss: 0.3059 - cls_loss: 0.2850 - box_loss: 4.1877e-04 - reg_l2_loss: 0.1091 - loss: 0.4150 - learning_rate: 0.0011 - gradient_norm: 3.0118 - val_det_loss: 0.2808 - val_cls_loss: 0.2737 - val_box_loss: 1.4214e-04 - val_reg_l2_loss: 0.1091 - val_loss: 0.3899\n",
            "Epoch 8/10\n",
            "176/176 [==============================] - 206s 1s/step - det_loss: 0.2932 - cls_loss: 0.2744 - box_loss: 3.7540e-04 - reg_l2_loss: 0.1091 - loss: 0.4023 - learning_rate: 4.3256e-04 - gradient_norm: 3.1130 - val_det_loss: 0.2587 - val_cls_loss: 0.2517 - val_box_loss: 1.3941e-04 - val_reg_l2_loss: 0.1091 - val_loss: 0.3678\n",
            "Epoch 9/10\n",
            "176/176 [==============================] - 206s 1s/step - det_loss: 0.2899 - cls_loss: 0.2706 - box_loss: 3.8625e-04 - reg_l2_loss: 0.1091 - loss: 0.3990 - learning_rate: 6.3253e-05 - gradient_norm: 2.9471 - val_det_loss: 0.2606 - val_cls_loss: 0.2542 - val_box_loss: 1.2861e-04 - val_reg_l2_loss: 0.1091 - val_loss: 0.3697\n",
            "Epoch 10/10\n",
            "176/176 [==============================] - 223s 1s/step - det_loss: 0.2956 - cls_loss: 0.2783 - box_loss: 3.4574e-04 - reg_l2_loss: 0.1091 - loss: 0.4047 - learning_rate: 6.3242e-05 - gradient_norm: 2.8335 - val_det_loss: 0.2607 - val_cls_loss: 0.2547 - val_box_loss: 1.2014e-04 - val_reg_l2_loss: 0.1091 - val_loss: 0.3698\n"
          ]
        }
      ],
      "source": [
        "model = object_detector.create(train_dir, \n",
        "                               model_spec=spec, \n",
        "                               epochs=10, \n",
        "                               batch_size=5, \n",
        "                               train_whole_model=True, \n",
        "                               validation_data=validate_dir\n",
        "                               )"
      ]
    },
    {
      "cell_type": "code",
      "source": [
        ""
      ],
      "metadata": {
        "id": "F6Nv-kXT9Wlh"
      },
      "execution_count": null,
      "outputs": []
    },
    {
      "cell_type": "markdown",
      "source": [
        "## Evaluating the model "
      ],
      "metadata": {
        "id": "i8r0YAIo9tLD"
      }
    },
    {
      "cell_type": "code",
      "source": [
        "model.evaluate(validate_dir,batch_size=5)"
      ],
      "metadata": {
        "id": "34FvBP799vWm",
        "outputId": "a24ef712-c36e-4b6a-98ec-bc7fd5307076",
        "colab": {
          "base_uri": "https://localhost:8080/"
        }
      },
      "execution_count": 13,
      "outputs": [
        {
          "output_type": "stream",
          "name": "stdout",
          "text": [
            "49/49 [==============================] - 23s 372ms/step\n",
            "\n"
          ]
        },
        {
          "output_type": "execute_result",
          "data": {
            "text/plain": [
              "{'AP': 0.6369193,\n",
              " 'AP50': 0.69317114,\n",
              " 'AP75': 0.6808171,\n",
              " 'AP_/Casual Shirt': 0.7512621,\n",
              " 'AP_/Desgin sherwani': 0.73052377,\n",
              " 'AP_/Design Kurta': 0.40258652,\n",
              " 'AP_/Formal Shirt': 0.8168402,\n",
              " 'AP_/Plain kurta': 0.28033265,\n",
              " 'AP_/Plain sherwani': 0.5680787,\n",
              " 'AP_/tshirt': 0.90881133,\n",
              " 'APl': 0.63695246,\n",
              " 'APm': -1.0,\n",
              " 'APs': -1.0,\n",
              " 'ARl': 0.91306376,\n",
              " 'ARm': -1.0,\n",
              " 'ARmax1': 0.8989516,\n",
              " 'ARmax10': 0.91306376,\n",
              " 'ARmax100': 0.91306376,\n",
              " 'ARs': -1.0}"
            ]
          },
          "metadata": {},
          "execution_count": 13
        }
      ]
    },
    {
      "cell_type": "markdown",
      "source": [
        "## Saving Model "
      ],
      "metadata": {
        "id": "hSYSNYGI9XQd"
      }
    },
    {
      "cell_type": "code",
      "execution_count": 14,
      "metadata": {
        "id": "AJ9oA6_ALDeS"
      },
      "outputs": [],
      "source": [
        "model.export(export_dir='/content/')"
      ]
    }
  ],
  "metadata": {
    "accelerator": "GPU",
    "colab": {
      "collapsed_sections": [],
      "machine_shape": "hm",
      "name": "fashion dataset.ipynb",
      "provenance": []
    },
    "kernelspec": {
      "display_name": "Python 3",
      "name": "python3"
    },
    "language_info": {
      "name": "python"
    }
  },
  "nbformat": 4,
  "nbformat_minor": 0
}