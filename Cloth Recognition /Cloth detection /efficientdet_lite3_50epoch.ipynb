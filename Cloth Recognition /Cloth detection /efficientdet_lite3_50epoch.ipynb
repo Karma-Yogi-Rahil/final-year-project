{
  "cells": [
    {
      "cell_type": "markdown",
      "source": [
        "## Loading dataset "
      ],
      "metadata": {
        "id": "5tVI7uB_9Hez"
      }
    },
    {
      "cell_type": "code",
      "execution_count": 1,
      "metadata": {
        "id": "1LYZMlueITZL"
      },
      "outputs": [],
      "source": [
        "import os \n",
        "os.environ['KAGGLE_CONFIG_DIR'] = '/content'"
      ]
    },
    {
      "cell_type": "markdown",
      "source": [
        ""
      ],
      "metadata": {
        "id": "KQJprHFL9K0S"
      }
    },
    {
      "cell_type": "code",
      "execution_count": 2,
      "metadata": {
        "colab": {
          "base_uri": "https://localhost:8080/"
        },
        "id": "7HJFATrIId7P",
        "outputId": "0e4266a6-e32d-4834-98e1-aed621fddd34"
      },
      "outputs": [
        {
          "output_type": "stream",
          "name": "stdout",
          "text": [
            "Warning: Your Kaggle API key is readable by other users on this system! To fix this, you can run 'chmod 600 /content/kaggle.json'\n",
            "Downloading fashion.zip to /content\n",
            " 98% 186M/191M [00:02<00:00, 88.4MB/s]\n",
            "100% 191M/191M [00:02<00:00, 76.3MB/s]\n"
          ]
        }
      ],
      "source": [
        "! kaggle datasets download -d rahilmehtaucoe2784/fashion"
      ]
    },
    {
      "cell_type": "code",
      "execution_count": 3,
      "metadata": {
        "id": "1J2KVGkRIkan"
      },
      "outputs": [],
      "source": [
        "%%capture\n",
        "!unzip \\*.zip && rm *.zip &> /dev/null"
      ]
    },
    {
      "cell_type": "markdown",
      "source": [
        "## installing and importing Libraries "
      ],
      "metadata": {
        "id": "S4A81jNW9Mq7"
      }
    },
    {
      "cell_type": "code",
      "execution_count": 4,
      "metadata": {
        "colab": {
          "base_uri": "https://localhost:8080/"
        },
        "id": "LBPX2I6f8VbH",
        "outputId": "6739f930-d559-41a7-b34d-55a5829e6f35"
      },
      "outputs": [
        {
          "output_type": "stream",
          "name": "stdout",
          "text": [
            "\u001b[K     |████████████████████████████████| 616 kB 14.3 MB/s \n",
            "\u001b[K     |████████████████████████████████| 120 kB 68.8 MB/s \n",
            "\u001b[K     |████████████████████████████████| 234 kB 67.9 MB/s \n",
            "\u001b[K     |████████████████████████████████| 87 kB 8.9 MB/s \n",
            "\u001b[K     |████████████████████████████████| 3.4 MB 77.2 MB/s \n",
            "\u001b[K     |████████████████████████████████| 1.1 MB 74.6 MB/s \n",
            "\u001b[K     |████████████████████████████████| 77 kB 7.9 MB/s \n",
            "\u001b[K     |████████████████████████████████| 840 kB 42.4 MB/s \n",
            "\u001b[K     |████████████████████████████████| 1.1 MB 75.5 MB/s \n",
            "\u001b[K     |████████████████████████████████| 6.4 MB 59.3 MB/s \n",
            "\u001b[K     |████████████████████████████████| 1.2 MB 57.9 MB/s \n",
            "\u001b[K     |████████████████████████████████| 596 kB 67.8 MB/s \n",
            "\u001b[K     |████████████████████████████████| 25.3 MB 97.5 MB/s \n",
            "\u001b[K     |████████████████████████████████| 99 kB 12.3 MB/s \n",
            "\u001b[K     |████████████████████████████████| 47.7 MB 90.3 MB/s \n",
            "\u001b[K     |████████████████████████████████| 352 kB 88.2 MB/s \n",
            "\u001b[K     |████████████████████████████████| 462 kB 74.1 MB/s \n",
            "\u001b[K     |████████████████████████████████| 211 kB 89.4 MB/s \n",
            "\u001b[?25h  Building wheel for fire (setup.py) ... \u001b[?25l\u001b[?25hdone\n",
            "  Building wheel for py-cpuinfo (setup.py) ... \u001b[?25l\u001b[?25hdone\n"
          ]
        }
      ],
      "source": [
        "!pip install -q tflite-model-maker\n",
        "!pip install -q pycocotools"
      ]
    },
    {
      "cell_type": "code",
      "execution_count": 5,
      "metadata": {
        "id": "06DKhsLi45v2"
      },
      "outputs": [],
      "source": [
        "import numpy as np\n",
        "import os\n",
        "\n",
        "#from tflite_model_maker.config import ExportFormat\n",
        "from tflite_model_maker import model_spec\n",
        "from tflite_model_maker import object_detector\n",
        "\n",
        "import tensorflow as tf\n",
        "assert tf.__version__.startswith('2')\n",
        "\n",
        "tf.get_logger().setLevel('ERROR')\n",
        "from absl import logging\n",
        "logging.set_verbosity(logging.ERROR)\n",
        "from tensorflow import keras"
      ]
    },
    {
      "cell_type": "code",
      "source": [
        ""
      ],
      "metadata": {
        "id": "ytwmMNWR9RNv"
      },
      "execution_count": null,
      "outputs": []
    },
    {
      "cell_type": "markdown",
      "source": [
        "## Training "
      ],
      "metadata": {
        "id": "yrtPmpQ49RlQ"
      }
    },
    {
      "cell_type": "code",
      "execution_count": 6,
      "metadata": {
        "id": "8m1Ma4LB48TK"
      },
      "outputs": [],
      "source": [
        "train_image_dir = '/content/Final Img copy 2/train'\n",
        "train_annotation_dir = '/content/Final Img copy 2/train anotation'\n",
        "validate_image_dir = '/content/Final Img copy 2/valid'\n",
        "validate_anaotation_dir = '/content/Final Img copy 2/valid anotation '"
      ]
    },
    {
      "cell_type": "code",
      "execution_count": 7,
      "metadata": {
        "id": "fNHc_8UJ4-v_"
      },
      "outputs": [],
      "source": [
        "\n",
        "spec = model_spec.get('efficientdet_lite3')"
      ]
    },
    {
      "cell_type": "code",
      "execution_count": 8,
      "metadata": {
        "id": "0CvbWzBl5BR_"
      },
      "outputs": [],
      "source": [
        "train_dir = object_detector.DataLoader.from_pascal_voc(train_image_dir, train_annotation_dir, label_map={1:\"Design Kurta\", 2: \"Plain kurta\", 3: \"Casual Shirt\", 4:\"Formal Shirt\", 5: \"Desgin sherwani\", 6:\"Plain sherwani\", 7:\"tshirt\"})"
      ]
    },
    {
      "cell_type": "code",
      "execution_count": 9,
      "metadata": {
        "id": "qc-JL6j45EwG"
      },
      "outputs": [],
      "source": [
        "validate_dir = object_detector.DataLoader.from_pascal_voc(validate_image_dir, validate_anaotation_dir, label_map={1:\"Design Kurta\", 2: \"Plain kurta\", 3: \"Casual Shirt\", 4:\"Formal Shirt\", 5: \"Desgin sherwani\", 6:\"Plain sherwani\",7:\"tshirt\"})"
      ]
    },
    {
      "cell_type": "code",
      "execution_count": 10,
      "metadata": {
        "colab": {
          "base_uri": "https://localhost:8080/"
        },
        "id": "GhOnS5GA5G_3",
        "outputId": "06fce143-de8c-4ee1-fd47-9349c6d66994"
      },
      "outputs": [
        {
          "output_type": "stream",
          "name": "stdout",
          "text": [
            "Epoch 1/50\n",
            "176/176 [==============================] - 151s 529ms/step - det_loss: 1.1169 - cls_loss: 0.8824 - box_loss: 0.0047 - reg_l2_loss: 0.0935 - loss: 1.2104 - learning_rate: 0.0071 - gradient_norm: 2.9153 - val_det_loss: 0.7617 - val_cls_loss: 0.6963 - val_box_loss: 0.0013 - val_reg_l2_loss: 0.0936 - val_loss: 0.8553\n",
            "Epoch 2/50\n",
            "176/176 [==============================] - 93s 529ms/step - det_loss: 0.5960 - cls_loss: 0.5262 - box_loss: 0.0014 - reg_l2_loss: 0.0936 - loss: 0.6897 - learning_rate: 0.0062 - gradient_norm: 3.1942 - val_det_loss: 0.6142 - val_cls_loss: 0.5235 - val_box_loss: 0.0018 - val_reg_l2_loss: 0.0937 - val_loss: 0.7080\n",
            "Epoch 3/50\n",
            "176/176 [==============================] - 94s 533ms/step - det_loss: 0.4703 - cls_loss: 0.4248 - box_loss: 9.1086e-04 - reg_l2_loss: 0.0938 - loss: 0.5641 - learning_rate: 0.0062 - gradient_norm: 3.3106 - val_det_loss: 0.5167 - val_cls_loss: 0.4809 - val_box_loss: 7.1659e-04 - val_reg_l2_loss: 0.0938 - val_loss: 0.6105\n",
            "Epoch 4/50\n",
            "176/176 [==============================] - 94s 534ms/step - det_loss: 0.4155 - cls_loss: 0.3765 - box_loss: 7.7896e-04 - reg_l2_loss: 0.0939 - loss: 0.5094 - learning_rate: 0.0062 - gradient_norm: 3.3433 - val_det_loss: 0.4339 - val_cls_loss: 0.4071 - val_box_loss: 5.3643e-04 - val_reg_l2_loss: 0.0939 - val_loss: 0.5279\n",
            "Epoch 5/50\n",
            "176/176 [==============================] - 110s 626ms/step - det_loss: 0.3850 - cls_loss: 0.3532 - box_loss: 6.3529e-04 - reg_l2_loss: 0.0940 - loss: 0.4790 - learning_rate: 0.0061 - gradient_norm: 3.4110 - val_det_loss: 0.5405 - val_cls_loss: 0.5055 - val_box_loss: 6.9868e-04 - val_reg_l2_loss: 0.0941 - val_loss: 0.6345\n",
            "Epoch 6/50\n",
            "176/176 [==============================] - 94s 535ms/step - det_loss: 0.3667 - cls_loss: 0.3318 - box_loss: 6.9834e-04 - reg_l2_loss: 0.0941 - loss: 0.4608 - learning_rate: 0.0061 - gradient_norm: 3.6032 - val_det_loss: 0.4682 - val_cls_loss: 0.4189 - val_box_loss: 9.8707e-04 - val_reg_l2_loss: 0.0942 - val_loss: 0.5624\n",
            "Epoch 7/50\n",
            "176/176 [==============================] - 95s 539ms/step - det_loss: 0.3497 - cls_loss: 0.3188 - box_loss: 6.1810e-04 - reg_l2_loss: 0.0943 - loss: 0.4440 - learning_rate: 0.0060 - gradient_norm: 3.5324 - val_det_loss: 0.3750 - val_cls_loss: 0.3550 - val_box_loss: 3.9829e-04 - val_reg_l2_loss: 0.0943 - val_loss: 0.4693\n",
            "Epoch 8/50\n",
            "176/176 [==============================] - 94s 534ms/step - det_loss: 0.3320 - cls_loss: 0.3034 - box_loss: 5.7054e-04 - reg_l2_loss: 0.0944 - loss: 0.4264 - learning_rate: 0.0059 - gradient_norm: 3.4406 - val_det_loss: 0.3902 - val_cls_loss: 0.3713 - val_box_loss: 3.7811e-04 - val_reg_l2_loss: 0.0944 - val_loss: 0.4847\n",
            "Epoch 9/50\n",
            "176/176 [==============================] - 94s 532ms/step - det_loss: 0.3121 - cls_loss: 0.2862 - box_loss: 5.1844e-04 - reg_l2_loss: 0.0945 - loss: 0.4066 - learning_rate: 0.0058 - gradient_norm: 3.2387 - val_det_loss: 0.5611 - val_cls_loss: 0.5409 - val_box_loss: 4.0404e-04 - val_reg_l2_loss: 0.0945 - val_loss: 0.6556\n",
            "Epoch 10/50\n",
            "176/176 [==============================] - 104s 594ms/step - det_loss: 0.3020 - cls_loss: 0.2774 - box_loss: 4.9228e-04 - reg_l2_loss: 0.0946 - loss: 0.3965 - learning_rate: 0.0057 - gradient_norm: 3.0957 - val_det_loss: 0.2937 - val_cls_loss: 0.2749 - val_box_loss: 3.7580e-04 - val_reg_l2_loss: 0.0946 - val_loss: 0.3883\n",
            "Epoch 11/50\n",
            "176/176 [==============================] - 94s 534ms/step - det_loss: 0.2983 - cls_loss: 0.2746 - box_loss: 4.7496e-04 - reg_l2_loss: 0.0946 - loss: 0.3930 - learning_rate: 0.0056 - gradient_norm: 3.2325 - val_det_loss: 0.3337 - val_cls_loss: 0.3199 - val_box_loss: 2.7566e-04 - val_reg_l2_loss: 0.0947 - val_loss: 0.4284\n",
            "Epoch 12/50\n",
            "176/176 [==============================] - 94s 534ms/step - det_loss: 0.2783 - cls_loss: 0.2560 - box_loss: 4.4478e-04 - reg_l2_loss: 0.0947 - loss: 0.3730 - learning_rate: 0.0054 - gradient_norm: 3.4163 - val_det_loss: 0.4218 - val_cls_loss: 0.4025 - val_box_loss: 3.8652e-04 - val_reg_l2_loss: 0.0948 - val_loss: 0.5166\n",
            "Epoch 13/50\n",
            "176/176 [==============================] - 95s 539ms/step - det_loss: 0.2779 - cls_loss: 0.2580 - box_loss: 3.9685e-04 - reg_l2_loss: 0.0948 - loss: 0.3726 - learning_rate: 0.0053 - gradient_norm: 3.3382 - val_det_loss: 0.3856 - val_cls_loss: 0.3771 - val_box_loss: 1.6922e-04 - val_reg_l2_loss: 0.0948 - val_loss: 0.4804\n",
            "Epoch 14/50\n",
            "176/176 [==============================] - 94s 533ms/step - det_loss: 0.2810 - cls_loss: 0.2580 - box_loss: 4.5858e-04 - reg_l2_loss: 0.0949 - loss: 0.3758 - learning_rate: 0.0052 - gradient_norm: 3.3767 - val_det_loss: 0.4975 - val_cls_loss: 0.4885 - val_box_loss: 1.7888e-04 - val_reg_l2_loss: 0.0949 - val_loss: 0.5924\n",
            "Epoch 15/50\n",
            "176/176 [==============================] - 105s 594ms/step - det_loss: 0.2635 - cls_loss: 0.2428 - box_loss: 4.1413e-04 - reg_l2_loss: 0.0949 - loss: 0.3584 - learning_rate: 0.0050 - gradient_norm: 3.4885 - val_det_loss: 0.3885 - val_cls_loss: 0.3753 - val_box_loss: 2.6446e-04 - val_reg_l2_loss: 0.0950 - val_loss: 0.4834\n",
            "Epoch 16/50\n",
            "176/176 [==============================] - 94s 531ms/step - det_loss: 0.2495 - cls_loss: 0.2295 - box_loss: 3.9913e-04 - reg_l2_loss: 0.0950 - loss: 0.3445 - learning_rate: 0.0048 - gradient_norm: 3.2007 - val_det_loss: 0.2664 - val_cls_loss: 0.2589 - val_box_loss: 1.5009e-04 - val_reg_l2_loss: 0.0950 - val_loss: 0.3614\n",
            "Epoch 17/50\n",
            "176/176 [==============================] - 94s 534ms/step - det_loss: 0.2385 - cls_loss: 0.2211 - box_loss: 3.4666e-04 - reg_l2_loss: 0.0950 - loss: 0.3335 - learning_rate: 0.0047 - gradient_norm: 3.5190 - val_det_loss: 0.3056 - val_cls_loss: 0.2962 - val_box_loss: 1.8781e-04 - val_reg_l2_loss: 0.0951 - val_loss: 0.4007\n",
            "Epoch 18/50\n",
            "176/176 [==============================] - 94s 534ms/step - det_loss: 0.2371 - cls_loss: 0.2204 - box_loss: 3.3401e-04 - reg_l2_loss: 0.0951 - loss: 0.3322 - learning_rate: 0.0045 - gradient_norm: 3.3578 - val_det_loss: 0.2430 - val_cls_loss: 0.2351 - val_box_loss: 1.5903e-04 - val_reg_l2_loss: 0.0951 - val_loss: 0.3381\n",
            "Epoch 19/50\n",
            "176/176 [==============================] - 95s 539ms/step - det_loss: 0.2316 - cls_loss: 0.2145 - box_loss: 3.4218e-04 - reg_l2_loss: 0.0952 - loss: 0.3267 - learning_rate: 0.0043 - gradient_norm: 3.1676 - val_det_loss: 0.2110 - val_cls_loss: 0.1987 - val_box_loss: 2.4592e-04 - val_reg_l2_loss: 0.0952 - val_loss: 0.3061\n",
            "Epoch 20/50\n",
            "176/176 [==============================] - 104s 590ms/step - det_loss: 0.2197 - cls_loss: 0.2027 - box_loss: 3.4084e-04 - reg_l2_loss: 0.0952 - loss: 0.3149 - learning_rate: 0.0041 - gradient_norm: 3.3303 - val_det_loss: 0.3466 - val_cls_loss: 0.3363 - val_box_loss: 2.0505e-04 - val_reg_l2_loss: 0.0952 - val_loss: 0.4418\n",
            "Epoch 21/50\n",
            "176/176 [==============================] - 95s 539ms/step - det_loss: 0.2257 - cls_loss: 0.2087 - box_loss: 3.3899e-04 - reg_l2_loss: 0.0952 - loss: 0.3209 - learning_rate: 0.0039 - gradient_norm: 3.7038 - val_det_loss: 0.2145 - val_cls_loss: 0.2072 - val_box_loss: 1.4533e-04 - val_reg_l2_loss: 0.0953 - val_loss: 0.3098\n",
            "Epoch 22/50\n",
            "176/176 [==============================] - 94s 533ms/step - det_loss: 0.2139 - cls_loss: 0.1986 - box_loss: 3.0583e-04 - reg_l2_loss: 0.0953 - loss: 0.3092 - learning_rate: 0.0037 - gradient_norm: 3.6347 - val_det_loss: 0.2997 - val_cls_loss: 0.2901 - val_box_loss: 1.9198e-04 - val_reg_l2_loss: 0.0953 - val_loss: 0.3950\n",
            "Epoch 23/50\n",
            "176/176 [==============================] - 94s 534ms/step - det_loss: 0.2000 - cls_loss: 0.1849 - box_loss: 3.0282e-04 - reg_l2_loss: 0.0953 - loss: 0.2954 - learning_rate: 0.0035 - gradient_norm: 3.5081 - val_det_loss: 0.3301 - val_cls_loss: 0.3225 - val_box_loss: 1.5192e-04 - val_reg_l2_loss: 0.0953 - val_loss: 0.4254\n",
            "Epoch 24/50\n",
            "176/176 [==============================] - 95s 538ms/step - det_loss: 0.2038 - cls_loss: 0.1868 - box_loss: 3.3860e-04 - reg_l2_loss: 0.0953 - loss: 0.2991 - learning_rate: 0.0033 - gradient_norm: 3.4780 - val_det_loss: 0.1405 - val_cls_loss: 0.1351 - val_box_loss: 1.0833e-04 - val_reg_l2_loss: 0.0954 - val_loss: 0.2359\n",
            "Epoch 25/50\n",
            "176/176 [==============================] - 104s 592ms/step - det_loss: 0.1766 - cls_loss: 0.1625 - box_loss: 2.8130e-04 - reg_l2_loss: 0.0954 - loss: 0.2719 - learning_rate: 0.0031 - gradient_norm: 3.1049 - val_det_loss: 0.1329 - val_cls_loss: 0.1245 - val_box_loss: 1.6855e-04 - val_reg_l2_loss: 0.0954 - val_loss: 0.2283\n",
            "Epoch 26/50\n",
            "176/176 [==============================] - 94s 533ms/step - det_loss: 0.1859 - cls_loss: 0.1734 - box_loss: 2.5064e-04 - reg_l2_loss: 0.0954 - loss: 0.2813 - learning_rate: 0.0029 - gradient_norm: 3.4926 - val_det_loss: 0.1452 - val_cls_loss: 0.1377 - val_box_loss: 1.5012e-04 - val_reg_l2_loss: 0.0954 - val_loss: 0.2406\n",
            "Epoch 27/50\n",
            "176/176 [==============================] - 95s 537ms/step - det_loss: 0.1735 - cls_loss: 0.1609 - box_loss: 2.5194e-04 - reg_l2_loss: 0.0954 - loss: 0.2689 - learning_rate: 0.0027 - gradient_norm: 3.2378 - val_det_loss: 0.1494 - val_cls_loss: 0.1449 - val_box_loss: 8.9487e-05 - val_reg_l2_loss: 0.0954 - val_loss: 0.2448\n",
            "Epoch 28/50\n",
            "176/176 [==============================] - 94s 536ms/step - det_loss: 0.1706 - cls_loss: 0.1587 - box_loss: 2.3921e-04 - reg_l2_loss: 0.0954 - loss: 0.2660 - learning_rate: 0.0025 - gradient_norm: 3.4829 - val_det_loss: 0.1167 - val_cls_loss: 0.1118 - val_box_loss: 9.7394e-05 - val_reg_l2_loss: 0.0954 - val_loss: 0.2121\n",
            "Epoch 29/50\n",
            "176/176 [==============================] - 94s 535ms/step - det_loss: 0.1664 - cls_loss: 0.1543 - box_loss: 2.4009e-04 - reg_l2_loss: 0.0954 - loss: 0.2618 - learning_rate: 0.0023 - gradient_norm: 3.2943 - val_det_loss: 0.1138 - val_cls_loss: 0.1084 - val_box_loss: 1.0798e-04 - val_reg_l2_loss: 0.0954 - val_loss: 0.2092\n",
            "Epoch 30/50\n",
            "176/176 [==============================] - 105s 595ms/step - det_loss: 0.1624 - cls_loss: 0.1504 - box_loss: 2.4024e-04 - reg_l2_loss: 0.0954 - loss: 0.2578 - learning_rate: 0.0021 - gradient_norm: 3.3168 - val_det_loss: 0.1196 - val_cls_loss: 0.1152 - val_box_loss: 8.6844e-05 - val_reg_l2_loss: 0.0954 - val_loss: 0.2150\n",
            "Epoch 31/50\n",
            "176/176 [==============================] - 94s 534ms/step - det_loss: 0.1586 - cls_loss: 0.1471 - box_loss: 2.3057e-04 - reg_l2_loss: 0.0954 - loss: 0.2540 - learning_rate: 0.0020 - gradient_norm: 3.2745 - val_det_loss: 0.0991 - val_cls_loss: 0.0943 - val_box_loss: 9.5326e-05 - val_reg_l2_loss: 0.0954 - val_loss: 0.1945\n",
            "Epoch 32/50\n",
            "176/176 [==============================] - 94s 532ms/step - det_loss: 0.1488 - cls_loss: 0.1372 - box_loss: 2.3203e-04 - reg_l2_loss: 0.0954 - loss: 0.2442 - learning_rate: 0.0018 - gradient_norm: 3.4447 - val_det_loss: 0.1092 - val_cls_loss: 0.1020 - val_box_loss: 1.4437e-04 - val_reg_l2_loss: 0.0954 - val_loss: 0.2046\n",
            "Epoch 33/50\n",
            "176/176 [==============================] - 95s 538ms/step - det_loss: 0.1483 - cls_loss: 0.1378 - box_loss: 2.1156e-04 - reg_l2_loss: 0.0954 - loss: 0.2437 - learning_rate: 0.0016 - gradient_norm: 3.0755 - val_det_loss: 0.1387 - val_cls_loss: 0.1328 - val_box_loss: 1.1794e-04 - val_reg_l2_loss: 0.0954 - val_loss: 0.2341\n",
            "Epoch 34/50\n",
            "176/176 [==============================] - 94s 534ms/step - det_loss: 0.1407 - cls_loss: 0.1296 - box_loss: 2.2211e-04 - reg_l2_loss: 0.0954 - loss: 0.2361 - learning_rate: 0.0014 - gradient_norm: 3.0869 - val_det_loss: 0.1274 - val_cls_loss: 0.1226 - val_box_loss: 9.4764e-05 - val_reg_l2_loss: 0.0954 - val_loss: 0.2228\n",
            "Epoch 35/50\n",
            "176/176 [==============================] - 104s 592ms/step - det_loss: 0.1379 - cls_loss: 0.1277 - box_loss: 2.0462e-04 - reg_l2_loss: 0.0954 - loss: 0.2333 - learning_rate: 0.0013 - gradient_norm: 2.9189 - val_det_loss: 0.0951 - val_cls_loss: 0.0901 - val_box_loss: 9.9573e-05 - val_reg_l2_loss: 0.0954 - val_loss: 0.1905\n",
            "Epoch 36/50\n",
            "176/176 [==============================] - 94s 534ms/step - det_loss: 0.1312 - cls_loss: 0.1200 - box_loss: 2.2407e-04 - reg_l2_loss: 0.0954 - loss: 0.2266 - learning_rate: 0.0011 - gradient_norm: 2.9273 - val_det_loss: 0.1209 - val_cls_loss: 0.1163 - val_box_loss: 9.0810e-05 - val_reg_l2_loss: 0.0954 - val_loss: 0.2162\n",
            "Epoch 37/50\n",
            "176/176 [==============================] - 94s 532ms/step - det_loss: 0.1206 - cls_loss: 0.1110 - box_loss: 1.9198e-04 - reg_l2_loss: 0.0954 - loss: 0.2159 - learning_rate: 9.5137e-04 - gradient_norm: 2.7382 - val_det_loss: 0.2075 - val_cls_loss: 0.2038 - val_box_loss: 7.5229e-05 - val_reg_l2_loss: 0.0954 - val_loss: 0.3029\n",
            "Epoch 38/50\n",
            "176/176 [==============================] - 95s 537ms/step - det_loss: 0.1260 - cls_loss: 0.1155 - box_loss: 2.0871e-04 - reg_l2_loss: 0.0954 - loss: 0.2214 - learning_rate: 8.1204e-04 - gradient_norm: 3.0712 - val_det_loss: 0.0888 - val_cls_loss: 0.0841 - val_box_loss: 9.3643e-05 - val_reg_l2_loss: 0.0954 - val_loss: 0.1842\n",
            "Epoch 39/50\n",
            "176/176 [==============================] - 94s 533ms/step - det_loss: 0.1189 - cls_loss: 0.1087 - box_loss: 2.0533e-04 - reg_l2_loss: 0.0954 - loss: 0.2143 - learning_rate: 6.8220e-04 - gradient_norm: 2.7960 - val_det_loss: 0.0912 - val_cls_loss: 0.0866 - val_box_loss: 9.1501e-05 - val_reg_l2_loss: 0.0954 - val_loss: 0.1865\n",
            "Epoch 40/50\n",
            "176/176 [==============================] - 104s 590ms/step - det_loss: 0.1237 - cls_loss: 0.1143 - box_loss: 1.8715e-04 - reg_l2_loss: 0.0954 - loss: 0.2191 - learning_rate: 5.6241e-04 - gradient_norm: 2.8760 - val_det_loss: 0.0913 - val_cls_loss: 0.0864 - val_box_loss: 9.8271e-05 - val_reg_l2_loss: 0.0954 - val_loss: 0.1867\n",
            "Epoch 41/50\n",
            "176/176 [==============================] - 95s 539ms/step - det_loss: 0.1241 - cls_loss: 0.1130 - box_loss: 2.2219e-04 - reg_l2_loss: 0.0954 - loss: 0.2195 - learning_rate: 4.5314e-04 - gradient_norm: 3.0282 - val_det_loss: 0.0875 - val_cls_loss: 0.0829 - val_box_loss: 9.0646e-05 - val_reg_l2_loss: 0.0954 - val_loss: 0.1828\n",
            "Epoch 42/50\n",
            "176/176 [==============================] - 94s 533ms/step - det_loss: 0.1204 - cls_loss: 0.1101 - box_loss: 2.0629e-04 - reg_l2_loss: 0.0954 - loss: 0.2158 - learning_rate: 3.5486e-04 - gradient_norm: 2.8083 - val_det_loss: 0.0886 - val_cls_loss: 0.0839 - val_box_loss: 9.3309e-05 - val_reg_l2_loss: 0.0954 - val_loss: 0.1839\n",
            "Epoch 43/50\n",
            "176/176 [==============================] - 94s 532ms/step - det_loss: 0.1164 - cls_loss: 0.1070 - box_loss: 1.8809e-04 - reg_l2_loss: 0.0954 - loss: 0.2118 - learning_rate: 2.6796e-04 - gradient_norm: 2.6619 - val_det_loss: 0.0871 - val_cls_loss: 0.0828 - val_box_loss: 8.5759e-05 - val_reg_l2_loss: 0.0954 - val_loss: 0.1824\n",
            "Epoch 44/50\n",
            "176/176 [==============================] - 95s 538ms/step - det_loss: 0.1177 - cls_loss: 0.1086 - box_loss: 1.8068e-04 - reg_l2_loss: 0.0954 - loss: 0.2130 - learning_rate: 1.9280e-04 - gradient_norm: 2.9289 - val_det_loss: 0.0887 - val_cls_loss: 0.0842 - val_box_loss: 8.9790e-05 - val_reg_l2_loss: 0.0954 - val_loss: 0.1840\n",
            "Epoch 45/50\n",
            "176/176 [==============================] - 103s 588ms/step - det_loss: 0.1181 - cls_loss: 0.1088 - box_loss: 1.8566e-04 - reg_l2_loss: 0.0954 - loss: 0.2134 - learning_rate: 1.2968e-04 - gradient_norm: 2.7304 - val_det_loss: 0.0876 - val_cls_loss: 0.0831 - val_box_loss: 8.9187e-05 - val_reg_l2_loss: 0.0954 - val_loss: 0.1829\n",
            "Epoch 46/50\n",
            "176/176 [==============================] - 94s 534ms/step - det_loss: 0.1206 - cls_loss: 0.1113 - box_loss: 1.8716e-04 - reg_l2_loss: 0.0954 - loss: 0.2160 - learning_rate: 7.8879e-05 - gradient_norm: 2.9951 - val_det_loss: 0.0865 - val_cls_loss: 0.0821 - val_box_loss: 8.8645e-05 - val_reg_l2_loss: 0.0954 - val_loss: 0.1819\n",
            "Epoch 47/50\n",
            "176/176 [==============================] - 94s 536ms/step - det_loss: 0.1091 - cls_loss: 0.1000 - box_loss: 1.8200e-04 - reg_l2_loss: 0.0954 - loss: 0.2044 - learning_rate: 4.0592e-05 - gradient_norm: 2.3688 - val_det_loss: 0.0873 - val_cls_loss: 0.0830 - val_box_loss: 8.4987e-05 - val_reg_l2_loss: 0.0954 - val_loss: 0.1826\n",
            "Epoch 48/50\n",
            "176/176 [==============================] - 94s 533ms/step - det_loss: 0.1177 - cls_loss: 0.1078 - box_loss: 1.9768e-04 - reg_l2_loss: 0.0954 - loss: 0.2131 - learning_rate: 1.4979e-05 - gradient_norm: 2.7603 - val_det_loss: 0.0874 - val_cls_loss: 0.0830 - val_box_loss: 8.7287e-05 - val_reg_l2_loss: 0.0954 - val_loss: 0.1828\n",
            "Epoch 49/50\n",
            "176/176 [==============================] - 94s 533ms/step - det_loss: 0.1139 - cls_loss: 0.1045 - box_loss: 1.8777e-04 - reg_l2_loss: 0.0954 - loss: 0.2093 - learning_rate: 2.1466e-06 - gradient_norm: 2.5821 - val_det_loss: 0.0873 - val_cls_loss: 0.0830 - val_box_loss: 8.6172e-05 - val_reg_l2_loss: 0.0954 - val_loss: 0.1827\n",
            "Epoch 50/50\n",
            "176/176 [==============================] - 105s 595ms/step - det_loss: 0.1172 - cls_loss: 0.1083 - box_loss: 1.7695e-04 - reg_l2_loss: 0.0954 - loss: 0.2126 - learning_rate: 2.1462e-06 - gradient_norm: 2.8778 - val_det_loss: 0.0868 - val_cls_loss: 0.0824 - val_box_loss: 8.8395e-05 - val_reg_l2_loss: 0.0954 - val_loss: 0.1822\n"
          ]
        }
      ],
      "source": [
        "model = object_detector.create(train_dir, \n",
        "                               model_spec=spec, \n",
        "                               epochs=50, \n",
        "                               batch_size=5, \n",
        "                               train_whole_model=True, \n",
        "                               validation_data=validate_dir\n",
        "                               )"
      ]
    },
    {
      "cell_type": "code",
      "source": [
        "model.history"
      ],
      "metadata": {
        "id": "F6Nv-kXT9Wlh",
        "outputId": "7645f8a8-9260-4358-93f4-f7aa95ebc8b7",
        "colab": {
          "base_uri": "https://localhost:8080/",
          "height": 164
        }
      },
      "execution_count": 11,
      "outputs": [
        {
          "output_type": "error",
          "ename": "AttributeError",
          "evalue": "ignored",
          "traceback": [
            "\u001b[0;31m---------------------------------------------------------------------------\u001b[0m",
            "\u001b[0;31mAttributeError\u001b[0m                            Traceback (most recent call last)",
            "\u001b[0;32m<ipython-input-11-37691af34917>\u001b[0m in \u001b[0;36m<module>\u001b[0;34m()\u001b[0m\n\u001b[0;32m----> 1\u001b[0;31m \u001b[0mmodel\u001b[0m\u001b[0;34m.\u001b[0m\u001b[0mhistory\u001b[0m\u001b[0;34m\u001b[0m\u001b[0;34m\u001b[0m\u001b[0m\n\u001b[0m",
            "\u001b[0;31mAttributeError\u001b[0m: 'ObjectDetector' object has no attribute 'history'"
          ]
        }
      ]
    },
    {
      "cell_type": "markdown",
      "source": [
        "## Evaluating the model "
      ],
      "metadata": {
        "id": "i8r0YAIo9tLD"
      }
    },
    {
      "cell_type": "code",
      "source": [
        "model.evaluate(validate_dir,batch_size=5)"
      ],
      "metadata": {
        "id": "34FvBP799vWm",
        "outputId": "922102cc-2ccb-4e95-c0ed-895799cce77f",
        "colab": {
          "base_uri": "https://localhost:8080/"
        }
      },
      "execution_count": 12,
      "outputs": [
        {
          "output_type": "stream",
          "name": "stdout",
          "text": [
            "49/49 [==============================] - 17s 237ms/step\n",
            "\n"
          ]
        },
        {
          "output_type": "execute_result",
          "data": {
            "text/plain": [
              "{'AP': 0.90297824,\n",
              " 'AP50': 0.94939154,\n",
              " 'AP75': 0.936893,\n",
              " 'AP_/Casual Shirt': 0.9286085,\n",
              " 'AP_/Desgin sherwani': 0.8649864,\n",
              " 'AP_/Design Kurta': 0.8403961,\n",
              " 'AP_/Formal Shirt': 0.94987535,\n",
              " 'AP_/Plain kurta': 0.91531277,\n",
              " 'AP_/Plain sherwani': 0.90719414,\n",
              " 'AP_/tshirt': 0.9144746,\n",
              " 'APl': 0.9031828,\n",
              " 'APm': -1.0,\n",
              " 'APs': -1.0,\n",
              " 'ARl': 0.94684064,\n",
              " 'ARm': -1.0,\n",
              " 'ARmax1': 0.9308229,\n",
              " 'ARmax10': 0.9452167,\n",
              " 'ARmax100': 0.94684064,\n",
              " 'ARs': -1.0}"
            ]
          },
          "metadata": {},
          "execution_count": 12
        }
      ]
    },
    {
      "cell_type": "markdown",
      "source": [
        "## Saving Model "
      ],
      "metadata": {
        "id": "hSYSNYGI9XQd"
      }
    },
    {
      "cell_type": "code",
      "execution_count": 13,
      "metadata": {
        "id": "AJ9oA6_ALDeS"
      },
      "outputs": [],
      "source": [
        "model.export(export_dir='/content/')"
      ]
    }
  ],
  "metadata": {
    "accelerator": "GPU",
    "colab": {
      "collapsed_sections": [],
      "machine_shape": "hm",
      "name": "fashion dataset.ipynb",
      "provenance": []
    },
    "kernelspec": {
      "display_name": "Python 3",
      "name": "python3"
    },
    "language_info": {
      "name": "python"
    }
  },
  "nbformat": 4,
  "nbformat_minor": 0
}