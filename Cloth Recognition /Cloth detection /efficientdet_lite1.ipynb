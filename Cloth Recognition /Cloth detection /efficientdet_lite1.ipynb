{
  "cells": [
    {
      "cell_type": "markdown",
      "source": [
        "## Loading dataset "
      ],
      "metadata": {
        "id": "5tVI7uB_9Hez"
      }
    },
    {
      "cell_type": "code",
      "execution_count": 1,
      "metadata": {
        "id": "1LYZMlueITZL"
      },
      "outputs": [],
      "source": [
        "import os \n",
        "os.environ['KAGGLE_CONFIG_DIR'] = '/content'"
      ]
    },
    {
      "cell_type": "markdown",
      "source": [
        ""
      ],
      "metadata": {
        "id": "KQJprHFL9K0S"
      }
    },
    {
      "cell_type": "code",
      "execution_count": 2,
      "metadata": {
        "colab": {
          "base_uri": "https://localhost:8080/"
        },
        "id": "7HJFATrIId7P",
        "outputId": "7eb5542b-cdaf-44aa-8848-347943975311"
      },
      "outputs": [
        {
          "output_type": "stream",
          "name": "stdout",
          "text": [
            "Warning: Your Kaggle API key is readable by other users on this system! To fix this, you can run 'chmod 600 /content/kaggle.json'\n",
            "Downloading fashion.zip to /content\n",
            " 93% 177M/191M [00:01<00:00, 120MB/s]\n",
            "100% 191M/191M [00:01<00:00, 104MB/s]\n"
          ]
        }
      ],
      "source": [
        "! kaggle datasets download -d rahilmehtaucoe2784/fashion"
      ]
    },
    {
      "cell_type": "code",
      "execution_count": 3,
      "metadata": {
        "id": "1J2KVGkRIkan"
      },
      "outputs": [],
      "source": [
        "%%capture\n",
        "!unzip \\*.zip && rm *.zip &> /dev/null"
      ]
    },
    {
      "cell_type": "markdown",
      "source": [
        "## installing and importing Libraries "
      ],
      "metadata": {
        "id": "S4A81jNW9Mq7"
      }
    },
    {
      "cell_type": "code",
      "execution_count": 4,
      "metadata": {
        "colab": {
          "base_uri": "https://localhost:8080/"
        },
        "id": "LBPX2I6f8VbH",
        "outputId": "63346ab8-7d70-45ed-9ad7-cfcec277f80c"
      },
      "outputs": [
        {
          "output_type": "stream",
          "name": "stdout",
          "text": [
            "\u001b[K     |████████████████████████████████| 616 kB 9.8 MB/s \n",
            "\u001b[K     |████████████████████████████████| 1.1 MB 46.2 MB/s \n",
            "\u001b[K     |████████████████████████████████| 840 kB 41.7 MB/s \n",
            "\u001b[K     |████████████████████████████████| 3.4 MB 57.1 MB/s \n",
            "\u001b[K     |████████████████████████████████| 77 kB 5.8 MB/s \n",
            "\u001b[K     |████████████████████████████████| 596 kB 38.0 MB/s \n",
            "\u001b[K     |████████████████████████████████| 120 kB 55.6 MB/s \n",
            "\u001b[K     |████████████████████████████████| 234 kB 62.6 MB/s \n",
            "\u001b[K     |████████████████████████████████| 1.1 MB 57.2 MB/s \n",
            "\u001b[K     |████████████████████████████████| 6.4 MB 58.5 MB/s \n",
            "\u001b[K     |████████████████████████████████| 87 kB 6.4 MB/s \n",
            "\u001b[K     |████████████████████████████████| 1.2 MB 45.4 MB/s \n",
            "\u001b[K     |████████████████████████████████| 25.3 MB 42.5 MB/s \n",
            "\u001b[K     |████████████████████████████████| 352 kB 60.9 MB/s \n",
            "\u001b[K     |████████████████████████████████| 47.7 MB 1.2 MB/s \n",
            "\u001b[K     |████████████████████████████████| 99 kB 9.1 MB/s \n",
            "\u001b[K     |████████████████████████████████| 462 kB 62.0 MB/s \n",
            "\u001b[K     |████████████████████████████████| 211 kB 47.7 MB/s \n",
            "\u001b[?25h  Building wheel for fire (setup.py) ... \u001b[?25l\u001b[?25hdone\n",
            "  Building wheel for py-cpuinfo (setup.py) ... \u001b[?25l\u001b[?25hdone\n"
          ]
        }
      ],
      "source": [
        "!pip install -q tflite-model-maker\n",
        "!pip install -q pycocotools"
      ]
    },
    {
      "cell_type": "code",
      "execution_count": 5,
      "metadata": {
        "id": "06DKhsLi45v2"
      },
      "outputs": [],
      "source": [
        "import numpy as np\n",
        "import os\n",
        "\n",
        "#from tflite_model_maker.config import ExportFormat\n",
        "from tflite_model_maker import model_spec\n",
        "from tflite_model_maker import object_detector\n",
        "\n",
        "import tensorflow as tf\n",
        "assert tf.__version__.startswith('2')\n",
        "\n",
        "tf.get_logger().setLevel('ERROR')\n",
        "from absl import logging\n",
        "logging.set_verbosity(logging.ERROR)\n",
        "from tensorflow import keras"
      ]
    },
    {
      "cell_type": "code",
      "source": [
        ""
      ],
      "metadata": {
        "id": "ytwmMNWR9RNv"
      },
      "execution_count": null,
      "outputs": []
    },
    {
      "cell_type": "markdown",
      "source": [
        "## Training "
      ],
      "metadata": {
        "id": "yrtPmpQ49RlQ"
      }
    },
    {
      "cell_type": "code",
      "execution_count": 6,
      "metadata": {
        "id": "8m1Ma4LB48TK"
      },
      "outputs": [],
      "source": [
        "train_image_dir = '/content/Final Img copy 2/train'\n",
        "train_annotation_dir = '/content/Final Img copy 2/train anotation'\n",
        "validate_image_dir = '/content/Final Img copy 2/valid'\n",
        "validate_anaotation_dir = '/content/Final Img copy 2/valid anotation '"
      ]
    },
    {
      "cell_type": "code",
      "execution_count": 7,
      "metadata": {
        "id": "fNHc_8UJ4-v_"
      },
      "outputs": [],
      "source": [
        "\n",
        "spec = model_spec.get('efficientdet_lite2')"
      ]
    },
    {
      "cell_type": "code",
      "execution_count": 8,
      "metadata": {
        "id": "0CvbWzBl5BR_"
      },
      "outputs": [],
      "source": [
        "train_dir = object_detector.DataLoader.from_pascal_voc(train_image_dir, train_annotation_dir, label_map={1:\"Design Kurta\", 2: \"Plain kurta\", 3: \"Casual Shirt\", 4:\"Formal Shirt\", 5: \"Desgin sherwani\", 6:\"Plain sherwani\", 7:\"tshirt\"})"
      ]
    },
    {
      "cell_type": "code",
      "execution_count": 9,
      "metadata": {
        "id": "qc-JL6j45EwG"
      },
      "outputs": [],
      "source": [
        "validate_dir = object_detector.DataLoader.from_pascal_voc(validate_image_dir, validate_anaotation_dir, label_map={1:\"Design Kurta\", 2: \"Plain kurta\", 3: \"Casual Shirt\", 4:\"Formal Shirt\", 5: \"Desgin sherwani\", 6:\"Plain sherwani\",7:\"tshirt\"})"
      ]
    },
    {
      "cell_type": "code",
      "execution_count": 10,
      "metadata": {
        "colab": {
          "base_uri": "https://localhost:8080/"
        },
        "id": "GhOnS5GA5G_3",
        "outputId": "65fae80f-ca74-47cd-ab78-dde63ef791d2"
      },
      "outputs": [
        {
          "output_type": "stream",
          "name": "stdout",
          "text": [
            "Epoch 1/10\n",
            "176/176 [==============================] - 124s 385ms/step - det_loss: 1.1731 - cls_loss: 0.9191 - box_loss: 0.0051 - reg_l2_loss: 0.0769 - loss: 1.2500 - learning_rate: 0.0071 - gradient_norm: 3.4134 - val_det_loss: 0.7156 - val_cls_loss: 0.6668 - val_box_loss: 9.7651e-04 - val_reg_l2_loss: 0.0770 - val_loss: 0.7926\n",
            "Epoch 2/10\n",
            "176/176 [==============================] - 64s 364ms/step - det_loss: 0.6212 - cls_loss: 0.5315 - box_loss: 0.0018 - reg_l2_loss: 0.0771 - loss: 0.6983 - learning_rate: 0.0058 - gradient_norm: 3.7897 - val_det_loss: 0.5562 - val_cls_loss: 0.5322 - val_box_loss: 4.8096e-04 - val_reg_l2_loss: 0.0772 - val_loss: 0.6334\n",
            "Epoch 3/10\n",
            "176/176 [==============================] - 64s 367ms/step - det_loss: 0.5040 - cls_loss: 0.4399 - box_loss: 0.0013 - reg_l2_loss: 0.0772 - loss: 0.5813 - learning_rate: 0.0051 - gradient_norm: 3.3157 - val_det_loss: 0.4932 - val_cls_loss: 0.4697 - val_box_loss: 4.6964e-04 - val_reg_l2_loss: 0.0773 - val_loss: 0.5705\n",
            "Epoch 4/10\n",
            "176/176 [==============================] - 65s 368ms/step - det_loss: 0.4460 - cls_loss: 0.3952 - box_loss: 0.0010 - reg_l2_loss: 0.0773 - loss: 0.5233 - learning_rate: 0.0042 - gradient_norm: 3.0776 - val_det_loss: 0.4627 - val_cls_loss: 0.4421 - val_box_loss: 4.1192e-04 - val_reg_l2_loss: 0.0773 - val_loss: 0.5401\n",
            "Epoch 5/10\n",
            "176/176 [==============================] - 82s 464ms/step - det_loss: 0.4175 - cls_loss: 0.3734 - box_loss: 8.8205e-04 - reg_l2_loss: 0.0773 - loss: 0.4949 - learning_rate: 0.0031 - gradient_norm: 3.1433 - val_det_loss: 0.3872 - val_cls_loss: 0.3730 - val_box_loss: 2.8394e-04 - val_reg_l2_loss: 0.0773 - val_loss: 0.4645\n",
            "Epoch 6/10\n",
            "176/176 [==============================] - 64s 365ms/step - det_loss: 0.3836 - cls_loss: 0.3476 - box_loss: 7.1980e-04 - reg_l2_loss: 0.0774 - loss: 0.4609 - learning_rate: 0.0021 - gradient_norm: 3.0144 - val_det_loss: 0.3942 - val_cls_loss: 0.3779 - val_box_loss: 3.2582e-04 - val_reg_l2_loss: 0.0774 - val_loss: 0.4715\n",
            "Epoch 7/10\n",
            "176/176 [==============================] - 64s 362ms/step - det_loss: 0.3686 - cls_loss: 0.3362 - box_loss: 6.4971e-04 - reg_l2_loss: 0.0774 - loss: 0.4460 - learning_rate: 0.0011 - gradient_norm: 3.1376 - val_det_loss: 0.3844 - val_cls_loss: 0.3721 - val_box_loss: 2.4576e-04 - val_reg_l2_loss: 0.0774 - val_loss: 0.4618\n",
            "Epoch 8/10\n",
            "176/176 [==============================] - 64s 361ms/step - det_loss: 0.3579 - cls_loss: 0.3266 - box_loss: 6.2707e-04 - reg_l2_loss: 0.0774 - loss: 0.4353 - learning_rate: 4.3256e-04 - gradient_norm: 3.1746 - val_det_loss: 0.3656 - val_cls_loss: 0.3541 - val_box_loss: 2.2947e-04 - val_reg_l2_loss: 0.0774 - val_loss: 0.4429\n",
            "Epoch 9/10\n",
            "176/176 [==============================] - 65s 367ms/step - det_loss: 0.3465 - cls_loss: 0.3166 - box_loss: 5.9854e-04 - reg_l2_loss: 0.0774 - loss: 0.4239 - learning_rate: 6.3253e-05 - gradient_norm: 3.0804 - val_det_loss: 0.3677 - val_cls_loss: 0.3564 - val_box_loss: 2.2741e-04 - val_reg_l2_loss: 0.0774 - val_loss: 0.4451\n",
            "Epoch 10/10\n",
            "176/176 [==============================] - 74s 421ms/step - det_loss: 0.3447 - cls_loss: 0.3156 - box_loss: 5.8340e-04 - reg_l2_loss: 0.0774 - loss: 0.4221 - learning_rate: 6.3242e-05 - gradient_norm: 2.9969 - val_det_loss: 0.3689 - val_cls_loss: 0.3577 - val_box_loss: 2.2369e-04 - val_reg_l2_loss: 0.0774 - val_loss: 0.4462\n"
          ]
        }
      ],
      "source": [
        "model = object_detector.create(train_dir, \n",
        "                               model_spec=spec, \n",
        "                               epochs=10, \n",
        "                               batch_size=5, \n",
        "                               train_whole_model=True, \n",
        "                               validation_data=validate_dir\n",
        "                               )"
      ]
    },
    {
      "cell_type": "code",
      "source": [
        ""
      ],
      "metadata": {
        "id": "F6Nv-kXT9Wlh"
      },
      "execution_count": null,
      "outputs": []
    },
    {
      "cell_type": "markdown",
      "source": [
        "## Evaluating the model "
      ],
      "metadata": {
        "id": "i8r0YAIo9tLD"
      }
    },
    {
      "cell_type": "code",
      "source": [
        "model.evaluate(validate_dir,batch_size=5)"
      ],
      "metadata": {
        "id": "34FvBP799vWm",
        "outputId": "832769d1-271f-45ef-a522-a168cf931472",
        "colab": {
          "base_uri": "https://localhost:8080/"
        }
      },
      "execution_count": 11,
      "outputs": [
        {
          "output_type": "stream",
          "name": "stdout",
          "text": [
            "49/49 [==============================] - 16s 230ms/step\n",
            "\n"
          ]
        },
        {
          "output_type": "execute_result",
          "data": {
            "text/plain": [
              "{'AP': 0.5623024,\n",
              " 'AP50': 0.6482969,\n",
              " 'AP75': 0.6157329,\n",
              " 'AP_/Casual Shirt': 0.3045469,\n",
              " 'AP_/Desgin sherwani': 0.6994577,\n",
              " 'AP_/Design Kurta': 0.30914843,\n",
              " 'AP_/Formal Shirt': 0.63008463,\n",
              " 'AP_/Plain kurta': 0.4880242,\n",
              " 'AP_/Plain sherwani': 0.6473443,\n",
              " 'AP_/tshirt': 0.8575106,\n",
              " 'APl': 0.5632886,\n",
              " 'APm': -1.0,\n",
              " 'APs': -1.0,\n",
              " 'ARl': 0.8616061,\n",
              " 'ARm': -1.0,\n",
              " 'ARmax1': 0.8346547,\n",
              " 'ARmax10': 0.8616061,\n",
              " 'ARmax100': 0.8616061,\n",
              " 'ARs': -1.0}"
            ]
          },
          "metadata": {},
          "execution_count": 11
        }
      ]
    },
    {
      "cell_type": "markdown",
      "source": [
        "## Saving Model "
      ],
      "metadata": {
        "id": "hSYSNYGI9XQd"
      }
    },
    {
      "cell_type": "code",
      "execution_count": 12,
      "metadata": {
        "id": "AJ9oA6_ALDeS"
      },
      "outputs": [],
      "source": [
        "model.export(export_dir='/content/')"
      ]
    }
  ],
  "metadata": {
    "accelerator": "GPU",
    "colab": {
      "collapsed_sections": [],
      "machine_shape": "hm",
      "name": "fashion dataset.ipynb",
      "provenance": []
    },
    "kernelspec": {
      "display_name": "Python 3",
      "name": "python3"
    },
    "language_info": {
      "name": "python"
    }
  },
  "nbformat": 4,
  "nbformat_minor": 0
}