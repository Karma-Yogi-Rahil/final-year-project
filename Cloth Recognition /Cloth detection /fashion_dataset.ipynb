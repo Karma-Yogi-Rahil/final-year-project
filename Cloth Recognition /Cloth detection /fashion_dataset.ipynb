{
  "cells": [
    {
      "cell_type": "code",
      "execution_count": null,
      "metadata": {
        "id": "WvFWdX41DT3o"
      },
      "outputs": [],
      "source": [
        "from google.colab import drive\n",
        "drive.mount('/content/temp_drive')"
      ]
    },
    {
      "cell_type": "code",
      "execution_count": null,
      "metadata": {
        "colab": {
          "base_uri": "https://localhost:8080/"
        },
        "id": "LBPX2I6f8VbH",
        "outputId": "b1889e50-bf0e-4a19-ff55-e440fda4ccca"
      },
      "outputs": [
        {
          "output_type": "stream",
          "name": "stdout",
          "text": [
            "\u001b[K     |████████████████████████████████| 616 kB 5.2 MB/s \n",
            "\u001b[K     |████████████████████████████████| 77 kB 5.3 MB/s \n",
            "\u001b[K     |████████████████████████████████| 3.4 MB 62.2 MB/s \n",
            "\u001b[K     |████████████████████████████████| 213 kB 59.8 MB/s \n",
            "\u001b[K     |████████████████████████████████| 840 kB 53.2 MB/s \n",
            "\u001b[K     |████████████████████████████████| 596 kB 55.8 MB/s \n",
            "\u001b[K     |████████████████████████████████| 87 kB 6.2 MB/s \n",
            "\u001b[K     |████████████████████████████████| 1.1 MB 56.4 MB/s \n",
            "\u001b[K     |████████████████████████████████| 1.2 MB 62.6 MB/s \n",
            "\u001b[K     |████████████████████████████████| 1.1 MB 58.4 MB/s \n",
            "\u001b[K     |████████████████████████████████| 120 kB 52.7 MB/s \n",
            "\u001b[K     |████████████████████████████████| 6.4 MB 52.4 MB/s \n",
            "\u001b[K     |████████████████████████████████| 25.3 MB 1.5 MB/s \n",
            "\u001b[K     |████████████████████████████████| 352 kB 67.2 MB/s \n",
            "\u001b[K     |████████████████████████████████| 47.7 MB 1.2 MB/s \n",
            "\u001b[K     |████████████████████████████████| 99 kB 8.2 MB/s \n",
            "\u001b[K     |████████████████████████████████| 210 kB 63.5 MB/s \n",
            "\u001b[?25h  Building wheel for fire (setup.py) ... \u001b[?25l\u001b[?25hdone\n",
            "  Building wheel for py-cpuinfo (setup.py) ... \u001b[?25l\u001b[?25hdone\n"
          ]
        }
      ],
      "source": [
        "!pip install -q tflite-model-maker\n",
        "!pip install -q pycocotools"
      ]
    },
    {
      "cell_type": "code",
      "execution_count": null,
      "metadata": {
        "colab": {
          "base_uri": "https://localhost:8080/",
          "height": 599
        },
        "id": "Rr9DtxjZ4x8o",
        "outputId": "c57df75c-1d33-49de-f435-bc6f70cc2fc3"
      },
      "outputs": [
        {
          "output_type": "stream",
          "name": "stdout",
          "text": [
            "Collecting imageai==2.1.5\n",
            "  Downloading imageai-2.1.5-py3-none-any.whl (180 kB)\n",
            "\u001b[K     |████████████████████████████████| 180 kB 5.2 MB/s \n",
            "\u001b[?25hRequirement already satisfied: pillow in /usr/local/lib/python3.7/dist-packages (from imageai==2.1.5) (7.1.2)\n",
            "Requirement already satisfied: matplotlib in /usr/local/lib/python3.7/dist-packages (from imageai==2.1.5) (3.2.2)\n",
            "Requirement already satisfied: scipy in /usr/local/lib/python3.7/dist-packages (from imageai==2.1.5) (1.4.1)\n",
            "Requirement already satisfied: h5py in /usr/local/lib/python3.7/dist-packages (from imageai==2.1.5) (3.1.0)\n",
            "Requirement already satisfied: numpy in /usr/local/lib/python3.7/dist-packages (from imageai==2.1.5) (1.19.5)\n",
            "Requirement already satisfied: cached-property in /usr/local/lib/python3.7/dist-packages (from h5py->imageai==2.1.5) (1.5.2)\n",
            "Requirement already satisfied: python-dateutil>=2.1 in /usr/local/lib/python3.7/dist-packages (from matplotlib->imageai==2.1.5) (2.8.2)\n",
            "Requirement already satisfied: kiwisolver>=1.0.1 in /usr/local/lib/python3.7/dist-packages (from matplotlib->imageai==2.1.5) (1.3.2)\n",
            "Requirement already satisfied: cycler>=0.10 in /usr/local/lib/python3.7/dist-packages (from matplotlib->imageai==2.1.5) (0.11.0)\n",
            "Requirement already satisfied: pyparsing!=2.0.4,!=2.1.2,!=2.1.6,>=2.0.1 in /usr/local/lib/python3.7/dist-packages (from matplotlib->imageai==2.1.5) (3.0.7)\n",
            "Requirement already satisfied: six>=1.5 in /usr/local/lib/python3.7/dist-packages (from python-dateutil>=2.1->matplotlib->imageai==2.1.5) (1.15.0)\n",
            "Installing collected packages: imageai\n",
            "Successfully installed imageai-2.1.5\n",
            "Collecting pillow==7.1.0\n",
            "  Downloading Pillow-7.1.0-cp37-cp37m-manylinux1_x86_64.whl (2.1 MB)\n",
            "\u001b[K     |████████████████████████████████| 2.1 MB 5.1 MB/s \n",
            "\u001b[?25hInstalling collected packages: pillow\n",
            "  Attempting uninstall: pillow\n",
            "    Found existing installation: Pillow 7.1.2\n",
            "    Uninstalling Pillow-7.1.2:\n",
            "      Successfully uninstalled Pillow-7.1.2\n",
            "\u001b[31mERROR: pip's dependency resolver does not currently take into account all the packages that are installed. This behaviour is the source of the following dependency conflicts.\n",
            "scikit-image 0.18.3 requires pillow!=7.1.0,!=7.1.1,>=4.3.0, but you have pillow 7.1.0 which is incompatible.\n",
            "albumentations 0.1.12 requires imgaug<0.2.7,>=0.2.5, but you have imgaug 0.2.9 which is incompatible.\u001b[0m\n",
            "Successfully installed pillow-7.1.0\n"
          ]
        },
        {
          "output_type": "display_data",
          "data": {
            "application/vnd.colab-display-data+json": {
              "pip_warning": {
                "packages": [
                  "PIL"
                ]
              }
            }
          },
          "metadata": {}
        }
      ],
      "source": [
        "!pip install imageai==2.1.5\n",
        "!pip install pillow==7.1.0"
      ]
    },
    {
      "cell_type": "code",
      "execution_count": null,
      "metadata": {
        "id": "1LYZMlueITZL"
      },
      "outputs": [],
      "source": [
        "import os \n",
        "os.environ['KAGGLE_CONFIG_DIR'] = '/content'"
      ]
    },
    {
      "cell_type": "code",
      "execution_count": null,
      "metadata": {
        "colab": {
          "base_uri": "https://localhost:8080/"
        },
        "id": "7HJFATrIId7P",
        "outputId": "248ad792-e1df-4c8c-a450-ab2473eb07c9"
      },
      "outputs": [
        {
          "output_type": "stream",
          "name": "stdout",
          "text": [
            "Warning: Your Kaggle API key is readable by other users on this system! To fix this, you can run 'chmod 600 /content/kaggle.json'\n",
            "Downloading fashion.zip to /content\n",
            " 95% 151M/159M [00:00<00:00, 211MB/s]\n",
            "100% 159M/159M [00:00<00:00, 218MB/s]\n"
          ]
        }
      ],
      "source": [
        "! kaggle datasets download -d rahilmehtaucoe2784/fashion"
      ]
    },
    {
      "cell_type": "code",
      "execution_count": null,
      "metadata": {
        "id": "1J2KVGkRIkan"
      },
      "outputs": [],
      "source": [
        "%%capture\n",
        "!unzip \\*.zip && rm *.zip &> /dev/null"
      ]
    },
    {
      "cell_type": "code",
      "execution_count": null,
      "metadata": {
        "id": "06DKhsLi45v2"
      },
      "outputs": [],
      "source": [
        "import numpy as np\n",
        "import os\n",
        "\n",
        "#from tflite_model_maker.config import ExportFormat\n",
        "from tflite_model_maker import model_spec\n",
        "from tflite_model_maker import object_detector\n",
        "\n",
        "import tensorflow as tf\n",
        "assert tf.__version__.startswith('2')\n",
        "\n",
        "tf.get_logger().setLevel('ERROR')\n",
        "from absl import logging\n",
        "logging.set_verbosity(logging.ERROR)\n",
        "from tensorflow import keras"
      ]
    },
    {
      "cell_type": "code",
      "execution_count": null,
      "metadata": {
        "id": "8m1Ma4LB48TK"
      },
      "outputs": [],
      "source": [
        "train_image_dir = '/content/train'\n",
        "train_annotation_dir = '/content/train anotation'\n",
        "validate_image_dir = '/content/valid'\n",
        "validate_anaotation_dir = '/content/valid anotation '"
      ]
    },
    {
      "cell_type": "code",
      "execution_count": null,
      "metadata": {
        "id": "fNHc_8UJ4-v_"
      },
      "outputs": [],
      "source": [
        "\n",
        "spec = model_spec.get('efficientdet_lite4')"
      ]
    },
    {
      "cell_type": "code",
      "execution_count": null,
      "metadata": {
        "id": "0CvbWzBl5BR_"
      },
      "outputs": [],
      "source": [
        "train_dir = object_detector.DataLoader.from_pascal_voc(train_image_dir, train_annotation_dir, label_map={1:\"Design Kurta\", 2: \"Plain kurta\", 3: \"Casual Shirt\", 4:\"Formal Shirt\", 5: \"Desgin sherwani\", 6:\"Plain sherwani\", 7:\"tshirt\"})"
      ]
    },
    {
      "cell_type": "code",
      "execution_count": null,
      "metadata": {
        "id": "qc-JL6j45EwG"
      },
      "outputs": [],
      "source": [
        "validate_dir = object_detector.DataLoader.from_pascal_voc(validate_image_dir, validate_anaotation_dir, label_map={1:\"Design Kurta\", 2: \"Plain kurta\", 3: \"Casual Shirt\", 4:\"Formal Shirt\", 5: \"Desgin sherwani\", 6:\"Plain sherwani\",7:\"tshirt\"})"
      ]
    },
    {
      "cell_type": "code",
      "execution_count": null,
      "metadata": {
        "colab": {
          "base_uri": "https://localhost:8080/"
        },
        "id": "GhOnS5GA5G_3",
        "outputId": "39c6771f-e8fc-4272-8184-56aec4320815"
      },
      "outputs": [
        {
          "output_type": "stream",
          "name": "stdout",
          "text": [
            "Epoch 1/70\n",
            "128/128 [==============================] - 201s 987ms/step - det_loss: 1.2458 - cls_loss: 0.9795 - box_loss: 0.0053 - reg_l2_loss: 0.1086 - loss: 1.3544 - learning_rate: 0.0071 - gradient_norm: 2.9704 - val_det_loss: 0.7553 - val_cls_loss: 0.6194 - val_box_loss: 0.0027 - val_reg_l2_loss: 0.1087 - val_loss: 0.8640\n",
            "Epoch 2/70\n",
            "128/128 [==============================] - 121s 942ms/step - det_loss: 0.6118 - cls_loss: 0.5452 - box_loss: 0.0013 - reg_l2_loss: 0.1087 - loss: 0.7205 - learning_rate: 0.0062 - gradient_norm: 3.3516 - val_det_loss: 0.4850 - val_cls_loss: 0.3964 - val_box_loss: 0.0018 - val_reg_l2_loss: 0.1088 - val_loss: 0.5938\n",
            "Epoch 3/70\n",
            "128/128 [==============================] - 121s 943ms/step - det_loss: 0.5017 - cls_loss: 0.4578 - box_loss: 8.7800e-04 - reg_l2_loss: 0.1088 - loss: 0.6105 - learning_rate: 0.0062 - gradient_norm: 3.2782 - val_det_loss: 0.4747 - val_cls_loss: 0.4342 - val_box_loss: 8.0857e-04 - val_reg_l2_loss: 0.1089 - val_loss: 0.5835\n",
            "Epoch 4/70\n",
            "128/128 [==============================] - 121s 944ms/step - det_loss: 0.4412 - cls_loss: 0.4056 - box_loss: 7.1224e-04 - reg_l2_loss: 0.1089 - loss: 0.5501 - learning_rate: 0.0062 - gradient_norm: 3.3789 - val_det_loss: 0.4279 - val_cls_loss: 0.4014 - val_box_loss: 5.2983e-04 - val_reg_l2_loss: 0.1090 - val_loss: 0.5368\n",
            "Epoch 5/70\n",
            "128/128 [==============================] - 140s 1s/step - det_loss: 0.4205 - cls_loss: 0.3910 - box_loss: 5.9018e-04 - reg_l2_loss: 0.1090 - loss: 0.5296 - learning_rate: 0.0062 - gradient_norm: 3.4518 - val_det_loss: 0.3356 - val_cls_loss: 0.3115 - val_box_loss: 4.8256e-04 - val_reg_l2_loss: 0.1090 - val_loss: 0.4446\n",
            "Epoch 6/70\n",
            "128/128 [==============================] - 121s 942ms/step - det_loss: 0.3912 - cls_loss: 0.3639 - box_loss: 5.4482e-04 - reg_l2_loss: 0.1091 - loss: 0.5002 - learning_rate: 0.0062 - gradient_norm: 3.3316 - val_det_loss: 0.3180 - val_cls_loss: 0.2913 - val_box_loss: 5.3427e-04 - val_reg_l2_loss: 0.1091 - val_loss: 0.4271\n",
            "Epoch 7/70\n",
            "128/128 [==============================] - 121s 946ms/step - det_loss: 0.3790 - cls_loss: 0.3540 - box_loss: 4.9940e-04 - reg_l2_loss: 0.1092 - loss: 0.4882 - learning_rate: 0.0061 - gradient_norm: 3.3839 - val_det_loss: 0.3322 - val_cls_loss: 0.3126 - val_box_loss: 3.9189e-04 - val_reg_l2_loss: 0.1092 - val_loss: 0.4414\n",
            "Epoch 8/70\n",
            "128/128 [==============================] - 121s 944ms/step - det_loss: 0.3570 - cls_loss: 0.3304 - box_loss: 5.3230e-04 - reg_l2_loss: 0.1092 - loss: 0.4662 - learning_rate: 0.0061 - gradient_norm: 3.4012 - val_det_loss: 0.2919 - val_cls_loss: 0.2736 - val_box_loss: 3.6593e-04 - val_reg_l2_loss: 0.1093 - val_loss: 0.4011\n",
            "Epoch 9/70\n",
            "128/128 [==============================] - 121s 944ms/step - det_loss: 0.3338 - cls_loss: 0.3150 - box_loss: 3.7422e-04 - reg_l2_loss: 0.1093 - loss: 0.4431 - learning_rate: 0.0060 - gradient_norm: 2.9438 - val_det_loss: 0.2132 - val_cls_loss: 0.1988 - val_box_loss: 2.8864e-04 - val_reg_l2_loss: 0.1093 - val_loss: 0.3225\n",
            "Epoch 10/70\n",
            "128/128 [==============================] - 134s 1s/step - det_loss: 0.3250 - cls_loss: 0.3047 - box_loss: 4.0664e-04 - reg_l2_loss: 0.1093 - loss: 0.4344 - learning_rate: 0.0060 - gradient_norm: 3.4694 - val_det_loss: 0.2545 - val_cls_loss: 0.2324 - val_box_loss: 4.4318e-04 - val_reg_l2_loss: 0.1094 - val_loss: 0.3639\n",
            "Epoch 11/70\n",
            "128/128 [==============================] - 121s 944ms/step - det_loss: 0.3268 - cls_loss: 0.3060 - box_loss: 4.1584e-04 - reg_l2_loss: 0.1094 - loss: 0.4362 - learning_rate: 0.0059 - gradient_norm: 3.3698 - val_det_loss: 0.2041 - val_cls_loss: 0.1892 - val_box_loss: 2.9798e-04 - val_reg_l2_loss: 0.1094 - val_loss: 0.3135\n",
            "Epoch 12/70\n",
            "128/128 [==============================] - 121s 943ms/step - det_loss: 0.3170 - cls_loss: 0.2985 - box_loss: 3.7070e-04 - reg_l2_loss: 0.1095 - loss: 0.4265 - learning_rate: 0.0058 - gradient_norm: 3.5812 - val_det_loss: 0.3481 - val_cls_loss: 0.3355 - val_box_loss: 2.5217e-04 - val_reg_l2_loss: 0.1095 - val_loss: 0.4577\n",
            "Epoch 13/70\n",
            "128/128 [==============================] - 120s 939ms/step - det_loss: 0.3023 - cls_loss: 0.2867 - box_loss: 3.1324e-04 - reg_l2_loss: 0.1095 - loss: 0.4119 - learning_rate: 0.0058 - gradient_norm: 3.2823 - val_det_loss: 0.4617 - val_cls_loss: 0.3873 - val_box_loss: 0.0015 - val_reg_l2_loss: 0.1096 - val_loss: 0.5713\n",
            "Epoch 14/70\n",
            "128/128 [==============================] - 120s 941ms/step - det_loss: 0.3061 - cls_loss: 0.2880 - box_loss: 3.6269e-04 - reg_l2_loss: 0.1096 - loss: 0.4157 - learning_rate: 0.0057 - gradient_norm: 3.2823 - val_det_loss: 0.2997 - val_cls_loss: 0.2846 - val_box_loss: 3.0211e-04 - val_reg_l2_loss: 0.1096 - val_loss: 0.4093\n",
            "Epoch 15/70\n",
            "128/128 [==============================] - 132s 1s/step - det_loss: 0.2854 - cls_loss: 0.2662 - box_loss: 3.8337e-04 - reg_l2_loss: 0.1097 - loss: 0.3950 - learning_rate: 0.0056 - gradient_norm: 3.4204 - val_det_loss: 0.2254 - val_cls_loss: 0.1634 - val_box_loss: 0.0012 - val_reg_l2_loss: 0.1097 - val_loss: 0.3350\n",
            "Epoch 16/70\n",
            "128/128 [==============================] - 120s 939ms/step - det_loss: 0.2656 - cls_loss: 0.2496 - box_loss: 3.1882e-04 - reg_l2_loss: 0.1097 - loss: 0.3753 - learning_rate: 0.0055 - gradient_norm: 3.8006 - val_det_loss: 0.2326 - val_cls_loss: 0.1877 - val_box_loss: 8.9861e-04 - val_reg_l2_loss: 0.1098 - val_loss: 0.3424\n",
            "Epoch 17/70\n",
            "128/128 [==============================] - 120s 940ms/step - det_loss: 0.2759 - cls_loss: 0.2602 - box_loss: 3.1414e-04 - reg_l2_loss: 0.1098 - loss: 0.3857 - learning_rate: 0.0054 - gradient_norm: 3.8855 - val_det_loss: 0.1854 - val_cls_loss: 0.1679 - val_box_loss: 3.4873e-04 - val_reg_l2_loss: 0.1098 - val_loss: 0.2952\n",
            "Epoch 18/70\n",
            "128/128 [==============================] - 121s 944ms/step - det_loss: 0.2589 - cls_loss: 0.2437 - box_loss: 3.0344e-04 - reg_l2_loss: 0.1099 - loss: 0.3688 - learning_rate: 0.0053 - gradient_norm: 3.6003 - val_det_loss: 0.1442 - val_cls_loss: 0.1274 - val_box_loss: 3.3523e-04 - val_reg_l2_loss: 0.1099 - val_loss: 0.2541\n",
            "Epoch 19/70\n",
            "128/128 [==============================] - 122s 951ms/step - det_loss: 0.2512 - cls_loss: 0.2367 - box_loss: 2.9046e-04 - reg_l2_loss: 0.1099 - loss: 0.3612 - learning_rate: 0.0052 - gradient_norm: 3.8736 - val_det_loss: 0.2052 - val_cls_loss: 0.1585 - val_box_loss: 9.3450e-04 - val_reg_l2_loss: 0.1100 - val_loss: 0.3152\n",
            "Epoch 20/70\n",
            "128/128 [==============================] - 132s 1s/step - det_loss: 0.2507 - cls_loss: 0.2368 - box_loss: 2.7858e-04 - reg_l2_loss: 0.1100 - loss: 0.3607 - learning_rate: 0.0051 - gradient_norm: 3.9902 - val_det_loss: 0.1470 - val_cls_loss: 0.1310 - val_box_loss: 3.2123e-04 - val_reg_l2_loss: 0.1101 - val_loss: 0.2571\n",
            "Epoch 21/70\n",
            "128/128 [==============================] - 121s 945ms/step - det_loss: 0.2364 - cls_loss: 0.2220 - box_loss: 2.8764e-04 - reg_l2_loss: 0.1101 - loss: 0.3465 - learning_rate: 0.0050 - gradient_norm: 3.6130 - val_det_loss: 0.1877 - val_cls_loss: 0.1472 - val_box_loss: 8.1104e-04 - val_reg_l2_loss: 0.1101 - val_loss: 0.2978\n",
            "Epoch 22/70\n",
            "128/128 [==============================] - 120s 941ms/step - det_loss: 0.2314 - cls_loss: 0.2155 - box_loss: 3.1701e-04 - reg_l2_loss: 0.1102 - loss: 0.3416 - learning_rate: 0.0049 - gradient_norm: 4.1488 - val_det_loss: 0.1426 - val_cls_loss: 0.1281 - val_box_loss: 2.8960e-04 - val_reg_l2_loss: 0.1102 - val_loss: 0.2528\n",
            "Epoch 23/70\n",
            "128/128 [==============================] - 121s 947ms/step - det_loss: 0.2293 - cls_loss: 0.2156 - box_loss: 2.7467e-04 - reg_l2_loss: 0.1102 - loss: 0.3396 - learning_rate: 0.0047 - gradient_norm: 3.8437 - val_det_loss: 0.1199 - val_cls_loss: 0.1108 - val_box_loss: 1.8153e-04 - val_reg_l2_loss: 0.1103 - val_loss: 0.2301\n",
            "Epoch 24/70\n",
            "128/128 [==============================] - 122s 950ms/step - det_loss: 0.2225 - cls_loss: 0.2107 - box_loss: 2.3729e-04 - reg_l2_loss: 0.1103 - loss: 0.3328 - learning_rate: 0.0046 - gradient_norm: 3.9338 - val_det_loss: 0.1319 - val_cls_loss: 0.1135 - val_box_loss: 3.6823e-04 - val_reg_l2_loss: 0.1103 - val_loss: 0.2423\n",
            "Epoch 25/70\n",
            "128/128 [==============================] - 132s 1s/step - det_loss: 0.2006 - cls_loss: 0.1878 - box_loss: 2.5591e-04 - reg_l2_loss: 0.1104 - loss: 0.3109 - learning_rate: 0.0045 - gradient_norm: 3.8491 - val_det_loss: 0.1140 - val_cls_loss: 0.1038 - val_box_loss: 2.0365e-04 - val_reg_l2_loss: 0.1104 - val_loss: 0.2244\n",
            "Epoch 26/70\n",
            "128/128 [==============================] - 121s 945ms/step - det_loss: 0.2057 - cls_loss: 0.1937 - box_loss: 2.4064e-04 - reg_l2_loss: 0.1104 - loss: 0.3161 - learning_rate: 0.0044 - gradient_norm: 3.5643 - val_det_loss: 0.1543 - val_cls_loss: 0.1456 - val_box_loss: 1.7448e-04 - val_reg_l2_loss: 0.1104 - val_loss: 0.2648\n",
            "Epoch 27/70\n",
            "128/128 [==============================] - 121s 944ms/step - det_loss: 0.1916 - cls_loss: 0.1789 - box_loss: 2.5306e-04 - reg_l2_loss: 0.1104 - loss: 0.3020 - learning_rate: 0.0042 - gradient_norm: 3.5516 - val_det_loss: 0.1552 - val_cls_loss: 0.1346 - val_box_loss: 4.1336e-04 - val_reg_l2_loss: 0.1105 - val_loss: 0.2657\n",
            "Epoch 28/70\n",
            "128/128 [==============================] - 121s 943ms/step - det_loss: 0.1889 - cls_loss: 0.1773 - box_loss: 2.3222e-04 - reg_l2_loss: 0.1105 - loss: 0.2994 - learning_rate: 0.0041 - gradient_norm: 3.4389 - val_det_loss: 0.1425 - val_cls_loss: 0.1142 - val_box_loss: 5.6687e-04 - val_reg_l2_loss: 0.1105 - val_loss: 0.2530\n",
            "Epoch 29/70\n",
            "128/128 [==============================] - 122s 951ms/step - det_loss: 0.2073 - cls_loss: 0.1952 - box_loss: 2.4286e-04 - reg_l2_loss: 0.1105 - loss: 0.3179 - learning_rate: 0.0040 - gradient_norm: 4.1944 - val_det_loss: 0.1679 - val_cls_loss: 0.1329 - val_box_loss: 6.9899e-04 - val_reg_l2_loss: 0.1106 - val_loss: 0.2784\n",
            "Epoch 30/70\n",
            "128/128 [==============================] - 131s 1s/step - det_loss: 0.1807 - cls_loss: 0.1696 - box_loss: 2.2123e-04 - reg_l2_loss: 0.1106 - loss: 0.2913 - learning_rate: 0.0038 - gradient_norm: 3.4930 - val_det_loss: 0.1256 - val_cls_loss: 0.1130 - val_box_loss: 2.5239e-04 - val_reg_l2_loss: 0.1106 - val_loss: 0.2362\n",
            "Epoch 31/70\n",
            "128/128 [==============================] - 121s 945ms/step - det_loss: 0.1764 - cls_loss: 0.1656 - box_loss: 2.1460e-04 - reg_l2_loss: 0.1106 - loss: 0.2870 - learning_rate: 0.0037 - gradient_norm: 3.6684 - val_det_loss: 0.0901 - val_cls_loss: 0.0805 - val_box_loss: 1.9242e-04 - val_reg_l2_loss: 0.1106 - val_loss: 0.2007\n",
            "Epoch 32/70\n",
            "128/128 [==============================] - 121s 944ms/step - det_loss: 0.1747 - cls_loss: 0.1653 - box_loss: 1.8941e-04 - reg_l2_loss: 0.1106 - loss: 0.2853 - learning_rate: 0.0036 - gradient_norm: 3.3186 - val_det_loss: 0.1493 - val_cls_loss: 0.1148 - val_box_loss: 6.9047e-04 - val_reg_l2_loss: 0.1106 - val_loss: 0.2600\n",
            "Epoch 33/70\n",
            "128/128 [==============================] - 121s 946ms/step - det_loss: 0.1530 - cls_loss: 0.1437 - box_loss: 1.8632e-04 - reg_l2_loss: 0.1106 - loss: 0.2636 - learning_rate: 0.0034 - gradient_norm: 3.0876 - val_det_loss: 0.0976 - val_cls_loss: 0.0854 - val_box_loss: 2.4431e-04 - val_reg_l2_loss: 0.1106 - val_loss: 0.2082\n",
            "Epoch 34/70\n",
            "128/128 [==============================] - 122s 953ms/step - det_loss: 0.1628 - cls_loss: 0.1536 - box_loss: 1.8307e-04 - reg_l2_loss: 0.1106 - loss: 0.2734 - learning_rate: 0.0033 - gradient_norm: 3.9107 - val_det_loss: 0.0934 - val_cls_loss: 0.0859 - val_box_loss: 1.5119e-04 - val_reg_l2_loss: 0.1107 - val_loss: 0.2041\n",
            "Epoch 35/70\n",
            "128/128 [==============================] - 132s 1s/step - det_loss: 0.1548 - cls_loss: 0.1450 - box_loss: 1.9598e-04 - reg_l2_loss: 0.1107 - loss: 0.2654 - learning_rate: 0.0031 - gradient_norm: 3.7660 - val_det_loss: 0.0906 - val_cls_loss: 0.0814 - val_box_loss: 1.8454e-04 - val_reg_l2_loss: 0.1107 - val_loss: 0.2013\n",
            "Epoch 36/70\n",
            "128/128 [==============================] - 121s 943ms/step - det_loss: 0.1502 - cls_loss: 0.1419 - box_loss: 1.6520e-04 - reg_l2_loss: 0.1107 - loss: 0.2609 - learning_rate: 0.0030 - gradient_norm: 3.4516 - val_det_loss: 0.1043 - val_cls_loss: 0.0949 - val_box_loss: 1.8847e-04 - val_reg_l2_loss: 0.1107 - val_loss: 0.2150\n",
            "Epoch 37/70\n",
            "128/128 [==============================] - 121s 944ms/step - det_loss: 0.1413 - cls_loss: 0.1323 - box_loss: 1.7994e-04 - reg_l2_loss: 0.1107 - loss: 0.2520 - learning_rate: 0.0028 - gradient_norm: 3.2603 - val_det_loss: 0.0960 - val_cls_loss: 0.0775 - val_box_loss: 3.6840e-04 - val_reg_l2_loss: 0.1107 - val_loss: 0.2067\n",
            "Epoch 38/70\n",
            "128/128 [==============================] - 121s 946ms/step - det_loss: 0.1480 - cls_loss: 0.1399 - box_loss: 1.6250e-04 - reg_l2_loss: 0.1107 - loss: 0.2588 - learning_rate: 0.0027 - gradient_norm: 3.8645 - val_det_loss: 0.1597 - val_cls_loss: 0.1185 - val_box_loss: 8.2388e-04 - val_reg_l2_loss: 0.1107 - val_loss: 0.2704\n",
            "Epoch 39/70\n",
            "128/128 [==============================] - 122s 954ms/step - det_loss: 0.1318 - cls_loss: 0.1232 - box_loss: 1.7244e-04 - reg_l2_loss: 0.1107 - loss: 0.2426 - learning_rate: 0.0026 - gradient_norm: 3.2638 - val_det_loss: 0.1026 - val_cls_loss: 0.0873 - val_box_loss: 3.0570e-04 - val_reg_l2_loss: 0.1107 - val_loss: 0.2133\n",
            "Epoch 40/70\n",
            "128/128 [==============================] - 132s 1s/step - det_loss: 0.1452 - cls_loss: 0.1358 - box_loss: 1.8720e-04 - reg_l2_loss: 0.1107 - loss: 0.2559 - learning_rate: 0.0024 - gradient_norm: 3.8275 - val_det_loss: 0.1087 - val_cls_loss: 0.1002 - val_box_loss: 1.7042e-04 - val_reg_l2_loss: 0.1107 - val_loss: 0.2195\n",
            "Epoch 41/70\n",
            "128/128 [==============================] - 121s 944ms/step - det_loss: 0.1367 - cls_loss: 0.1272 - box_loss: 1.9067e-04 - reg_l2_loss: 0.1108 - loss: 0.2475 - learning_rate: 0.0023 - gradient_norm: 3.4676 - val_det_loss: 0.0848 - val_cls_loss: 0.0750 - val_box_loss: 1.9715e-04 - val_reg_l2_loss: 0.1108 - val_loss: 0.1956\n",
            "Epoch 42/70\n",
            "128/128 [==============================] - 121s 942ms/step - det_loss: 0.1316 - cls_loss: 0.1231 - box_loss: 1.7174e-04 - reg_l2_loss: 0.1108 - loss: 0.2424 - learning_rate: 0.0021 - gradient_norm: 3.2362 - val_det_loss: 0.0743 - val_cls_loss: 0.0682 - val_box_loss: 1.2228e-04 - val_reg_l2_loss: 0.1108 - val_loss: 0.1851\n",
            "Epoch 43/70\n",
            "128/128 [==============================] - 121s 946ms/step - det_loss: 0.1318 - cls_loss: 0.1234 - box_loss: 1.6743e-04 - reg_l2_loss: 0.1108 - loss: 0.2426 - learning_rate: 0.0020 - gradient_norm: 3.3637 - val_det_loss: 0.0689 - val_cls_loss: 0.0617 - val_box_loss: 1.4409e-04 - val_reg_l2_loss: 0.1108 - val_loss: 0.1796\n",
            "Epoch 44/70\n",
            "128/128 [==============================] - 122s 952ms/step - det_loss: 0.1189 - cls_loss: 0.1112 - box_loss: 1.5318e-04 - reg_l2_loss: 0.1108 - loss: 0.2296 - learning_rate: 0.0019 - gradient_norm: 2.9167 - val_det_loss: 0.0686 - val_cls_loss: 0.0638 - val_box_loss: 9.4723e-05 - val_reg_l2_loss: 0.1108 - val_loss: 0.1793\n",
            "Epoch 45/70\n",
            "128/128 [==============================] - 131s 1s/step - det_loss: 0.1106 - cls_loss: 0.1024 - box_loss: 1.6348e-04 - reg_l2_loss: 0.1108 - loss: 0.2213 - learning_rate: 0.0018 - gradient_norm: 2.8219 - val_det_loss: 0.0706 - val_cls_loss: 0.0653 - val_box_loss: 1.0644e-04 - val_reg_l2_loss: 0.1107 - val_loss: 0.1814\n",
            "Epoch 46/70\n",
            "128/128 [==============================] - 121s 946ms/step - det_loss: 0.1188 - cls_loss: 0.1122 - box_loss: 1.3343e-04 - reg_l2_loss: 0.1107 - loss: 0.2296 - learning_rate: 0.0016 - gradient_norm: 3.1653 - val_det_loss: 0.1201 - val_cls_loss: 0.1144 - val_box_loss: 1.1441e-04 - val_reg_l2_loss: 0.1107 - val_loss: 0.2309\n",
            "Epoch 47/70\n",
            "128/128 [==============================] - 121s 945ms/step - det_loss: 0.1056 - cls_loss: 0.0984 - box_loss: 1.4421e-04 - reg_l2_loss: 0.1107 - loss: 0.2163 - learning_rate: 0.0015 - gradient_norm: 2.6930 - val_det_loss: 0.0741 - val_cls_loss: 0.0672 - val_box_loss: 1.3735e-04 - val_reg_l2_loss: 0.1107 - val_loss: 0.1848\n",
            "Epoch 48/70\n",
            "128/128 [==============================] - 121s 945ms/step - det_loss: 0.1083 - cls_loss: 0.1001 - box_loss: 1.6415e-04 - reg_l2_loss: 0.1107 - loss: 0.2191 - learning_rate: 0.0014 - gradient_norm: 2.9207 - val_det_loss: 0.0693 - val_cls_loss: 0.0618 - val_box_loss: 1.5125e-04 - val_reg_l2_loss: 0.1107 - val_loss: 0.1801\n",
            "Epoch 49/70\n",
            "128/128 [==============================] - 121s 943ms/step - det_loss: 0.1116 - cls_loss: 0.1043 - box_loss: 1.4515e-04 - reg_l2_loss: 0.1107 - loss: 0.2223 - learning_rate: 0.0013 - gradient_norm: 2.9777 - val_det_loss: 0.0694 - val_cls_loss: 0.0633 - val_box_loss: 1.2235e-04 - val_reg_l2_loss: 0.1107 - val_loss: 0.1802\n",
            "Epoch 50/70\n",
            "128/128 [==============================] - 132s 1s/step - det_loss: 0.1012 - cls_loss: 0.0938 - box_loss: 1.4776e-04 - reg_l2_loss: 0.1107 - loss: 0.2119 - learning_rate: 0.0012 - gradient_norm: 2.4359 - val_det_loss: 0.0666 - val_cls_loss: 0.0606 - val_box_loss: 1.1956e-04 - val_reg_l2_loss: 0.1107 - val_loss: 0.1773\n",
            "Epoch 51/70\n",
            "128/128 [==============================] - 121s 943ms/step - det_loss: 0.1071 - cls_loss: 0.0999 - box_loss: 1.4514e-04 - reg_l2_loss: 0.1107 - loss: 0.2178 - learning_rate: 0.0010 - gradient_norm: 2.8135 - val_det_loss: 0.0719 - val_cls_loss: 0.0652 - val_box_loss: 1.3273e-04 - val_reg_l2_loss: 0.1107 - val_loss: 0.1826\n",
            "Epoch 52/70\n",
            "128/128 [==============================] - 121s 944ms/step - det_loss: 0.1030 - cls_loss: 0.0950 - box_loss: 1.6106e-04 - reg_l2_loss: 0.1107 - loss: 0.2137 - learning_rate: 9.4078e-04 - gradient_norm: 2.6497 - val_det_loss: 0.0756 - val_cls_loss: 0.0678 - val_box_loss: 1.5564e-04 - val_reg_l2_loss: 0.1107 - val_loss: 0.1863\n",
            "Epoch 53/70\n",
            "128/128 [==============================] - 121s 943ms/step - det_loss: 0.0929 - cls_loss: 0.0867 - box_loss: 1.2414e-04 - reg_l2_loss: 0.1107 - loss: 0.2036 - learning_rate: 8.4134e-04 - gradient_norm: 2.2829 - val_det_loss: 0.0657 - val_cls_loss: 0.0593 - val_box_loss: 1.2909e-04 - val_reg_l2_loss: 0.1107 - val_loss: 0.1764\n",
            "Epoch 54/70\n",
            "128/128 [==============================] - 121s 944ms/step - det_loss: 0.0933 - cls_loss: 0.0871 - box_loss: 1.2528e-04 - reg_l2_loss: 0.1107 - loss: 0.2040 - learning_rate: 7.4664e-04 - gradient_norm: 2.3720 - val_det_loss: 0.0612 - val_cls_loss: 0.0558 - val_box_loss: 1.0711e-04 - val_reg_l2_loss: 0.1107 - val_loss: 0.1719\n",
            "Epoch 55/70\n",
            "128/128 [==============================] - 131s 1s/step - det_loss: 0.0936 - cls_loss: 0.0871 - box_loss: 1.3033e-04 - reg_l2_loss: 0.1107 - loss: 0.2043 - learning_rate: 6.5686e-04 - gradient_norm: 2.5500 - val_det_loss: 0.0624 - val_cls_loss: 0.0568 - val_box_loss: 1.1204e-04 - val_reg_l2_loss: 0.1107 - val_loss: 0.1731\n",
            "Epoch 56/70\n",
            "128/128 [==============================] - 120s 941ms/step - det_loss: 0.0936 - cls_loss: 0.0869 - box_loss: 1.3413e-04 - reg_l2_loss: 0.1107 - loss: 0.2043 - learning_rate: 5.7220e-04 - gradient_norm: 2.2275 - val_det_loss: 0.0652 - val_cls_loss: 0.0584 - val_box_loss: 1.3480e-04 - val_reg_l2_loss: 0.1107 - val_loss: 0.1759\n",
            "Epoch 57/70\n",
            "128/128 [==============================] - 121s 945ms/step - det_loss: 0.0956 - cls_loss: 0.0894 - box_loss: 1.2481e-04 - reg_l2_loss: 0.1107 - loss: 0.2063 - learning_rate: 4.9283e-04 - gradient_norm: 2.6749 - val_det_loss: 0.0604 - val_cls_loss: 0.0545 - val_box_loss: 1.1676e-04 - val_reg_l2_loss: 0.1107 - val_loss: 0.1711\n",
            "Epoch 58/70\n",
            "128/128 [==============================] - 120s 941ms/step - det_loss: 0.0923 - cls_loss: 0.0862 - box_loss: 1.2264e-04 - reg_l2_loss: 0.1107 - loss: 0.2030 - learning_rate: 4.1891e-04 - gradient_norm: 2.5015 - val_det_loss: 0.0624 - val_cls_loss: 0.0569 - val_box_loss: 1.0941e-04 - val_reg_l2_loss: 0.1107 - val_loss: 0.1730\n",
            "Epoch 59/70\n",
            "128/128 [==============================] - 121s 944ms/step - det_loss: 0.0925 - cls_loss: 0.0861 - box_loss: 1.2744e-04 - reg_l2_loss: 0.1107 - loss: 0.2032 - learning_rate: 3.5061e-04 - gradient_norm: 2.2683 - val_det_loss: 0.0619 - val_cls_loss: 0.0566 - val_box_loss: 1.0743e-04 - val_reg_l2_loss: 0.1107 - val_loss: 0.1726\n",
            "Epoch 60/70\n",
            "128/128 [==============================] - 131s 1s/step - det_loss: 0.0956 - cls_loss: 0.0891 - box_loss: 1.3019e-04 - reg_l2_loss: 0.1107 - loss: 0.2063 - learning_rate: 2.8805e-04 - gradient_norm: 2.4209 - val_det_loss: 0.0626 - val_cls_loss: 0.0570 - val_box_loss: 1.1238e-04 - val_reg_l2_loss: 0.1107 - val_loss: 0.1733\n",
            "Epoch 61/70\n",
            "128/128 [==============================] - 121s 945ms/step - det_loss: 0.0915 - cls_loss: 0.0836 - box_loss: 1.5801e-04 - reg_l2_loss: 0.1107 - loss: 0.2022 - learning_rate: 2.3137e-04 - gradient_norm: 2.3460 - val_det_loss: 0.0611 - val_cls_loss: 0.0557 - val_box_loss: 1.0856e-04 - val_reg_l2_loss: 0.1107 - val_loss: 0.1718\n",
            "Epoch 62/70\n",
            "128/128 [==============================] - 121s 945ms/step - det_loss: 0.0903 - cls_loss: 0.0837 - box_loss: 1.3362e-04 - reg_l2_loss: 0.1107 - loss: 0.2010 - learning_rate: 1.8070e-04 - gradient_norm: 2.2461 - val_det_loss: 0.0607 - val_cls_loss: 0.0551 - val_box_loss: 1.1106e-04 - val_reg_l2_loss: 0.1107 - val_loss: 0.1714\n",
            "Epoch 63/70\n",
            "128/128 [==============================] - 121s 947ms/step - det_loss: 0.0865 - cls_loss: 0.0809 - box_loss: 1.1254e-04 - reg_l2_loss: 0.1107 - loss: 0.1972 - learning_rate: 1.3612e-04 - gradient_norm: 2.2211 - val_det_loss: 0.0616 - val_cls_loss: 0.0562 - val_box_loss: 1.0652e-04 - val_reg_l2_loss: 0.1107 - val_loss: 0.1722\n",
            "Epoch 64/70\n",
            "128/128 [==============================] - 121s 943ms/step - det_loss: 0.0830 - cls_loss: 0.0772 - box_loss: 1.1735e-04 - reg_l2_loss: 0.1107 - loss: 0.1937 - learning_rate: 9.7739e-05 - gradient_norm: 2.0490 - val_det_loss: 0.0617 - val_cls_loss: 0.0561 - val_box_loss: 1.1313e-04 - val_reg_l2_loss: 0.1107 - val_loss: 0.1724\n",
            "Epoch 65/70\n",
            "128/128 [==============================] - 132s 1s/step - det_loss: 0.0923 - cls_loss: 0.0858 - box_loss: 1.2955e-04 - reg_l2_loss: 0.1107 - loss: 0.2030 - learning_rate: 6.5632e-05 - gradient_norm: 2.4305 - val_det_loss: 0.0620 - val_cls_loss: 0.0564 - val_box_loss: 1.1151e-04 - val_reg_l2_loss: 0.1107 - val_loss: 0.1726\n",
            "Epoch 66/70\n",
            "128/128 [==============================] - 121s 947ms/step - det_loss: 0.0902 - cls_loss: 0.0839 - box_loss: 1.2692e-04 - reg_l2_loss: 0.1107 - loss: 0.2009 - learning_rate: 3.9867e-05 - gradient_norm: 2.1494 - val_det_loss: 0.0623 - val_cls_loss: 0.0567 - val_box_loss: 1.1258e-04 - val_reg_l2_loss: 0.1107 - val_loss: 0.1730\n",
            "Epoch 67/70\n",
            "128/128 [==============================] - 121s 946ms/step - det_loss: 0.0855 - cls_loss: 0.0791 - box_loss: 1.2742e-04 - reg_l2_loss: 0.1107 - loss: 0.1962 - learning_rate: 2.0496e-05 - gradient_norm: 2.2984 - val_det_loss: 0.0614 - val_cls_loss: 0.0558 - val_box_loss: 1.1168e-04 - val_reg_l2_loss: 0.1107 - val_loss: 0.1721\n",
            "Epoch 68/70\n",
            "128/128 [==============================] - 121s 944ms/step - det_loss: 0.0873 - cls_loss: 0.0799 - box_loss: 1.4748e-04 - reg_l2_loss: 0.1107 - loss: 0.1980 - learning_rate: 7.5590e-06 - gradient_norm: 2.3856 - val_det_loss: 0.0604 - val_cls_loss: 0.0548 - val_box_loss: 1.1177e-04 - val_reg_l2_loss: 0.1107 - val_loss: 0.1711\n",
            "Epoch 69/70\n",
            "128/128 [==============================] - 122s 950ms/step - det_loss: 0.0939 - cls_loss: 0.0868 - box_loss: 1.4350e-04 - reg_l2_loss: 0.1107 - loss: 0.2046 - learning_rate: 1.0838e-06 - gradient_norm: 2.4249 - val_det_loss: 0.0603 - val_cls_loss: 0.0548 - val_box_loss: 1.0973e-04 - val_reg_l2_loss: 0.1107 - val_loss: 0.1710\n",
            "Epoch 70/70\n",
            "128/128 [==============================] - 132s 1s/step - det_loss: 0.0862 - cls_loss: 0.0802 - box_loss: 1.1843e-04 - reg_l2_loss: 0.1107 - loss: 0.1968 - learning_rate: 1.0834e-06 - gradient_norm: 2.1718 - val_det_loss: 0.0604 - val_cls_loss: 0.0550 - val_box_loss: 1.0932e-04 - val_reg_l2_loss: 0.1107 - val_loss: 0.1711\n"
          ]
        }
      ],
      "source": [
        "model = object_detector.create(train_dir, \n",
        "                               model_spec=spec, \n",
        "                               epochs=70, \n",
        "                               batch_size=5, \n",
        "                               train_whole_model=True, \n",
        "                               validation_data=validate_dir\n",
        "                               )"
      ]
    },
    {
      "cell_type": "code",
      "execution_count": null,
      "metadata": {
        "id": "AJ9oA6_ALDeS"
      },
      "outputs": [],
      "source": [
        "model.export(export_dir='/content/')"
      ]
    }
  ],
  "metadata": {
    "accelerator": "GPU",
    "colab": {
      "collapsed_sections": [],
      "machine_shape": "hm",
      "name": "fashion dataset.ipynb",
      "provenance": []
    },
    "kernelspec": {
      "display_name": "Python 3",
      "name": "python3"
    },
    "language_info": {
      "name": "python"
    }
  },
  "nbformat": 4,
  "nbformat_minor": 0
}