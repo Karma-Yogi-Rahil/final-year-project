{
  "cells": [
    {
      "cell_type": "markdown",
      "source": [
        "## Loading dataset "
      ],
      "metadata": {
        "id": "5tVI7uB_9Hez"
      }
    },
    {
      "cell_type": "code",
      "execution_count": null,
      "metadata": {
        "id": "1LYZMlueITZL"
      },
      "outputs": [],
      "source": [
        "import os \n",
        "os.environ['KAGGLE_CONFIG_DIR'] = '/content'"
      ]
    },
    {
      "cell_type": "markdown",
      "source": [
        ""
      ],
      "metadata": {
        "id": "KQJprHFL9K0S"
      }
    },
    {
      "cell_type": "code",
      "execution_count": null,
      "metadata": {
        "colab": {
          "base_uri": "https://localhost:8080/"
        },
        "id": "7HJFATrIId7P",
        "outputId": "1e23a6b4-790f-4c85-c93e-a0db33dbf060"
      },
      "outputs": [
        {
          "output_type": "stream",
          "name": "stdout",
          "text": [
            "Warning: Your Kaggle API key is readable by other users on this system! To fix this, you can run 'chmod 600 /content/kaggle.json'\n",
            "Downloading fashion.zip to /content\n",
            " 97% 185M/191M [00:06<00:00, 24.5MB/s]\n",
            "100% 191M/191M [00:06<00:00, 33.1MB/s]\n"
          ]
        }
      ],
      "source": [
        "! kaggle datasets download -d rahilmehtaucoe2784/fashion"
      ]
    },
    {
      "cell_type": "code",
      "execution_count": null,
      "metadata": {
        "id": "1J2KVGkRIkan"
      },
      "outputs": [],
      "source": [
        "%%capture\n",
        "!unzip \\*.zip && rm *.zip &> /dev/null"
      ]
    },
    {
      "cell_type": "markdown",
      "source": [
        "## installing and importing Libraries "
      ],
      "metadata": {
        "id": "S4A81jNW9Mq7"
      }
    },
    {
      "cell_type": "code",
      "execution_count": null,
      "metadata": {
        "colab": {
          "base_uri": "https://localhost:8080/"
        },
        "id": "LBPX2I6f8VbH",
        "outputId": "de159b75-388f-4f12-bc18-c1a0f3e7adf1"
      },
      "outputs": [
        {
          "output_type": "stream",
          "name": "stdout",
          "text": [
            "\u001b[?25l\r\u001b[K     |▌                               | 10 kB 30.2 MB/s eta 0:00:01\r\u001b[K     |█                               | 20 kB 10.3 MB/s eta 0:00:01\r\u001b[K     |█▋                              | 30 kB 8.4 MB/s eta 0:00:01\r\u001b[K     |██▏                             | 40 kB 3.7 MB/s eta 0:00:01\r\u001b[K     |██▋                             | 51 kB 3.7 MB/s eta 0:00:01\r\u001b[K     |███▏                            | 61 kB 4.4 MB/s eta 0:00:01\r\u001b[K     |███▊                            | 71 kB 4.5 MB/s eta 0:00:01\r\u001b[K     |████▎                           | 81 kB 4.9 MB/s eta 0:00:01\r\u001b[K     |████▉                           | 92 kB 5.4 MB/s eta 0:00:01\r\u001b[K     |█████▎                          | 102 kB 4.3 MB/s eta 0:00:01\r\u001b[K     |█████▉                          | 112 kB 4.3 MB/s eta 0:00:01\r\u001b[K     |██████▍                         | 122 kB 4.3 MB/s eta 0:00:01\r\u001b[K     |███████                         | 133 kB 4.3 MB/s eta 0:00:01\r\u001b[K     |███████▍                        | 143 kB 4.3 MB/s eta 0:00:01\r\u001b[K     |████████                        | 153 kB 4.3 MB/s eta 0:00:01\r\u001b[K     |████████▌                       | 163 kB 4.3 MB/s eta 0:00:01\r\u001b[K     |█████████                       | 174 kB 4.3 MB/s eta 0:00:01\r\u001b[K     |█████████▋                      | 184 kB 4.3 MB/s eta 0:00:01\r\u001b[K     |██████████                      | 194 kB 4.3 MB/s eta 0:00:01\r\u001b[K     |██████████▋                     | 204 kB 4.3 MB/s eta 0:00:01\r\u001b[K     |███████████▏                    | 215 kB 4.3 MB/s eta 0:00:01\r\u001b[K     |███████████▊                    | 225 kB 4.3 MB/s eta 0:00:01\r\u001b[K     |████████████▏                   | 235 kB 4.3 MB/s eta 0:00:01\r\u001b[K     |████████████▊                   | 245 kB 4.3 MB/s eta 0:00:01\r\u001b[K     |█████████████▎                  | 256 kB 4.3 MB/s eta 0:00:01\r\u001b[K     |█████████████▉                  | 266 kB 4.3 MB/s eta 0:00:01\r\u001b[K     |██████████████▍                 | 276 kB 4.3 MB/s eta 0:00:01\r\u001b[K     |██████████████▉                 | 286 kB 4.3 MB/s eta 0:00:01\r\u001b[K     |███████████████▍                | 296 kB 4.3 MB/s eta 0:00:01\r\u001b[K     |████████████████                | 307 kB 4.3 MB/s eta 0:00:01\r\u001b[K     |████████████████▌               | 317 kB 4.3 MB/s eta 0:00:01\r\u001b[K     |█████████████████               | 327 kB 4.3 MB/s eta 0:00:01\r\u001b[K     |█████████████████▌              | 337 kB 4.3 MB/s eta 0:00:01\r\u001b[K     |██████████████████              | 348 kB 4.3 MB/s eta 0:00:01\r\u001b[K     |██████████████████▋             | 358 kB 4.3 MB/s eta 0:00:01\r\u001b[K     |███████████████████▏            | 368 kB 4.3 MB/s eta 0:00:01\r\u001b[K     |███████████████████▋            | 378 kB 4.3 MB/s eta 0:00:01\r\u001b[K     |████████████████████▏           | 389 kB 4.3 MB/s eta 0:00:01\r\u001b[K     |████████████████████▊           | 399 kB 4.3 MB/s eta 0:00:01\r\u001b[K     |█████████████████████▎          | 409 kB 4.3 MB/s eta 0:00:01\r\u001b[K     |█████████████████████▉          | 419 kB 4.3 MB/s eta 0:00:01\r\u001b[K     |██████████████████████▎         | 430 kB 4.3 MB/s eta 0:00:01\r\u001b[K     |██████████████████████▉         | 440 kB 4.3 MB/s eta 0:00:01\r\u001b[K     |███████████████████████▍        | 450 kB 4.3 MB/s eta 0:00:01\r\u001b[K     |████████████████████████        | 460 kB 4.3 MB/s eta 0:00:01\r\u001b[K     |████████████████████████▍       | 471 kB 4.3 MB/s eta 0:00:01\r\u001b[K     |█████████████████████████       | 481 kB 4.3 MB/s eta 0:00:01\r\u001b[K     |█████████████████████████▌      | 491 kB 4.3 MB/s eta 0:00:01\r\u001b[K     |██████████████████████████      | 501 kB 4.3 MB/s eta 0:00:01\r\u001b[K     |██████████████████████████▋     | 512 kB 4.3 MB/s eta 0:00:01\r\u001b[K     |███████████████████████████     | 522 kB 4.3 MB/s eta 0:00:01\r\u001b[K     |███████████████████████████▋    | 532 kB 4.3 MB/s eta 0:00:01\r\u001b[K     |████████████████████████████▏   | 542 kB 4.3 MB/s eta 0:00:01\r\u001b[K     |████████████████████████████▊   | 552 kB 4.3 MB/s eta 0:00:01\r\u001b[K     |█████████████████████████████▏  | 563 kB 4.3 MB/s eta 0:00:01\r\u001b[K     |█████████████████████████████▊  | 573 kB 4.3 MB/s eta 0:00:01\r\u001b[K     |██████████████████████████████▎ | 583 kB 4.3 MB/s eta 0:00:01\r\u001b[K     |██████████████████████████████▉ | 593 kB 4.3 MB/s eta 0:00:01\r\u001b[K     |███████████████████████████████▍| 604 kB 4.3 MB/s eta 0:00:01\r\u001b[K     |███████████████████████████████▉| 614 kB 4.3 MB/s eta 0:00:01\r\u001b[K     |████████████████████████████████| 616 kB 4.3 MB/s \n",
            "\u001b[K     |████████████████████████████████| 120 kB 91.6 MB/s \n",
            "\u001b[K     |████████████████████████████████| 596 kB 81.7 MB/s \n",
            "\u001b[K     |████████████████████████████████| 6.4 MB 74.6 MB/s \n",
            "\u001b[K     |████████████████████████████████| 1.1 MB 68.7 MB/s \n",
            "\u001b[K     |████████████████████████████████| 87 kB 9.2 MB/s \n",
            "\u001b[K     |████████████████████████████████| 1.1 MB 55.7 MB/s \n",
            "\u001b[K     |████████████████████████████████| 1.2 MB 66.5 MB/s \n",
            "\u001b[K     |████████████████████████████████| 234 kB 77.7 MB/s \n",
            "\u001b[K     |████████████████████████████████| 77 kB 7.7 MB/s \n",
            "\u001b[K     |████████████████████████████████| 3.4 MB 65.9 MB/s \n",
            "\u001b[K     |████████████████████████████████| 840 kB 75.1 MB/s \n",
            "\u001b[K     |████████████████████████████████| 25.3 MB 1.2 MB/s \n",
            "\u001b[K     |████████████████████████████████| 99 kB 12.0 MB/s \n",
            "\u001b[K     |████████████████████████████████| 352 kB 79.5 MB/s \n",
            "\u001b[K     |████████████████████████████████| 47.7 MB 166 kB/s \n",
            "\u001b[K     |████████████████████████████████| 462 kB 95.8 MB/s \n",
            "\u001b[K     |████████████████████████████████| 211 kB 88.6 MB/s \n",
            "\u001b[?25h  Building wheel for fire (setup.py) ... \u001b[?25l\u001b[?25hdone\n",
            "  Building wheel for py-cpuinfo (setup.py) ... \u001b[?25l\u001b[?25hdone\n"
          ]
        }
      ],
      "source": [
        "!pip install -q tflite-model-maker\n",
        "!pip install -q pycocotools"
      ]
    },
    {
      "cell_type": "code",
      "execution_count": null,
      "metadata": {
        "id": "06DKhsLi45v2"
      },
      "outputs": [],
      "source": [
        "import numpy as np\n",
        "import os\n",
        "\n",
        "#from tflite_model_maker.config import ExportFormat\n",
        "from tflite_model_maker import model_spec\n",
        "from tflite_model_maker import object_detector\n",
        "\n",
        "import tensorflow as tf\n",
        "assert tf.__version__.startswith('2')\n",
        "\n",
        "tf.get_logger().setLevel('ERROR')\n",
        "from absl import logging\n",
        "logging.set_verbosity(logging.ERROR)\n",
        "from tensorflow import keras"
      ]
    },
    {
      "cell_type": "code",
      "source": [
        ""
      ],
      "metadata": {
        "id": "ytwmMNWR9RNv"
      },
      "execution_count": null,
      "outputs": []
    },
    {
      "cell_type": "markdown",
      "source": [
        "## Training "
      ],
      "metadata": {
        "id": "yrtPmpQ49RlQ"
      }
    },
    {
      "cell_type": "code",
      "execution_count": null,
      "metadata": {
        "id": "8m1Ma4LB48TK"
      },
      "outputs": [],
      "source": [
        "train_image_dir = '/content/Final Img copy 2/train'\n",
        "train_annotation_dir = '/content/Final Img copy 2/train anotation'\n",
        "validate_image_dir = '/content/Final Img copy 2/valid'\n",
        "validate_anaotation_dir = '/content/Final Img copy 2/valid anotation '"
      ]
    },
    {
      "cell_type": "code",
      "execution_count": null,
      "metadata": {
        "id": "fNHc_8UJ4-v_"
      },
      "outputs": [],
      "source": [
        "\n",
        "spec = model_spec.get('efficientdet_lite4')"
      ]
    },
    {
      "cell_type": "code",
      "execution_count": null,
      "metadata": {
        "id": "0CvbWzBl5BR_"
      },
      "outputs": [],
      "source": [
        "train_dir = object_detector.DataLoader.from_pascal_voc(train_image_dir, train_annotation_dir, label_map={1:\"Design Kurta\", 2: \"Plain kurta\", 3: \"Casual Shirt\", 4:\"Formal Shirt\", 5: \"Desgin sherwani\", 6:\"Plain sherwani\", 7:\"tshirt\"})"
      ]
    },
    {
      "cell_type": "code",
      "execution_count": null,
      "metadata": {
        "id": "qc-JL6j45EwG"
      },
      "outputs": [],
      "source": [
        "validate_dir = object_detector.DataLoader.from_pascal_voc(validate_image_dir, validate_anaotation_dir, label_map={1:\"Design Kurta\", 2: \"Plain kurta\", 3: \"Casual Shirt\", 4:\"Formal Shirt\", 5: \"Desgin sherwani\", 6:\"Plain sherwani\",7:\"tshirt\"})"
      ]
    },
    {
      "cell_type": "code",
      "execution_count": 10,
      "metadata": {
        "colab": {
          "base_uri": "https://localhost:8080/"
        },
        "id": "GhOnS5GA5G_3",
        "outputId": "5f9299c5-06b4-4c7d-d519-bb7f4a47517e"
      },
      "outputs": [
        {
          "output_type": "stream",
          "name": "stdout",
          "text": [
            "Epoch 1/50\n",
            "176/176 [==============================] - 240s 950ms/step - det_loss: 1.1308 - cls_loss: 0.9037 - box_loss: 0.0045 - reg_l2_loss: 0.1087 - loss: 1.2395 - learning_rate: 0.0071 - gradient_norm: 2.8845 - val_det_loss: 0.6490 - val_cls_loss: 0.5756 - val_box_loss: 0.0015 - val_reg_l2_loss: 0.1088 - val_loss: 0.7578\n",
            "Epoch 2/50\n",
            "176/176 [==============================] - 162s 923ms/step - det_loss: 0.5564 - cls_loss: 0.4943 - box_loss: 0.0012 - reg_l2_loss: 0.1089 - loss: 0.6653 - learning_rate: 0.0062 - gradient_norm: 3.5938 - val_det_loss: 0.5896 - val_cls_loss: 0.5499 - val_box_loss: 7.9544e-04 - val_reg_l2_loss: 0.1090 - val_loss: 0.6986\n",
            "Epoch 3/50\n",
            "176/176 [==============================] - 164s 931ms/step - det_loss: 0.4521 - cls_loss: 0.4120 - box_loss: 8.0138e-04 - reg_l2_loss: 0.1090 - loss: 0.5611 - learning_rate: 0.0062 - gradient_norm: 3.3047 - val_det_loss: 0.4261 - val_cls_loss: 0.4049 - val_box_loss: 4.2554e-04 - val_reg_l2_loss: 0.1091 - val_loss: 0.5352\n",
            "Epoch 4/50\n",
            "176/176 [==============================] - 163s 928ms/step - det_loss: 0.4144 - cls_loss: 0.3783 - box_loss: 7.2234e-04 - reg_l2_loss: 0.1092 - loss: 0.5236 - learning_rate: 0.0062 - gradient_norm: 3.4677 - val_det_loss: 0.4018 - val_cls_loss: 0.3817 - val_box_loss: 4.0131e-04 - val_reg_l2_loss: 0.1092 - val_loss: 0.5110\n",
            "Epoch 5/50\n",
            "176/176 [==============================] - 184s 1s/step - det_loss: 0.3719 - cls_loss: 0.3426 - box_loss: 5.8490e-04 - reg_l2_loss: 0.1093 - loss: 0.4812 - learning_rate: 0.0061 - gradient_norm: 3.5605 - val_det_loss: 0.3983 - val_cls_loss: 0.3808 - val_box_loss: 3.4904e-04 - val_reg_l2_loss: 0.1094 - val_loss: 0.5077\n",
            "Epoch 6/50\n",
            "176/176 [==============================] - 162s 923ms/step - det_loss: 0.3591 - cls_loss: 0.3313 - box_loss: 5.5767e-04 - reg_l2_loss: 0.1094 - loss: 0.4686 - learning_rate: 0.0061 - gradient_norm: 3.5719 - val_det_loss: 0.4291 - val_cls_loss: 0.3798 - val_box_loss: 9.8592e-04 - val_reg_l2_loss: 0.1095 - val_loss: 0.5386\n",
            "Epoch 7/50\n",
            "176/176 [==============================] - 162s 923ms/step - det_loss: 0.3317 - cls_loss: 0.3042 - box_loss: 5.4881e-04 - reg_l2_loss: 0.1095 - loss: 0.4412 - learning_rate: 0.0060 - gradient_norm: 3.4311 - val_det_loss: 0.4274 - val_cls_loss: 0.3789 - val_box_loss: 9.7126e-04 - val_reg_l2_loss: 0.1096 - val_loss: 0.5370\n",
            "Epoch 8/50\n",
            "176/176 [==============================] - 164s 930ms/step - det_loss: 0.3070 - cls_loss: 0.2853 - box_loss: 4.3393e-04 - reg_l2_loss: 0.1097 - loss: 0.4167 - learning_rate: 0.0059 - gradient_norm: 3.2284 - val_det_loss: 0.2871 - val_cls_loss: 0.2744 - val_box_loss: 2.5463e-04 - val_reg_l2_loss: 0.1097 - val_loss: 0.3968\n",
            "Epoch 9/50\n",
            "176/176 [==============================] - 162s 923ms/step - det_loss: 0.3138 - cls_loss: 0.2890 - box_loss: 4.9616e-04 - reg_l2_loss: 0.1098 - loss: 0.4236 - learning_rate: 0.0058 - gradient_norm: 3.7213 - val_det_loss: 0.4075 - val_cls_loss: 0.3835 - val_box_loss: 4.7996e-04 - val_reg_l2_loss: 0.1098 - val_loss: 0.5174\n",
            "Epoch 10/50\n",
            "176/176 [==============================] - 177s 1s/step - det_loss: 0.3049 - cls_loss: 0.2835 - box_loss: 4.2658e-04 - reg_l2_loss: 0.1099 - loss: 0.4148 - learning_rate: 0.0057 - gradient_norm: 3.6275 - val_det_loss: 0.3117 - val_cls_loss: 0.3044 - val_box_loss: 1.4570e-04 - val_reg_l2_loss: 0.1100 - val_loss: 0.4217\n",
            "Epoch 11/50\n",
            "176/176 [==============================] - 163s 928ms/step - det_loss: 0.2875 - cls_loss: 0.2663 - box_loss: 4.2450e-04 - reg_l2_loss: 0.1100 - loss: 0.3975 - learning_rate: 0.0056 - gradient_norm: 3.2158 - val_det_loss: 0.3340 - val_cls_loss: 0.3264 - val_box_loss: 1.5160e-04 - val_reg_l2_loss: 0.1100 - val_loss: 0.4440\n",
            "Epoch 12/50\n",
            "176/176 [==============================] - 162s 921ms/step - det_loss: 0.2721 - cls_loss: 0.2523 - box_loss: 3.9641e-04 - reg_l2_loss: 0.1100 - loss: 0.3821 - learning_rate: 0.0054 - gradient_norm: 3.0209 - val_det_loss: 0.2874 - val_cls_loss: 0.2764 - val_box_loss: 2.1885e-04 - val_reg_l2_loss: 0.1101 - val_loss: 0.3974\n",
            "Epoch 13/50\n",
            "176/176 [==============================] - 162s 922ms/step - det_loss: 0.2645 - cls_loss: 0.2458 - box_loss: 3.7467e-04 - reg_l2_loss: 0.1101 - loss: 0.3746 - learning_rate: 0.0053 - gradient_norm: 3.0531 - val_det_loss: 0.2785 - val_cls_loss: 0.2684 - val_box_loss: 2.0274e-04 - val_reg_l2_loss: 0.1101 - val_loss: 0.3886\n",
            "Epoch 14/50\n",
            "176/176 [==============================] - 163s 926ms/step - det_loss: 0.2533 - cls_loss: 0.2356 - box_loss: 3.5495e-04 - reg_l2_loss: 0.1101 - loss: 0.3635 - learning_rate: 0.0052 - gradient_norm: 3.0782 - val_det_loss: 0.2568 - val_cls_loss: 0.2395 - val_box_loss: 3.4656e-04 - val_reg_l2_loss: 0.1102 - val_loss: 0.3670\n",
            "Epoch 15/50\n",
            "176/176 [==============================] - 175s 997ms/step - det_loss: 0.2498 - cls_loss: 0.2328 - box_loss: 3.4062e-04 - reg_l2_loss: 0.1102 - loss: 0.3600 - learning_rate: 0.0050 - gradient_norm: 3.3535 - val_det_loss: 0.3766 - val_cls_loss: 0.3665 - val_box_loss: 2.0138e-04 - val_reg_l2_loss: 0.1102 - val_loss: 0.4868\n",
            "Epoch 16/50\n",
            "176/176 [==============================] - 163s 928ms/step - det_loss: 0.2441 - cls_loss: 0.2275 - box_loss: 3.3269e-04 - reg_l2_loss: 0.1103 - loss: 0.3544 - learning_rate: 0.0048 - gradient_norm: 3.4552 - val_det_loss: 0.3047 - val_cls_loss: 0.2968 - val_box_loss: 1.5828e-04 - val_reg_l2_loss: 0.1103 - val_loss: 0.4150\n",
            "Epoch 17/50\n",
            "176/176 [==============================] - 164s 929ms/step - det_loss: 0.2341 - cls_loss: 0.2175 - box_loss: 3.3101e-04 - reg_l2_loss: 0.1103 - loss: 0.3444 - learning_rate: 0.0047 - gradient_norm: 3.3236 - val_det_loss: 0.3350 - val_cls_loss: 0.3091 - val_box_loss: 5.1875e-04 - val_reg_l2_loss: 0.1103 - val_loss: 0.4454\n",
            "Epoch 18/50\n",
            "176/176 [==============================] - 163s 926ms/step - det_loss: 0.2222 - cls_loss: 0.2070 - box_loss: 3.0397e-04 - reg_l2_loss: 0.1104 - loss: 0.3325 - learning_rate: 0.0045 - gradient_norm: 3.5344 - val_det_loss: 0.2094 - val_cls_loss: 0.2046 - val_box_loss: 9.5791e-05 - val_reg_l2_loss: 0.1104 - val_loss: 0.3197\n",
            "Epoch 19/50\n",
            "176/176 [==============================] - 163s 926ms/step - det_loss: 0.2157 - cls_loss: 0.2021 - box_loss: 2.7322e-04 - reg_l2_loss: 0.1104 - loss: 0.3261 - learning_rate: 0.0043 - gradient_norm: 3.4051 - val_det_loss: 0.3334 - val_cls_loss: 0.3234 - val_box_loss: 2.0141e-04 - val_reg_l2_loss: 0.1104 - val_loss: 0.4439\n",
            "Epoch 20/50\n",
            "176/176 [==============================] - 177s 1s/step - det_loss: 0.2099 - cls_loss: 0.1955 - box_loss: 2.8891e-04 - reg_l2_loss: 0.1104 - loss: 0.3204 - learning_rate: 0.0041 - gradient_norm: 3.3262 - val_det_loss: 0.1719 - val_cls_loss: 0.1554 - val_box_loss: 3.2994e-04 - val_reg_l2_loss: 0.1105 - val_loss: 0.2823\n",
            "Epoch 21/50\n",
            "176/176 [==============================] - 163s 927ms/step - det_loss: 0.2027 - cls_loss: 0.1902 - box_loss: 2.5105e-04 - reg_l2_loss: 0.1105 - loss: 0.3132 - learning_rate: 0.0039 - gradient_norm: 3.5671 - val_det_loss: 0.2463 - val_cls_loss: 0.2402 - val_box_loss: 1.2259e-04 - val_reg_l2_loss: 0.1105 - val_loss: 0.3568\n",
            "Epoch 22/50\n",
            "176/176 [==============================] - 163s 926ms/step - det_loss: 0.2018 - cls_loss: 0.1893 - box_loss: 2.5133e-04 - reg_l2_loss: 0.1105 - loss: 0.3124 - learning_rate: 0.0037 - gradient_norm: 3.6615 - val_det_loss: 0.2407 - val_cls_loss: 0.2320 - val_box_loss: 1.7501e-04 - val_reg_l2_loss: 0.1105 - val_loss: 0.3512\n",
            "Epoch 23/50\n",
            "176/176 [==============================] - 164s 930ms/step - det_loss: 0.1944 - cls_loss: 0.1823 - box_loss: 2.4194e-04 - reg_l2_loss: 0.1106 - loss: 0.3050 - learning_rate: 0.0035 - gradient_norm: 3.5070 - val_det_loss: 0.2431 - val_cls_loss: 0.2386 - val_box_loss: 8.9892e-05 - val_reg_l2_loss: 0.1106 - val_loss: 0.3536\n",
            "Epoch 24/50\n",
            "176/176 [==============================] - 163s 926ms/step - det_loss: 0.1710 - cls_loss: 0.1596 - box_loss: 2.2814e-04 - reg_l2_loss: 0.1106 - loss: 0.2816 - learning_rate: 0.0033 - gradient_norm: 3.0943 - val_det_loss: 0.2370 - val_cls_loss: 0.2306 - val_box_loss: 1.2810e-04 - val_reg_l2_loss: 0.1106 - val_loss: 0.3476\n",
            "Epoch 25/50\n",
            "176/176 [==============================] - 177s 1s/step - det_loss: 0.1692 - cls_loss: 0.1589 - box_loss: 2.0680e-04 - reg_l2_loss: 0.1106 - loss: 0.2798 - learning_rate: 0.0031 - gradient_norm: 3.2385 - val_det_loss: 0.2604 - val_cls_loss: 0.2561 - val_box_loss: 8.4898e-05 - val_reg_l2_loss: 0.1106 - val_loss: 0.3710\n",
            "Epoch 26/50\n",
            "176/176 [==============================] - 163s 926ms/step - det_loss: 0.1663 - cls_loss: 0.1546 - box_loss: 2.3400e-04 - reg_l2_loss: 0.1106 - loss: 0.2769 - learning_rate: 0.0029 - gradient_norm: 3.2522 - val_det_loss: 0.2298 - val_cls_loss: 0.2240 - val_box_loss: 1.1703e-04 - val_reg_l2_loss: 0.1106 - val_loss: 0.3404\n",
            "Epoch 27/50\n",
            "176/176 [==============================] - 163s 925ms/step - det_loss: 0.1597 - cls_loss: 0.1461 - box_loss: 2.7181e-04 - reg_l2_loss: 0.1106 - loss: 0.2703 - learning_rate: 0.0027 - gradient_norm: 3.4150 - val_det_loss: 0.2507 - val_cls_loss: 0.2463 - val_box_loss: 8.9317e-05 - val_reg_l2_loss: 0.1106 - val_loss: 0.3613\n",
            "Epoch 28/50\n",
            "176/176 [==============================] - 164s 930ms/step - det_loss: 0.1583 - cls_loss: 0.1478 - box_loss: 2.1154e-04 - reg_l2_loss: 0.1106 - loss: 0.2689 - learning_rate: 0.0025 - gradient_norm: 3.7140 - val_det_loss: 0.2459 - val_cls_loss: 0.2411 - val_box_loss: 9.5978e-05 - val_reg_l2_loss: 0.1106 - val_loss: 0.3565\n",
            "Epoch 29/50\n",
            "176/176 [==============================] - 163s 926ms/step - det_loss: 0.1479 - cls_loss: 0.1374 - box_loss: 2.1059e-04 - reg_l2_loss: 0.1106 - loss: 0.2585 - learning_rate: 0.0023 - gradient_norm: 3.0253 - val_det_loss: 0.1688 - val_cls_loss: 0.1649 - val_box_loss: 7.6334e-05 - val_reg_l2_loss: 0.1106 - val_loss: 0.2794\n",
            "Epoch 30/50\n",
            "176/176 [==============================] - 176s 999ms/step - det_loss: 0.1462 - cls_loss: 0.1368 - box_loss: 1.8676e-04 - reg_l2_loss: 0.1106 - loss: 0.2568 - learning_rate: 0.0021 - gradient_norm: 3.2591 - val_det_loss: 0.1200 - val_cls_loss: 0.1161 - val_box_loss: 7.7260e-05 - val_reg_l2_loss: 0.1106 - val_loss: 0.2306\n",
            "Epoch 31/50\n",
            "176/176 [==============================] - 164s 930ms/step - det_loss: 0.1422 - cls_loss: 0.1319 - box_loss: 2.0513e-04 - reg_l2_loss: 0.1106 - loss: 0.2528 - learning_rate: 0.0020 - gradient_norm: 3.1906 - val_det_loss: 0.2285 - val_cls_loss: 0.2252 - val_box_loss: 6.6354e-05 - val_reg_l2_loss: 0.1106 - val_loss: 0.3391\n",
            "Epoch 32/50\n",
            "176/176 [==============================] - 163s 924ms/step - det_loss: 0.1324 - cls_loss: 0.1224 - box_loss: 1.9873e-04 - reg_l2_loss: 0.1106 - loss: 0.2430 - learning_rate: 0.0018 - gradient_norm: 2.8881 - val_det_loss: 0.1582 - val_cls_loss: 0.1546 - val_box_loss: 7.1909e-05 - val_reg_l2_loss: 0.1106 - val_loss: 0.2688\n",
            "Epoch 33/50\n",
            "176/176 [==============================] - 163s 927ms/step - det_loss: 0.1262 - cls_loss: 0.1162 - box_loss: 2.0030e-04 - reg_l2_loss: 0.1106 - loss: 0.2368 - learning_rate: 0.0016 - gradient_norm: 2.8834 - val_det_loss: 0.1189 - val_cls_loss: 0.1157 - val_box_loss: 6.4177e-05 - val_reg_l2_loss: 0.1106 - val_loss: 0.2295\n",
            "Epoch 34/50\n",
            "176/176 [==============================] - 164s 930ms/step - det_loss: 0.1279 - cls_loss: 0.1189 - box_loss: 1.8025e-04 - reg_l2_loss: 0.1106 - loss: 0.2385 - learning_rate: 0.0014 - gradient_norm: 3.0385 - val_det_loss: 0.1888 - val_cls_loss: 0.1848 - val_box_loss: 7.8160e-05 - val_reg_l2_loss: 0.1106 - val_loss: 0.2993\n",
            "Epoch 35/50\n",
            "176/176 [==============================] - 176s 1s/step - det_loss: 0.1229 - cls_loss: 0.1130 - box_loss: 1.9659e-04 - reg_l2_loss: 0.1106 - loss: 0.2334 - learning_rate: 0.0013 - gradient_norm: 2.9142 - val_det_loss: 0.1011 - val_cls_loss: 0.0983 - val_box_loss: 5.5811e-05 - val_reg_l2_loss: 0.1106 - val_loss: 0.2117\n",
            "Epoch 36/50\n",
            "176/176 [==============================] - 162s 923ms/step - det_loss: 0.1241 - cls_loss: 0.1150 - box_loss: 1.8145e-04 - reg_l2_loss: 0.1106 - loss: 0.2347 - learning_rate: 0.0011 - gradient_norm: 2.9008 - val_det_loss: 0.1405 - val_cls_loss: 0.1379 - val_box_loss: 5.2282e-05 - val_reg_l2_loss: 0.1106 - val_loss: 0.2511\n",
            "Epoch 37/50\n",
            "176/176 [==============================] - 163s 929ms/step - det_loss: 0.1190 - cls_loss: 0.1095 - box_loss: 1.9051e-04 - reg_l2_loss: 0.1106 - loss: 0.2295 - learning_rate: 9.5137e-04 - gradient_norm: 2.7668 - val_det_loss: 0.1199 - val_cls_loss: 0.1175 - val_box_loss: 4.6473e-05 - val_reg_l2_loss: 0.1106 - val_loss: 0.2304\n",
            "Epoch 38/50\n",
            "176/176 [==============================] - 163s 924ms/step - det_loss: 0.1135 - cls_loss: 0.1051 - box_loss: 1.6839e-04 - reg_l2_loss: 0.1106 - loss: 0.2241 - learning_rate: 8.1204e-04 - gradient_norm: 2.7897 - val_det_loss: 0.1419 - val_cls_loss: 0.1384 - val_box_loss: 6.8300e-05 - val_reg_l2_loss: 0.1106 - val_loss: 0.2524\n",
            "Epoch 39/50\n",
            "176/176 [==============================] - 163s 926ms/step - det_loss: 0.1076 - cls_loss: 0.0996 - box_loss: 1.5942e-04 - reg_l2_loss: 0.1106 - loss: 0.2182 - learning_rate: 6.8220e-04 - gradient_norm: 2.4814 - val_det_loss: 0.1279 - val_cls_loss: 0.1256 - val_box_loss: 4.7352e-05 - val_reg_l2_loss: 0.1105 - val_loss: 0.2385\n",
            "Epoch 40/50\n",
            "176/176 [==============================] - 176s 1s/step - det_loss: 0.1095 - cls_loss: 0.1009 - box_loss: 1.7129e-04 - reg_l2_loss: 0.1105 - loss: 0.2200 - learning_rate: 5.6241e-04 - gradient_norm: 2.6120 - val_det_loss: 0.1564 - val_cls_loss: 0.1540 - val_box_loss: 4.9202e-05 - val_reg_l2_loss: 0.1105 - val_loss: 0.2670\n",
            "Epoch 41/50\n",
            "176/176 [==============================] - 163s 925ms/step - det_loss: 0.1061 - cls_loss: 0.0973 - box_loss: 1.7720e-04 - reg_l2_loss: 0.1105 - loss: 0.2167 - learning_rate: 4.5314e-04 - gradient_norm: 2.6855 - val_det_loss: 0.2138 - val_cls_loss: 0.2115 - val_box_loss: 4.4141e-05 - val_reg_l2_loss: 0.1105 - val_loss: 0.3243\n",
            "Epoch 42/50\n",
            "176/176 [==============================] - 163s 925ms/step - det_loss: 0.1084 - cls_loss: 0.1009 - box_loss: 1.4886e-04 - reg_l2_loss: 0.1105 - loss: 0.2189 - learning_rate: 3.5486e-04 - gradient_norm: 2.5954 - val_det_loss: 0.1392 - val_cls_loss: 0.1367 - val_box_loss: 5.0597e-05 - val_reg_l2_loss: 0.1105 - val_loss: 0.2497\n",
            "Epoch 43/50\n",
            "176/176 [==============================] - 164s 930ms/step - det_loss: 0.1113 - cls_loss: 0.1019 - box_loss: 1.8837e-04 - reg_l2_loss: 0.1105 - loss: 0.2218 - learning_rate: 2.6796e-04 - gradient_norm: 2.7089 - val_det_loss: 0.1335 - val_cls_loss: 0.1310 - val_box_loss: 4.9730e-05 - val_reg_l2_loss: 0.1105 - val_loss: 0.2440\n",
            "Epoch 44/50\n",
            "176/176 [==============================] - 163s 925ms/step - det_loss: 0.1038 - cls_loss: 0.0960 - box_loss: 1.5527e-04 - reg_l2_loss: 0.1105 - loss: 0.2143 - learning_rate: 1.9280e-04 - gradient_norm: 2.5761 - val_det_loss: 0.1122 - val_cls_loss: 0.1099 - val_box_loss: 4.7360e-05 - val_reg_l2_loss: 0.1105 - val_loss: 0.2228\n",
            "Epoch 45/50\n",
            "176/176 [==============================] - 176s 1s/step - det_loss: 0.1035 - cls_loss: 0.0948 - box_loss: 1.7360e-04 - reg_l2_loss: 0.1105 - loss: 0.2140 - learning_rate: 1.2968e-04 - gradient_norm: 2.5747 - val_det_loss: 0.1329 - val_cls_loss: 0.1307 - val_box_loss: 4.4405e-05 - val_reg_l2_loss: 0.1105 - val_loss: 0.2434\n",
            "Epoch 46/50\n",
            "176/176 [==============================] - 163s 925ms/step - det_loss: 0.1030 - cls_loss: 0.0946 - box_loss: 1.6812e-04 - reg_l2_loss: 0.1105 - loss: 0.2135 - learning_rate: 7.8879e-05 - gradient_norm: 2.3557 - val_det_loss: 0.1483 - val_cls_loss: 0.1460 - val_box_loss: 4.5211e-05 - val_reg_l2_loss: 0.1105 - val_loss: 0.2588\n",
            "Epoch 47/50\n",
            "176/176 [==============================] - 163s 924ms/step - det_loss: 0.1012 - cls_loss: 0.0925 - box_loss: 1.7247e-04 - reg_l2_loss: 0.1105 - loss: 0.2117 - learning_rate: 4.0592e-05 - gradient_norm: 2.6121 - val_det_loss: 0.1365 - val_cls_loss: 0.1342 - val_box_loss: 4.6005e-05 - val_reg_l2_loss: 0.1105 - val_loss: 0.2470\n",
            "Epoch 48/50\n",
            "176/176 [==============================] - 163s 925ms/step - det_loss: 0.0988 - cls_loss: 0.0914 - box_loss: 1.4728e-04 - reg_l2_loss: 0.1105 - loss: 0.2093 - learning_rate: 1.4979e-05 - gradient_norm: 2.3887 - val_det_loss: 0.1392 - val_cls_loss: 0.1370 - val_box_loss: 4.5064e-05 - val_reg_l2_loss: 0.1105 - val_loss: 0.2498\n",
            "Epoch 49/50\n",
            "176/176 [==============================] - 163s 929ms/step - det_loss: 0.1057 - cls_loss: 0.0972 - box_loss: 1.6894e-04 - reg_l2_loss: 0.1105 - loss: 0.2162 - learning_rate: 2.1466e-06 - gradient_norm: 2.6147 - val_det_loss: 0.1233 - val_cls_loss: 0.1210 - val_box_loss: 4.5983e-05 - val_reg_l2_loss: 0.1105 - val_loss: 0.2338\n",
            "Epoch 50/50\n",
            "176/176 [==============================] - 175s 997ms/step - det_loss: 0.1057 - cls_loss: 0.0974 - box_loss: 1.6621e-04 - reg_l2_loss: 0.1105 - loss: 0.2163 - learning_rate: 2.1462e-06 - gradient_norm: 2.6569 - val_det_loss: 0.1301 - val_cls_loss: 0.1278 - val_box_loss: 4.5966e-05 - val_reg_l2_loss: 0.1105 - val_loss: 0.2406\n"
          ]
        }
      ],
      "source": [
        "model = object_detector.create(train_dir, \n",
        "                               model_spec=spec, \n",
        "                               epochs=10, \n",
        "                               batch_size=5, \n",
        "                               train_whole_model=True, \n",
        "                               validation_data=validate_dir\n",
        "                               )"
      ]
    },
    {
      "cell_type": "code",
      "source": [
        ""
      ],
      "metadata": {
        "id": "F6Nv-kXT9Wlh"
      },
      "execution_count": null,
      "outputs": []
    },
    {
      "cell_type": "markdown",
      "source": [
        "## Evaluating the model "
      ],
      "metadata": {
        "id": "i8r0YAIo9tLD"
      }
    },
    {
      "cell_type": "code",
      "source": [
        "model.evaluate(validate_dir,batch_size=5)"
      ],
      "metadata": {
        "id": "34FvBP799vWm",
        "outputId": "0f17468c-bde2-45b6-9b99-3fce573d03da",
        "colab": {
          "base_uri": "https://localhost:8080/"
        }
      },
      "execution_count": 11,
      "outputs": [
        {
          "output_type": "stream",
          "name": "stdout",
          "text": [
            "49/49 [==============================] - 20s 296ms/step\n",
            "\n"
          ]
        },
        {
          "output_type": "execute_result",
          "data": {
            "text/plain": [
              "{'AP': 0.8975385,\n",
              " 'AP50': 0.9326052,\n",
              " 'AP75': 0.9238078,\n",
              " 'AP_/Casual Shirt': 0.89329845,\n",
              " 'AP_/Desgin sherwani': 0.9084253,\n",
              " 'AP_/Design Kurta': 0.88989013,\n",
              " 'AP_/Formal Shirt': 0.9520745,\n",
              " 'AP_/Plain kurta': 0.8550681,\n",
              " 'AP_/Plain sherwani': 0.8779376,\n",
              " 'AP_/tshirt': 0.9060753,\n",
              " 'APl': 0.89775676,\n",
              " 'APm': -1.0,\n",
              " 'APs': -1.0,\n",
              " 'ARl': 0.9587251,\n",
              " 'ARm': -1.0,\n",
              " 'ARmax1': 0.9482731,\n",
              " 'ARmax10': 0.9587251,\n",
              " 'ARmax100': 0.9587251,\n",
              " 'ARs': -1.0}"
            ]
          },
          "metadata": {},
          "execution_count": 11
        }
      ]
    },
    {
      "cell_type": "markdown",
      "source": [
        "## Saving Model "
      ],
      "metadata": {
        "id": "hSYSNYGI9XQd"
      }
    },
    {
      "cell_type": "code",
      "execution_count": 12,
      "metadata": {
        "id": "AJ9oA6_ALDeS"
      },
      "outputs": [],
      "source": [
        "model.export(export_dir='/content/')"
      ]
    }
  ],
  "metadata": {
    "accelerator": "GPU",
    "colab": {
      "collapsed_sections": [],
      "machine_shape": "hm",
      "name": "fashion dataset.ipynb",
      "provenance": []
    },
    "kernelspec": {
      "display_name": "Python 3",
      "name": "python3"
    },
    "language_info": {
      "name": "python"
    }
  },
  "nbformat": 4,
  "nbformat_minor": 0
}