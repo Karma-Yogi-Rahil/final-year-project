{
  "cells": [
    {
      "cell_type": "markdown",
      "source": [
        "## Loading dataset "
      ],
      "metadata": {
        "id": "5tVI7uB_9Hez"
      }
    },
    {
      "cell_type": "code",
      "execution_count": 2,
      "metadata": {
        "id": "1LYZMlueITZL"
      },
      "outputs": [],
      "source": [
        "import os \n",
        "os.environ['KAGGLE_CONFIG_DIR'] = '/content'"
      ]
    },
    {
      "cell_type": "markdown",
      "source": [
        ""
      ],
      "metadata": {
        "id": "KQJprHFL9K0S"
      }
    },
    {
      "cell_type": "code",
      "execution_count": 3,
      "metadata": {
        "colab": {
          "base_uri": "https://localhost:8080/"
        },
        "id": "7HJFATrIId7P",
        "outputId": "79d602d7-cb04-4ae7-982d-49cc812e45d5"
      },
      "outputs": [
        {
          "output_type": "stream",
          "name": "stdout",
          "text": [
            "Warning: Your Kaggle API key is readable by other users on this system! To fix this, you can run 'chmod 600 /content/kaggle.json'\n",
            "Downloading fashion.zip to /content\n",
            " 91% 173M/191M [00:02<00:00, 58.3MB/s]\n",
            "100% 191M/191M [00:02<00:00, 68.5MB/s]\n"
          ]
        }
      ],
      "source": [
        "! kaggle datasets download -d rahilmehtaucoe2784/fashion"
      ]
    },
    {
      "cell_type": "code",
      "execution_count": 4,
      "metadata": {
        "id": "1J2KVGkRIkan"
      },
      "outputs": [],
      "source": [
        "%%capture\n",
        "!unzip \\*.zip && rm *.zip &> /dev/null"
      ]
    },
    {
      "cell_type": "markdown",
      "source": [
        "## installing and importing Libraries "
      ],
      "metadata": {
        "id": "S4A81jNW9Mq7"
      }
    },
    {
      "cell_type": "code",
      "execution_count": 5,
      "metadata": {
        "colab": {
          "base_uri": "https://localhost:8080/"
        },
        "id": "LBPX2I6f8VbH",
        "outputId": "935a79cc-628c-4175-e40d-78cf33d1ab0a"
      },
      "outputs": [
        {
          "output_type": "stream",
          "name": "stdout",
          "text": [
            "\u001b[?25l\r\u001b[K     |▌                               | 10 kB 35.0 MB/s eta 0:00:01\r\u001b[K     |█                               | 20 kB 39.8 MB/s eta 0:00:01\r\u001b[K     |█▋                              | 30 kB 25.7 MB/s eta 0:00:01\r\u001b[K     |██▏                             | 40 kB 14.1 MB/s eta 0:00:01\r\u001b[K     |██▋                             | 51 kB 12.9 MB/s eta 0:00:01\r\u001b[K     |███▏                            | 61 kB 15.1 MB/s eta 0:00:01\r\u001b[K     |███▊                            | 71 kB 14.9 MB/s eta 0:00:01\r\u001b[K     |████▎                           | 81 kB 14.1 MB/s eta 0:00:01\r\u001b[K     |████▉                           | 92 kB 15.6 MB/s eta 0:00:01\r\u001b[K     |█████▎                          | 102 kB 14.3 MB/s eta 0:00:01\r\u001b[K     |█████▉                          | 112 kB 14.3 MB/s eta 0:00:01\r\u001b[K     |██████▍                         | 122 kB 14.3 MB/s eta 0:00:01\r\u001b[K     |███████                         | 133 kB 14.3 MB/s eta 0:00:01\r\u001b[K     |███████▍                        | 143 kB 14.3 MB/s eta 0:00:01\r\u001b[K     |████████                        | 153 kB 14.3 MB/s eta 0:00:01\r\u001b[K     |████████▌                       | 163 kB 14.3 MB/s eta 0:00:01\r\u001b[K     |█████████                       | 174 kB 14.3 MB/s eta 0:00:01\r\u001b[K     |█████████▋                      | 184 kB 14.3 MB/s eta 0:00:01\r\u001b[K     |██████████                      | 194 kB 14.3 MB/s eta 0:00:01\r\u001b[K     |██████████▋                     | 204 kB 14.3 MB/s eta 0:00:01\r\u001b[K     |███████████▏                    | 215 kB 14.3 MB/s eta 0:00:01\r\u001b[K     |███████████▊                    | 225 kB 14.3 MB/s eta 0:00:01\r\u001b[K     |████████████▏                   | 235 kB 14.3 MB/s eta 0:00:01\r\u001b[K     |████████████▊                   | 245 kB 14.3 MB/s eta 0:00:01\r\u001b[K     |█████████████▎                  | 256 kB 14.3 MB/s eta 0:00:01\r\u001b[K     |█████████████▉                  | 266 kB 14.3 MB/s eta 0:00:01\r\u001b[K     |██████████████▍                 | 276 kB 14.3 MB/s eta 0:00:01\r\u001b[K     |██████████████▉                 | 286 kB 14.3 MB/s eta 0:00:01\r\u001b[K     |███████████████▍                | 296 kB 14.3 MB/s eta 0:00:01\r\u001b[K     |████████████████                | 307 kB 14.3 MB/s eta 0:00:01\r\u001b[K     |████████████████▌               | 317 kB 14.3 MB/s eta 0:00:01\r\u001b[K     |█████████████████               | 327 kB 14.3 MB/s eta 0:00:01\r\u001b[K     |█████████████████▌              | 337 kB 14.3 MB/s eta 0:00:01\r\u001b[K     |██████████████████              | 348 kB 14.3 MB/s eta 0:00:01\r\u001b[K     |██████████████████▋             | 358 kB 14.3 MB/s eta 0:00:01\r\u001b[K     |███████████████████▏            | 368 kB 14.3 MB/s eta 0:00:01\r\u001b[K     |███████████████████▋            | 378 kB 14.3 MB/s eta 0:00:01\r\u001b[K     |████████████████████▏           | 389 kB 14.3 MB/s eta 0:00:01\r\u001b[K     |████████████████████▊           | 399 kB 14.3 MB/s eta 0:00:01\r\u001b[K     |█████████████████████▎          | 409 kB 14.3 MB/s eta 0:00:01\r\u001b[K     |█████████████████████▉          | 419 kB 14.3 MB/s eta 0:00:01\r\u001b[K     |██████████████████████▎         | 430 kB 14.3 MB/s eta 0:00:01\r\u001b[K     |██████████████████████▉         | 440 kB 14.3 MB/s eta 0:00:01\r\u001b[K     |███████████████████████▍        | 450 kB 14.3 MB/s eta 0:00:01\r\u001b[K     |████████████████████████        | 460 kB 14.3 MB/s eta 0:00:01\r\u001b[K     |████████████████████████▍       | 471 kB 14.3 MB/s eta 0:00:01\r\u001b[K     |█████████████████████████       | 481 kB 14.3 MB/s eta 0:00:01\r\u001b[K     |█████████████████████████▌      | 491 kB 14.3 MB/s eta 0:00:01\r\u001b[K     |██████████████████████████      | 501 kB 14.3 MB/s eta 0:00:01\r\u001b[K     |██████████████████████████▋     | 512 kB 14.3 MB/s eta 0:00:01\r\u001b[K     |███████████████████████████     | 522 kB 14.3 MB/s eta 0:00:01\r\u001b[K     |███████████████████████████▋    | 532 kB 14.3 MB/s eta 0:00:01\r\u001b[K     |████████████████████████████▏   | 542 kB 14.3 MB/s eta 0:00:01\r\u001b[K     |████████████████████████████▊   | 552 kB 14.3 MB/s eta 0:00:01\r\u001b[K     |█████████████████████████████▏  | 563 kB 14.3 MB/s eta 0:00:01\r\u001b[K     |█████████████████████████████▊  | 573 kB 14.3 MB/s eta 0:00:01\r\u001b[K     |██████████████████████████████▎ | 583 kB 14.3 MB/s eta 0:00:01\r\u001b[K     |██████████████████████████████▉ | 593 kB 14.3 MB/s eta 0:00:01\r\u001b[K     |███████████████████████████████▍| 604 kB 14.3 MB/s eta 0:00:01\r\u001b[K     |███████████████████████████████▉| 614 kB 14.3 MB/s eta 0:00:01\r\u001b[K     |████████████████████████████████| 616 kB 14.3 MB/s \n",
            "\u001b[K     |████████████████████████████████| 120 kB 91.5 MB/s \n",
            "\u001b[K     |████████████████████████████████| 1.2 MB 67.0 MB/s \n",
            "\u001b[K     |████████████████████████████████| 596 kB 66.3 MB/s \n",
            "\u001b[K     |████████████████████████████████| 234 kB 78.4 MB/s \n",
            "\u001b[K     |████████████████████████████████| 1.1 MB 62.7 MB/s \n",
            "\u001b[K     |████████████████████████████████| 87 kB 9.4 MB/s \n",
            "\u001b[K     |████████████████████████████████| 3.4 MB 64.4 MB/s \n",
            "\u001b[K     |████████████████████████████████| 77 kB 7.6 MB/s \n",
            "\u001b[K     |████████████████████████████████| 6.4 MB 69.7 MB/s \n",
            "\u001b[K     |████████████████████████████████| 840 kB 41.0 MB/s \n",
            "\u001b[K     |████████████████████████████████| 1.1 MB 66.0 MB/s \n",
            "\u001b[K     |████████████████████████████████| 25.3 MB 1.5 MB/s \n",
            "\u001b[K     |████████████████████████████████| 99 kB 11.6 MB/s \n",
            "\u001b[K     |████████████████████████████████| 352 kB 82.3 MB/s \n",
            "\u001b[K     |████████████████████████████████| 47.7 MB 1.2 MB/s \n",
            "\u001b[K     |████████████████████████████████| 462 kB 72.3 MB/s \n",
            "\u001b[K     |████████████████████████████████| 211 kB 96.4 MB/s \n",
            "\u001b[?25h  Building wheel for fire (setup.py) ... \u001b[?25l\u001b[?25hdone\n",
            "  Building wheel for py-cpuinfo (setup.py) ... \u001b[?25l\u001b[?25hdone\n"
          ]
        }
      ],
      "source": [
        "!pip install -q tflite-model-maker\n",
        "!pip install -q pycocotools"
      ]
    },
    {
      "cell_type": "code",
      "execution_count": 6,
      "metadata": {
        "id": "06DKhsLi45v2"
      },
      "outputs": [],
      "source": [
        "import numpy as np\n",
        "import os\n",
        "\n",
        "#from tflite_model_maker.config import ExportFormat\n",
        "from tflite_model_maker import model_spec\n",
        "from tflite_model_maker import object_detector\n",
        "\n",
        "import tensorflow as tf\n",
        "assert tf.__version__.startswith('2')\n",
        "\n",
        "tf.get_logger().setLevel('ERROR')\n",
        "from absl import logging\n",
        "logging.set_verbosity(logging.ERROR)\n",
        "from tensorflow import keras"
      ]
    },
    {
      "cell_type": "code",
      "source": [
        ""
      ],
      "metadata": {
        "id": "ytwmMNWR9RNv"
      },
      "execution_count": null,
      "outputs": []
    },
    {
      "cell_type": "markdown",
      "source": [
        "## Training "
      ],
      "metadata": {
        "id": "yrtPmpQ49RlQ"
      }
    },
    {
      "cell_type": "code",
      "execution_count": 7,
      "metadata": {
        "id": "8m1Ma4LB48TK"
      },
      "outputs": [],
      "source": [
        "train_image_dir = '/content/Final Img copy 2/train'\n",
        "train_annotation_dir = '/content/Final Img copy 2/train anotation'\n",
        "validate_image_dir = '/content/Final Img copy 2/valid'\n",
        "validate_anaotation_dir = '/content/Final Img copy 2/valid anotation '"
      ]
    },
    {
      "cell_type": "code",
      "execution_count": 8,
      "metadata": {
        "id": "fNHc_8UJ4-v_"
      },
      "outputs": [],
      "source": [
        "\n",
        "spec = model_spec.get('efficientdet_lite3')"
      ]
    },
    {
      "cell_type": "code",
      "execution_count": 9,
      "metadata": {
        "id": "0CvbWzBl5BR_"
      },
      "outputs": [],
      "source": [
        "train_dir = object_detector.DataLoader.from_pascal_voc(train_image_dir, train_annotation_dir, label_map={1:\"Design Kurta\", 2: \"Plain kurta\", 3: \"Casual Shirt\", 4:\"Formal Shirt\", 5: \"Desgin sherwani\", 6:\"Plain sherwani\", 7:\"tshirt\"})"
      ]
    },
    {
      "cell_type": "code",
      "execution_count": 10,
      "metadata": {
        "id": "qc-JL6j45EwG"
      },
      "outputs": [],
      "source": [
        "validate_dir = object_detector.DataLoader.from_pascal_voc(validate_image_dir, validate_anaotation_dir, label_map={1:\"Design Kurta\", 2: \"Plain kurta\", 3: \"Casual Shirt\", 4:\"Formal Shirt\", 5: \"Desgin sherwani\", 6:\"Plain sherwani\",7:\"tshirt\"})"
      ]
    },
    {
      "cell_type": "code",
      "execution_count": 11,
      "metadata": {
        "colab": {
          "base_uri": "https://localhost:8080/"
        },
        "id": "GhOnS5GA5G_3",
        "outputId": "49d67d27-7e0d-4669-e0a2-6e5f24275947"
      },
      "outputs": [
        {
          "output_type": "stream",
          "name": "stdout",
          "text": [
            "Epoch 1/10\n",
            "176/176 [==============================] - 151s 542ms/step - det_loss: 1.1178 - cls_loss: 0.8849 - box_loss: 0.0047 - reg_l2_loss: 0.0935 - loss: 1.2113 - learning_rate: 0.0071 - gradient_norm: 2.7085 - val_det_loss: 0.6058 - val_cls_loss: 0.5414 - val_box_loss: 0.0013 - val_reg_l2_loss: 0.0936 - val_loss: 0.6994\n",
            "Epoch 2/10\n",
            "176/176 [==============================] - 96s 543ms/step - det_loss: 0.5588 - cls_loss: 0.4914 - box_loss: 0.0013 - reg_l2_loss: 0.0936 - loss: 0.6524 - learning_rate: 0.0058 - gradient_norm: 3.3871 - val_det_loss: 0.5336 - val_cls_loss: 0.5019 - val_box_loss: 6.3318e-04 - val_reg_l2_loss: 0.0937 - val_loss: 0.6273\n",
            "Epoch 3/10\n",
            "176/176 [==============================] - 95s 539ms/step - det_loss: 0.4578 - cls_loss: 0.4166 - box_loss: 8.2554e-04 - reg_l2_loss: 0.0937 - loss: 0.5516 - learning_rate: 0.0051 - gradient_norm: 3.0003 - val_det_loss: 0.5428 - val_cls_loss: 0.5246 - val_box_loss: 3.6538e-04 - val_reg_l2_loss: 0.0938 - val_loss: 0.6366\n",
            "Epoch 4/10\n",
            "176/176 [==============================] - 95s 539ms/step - det_loss: 0.4133 - cls_loss: 0.3756 - box_loss: 7.5338e-04 - reg_l2_loss: 0.0938 - loss: 0.5071 - learning_rate: 0.0042 - gradient_norm: 3.3297 - val_det_loss: 0.3984 - val_cls_loss: 0.3764 - val_box_loss: 4.3964e-04 - val_reg_l2_loss: 0.0938 - val_loss: 0.4922\n",
            "Epoch 5/10\n",
            "176/176 [==============================] - 111s 633ms/step - det_loss: 0.3800 - cls_loss: 0.3496 - box_loss: 6.0852e-04 - reg_l2_loss: 0.0938 - loss: 0.4738 - learning_rate: 0.0031 - gradient_norm: 3.1905 - val_det_loss: 0.3985 - val_cls_loss: 0.3831 - val_box_loss: 3.0678e-04 - val_reg_l2_loss: 0.0938 - val_loss: 0.4923\n",
            "Epoch 6/10\n",
            "176/176 [==============================] - 95s 541ms/step - det_loss: 0.3579 - cls_loss: 0.3282 - box_loss: 5.9269e-04 - reg_l2_loss: 0.0938 - loss: 0.4517 - learning_rate: 0.0021 - gradient_norm: 3.3266 - val_det_loss: 0.3743 - val_cls_loss: 0.3655 - val_box_loss: 1.7573e-04 - val_reg_l2_loss: 0.0938 - val_loss: 0.4681\n",
            "Epoch 7/10\n",
            "176/176 [==============================] - 96s 544ms/step - det_loss: 0.3358 - cls_loss: 0.3113 - box_loss: 4.9012e-04 - reg_l2_loss: 0.0938 - loss: 0.4296 - learning_rate: 0.0011 - gradient_norm: 3.3232 - val_det_loss: 0.3531 - val_cls_loss: 0.3447 - val_box_loss: 1.6653e-04 - val_reg_l2_loss: 0.0938 - val_loss: 0.4469\n",
            "Epoch 8/10\n",
            "176/176 [==============================] - 95s 538ms/step - det_loss: 0.3286 - cls_loss: 0.3051 - box_loss: 4.6926e-04 - reg_l2_loss: 0.0938 - loss: 0.4224 - learning_rate: 4.3256e-04 - gradient_norm: 3.2791 - val_det_loss: 0.3645 - val_cls_loss: 0.3567 - val_box_loss: 1.5737e-04 - val_reg_l2_loss: 0.0938 - val_loss: 0.4584\n",
            "Epoch 9/10\n",
            "176/176 [==============================] - 95s 540ms/step - det_loss: 0.3194 - cls_loss: 0.2960 - box_loss: 4.6737e-04 - reg_l2_loss: 0.0938 - loss: 0.4132 - learning_rate: 6.3253e-05 - gradient_norm: 2.9806 - val_det_loss: 0.3508 - val_cls_loss: 0.3411 - val_box_loss: 1.9416e-04 - val_reg_l2_loss: 0.0938 - val_loss: 0.4446\n",
            "Epoch 10/10\n",
            "176/176 [==============================] - 106s 603ms/step - det_loss: 0.3222 - cls_loss: 0.2993 - box_loss: 4.5788e-04 - reg_l2_loss: 0.0938 - loss: 0.4160 - learning_rate: 6.3242e-05 - gradient_norm: 3.1536 - val_det_loss: 0.3481 - val_cls_loss: 0.3392 - val_box_loss: 1.7713e-04 - val_reg_l2_loss: 0.0938 - val_loss: 0.4419\n"
          ]
        }
      ],
      "source": [
        "model = object_detector.create(train_dir, \n",
        "                               model_spec=spec, \n",
        "                               epochs=10, \n",
        "                               batch_size=5, \n",
        "                               train_whole_model=True, \n",
        "                               validation_data=validate_dir\n",
        "                               )"
      ]
    },
    {
      "cell_type": "code",
      "source": [
        ""
      ],
      "metadata": {
        "id": "F6Nv-kXT9Wlh"
      },
      "execution_count": null,
      "outputs": []
    },
    {
      "cell_type": "markdown",
      "source": [
        "## Evaluating the model "
      ],
      "metadata": {
        "id": "i8r0YAIo9tLD"
      }
    },
    {
      "cell_type": "code",
      "source": [
        "model.evaluate(validate_dir,batch_size=5)"
      ],
      "metadata": {
        "id": "34FvBP799vWm",
        "outputId": "58f6a479-8163-4190-b963-486ec5f918ea",
        "colab": {
          "base_uri": "https://localhost:8080/"
        }
      },
      "execution_count": 12,
      "outputs": [
        {
          "output_type": "stream",
          "name": "stdout",
          "text": [
            "49/49 [==============================] - 17s 256ms/step\n",
            "\n"
          ]
        },
        {
          "output_type": "execute_result",
          "data": {
            "text/plain": [
              "{'AP': 0.60313493,\n",
              " 'AP50': 0.66761446,\n",
              " 'AP75': 0.65702575,\n",
              " 'AP_/Casual Shirt': 0.4123898,\n",
              " 'AP_/Desgin sherwani': 0.6939761,\n",
              " 'AP_/Design Kurta': 0.4500077,\n",
              " 'AP_/Formal Shirt': 0.7678286,\n",
              " 'AP_/Plain kurta': 0.33912784,\n",
              " 'AP_/Plain sherwani': 0.6880278,\n",
              " 'AP_/tshirt': 0.8705865,\n",
              " 'APl': 0.603173,\n",
              " 'APm': -1.0,\n",
              " 'APs': -1.0,\n",
              " 'ARl': 0.879603,\n",
              " 'ARm': -1.0,\n",
              " 'ARmax1': 0.8548344,\n",
              " 'ARmax10': 0.879603,\n",
              " 'ARmax100': 0.879603,\n",
              " 'ARs': -1.0}"
            ]
          },
          "metadata": {},
          "execution_count": 12
        }
      ]
    },
    {
      "cell_type": "markdown",
      "source": [
        "## Saving Model "
      ],
      "metadata": {
        "id": "hSYSNYGI9XQd"
      }
    },
    {
      "cell_type": "code",
      "execution_count": 13,
      "metadata": {
        "id": "AJ9oA6_ALDeS"
      },
      "outputs": [],
      "source": [
        "model.export(export_dir='/content/')"
      ]
    }
  ],
  "metadata": {
    "accelerator": "GPU",
    "colab": {
      "collapsed_sections": [],
      "machine_shape": "hm",
      "name": "fashion dataset.ipynb",
      "provenance": []
    },
    "kernelspec": {
      "display_name": "Python 3",
      "name": "python3"
    },
    "language_info": {
      "name": "python"
    }
  },
  "nbformat": 4,
  "nbformat_minor": 0
}