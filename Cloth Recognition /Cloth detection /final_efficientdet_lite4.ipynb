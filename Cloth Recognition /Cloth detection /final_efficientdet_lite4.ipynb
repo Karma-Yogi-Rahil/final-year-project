{
  "cells": [
    {
      "cell_type": "markdown",
      "source": [
        "## Loading dataset "
      ],
      "metadata": {
        "id": "5tVI7uB_9Hez"
      }
    },
    {
      "cell_type": "code",
      "execution_count": 1,
      "metadata": {
        "id": "1LYZMlueITZL"
      },
      "outputs": [],
      "source": [
        "import os \n",
        "os.environ['KAGGLE_CONFIG_DIR'] = '/content'"
      ]
    },
    {
      "cell_type": "markdown",
      "source": [
        ""
      ],
      "metadata": {
        "id": "KQJprHFL9K0S"
      }
    },
    {
      "cell_type": "code",
      "execution_count": 2,
      "metadata": {
        "colab": {
          "base_uri": "https://localhost:8080/"
        },
        "id": "7HJFATrIId7P",
        "outputId": "79423182-4f7a-47f4-988e-60d7bc37eb65"
      },
      "outputs": [
        {
          "output_type": "stream",
          "name": "stdout",
          "text": [
            "Warning: Your Kaggle API key is readable by other users on this system! To fix this, you can run 'chmod 600 /content/kaggle.json'\n",
            "Downloading fashion.zip to /content\n",
            " 98% 289M/294M [00:11<00:00, 29.3MB/s]\n",
            "100% 294M/294M [00:11<00:00, 25.9MB/s]\n"
          ]
        }
      ],
      "source": [
        "! kaggle datasets download -d rahilmehtaucoe2784/fashion"
      ]
    },
    {
      "cell_type": "code",
      "execution_count": 3,
      "metadata": {
        "id": "1J2KVGkRIkan"
      },
      "outputs": [],
      "source": [
        "%%capture\n",
        "!unzip \\*.zip && rm *.zip &> /dev/null"
      ]
    },
    {
      "cell_type": "markdown",
      "source": [
        "## installing and importing Libraries "
      ],
      "metadata": {
        "id": "S4A81jNW9Mq7"
      }
    },
    {
      "cell_type": "code",
      "execution_count": 4,
      "metadata": {
        "colab": {
          "base_uri": "https://localhost:8080/"
        },
        "id": "LBPX2I6f8VbH",
        "outputId": "51388c21-473f-4e4b-d5c0-873fe6e0ba7a"
      },
      "outputs": [
        {
          "output_type": "stream",
          "name": "stdout",
          "text": [
            "\u001b[K     |████████████████████████████████| 616 kB 4.2 MB/s \n",
            "\u001b[K     |████████████████████████████████| 1.1 MB 59.7 MB/s \n",
            "\u001b[K     |████████████████████████████████| 840 kB 56.1 MB/s \n",
            "\u001b[K     |████████████████████████████████| 3.4 MB 57.3 MB/s \n",
            "\u001b[K     |████████████████████████████████| 1.1 MB 57.9 MB/s \n",
            "\u001b[K     |████████████████████████████████| 6.4 MB 58.9 MB/s \n",
            "\u001b[K     |████████████████████████████████| 87 kB 8.4 MB/s \n",
            "\u001b[K     |████████████████████████████████| 1.2 MB 60.0 MB/s \n",
            "\u001b[K     |████████████████████████████████| 234 kB 74.6 MB/s \n",
            "\u001b[K     |████████████████████████████████| 120 kB 73.1 MB/s \n",
            "\u001b[K     |████████████████████████████████| 77 kB 5.9 MB/s \n",
            "\u001b[K     |████████████████████████████████| 596 kB 78.3 MB/s \n",
            "\u001b[K     |████████████████████████████████| 25.3 MB 1.2 MB/s \n",
            "\u001b[K     |████████████████████████████████| 99 kB 11.3 MB/s \n",
            "\u001b[K     |████████████████████████████████| 352 kB 67.3 MB/s \n",
            "\u001b[K     |████████████████████████████████| 47.8 MB 1.1 MB/s \n",
            "\u001b[K     |████████████████████████████████| 462 kB 72.7 MB/s \n",
            "\u001b[K     |████████████████████████████████| 211 kB 58.4 MB/s \n",
            "\u001b[?25h  Building wheel for fire (setup.py) ... \u001b[?25l\u001b[?25hdone\n",
            "  Building wheel for py-cpuinfo (setup.py) ... \u001b[?25l\u001b[?25hdone\n"
          ]
        }
      ],
      "source": [
        "!pip install -q tflite-model-maker\n",
        "!pip install -q pycocotools"
      ]
    },
    {
      "cell_type": "code",
      "execution_count": 5,
      "metadata": {
        "id": "06DKhsLi45v2"
      },
      "outputs": [],
      "source": [
        "import numpy as np\n",
        "import os\n",
        "\n",
        "#from tflite_model_maker.config import ExportFormat\n",
        "from tflite_model_maker import model_spec\n",
        "from tflite_model_maker import object_detector\n",
        "\n",
        "import tensorflow as tf\n",
        "assert tf.__version__.startswith('2')\n",
        "\n",
        "tf.get_logger().setLevel('ERROR')\n",
        "from absl import logging\n",
        "logging.set_verbosity(logging.ERROR)\n",
        "from tensorflow import keras"
      ]
    },
    {
      "cell_type": "code",
      "source": [
        ""
      ],
      "metadata": {
        "id": "ytwmMNWR9RNv"
      },
      "execution_count": null,
      "outputs": []
    },
    {
      "cell_type": "markdown",
      "source": [
        "## Training "
      ],
      "metadata": {
        "id": "yrtPmpQ49RlQ"
      }
    },
    {
      "cell_type": "code",
      "execution_count": 7,
      "metadata": {
        "id": "8m1Ma4LB48TK"
      },
      "outputs": [],
      "source": [
        "train_image_dir = '/content/final fashion dataset/train image'\n",
        "train_annotation_dir = '/content/final fashion dataset/train anotation '\n",
        "validate_image_dir = '/content/final fashion dataset/valid image'\n",
        "validate_anaotation_dir = '/content/final fashion dataset/valid anotation '\n",
        "test_image = \"/content/final fashion dataset/test image\"\n",
        "test_anotation = \"/content/final fashion dataset/test anotation \""
      ]
    },
    {
      "cell_type": "code",
      "execution_count": 8,
      "metadata": {
        "id": "fNHc_8UJ4-v_"
      },
      "outputs": [],
      "source": [
        "spec = model_spec.get('efficientdet_lite4')"
      ]
    },
    {
      "cell_type": "code",
      "execution_count": 9,
      "metadata": {
        "id": "0CvbWzBl5BR_"
      },
      "outputs": [],
      "source": [
        "train_dir = object_detector.DataLoader.from_pascal_voc(train_image_dir, train_annotation_dir, label_map={1:\"Design Kurta\", 2: \"Plain kurta\", 3: \"Casual Shirt\", 4:\"Formal Shirt\", 5: \"Desgin sherwani\", 6:\"Plain sherwani\", 7:\"tshirt\", 8:\"Kurti\", 9:\"Top\", 10:\"saree\"})"
      ]
    },
    {
      "cell_type": "code",
      "execution_count": 10,
      "metadata": {
        "id": "qc-JL6j45EwG"
      },
      "outputs": [],
      "source": [
        "validate_dir = object_detector.DataLoader.from_pascal_voc(validate_image_dir, validate_anaotation_dir, label_map={1:\"Design Kurta\", 2: \"Plain kurta\", 3: \"Casual Shirt\", 4:\"Formal Shirt\", 5: \"Desgin sherwani\", 6:\"Plain sherwani\",7:\"tshirt\", 8:\"Kurti\", 9:\"Top\", 10:\"saree\"})"
      ]
    },
    {
      "cell_type": "code",
      "source": [
        "test_dir = object_detector.DataLoader.from_pascal_voc(test_image, test_anotation, label_map={1:\"Design Kurta\", 2: \"Plain kurta\", 3: \"Casual Shirt\", 4:\"Formal Shirt\", 5: \"Desgin sherwani\", 6:\"Plain sherwani\",7:\"tshirt\", 8:\"Kurti\", 9:\"Top\", 10:\"saree\"})"
      ],
      "metadata": {
        "id": "pRzEVErfnEYS"
      },
      "execution_count": 11,
      "outputs": []
    },
    {
      "cell_type": "code",
      "source": [
        "print(len(train_dir))\n",
        "print(len(validate_dir))\n",
        "print(len(test_dir))"
      ],
      "metadata": {
        "colab": {
          "base_uri": "https://localhost:8080/"
        },
        "id": "PyX_BX-ZnRbb",
        "outputId": "b0018eec-7b6e-4dff-ff8f-8b69162809b9"
      },
      "execution_count": 14,
      "outputs": [
        {
          "output_type": "stream",
          "name": "stdout",
          "text": [
            "1330\n",
            "385\n",
            "177\n"
          ]
        }
      ]
    },
    {
      "cell_type": "code",
      "execution_count": 15,
      "metadata": {
        "colab": {
          "base_uri": "https://localhost:8080/"
        },
        "id": "GhOnS5GA5G_3",
        "outputId": "cfaa415f-8da6-4e8d-e0e0-1965d42d70d9"
      },
      "outputs": [
        {
          "output_type": "stream",
          "name": "stdout",
          "text": [
            "Epoch 1/50\n",
            "266/266 [==============================] - 177s 466ms/step - det_loss: 1.1021 - cls_loss: 0.8716 - box_loss: 0.0046 - reg_l2_loss: 0.0941 - loss: 1.1962 - learning_rate: 0.0071 - gradient_norm: 3.2266 - val_det_loss: 0.7257 - val_cls_loss: 0.6458 - val_box_loss: 0.0016 - val_reg_l2_loss: 0.0942 - val_loss: 0.8200\n",
            "Epoch 2/50\n",
            "266/266 [==============================] - 121s 456ms/step - det_loss: 0.5905 - cls_loss: 0.5012 - box_loss: 0.0018 - reg_l2_loss: 0.0944 - loss: 0.6848 - learning_rate: 0.0062 - gradient_norm: 3.9712 - val_det_loss: 0.5260 - val_cls_loss: 0.4667 - val_box_loss: 0.0012 - val_reg_l2_loss: 0.0945 - val_loss: 0.6205\n",
            "Epoch 3/50\n",
            "266/266 [==============================] - 121s 455ms/step - det_loss: 0.4968 - cls_loss: 0.4312 - box_loss: 0.0013 - reg_l2_loss: 0.0946 - loss: 0.5914 - learning_rate: 0.0062 - gradient_norm: 3.7333 - val_det_loss: 0.5307 - val_cls_loss: 0.4909 - val_box_loss: 7.9670e-04 - val_reg_l2_loss: 0.0947 - val_loss: 0.6254\n",
            "Epoch 4/50\n",
            "266/266 [==============================] - 121s 454ms/step - det_loss: 0.4457 - cls_loss: 0.3897 - box_loss: 0.0011 - reg_l2_loss: 0.0948 - loss: 0.5406 - learning_rate: 0.0062 - gradient_norm: 3.6570 - val_det_loss: 0.4670 - val_cls_loss: 0.4395 - val_box_loss: 5.4983e-04 - val_reg_l2_loss: 0.0949 - val_loss: 0.5620\n",
            "Epoch 5/50\n",
            "266/266 [==============================] - 143s 537ms/step - det_loss: 0.4208 - cls_loss: 0.3676 - box_loss: 0.0011 - reg_l2_loss: 0.0950 - loss: 0.5159 - learning_rate: 0.0061 - gradient_norm: 3.8879 - val_det_loss: 0.5766 - val_cls_loss: 0.5237 - val_box_loss: 0.0011 - val_reg_l2_loss: 0.0952 - val_loss: 0.6718\n",
            "Epoch 6/50\n",
            "266/266 [==============================] - 121s 456ms/step - det_loss: 0.4016 - cls_loss: 0.3504 - box_loss: 0.0010 - reg_l2_loss: 0.0953 - loss: 0.4968 - learning_rate: 0.0061 - gradient_norm: 3.8591 - val_det_loss: 0.4362 - val_cls_loss: 0.4017 - val_box_loss: 6.9096e-04 - val_reg_l2_loss: 0.0954 - val_loss: 0.5316\n",
            "Epoch 7/50\n",
            "266/266 [==============================] - 121s 455ms/step - det_loss: 0.3758 - cls_loss: 0.3287 - box_loss: 9.4289e-04 - reg_l2_loss: 0.0955 - loss: 0.4713 - learning_rate: 0.0060 - gradient_norm: 3.6305 - val_det_loss: 0.4517 - val_cls_loss: 0.4173 - val_box_loss: 6.8915e-04 - val_reg_l2_loss: 0.0956 - val_loss: 0.5473\n",
            "Epoch 8/50\n",
            "266/266 [==============================] - 121s 454ms/step - det_loss: 0.3520 - cls_loss: 0.3103 - box_loss: 8.3368e-04 - reg_l2_loss: 0.0957 - loss: 0.4476 - learning_rate: 0.0059 - gradient_norm: 3.5308 - val_det_loss: 0.3742 - val_cls_loss: 0.3556 - val_box_loss: 3.7260e-04 - val_reg_l2_loss: 0.0957 - val_loss: 0.4700\n",
            "Epoch 9/50\n",
            "266/266 [==============================] - 121s 456ms/step - det_loss: 0.3543 - cls_loss: 0.3100 - box_loss: 8.8667e-04 - reg_l2_loss: 0.0958 - loss: 0.4501 - learning_rate: 0.0058 - gradient_norm: 3.8417 - val_det_loss: 0.4640 - val_cls_loss: 0.4186 - val_box_loss: 9.0689e-04 - val_reg_l2_loss: 0.0959 - val_loss: 0.5599\n",
            "Epoch 10/50\n",
            "266/266 [==============================] - 136s 512ms/step - det_loss: 0.3371 - cls_loss: 0.2937 - box_loss: 8.6748e-04 - reg_l2_loss: 0.0960 - loss: 0.4331 - learning_rate: 0.0057 - gradient_norm: 3.6214 - val_det_loss: 0.3739 - val_cls_loss: 0.3289 - val_box_loss: 9.0014e-04 - val_reg_l2_loss: 0.0961 - val_loss: 0.4700\n",
            "Epoch 11/50\n",
            "266/266 [==============================] - 122s 457ms/step - det_loss: 0.3346 - cls_loss: 0.2964 - box_loss: 7.6353e-04 - reg_l2_loss: 0.0962 - loss: 0.4307 - learning_rate: 0.0056 - gradient_norm: 3.5046 - val_det_loss: 0.3662 - val_cls_loss: 0.3544 - val_box_loss: 2.3521e-04 - val_reg_l2_loss: 0.0962 - val_loss: 0.4624\n",
            "Epoch 12/50\n",
            "266/266 [==============================] - 121s 455ms/step - det_loss: 0.3045 - cls_loss: 0.2695 - box_loss: 6.9948e-04 - reg_l2_loss: 0.0963 - loss: 0.4008 - learning_rate: 0.0054 - gradient_norm: 3.2813 - val_det_loss: 0.2681 - val_cls_loss: 0.2538 - val_box_loss: 2.8506e-04 - val_reg_l2_loss: 0.0963 - val_loss: 0.3644\n",
            "Epoch 13/50\n",
            "266/266 [==============================] - 121s 455ms/step - det_loss: 0.3094 - cls_loss: 0.2730 - box_loss: 7.2740e-04 - reg_l2_loss: 0.0964 - loss: 0.4058 - learning_rate: 0.0053 - gradient_norm: 3.4089 - val_det_loss: 0.3447 - val_cls_loss: 0.3268 - val_box_loss: 3.5644e-04 - val_reg_l2_loss: 0.0964 - val_loss: 0.4411\n",
            "Epoch 14/50\n",
            "266/266 [==============================] - 121s 455ms/step - det_loss: 0.2938 - cls_loss: 0.2612 - box_loss: 6.5114e-04 - reg_l2_loss: 0.0965 - loss: 0.3903 - learning_rate: 0.0052 - gradient_norm: 3.4486 - val_det_loss: 0.2837 - val_cls_loss: 0.2691 - val_box_loss: 2.9120e-04 - val_reg_l2_loss: 0.0966 - val_loss: 0.3802\n",
            "Epoch 15/50\n",
            "266/266 [==============================] - 136s 513ms/step - det_loss: 0.2774 - cls_loss: 0.2462 - box_loss: 6.2451e-04 - reg_l2_loss: 0.0966 - loss: 0.3740 - learning_rate: 0.0050 - gradient_norm: 3.4502 - val_det_loss: 0.3582 - val_cls_loss: 0.3468 - val_box_loss: 2.2726e-04 - val_reg_l2_loss: 0.0966 - val_loss: 0.4548\n",
            "Epoch 16/50\n",
            "266/266 [==============================] - 122s 457ms/step - det_loss: 0.2773 - cls_loss: 0.2462 - box_loss: 6.2178e-04 - reg_l2_loss: 0.0967 - loss: 0.3740 - learning_rate: 0.0048 - gradient_norm: 3.2767 - val_det_loss: 0.2739 - val_cls_loss: 0.2633 - val_box_loss: 2.1341e-04 - val_reg_l2_loss: 0.0967 - val_loss: 0.3707\n",
            "Epoch 17/50\n",
            "266/266 [==============================] - 121s 455ms/step - det_loss: 0.2721 - cls_loss: 0.2415 - box_loss: 6.1199e-04 - reg_l2_loss: 0.0968 - loss: 0.3689 - learning_rate: 0.0047 - gradient_norm: 3.2169 - val_det_loss: 0.2576 - val_cls_loss: 0.2471 - val_box_loss: 2.0984e-04 - val_reg_l2_loss: 0.0968 - val_loss: 0.3544\n",
            "Epoch 18/50\n",
            "266/266 [==============================] - 122s 458ms/step - det_loss: 0.2674 - cls_loss: 0.2384 - box_loss: 5.7864e-04 - reg_l2_loss: 0.0968 - loss: 0.3642 - learning_rate: 0.0045 - gradient_norm: 3.4498 - val_det_loss: 0.2847 - val_cls_loss: 0.2770 - val_box_loss: 1.5525e-04 - val_reg_l2_loss: 0.0969 - val_loss: 0.3816\n",
            "Epoch 19/50\n",
            "266/266 [==============================] - 121s 455ms/step - det_loss: 0.2602 - cls_loss: 0.2335 - box_loss: 5.3408e-04 - reg_l2_loss: 0.0969 - loss: 0.3571 - learning_rate: 0.0043 - gradient_norm: 3.3787 - val_det_loss: 0.3211 - val_cls_loss: 0.3051 - val_box_loss: 3.1955e-04 - val_reg_l2_loss: 0.0969 - val_loss: 0.4180\n",
            "Epoch 20/50\n",
            "266/266 [==============================] - 136s 512ms/step - det_loss: 0.2476 - cls_loss: 0.2214 - box_loss: 5.2431e-04 - reg_l2_loss: 0.0969 - loss: 0.3445 - learning_rate: 0.0041 - gradient_norm: 3.1179 - val_det_loss: 0.2861 - val_cls_loss: 0.2578 - val_box_loss: 5.6539e-04 - val_reg_l2_loss: 0.0969 - val_loss: 0.3830\n",
            "Epoch 21/50\n",
            "266/266 [==============================] - 121s 455ms/step - det_loss: 0.2404 - cls_loss: 0.2145 - box_loss: 5.1872e-04 - reg_l2_loss: 0.0970 - loss: 0.3374 - learning_rate: 0.0039 - gradient_norm: 3.2816 - val_det_loss: 0.2656 - val_cls_loss: 0.2590 - val_box_loss: 1.3298e-04 - val_reg_l2_loss: 0.0970 - val_loss: 0.3626\n",
            "Epoch 22/50\n",
            "266/266 [==============================] - 122s 457ms/step - det_loss: 0.2320 - cls_loss: 0.2082 - box_loss: 4.7642e-04 - reg_l2_loss: 0.0970 - loss: 0.3290 - learning_rate: 0.0037 - gradient_norm: 3.2667 - val_det_loss: 0.2718 - val_cls_loss: 0.2501 - val_box_loss: 4.3442e-04 - val_reg_l2_loss: 0.0970 - val_loss: 0.3688\n",
            "Epoch 23/50\n",
            "266/266 [==============================] - 121s 455ms/step - det_loss: 0.2360 - cls_loss: 0.2099 - box_loss: 5.2245e-04 - reg_l2_loss: 0.0970 - loss: 0.3330 - learning_rate: 0.0035 - gradient_norm: 3.3416 - val_det_loss: 0.2227 - val_cls_loss: 0.2155 - val_box_loss: 1.4297e-04 - val_reg_l2_loss: 0.0970 - val_loss: 0.3197\n",
            "Epoch 24/50\n",
            "266/266 [==============================] - 121s 456ms/step - det_loss: 0.2229 - cls_loss: 0.1984 - box_loss: 4.8943e-04 - reg_l2_loss: 0.0971 - loss: 0.3199 - learning_rate: 0.0033 - gradient_norm: 3.2375 - val_det_loss: 0.2375 - val_cls_loss: 0.2277 - val_box_loss: 1.9608e-04 - val_reg_l2_loss: 0.0971 - val_loss: 0.3345\n",
            "Epoch 25/50\n",
            "266/266 [==============================] - 145s 546ms/step - det_loss: 0.2127 - cls_loss: 0.1906 - box_loss: 4.4081e-04 - reg_l2_loss: 0.0971 - loss: 0.3097 - learning_rate: 0.0031 - gradient_norm: 3.1614 - val_det_loss: 0.2984 - val_cls_loss: 0.2881 - val_box_loss: 2.0750e-04 - val_reg_l2_loss: 0.0971 - val_loss: 0.3955\n",
            "Epoch 26/50\n",
            "266/266 [==============================] - 121s 456ms/step - det_loss: 0.2112 - cls_loss: 0.1867 - box_loss: 4.9089e-04 - reg_l2_loss: 0.0971 - loss: 0.3083 - learning_rate: 0.0029 - gradient_norm: 3.4206 - val_det_loss: 0.2012 - val_cls_loss: 0.1810 - val_box_loss: 4.0323e-04 - val_reg_l2_loss: 0.0971 - val_loss: 0.2983\n",
            "Epoch 27/50\n",
            "266/266 [==============================] - 122s 458ms/step - det_loss: 0.2088 - cls_loss: 0.1866 - box_loss: 4.4435e-04 - reg_l2_loss: 0.0971 - loss: 0.3059 - learning_rate: 0.0027 - gradient_norm: 3.5584 - val_det_loss: 0.2431 - val_cls_loss: 0.2268 - val_box_loss: 3.2652e-04 - val_reg_l2_loss: 0.0971 - val_loss: 0.3402\n",
            "Epoch 28/50\n",
            "266/266 [==============================] - 121s 455ms/step - det_loss: 0.1985 - cls_loss: 0.1772 - box_loss: 4.2644e-04 - reg_l2_loss: 0.0971 - loss: 0.2956 - learning_rate: 0.0025 - gradient_norm: 3.1373 - val_det_loss: 0.1580 - val_cls_loss: 0.1518 - val_box_loss: 1.2414e-04 - val_reg_l2_loss: 0.0971 - val_loss: 0.2551\n",
            "Epoch 29/50\n",
            "266/266 [==============================] - 121s 454ms/step - det_loss: 0.1856 - cls_loss: 0.1660 - box_loss: 3.9220e-04 - reg_l2_loss: 0.0971 - loss: 0.2827 - learning_rate: 0.0023 - gradient_norm: 3.0760 - val_det_loss: 0.2289 - val_cls_loss: 0.2221 - val_box_loss: 1.3754e-04 - val_reg_l2_loss: 0.0971 - val_loss: 0.3260\n",
            "Epoch 30/50\n",
            "266/266 [==============================] - 135s 510ms/step - det_loss: 0.1821 - cls_loss: 0.1633 - box_loss: 3.7550e-04 - reg_l2_loss: 0.0971 - loss: 0.2792 - learning_rate: 0.0021 - gradient_norm: 3.2770 - val_det_loss: 0.3080 - val_cls_loss: 0.3038 - val_box_loss: 8.4358e-05 - val_reg_l2_loss: 0.0971 - val_loss: 0.4051\n",
            "Epoch 31/50\n",
            "266/266 [==============================] - 121s 455ms/step - det_loss: 0.1809 - cls_loss: 0.1617 - box_loss: 3.8463e-04 - reg_l2_loss: 0.0971 - loss: 0.2780 - learning_rate: 0.0020 - gradient_norm: 3.2041 - val_det_loss: 0.1575 - val_cls_loss: 0.1512 - val_box_loss: 1.2638e-04 - val_reg_l2_loss: 0.0971 - val_loss: 0.2546\n",
            "Epoch 32/50\n",
            "266/266 [==============================] - 122s 457ms/step - det_loss: 0.1756 - cls_loss: 0.1569 - box_loss: 3.7309e-04 - reg_l2_loss: 0.0971 - loss: 0.2727 - learning_rate: 0.0018 - gradient_norm: 3.2326 - val_det_loss: 0.2114 - val_cls_loss: 0.2047 - val_box_loss: 1.3440e-04 - val_reg_l2_loss: 0.0971 - val_loss: 0.3085\n",
            "Epoch 33/50\n",
            "266/266 [==============================] - 121s 455ms/step - det_loss: 0.1723 - cls_loss: 0.1540 - box_loss: 3.6661e-04 - reg_l2_loss: 0.0971 - loss: 0.2694 - learning_rate: 0.0016 - gradient_norm: 3.3753 - val_det_loss: 0.1596 - val_cls_loss: 0.1560 - val_box_loss: 7.2207e-05 - val_reg_l2_loss: 0.0971 - val_loss: 0.2567\n",
            "Epoch 34/50\n",
            "266/266 [==============================] - 121s 455ms/step - det_loss: 0.1677 - cls_loss: 0.1491 - box_loss: 3.7211e-04 - reg_l2_loss: 0.0971 - loss: 0.2648 - learning_rate: 0.0014 - gradient_norm: 3.1554 - val_det_loss: 0.1364 - val_cls_loss: 0.1312 - val_box_loss: 1.0320e-04 - val_reg_l2_loss: 0.0971 - val_loss: 0.2335\n",
            "Epoch 35/50\n",
            "266/266 [==============================] - 135s 509ms/step - det_loss: 0.1650 - cls_loss: 0.1471 - box_loss: 3.5848e-04 - reg_l2_loss: 0.0971 - loss: 0.2621 - learning_rate: 0.0013 - gradient_norm: 3.3658 - val_det_loss: 0.1286 - val_cls_loss: 0.1225 - val_box_loss: 1.2227e-04 - val_reg_l2_loss: 0.0971 - val_loss: 0.2257\n",
            "Epoch 36/50\n",
            "266/266 [==============================] - 121s 454ms/step - det_loss: 0.1571 - cls_loss: 0.1414 - box_loss: 3.1504e-04 - reg_l2_loss: 0.0971 - loss: 0.2542 - learning_rate: 0.0011 - gradient_norm: 3.2085 - val_det_loss: 0.1434 - val_cls_loss: 0.1384 - val_box_loss: 1.0042e-04 - val_reg_l2_loss: 0.0971 - val_loss: 0.2405\n",
            "Epoch 37/50\n",
            "266/266 [==============================] - 122s 458ms/step - det_loss: 0.1522 - cls_loss: 0.1357 - box_loss: 3.3007e-04 - reg_l2_loss: 0.0971 - loss: 0.2492 - learning_rate: 9.5137e-04 - gradient_norm: 3.1121 - val_det_loss: 0.1477 - val_cls_loss: 0.1430 - val_box_loss: 9.3416e-05 - val_reg_l2_loss: 0.0971 - val_loss: 0.2447\n",
            "Epoch 38/50\n",
            "266/266 [==============================] - 121s 455ms/step - det_loss: 0.1539 - cls_loss: 0.1368 - box_loss: 3.4126e-04 - reg_l2_loss: 0.0971 - loss: 0.2509 - learning_rate: 8.1203e-04 - gradient_norm: 3.3007 - val_det_loss: 0.1154 - val_cls_loss: 0.1115 - val_box_loss: 7.9350e-05 - val_reg_l2_loss: 0.0970 - val_loss: 0.2125\n",
            "Epoch 39/50\n",
            "266/266 [==============================] - 121s 454ms/step - det_loss: 0.1497 - cls_loss: 0.1345 - box_loss: 3.0513e-04 - reg_l2_loss: 0.0970 - loss: 0.2468 - learning_rate: 6.8220e-04 - gradient_norm: 3.0620 - val_det_loss: 0.1401 - val_cls_loss: 0.1367 - val_box_loss: 6.8681e-05 - val_reg_l2_loss: 0.0970 - val_loss: 0.2371\n",
            "Epoch 40/50\n",
            "266/266 [==============================] - 135s 509ms/step - det_loss: 0.1405 - cls_loss: 0.1243 - box_loss: 3.2301e-04 - reg_l2_loss: 0.0970 - loss: 0.2375 - learning_rate: 5.6241e-04 - gradient_norm: 2.8137 - val_det_loss: 0.1286 - val_cls_loss: 0.1249 - val_box_loss: 7.3856e-05 - val_reg_l2_loss: 0.0970 - val_loss: 0.2257\n",
            "Epoch 41/50\n",
            "266/266 [==============================] - 121s 455ms/step - det_loss: 0.1432 - cls_loss: 0.1270 - box_loss: 3.2288e-04 - reg_l2_loss: 0.0970 - loss: 0.2402 - learning_rate: 4.5314e-04 - gradient_norm: 3.0132 - val_det_loss: 0.1268 - val_cls_loss: 0.1235 - val_box_loss: 6.7028e-05 - val_reg_l2_loss: 0.0970 - val_loss: 0.2239\n",
            "Epoch 42/50\n",
            "266/266 [==============================] - 121s 455ms/step - det_loss: 0.1467 - cls_loss: 0.1302 - box_loss: 3.2930e-04 - reg_l2_loss: 0.0970 - loss: 0.2437 - learning_rate: 3.5486e-04 - gradient_norm: 3.2238 - val_det_loss: 0.1168 - val_cls_loss: 0.1131 - val_box_loss: 7.5473e-05 - val_reg_l2_loss: 0.0970 - val_loss: 0.2139\n",
            "Epoch 43/50\n",
            "266/266 [==============================] - 122s 458ms/step - det_loss: 0.1350 - cls_loss: 0.1208 - box_loss: 2.8545e-04 - reg_l2_loss: 0.0970 - loss: 0.2321 - learning_rate: 2.6795e-04 - gradient_norm: 2.8729 - val_det_loss: 0.1117 - val_cls_loss: 0.1080 - val_box_loss: 7.2725e-05 - val_reg_l2_loss: 0.0970 - val_loss: 0.2087\n",
            "Epoch 44/50\n",
            "266/266 [==============================] - 121s 456ms/step - det_loss: 0.1374 - cls_loss: 0.1227 - box_loss: 2.9225e-04 - reg_l2_loss: 0.0970 - loss: 0.2344 - learning_rate: 1.9279e-04 - gradient_norm: 3.1022 - val_det_loss: 0.1140 - val_cls_loss: 0.1106 - val_box_loss: 6.8077e-05 - val_reg_l2_loss: 0.0970 - val_loss: 0.2110\n",
            "Epoch 45/50\n",
            "266/266 [==============================] - 136s 510ms/step - det_loss: 0.1371 - cls_loss: 0.1216 - box_loss: 3.1052e-04 - reg_l2_loss: 0.0970 - loss: 0.2342 - learning_rate: 1.2968e-04 - gradient_norm: 2.8518 - val_det_loss: 0.1123 - val_cls_loss: 0.1088 - val_box_loss: 7.0315e-05 - val_reg_l2_loss: 0.0970 - val_loss: 0.2093\n",
            "Epoch 46/50\n",
            "266/266 [==============================] - 121s 455ms/step - det_loss: 0.1353 - cls_loss: 0.1209 - box_loss: 2.8885e-04 - reg_l2_loss: 0.0970 - loss: 0.2323 - learning_rate: 7.8876e-05 - gradient_norm: 2.8827 - val_det_loss: 0.1133 - val_cls_loss: 0.1098 - val_box_loss: 7.0089e-05 - val_reg_l2_loss: 0.0970 - val_loss: 0.2103\n",
            "Epoch 47/50\n",
            "266/266 [==============================] - 122s 457ms/step - det_loss: 0.1359 - cls_loss: 0.1211 - box_loss: 2.9562e-04 - reg_l2_loss: 0.0970 - loss: 0.2329 - learning_rate: 4.0590e-05 - gradient_norm: 2.8783 - val_det_loss: 0.1133 - val_cls_loss: 0.1099 - val_box_loss: 6.7592e-05 - val_reg_l2_loss: 0.0970 - val_loss: 0.2103\n",
            "Epoch 48/50\n",
            "266/266 [==============================] - 121s 454ms/step - det_loss: 0.1352 - cls_loss: 0.1192 - box_loss: 3.2110e-04 - reg_l2_loss: 0.0970 - loss: 0.2322 - learning_rate: 1.4977e-05 - gradient_norm: 2.7212 - val_det_loss: 0.1147 - val_cls_loss: 0.1114 - val_box_loss: 6.6984e-05 - val_reg_l2_loss: 0.0970 - val_loss: 0.2117\n",
            "Epoch 49/50\n",
            "266/266 [==============================] - 121s 455ms/step - det_loss: 0.1357 - cls_loss: 0.1202 - box_loss: 3.1191e-04 - reg_l2_loss: 0.0970 - loss: 0.2328 - learning_rate: 2.1445e-06 - gradient_norm: 2.7453 - val_det_loss: 0.1151 - val_cls_loss: 0.1117 - val_box_loss: 6.8034e-05 - val_reg_l2_loss: 0.0970 - val_loss: 0.2121\n",
            "Epoch 50/50\n",
            "266/266 [==============================] - 135s 510ms/step - det_loss: 0.1343 - cls_loss: 0.1195 - box_loss: 2.9701e-04 - reg_l2_loss: 0.0970 - loss: 0.2313 - learning_rate: 2.1444e-06 - gradient_norm: 2.8656 - val_det_loss: 0.1156 - val_cls_loss: 0.1121 - val_box_loss: 6.9516e-05 - val_reg_l2_loss: 0.0970 - val_loss: 0.2126\n"
          ]
        }
      ],
      "source": [
        "model = object_detector.create(train_dir, \n",
        "                               model_spec=spec, \n",
        "                               epochs=50, \n",
        "                               batch_size=5, \n",
        "                               train_whole_model=True, \n",
        "                               validation_data=validate_dir\n",
        "                               )"
      ]
    },
    {
      "cell_type": "code",
      "source": [
        ""
      ],
      "metadata": {
        "id": "F6Nv-kXT9Wlh"
      },
      "execution_count": null,
      "outputs": []
    },
    {
      "cell_type": "markdown",
      "source": [
        "## Evaluating the model "
      ],
      "metadata": {
        "id": "i8r0YAIo9tLD"
      }
    },
    {
      "cell_type": "code",
      "source": [
        "model.evaluate(test_dir,batch_size=5)"
      ],
      "metadata": {
        "id": "34FvBP799vWm",
        "outputId": "ee47c880-5e53-4576-b63c-dec5250e413b",
        "colab": {
          "base_uri": "https://localhost:8080/"
        }
      },
      "execution_count": 16,
      "outputs": [
        {
          "output_type": "stream",
          "name": "stdout",
          "text": [
            "36/36 [==============================] - 13s 222ms/step\n",
            "\n"
          ]
        },
        {
          "output_type": "execute_result",
          "data": {
            "text/plain": [
              "{'AP': 0.8946277,\n",
              " 'AP50': 0.95845443,\n",
              " 'AP75': 0.9495593,\n",
              " 'AP_/Casual Shirt': 0.84457123,\n",
              " 'AP_/Desgin sherwani': 0.8544264,\n",
              " 'AP_/Design Kurta': 0.81755704,\n",
              " 'AP_/Formal Shirt': 0.9378338,\n",
              " 'AP_/Kurti': 0.9128713,\n",
              " 'AP_/Plain kurta': 0.9134251,\n",
              " 'AP_/Plain sherwani': 0.9860891,\n",
              " 'AP_/Top': 0.8807209,\n",
              " 'AP_/saree': 0.8891089,\n",
              " 'AP_/tshirt': 0.9096733,\n",
              " 'APl': 0.89463,\n",
              " 'APm': -1.0,\n",
              " 'APs': -1.0,\n",
              " 'ARl': 0.94604975,\n",
              " 'ARm': -1.0,\n",
              " 'ARmax1': 0.92488706,\n",
              " 'ARmax10': 0.9456989,\n",
              " 'ARmax100': 0.94604975,\n",
              " 'ARs': -1.0}"
            ]
          },
          "metadata": {},
          "execution_count": 16
        }
      ]
    },
    {
      "cell_type": "markdown",
      "source": [
        "## Saving Model "
      ],
      "metadata": {
        "id": "hSYSNYGI9XQd"
      }
    },
    {
      "cell_type": "code",
      "execution_count": 17,
      "metadata": {
        "id": "AJ9oA6_ALDeS"
      },
      "outputs": [],
      "source": [
        "model.export(export_dir='/content/')"
      ]
    }
  ],
  "metadata": {
    "accelerator": "GPU",
    "colab": {
      "collapsed_sections": [],
      "machine_shape": "hm",
      "name": "fashion dataset.ipynb",
      "provenance": []
    },
    "kernelspec": {
      "display_name": "Python 3",
      "name": "python3"
    },
    "language_info": {
      "name": "python"
    }
  },
  "nbformat": 4,
  "nbformat_minor": 0
}