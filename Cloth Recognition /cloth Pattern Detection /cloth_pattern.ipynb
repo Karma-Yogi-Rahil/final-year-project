{
  "cells": [
    {
      "cell_type": "code",
      "execution_count": 31,
      "metadata": {
        "id": "2M-nY8G2qfF6"
      },
      "outputs": [],
      "source": [
        "import os \n",
        "os.environ['KAGGLE_CONFIG_DIR'] = '/content/'"
      ]
    },
    {
      "cell_type": "code",
      "execution_count": 32,
      "metadata": {
        "colab": {
          "base_uri": "https://localhost:8080/"
        },
        "id": "vEfXh7qkqjcZ",
        "outputId": "2c9f09d5-b504-4633-c591-735a95bd742b"
      },
      "outputs": [
        {
          "output_type": "stream",
          "name": "stdout",
          "text": [
            "Warning: Your Kaggle API key is readable by other users on this system! To fix this, you can run 'chmod 600 /content/kaggle.json'\n",
            "Downloading cloth-pattern.zip to /content\n",
            "100% 2.48G/2.48G [00:54<00:00, 57.7MB/s]\n",
            "100% 2.48G/2.48G [00:54<00:00, 48.9MB/s]\n"
          ]
        }
      ],
      "source": [
        "!kaggle datasets download -d rahilmehtaucoe2784/cloth-pattern"
      ]
    },
    {
      "cell_type": "code",
      "execution_count": null,
      "metadata": {
        "id": "PX2mKMt1rWE-"
      },
      "outputs": [],
      "source": [
        "\n",
        "!unzip /content/cloth-pattern.zip -d /content/data"
      ]
    },
    {
      "cell_type": "code",
      "execution_count": 7,
      "metadata": {
        "id": "awtXNxPWr0zD"
      },
      "outputs": [],
      "source": [
        "import tensorflow as tf\n",
        "from tensorflow import keras\n",
        "from tensorflow.keras.preprocessing.image import ImageDataGenerator\n",
        "import matplotlib.pyplot as plt\n",
        "import numpy as np\n",
        "import pandas as pd\n",
        "import os\n",
        "\n",
        "import matplotlib.pyplot as plt\n",
        "import matplotlib.image as mpimg\n",
        "from tensorflow.keras import models\n",
        "from tensorflow.keras import layers\n",
        "from tensorflow.keras.applications import ResNet50\n",
        "from sklearn.preprocessing import LabelBinarizer\n",
        "from keras.preprocessing import image"
      ]
    },
    {
      "cell_type": "code",
      "execution_count": 8,
      "metadata": {
        "id": "YztjvI2Ur4bE"
      },
      "outputs": [],
      "source": [
        "training_dir = '/content/NEW LARGE IMAGE '"
      ]
    },
    {
      "cell_type": "code",
      "execution_count": 9,
      "metadata": {
        "id": "VJTZkUzss0Hb"
      },
      "outputs": [],
      "source": [
        "train_datagen = ImageDataGenerator(rescale=1./255,\n",
        "                                   #width_shift_range=0.2,\n",
        "                                   #height_shift_range=0.2,\n",
        "                                   #shear_range=0.2,\n",
        "                                   zoom_range = 0.2,\n",
        "                                   horizontal_flip=True,\n",
        "                                   validation_split = 0.20)"
      ]
    },
    {
      "cell_type": "code",
      "execution_count": 10,
      "metadata": {
        "colab": {
          "base_uri": "https://localhost:8080/"
        },
        "id": "HjBy-WDSs_pL",
        "outputId": "f47a6f8f-6021-438c-a526-58aa59c9fa8f"
      },
      "outputs": [
        {
          "output_type": "stream",
          "name": "stdout",
          "text": [
            "Found 3771 images belonging to 7 classes.\n",
            "Found 938 images belonging to 7 classes.\n"
          ]
        }
      ],
      "source": [
        "train_genrator = train_datagen.flow_from_directory(\n",
        "    training_dir,\n",
        "    target_size = (224,224),\n",
        "    batch_size = 32,\n",
        "    class_mode = 'categorical',\n",
        "    subset='training',\n",
        "    \n",
        "\n",
        ")\n",
        "\n",
        "validate_genrator = train_datagen.flow_from_directory(\n",
        "    training_dir,\n",
        "    target_size = (224,224),\n",
        "    batch_size = 32,\n",
        "    class_mode = 'categorical',\n",
        "    subset='validation',\n",
        "    \n",
        ")"
      ]
    },
    {
      "cell_type": "code",
      "source": [
        ""
      ],
      "metadata": {
        "id": "l9ya-Jv5_Pfw"
      },
      "execution_count": null,
      "outputs": []
    },
    {
      "cell_type": "markdown",
      "source": [
        "# custom model"
      ],
      "metadata": {
        "id": "mQxwq0_W_QFl"
      }
    },
    {
      "cell_type": "code",
      "execution_count": null,
      "metadata": {
        "colab": {
          "base_uri": "https://localhost:8080/"
        },
        "id": "bSY2mzpftFr1",
        "outputId": "8821eb4b-e754-4559-e61a-4889b9417b84"
      },
      "outputs": [
        {
          "output_type": "stream",
          "name": "stdout",
          "text": [
            "Model: \"sequential_5\"\n",
            "_________________________________________________________________\n",
            " Layer (type)                Output Shape              Param #   \n",
            "=================================================================\n",
            " conv2d_15 (Conv2D)          (None, 222, 222, 32)      896       \n",
            "                                                                 \n",
            " max_pooling2d_15 (MaxPoolin  (None, 111, 111, 32)     0         \n",
            " g2D)                                                            \n",
            "                                                                 \n",
            " conv2d_16 (Conv2D)          (None, 109, 109, 64)      18496     \n",
            "                                                                 \n",
            " max_pooling2d_16 (MaxPoolin  (None, 54, 54, 64)       0         \n",
            " g2D)                                                            \n",
            "                                                                 \n",
            " conv2d_17 (Conv2D)          (None, 52, 52, 64)        36928     \n",
            "                                                                 \n",
            " max_pooling2d_17 (MaxPoolin  (None, 26, 26, 64)       0         \n",
            " g2D)                                                            \n",
            "                                                                 \n",
            " flatten_5 (Flatten)         (None, 43264)             0         \n",
            "                                                                 \n",
            " dense_10 (Dense)            (None, 128)               5537920   \n",
            "                                                                 \n",
            " dense_11 (Dense)            (None, 5)                 645       \n",
            "                                                                 \n",
            "=================================================================\n",
            "Total params: 5,594,885\n",
            "Trainable params: 5,594,885\n",
            "Non-trainable params: 0\n",
            "_________________________________________________________________\n"
          ]
        }
      ],
      "source": [
        "model = models.Sequential()\n",
        "\n",
        "model.add(layers.Conv2D(32,(3,3),input_shape=(224,224,3),activation='relu'))\n",
        "model.add(layers.MaxPool2D(2,2))\n",
        "\n",
        "model.add(layers.Conv2D(64,(3,3),activation='relu'))\n",
        "model.add(layers.MaxPool2D(2,2))\n",
        "\n",
        "model.add(layers.Conv2D(64,(3,3),activation='relu'))\n",
        "model.add(layers.MaxPool2D(2,2))\n",
        "\n",
        "#model.add(layers.Conv2D(512,(3,3),activation='relu'))\n",
        "#model.add(layers.MaxPool2D(2,2))\n",
        "\n",
        "model.add(layers.Flatten())\n",
        "#model.add(layers.Dropout(0.3))\n",
        "\n",
        "#model.add(layers.Dense(512,activation='relu'))\n",
        "model.add(layers.Dense(128,activation='relu'))\n",
        "model.add(layers.Dense(5,activation='softmax'))\n",
        "model.summary()"
      ]
    },
    {
      "cell_type": "markdown",
      "source": [
        "### pre train model"
      ],
      "metadata": {
        "id": "0xhaDvDz_ZIG"
      }
    },
    {
      "cell_type": "code",
      "source": [
        "print(train_genrator.class_indices)\n",
        "labels = '\\n'. join(sorted(train_genrator.class_indices.keys()))\n",
        "with open('label.txt','w') as f:\n",
        "  f.write(labels)"
      ],
      "metadata": {
        "colab": {
          "base_uri": "https://localhost:8080/"
        },
        "id": "gSZIKKO7_YiX",
        "outputId": "7bf726b7-f95e-44e5-ad49-22f550538d4c"
      },
      "execution_count": 11,
      "outputs": [
        {
          "output_type": "stream",
          "name": "stdout",
          "text": [
            "{'checkered': 0, 'dots': 1, 'florals ': 2, 'horizontal strip': 3, 'paisley pattern': 4, 'vertical strip': 5, 'zig zag ': 6}\n"
          ]
        }
      ]
    },
    {
      "cell_type": "code",
      "source": [
        "img_shape = (224,224,3)\n",
        "base_model = tf.keras.applications.MobileNetV2(\n",
        "    input_shape = img_shape,\n",
        "    include_top = False,\n",
        "    weights ='imagenet',\n",
        "    classes = 7,\n",
        ")"
      ],
      "metadata": {
        "id": "JrTzvhI3DJ9Y"
      },
      "execution_count": 18,
      "outputs": []
    },
    {
      "cell_type": "code",
      "source": [
        "base_model.summary()"
      ],
      "metadata": {
        "id": "Sk7GFKROEm9g"
      },
      "execution_count": null,
      "outputs": []
    },
    {
      "cell_type": "code",
      "source": [
        "base_model.trainable=False\n",
        "model = tf.keras.Sequential([\n",
        "                             base_model,\n",
        "                             tf. keras.layers.Conv2D(32,3, activation = 'relu'),\n",
        "                             tf. keras.layers.Dropout(0.2),\n",
        "                             tf.keras.layers.GlobalAveragePooling2D(),\n",
        "                             tf. keras.layers.Dense(7, activation='softmax')\n",
        "])"
      ],
      "metadata": {
        "id": "5wKxlaVpDKAe"
      },
      "execution_count": 19,
      "outputs": []
    },
    {
      "cell_type": "code",
      "source": [
        ""
      ],
      "metadata": {
        "id": "ADuwv3R2DKFX"
      },
      "execution_count": null,
      "outputs": []
    },
    {
      "cell_type": "code",
      "source": [
        ""
      ],
      "metadata": {
        "id": "CPOfXYJsDKIJ"
      },
      "execution_count": null,
      "outputs": []
    },
    {
      "cell_type": "code",
      "source": [
        "learning_rate = 0.001"
      ],
      "metadata": {
        "id": "lqpP5zHbDKLF"
      },
      "execution_count": null,
      "outputs": []
    },
    {
      "cell_type": "code",
      "execution_count": 20,
      "metadata": {
        "id": "UWr014cgtPRp"
      },
      "outputs": [],
      "source": [
        "model.compile(optimizer=tf.keras.optimizers.Adam(),\n",
        "              metrics = ['acc'],\n",
        "               loss=tf.keras.losses.CategoricalCrossentropy())"
      ]
    },
    {
      "cell_type": "code",
      "execution_count": 21,
      "metadata": {
        "id": "xC8PUaQ4tVh5"
      },
      "outputs": [],
      "source": [
        "check_point = tf.keras.callbacks.ModelCheckpoint(filepath=\"/content/new_data_cloth_patern.h5\",\n",
        "                                         monitor=\"val_acc\",\n",
        "                                         mode=\"max\",\n",
        "                                         save_best_only=True,)"
      ]
    },
    {
      "cell_type": "code",
      "execution_count": 22,
      "metadata": {
        "colab": {
          "base_uri": "https://localhost:8080/"
        },
        "id": "jWtNeJHltYDz",
        "outputId": "a7083faf-4bc2-4bd1-d351-e82f13427cf7"
      },
      "outputs": [
        {
          "output_type": "stream",
          "name": "stdout",
          "text": [
            "Epoch 1/5\n",
            "118/118 [==============================] - ETA: 0s - loss: 0.5523 - acc: 0.8237"
          ]
        },
        {
          "output_type": "stream",
          "name": "stderr",
          "text": [
            "/usr/local/lib/python3.7/dist-packages/keras/engine/functional.py:1410: CustomMaskWarning: Custom mask layers require a config and must override get_config. When loading, the custom mask layer must be passed to the custom_objects argument.\n",
            "  layer_config = serialize_layer_fn(layer)\n"
          ]
        },
        {
          "output_type": "stream",
          "name": "stdout",
          "text": [
            "\b\b\b\b\b\b\b\b\b\b\b\b\b\b\b\b\b\b\b\b\b\b\b\b\b\b\b\b\b\b\b\b\b\b\b\b\b\b\b\b\b\b\b\b\b\b\b\b\b\b\b\b\b\b\b\b\b\b\b\b\b\b\b\b\b\b\b\b\b\b\b\b\b\b\b\b\b\b\b\r118/118 [==============================] - 152s 1s/step - loss: 0.5523 - acc: 0.8237 - val_loss: 0.4105 - val_acc: 0.8571\n",
            "Epoch 2/5\n",
            "118/118 [==============================] - 147s 1s/step - loss: 0.2145 - acc: 0.9281 - val_loss: 0.3798 - val_acc: 0.8859\n",
            "Epoch 3/5\n",
            "118/118 [==============================] - 148s 1s/step - loss: 0.1655 - acc: 0.9459 - val_loss: 0.4720 - val_acc: 0.8721\n",
            "Epoch 4/5\n",
            "118/118 [==============================] - 148s 1s/step - loss: 0.1410 - acc: 0.9565 - val_loss: 0.3991 - val_acc: 0.8913\n",
            "Epoch 5/5\n",
            "118/118 [==============================] - 148s 1s/step - loss: 0.1056 - acc: 0.9661 - val_loss: 0.3440 - val_acc: 0.9041\n"
          ]
        }
      ],
      "source": [
        "trained_model = model.fit(\n",
        "    train_genrator,\n",
        "    validation_data= validate_genrator,\n",
        "    epochs = 5,\n",
        "    #steps_per_epoch=100,\n",
        "    #validation_steps=33,\n",
        "    callbacks = [check_point]\n",
        "    )"
      ]
    },
    {
      "cell_type": "markdown",
      "source": [
        "### Visualisation "
      ],
      "metadata": {
        "id": "v43vtuzbrORP"
      }
    },
    {
      "cell_type": "code",
      "execution_count": 23,
      "metadata": {
        "colab": {
          "base_uri": "https://localhost:8080/",
          "height": 573
        },
        "id": "eU2j9z1ZtbKV",
        "outputId": "44f7bef7-9ace-4ee7-96f6-82cd5f79d0f9"
      },
      "outputs": [
        {
          "output_type": "display_data",
          "data": {
            "image/png": "[encoded data removed]",
            "text/plain": [
              "<Figure size 432x288 with 1 Axes>"
            ]
          },
          "metadata": {
            "needs_background": "light"
          }
        },
        {
          "output_type": "display_data",
          "data": {
            "image/png": "[encoded data removed]",
            "text/plain": [
              "<Figure size 432x288 with 1 Axes>"
            ]
          },
          "metadata": {
            "needs_background": "light"
          }
        }
      ],
      "source": [
        "plt.plot(trained_model.history['acc'])\n",
        "plt.plot(trained_model.history['val_acc'])\n",
        "plt.title('model accuracy')\n",
        "plt.ylabel('accuracy')\n",
        "plt.xlabel('epoch')\n",
        "plt.legend(['Train', 'Validation'], loc='upper left')\n",
        "plt.show()\n",
        "# summarize history for loss\n",
        "plt.plot(trained_model.history['loss'])\n",
        "plt.plot(trained_model.history['val_loss'])\n",
        "plt.title('model loss')\n",
        "plt.ylabel('loss')\n",
        "plt.xlabel('epoch')\n",
        "plt.legend(['Train', 'Validation'], loc='upper left')\n",
        "plt.show()"
      ]
    },
    {
      "cell_type": "markdown",
      "source": [
        "### Evaluation "
      ],
      "metadata": {
        "id": "h7sZOe9ErSFT"
      }
    },
    {
      "cell_type": "code",
      "source": [
        "model.evaluate(validate_genrator)"
      ],
      "metadata": {
        "colab": {
          "base_uri": "https://localhost:8080/"
        },
        "id": "qH0bQwCtxXpf",
        "outputId": "c3469947-abca-4140-be44-a7c4352487d8"
      },
      "execution_count": 24,
      "outputs": [
        {
          "output_type": "stream",
          "name": "stdout",
          "text": [
            "30/30 [==============================] - 27s 900ms/step - loss: 0.4129 - acc: 0.8934\n"
          ]
        },
        {
          "output_type": "execute_result",
          "data": {
            "text/plain": [
              "[0.412850558757782, 0.8933901786804199]"
            ]
          },
          "metadata": {},
          "execution_count": 24
        }
      ]
    },
    {
      "cell_type": "code",
      "source": [
        "test_dir = \"/content/data/test\"\n",
        "test_datagen = ImageDataGenerator(rescale=1./255)"
      ],
      "metadata": {
        "id": "6nICsHHZJYcX"
      },
      "execution_count": 43,
      "outputs": []
    },
    {
      "cell_type": "code",
      "source": [
        "test_genrator = test_datagen.flow_from_directory(\n",
        "    test_dir,\n",
        "    target_size = (224,224),\n",
        "    batch_size = 32,\n",
        "    class_mode = 'categorical',   \n",
        "\n",
        ")"
      ],
      "metadata": {
        "colab": {
          "base_uri": "https://localhost:8080/"
        },
        "id": "ftQJND8ztdkw",
        "outputId": "96f47ac7-28f1-48a9-9921-b4703884741c"
      },
      "execution_count": 44,
      "outputs": [
        {
          "output_type": "stream",
          "name": "stdout",
          "text": [
            "Found 6706 images belonging to 7 classes.\n"
          ]
        }
      ]
    },
    {
      "cell_type": "code",
      "source": [
        "model.evaluate(test_genrator)"
      ],
      "metadata": {
        "colab": {
          "base_uri": "https://localhost:8080/"
        },
        "id": "S7MTmIV4txQy",
        "outputId": "1c9a161f-1d95-411c-cd6c-d005398f70be"
      },
      "execution_count": 45,
      "outputs": [
        {
          "output_type": "stream",
          "name": "stdout",
          "text": [
            "210/210 [==============================] - 56s 268ms/step - loss: 1.7690 - acc: 0.7531\n"
          ]
        },
        {
          "output_type": "execute_result",
          "data": {
            "text/plain": [
              "[1.7689799070358276, 0.7530569434165955]"
            ]
          },
          "metadata": {},
          "execution_count": 45
        }
      ]
    },
    {
      "cell_type": "markdown",
      "source": [
        "### Testing the model on images"
      ],
      "metadata": {
        "id": "e6v-I44PrV4P"
      }
    },
    {
      "cell_type": "code",
      "execution_count": 28,
      "metadata": {
        "colab": {
          "base_uri": "https://localhost:8080/"
        },
        "id": "gm6xGm9rPwd6",
        "outputId": "abcac2ba-7b15-4dc1-b710-6b4d9ddd7d20"
      },
      "outputs": [
        {
          "output_type": "stream",
          "name": "stdout",
          "text": [
            "--2022-02-08 05:00:38--  https://previews.123rf.com/images/karenr/karenr1407/karenr140700001/29800600-thin-teal-and-white-horizontal-striped-textured-fabric-background-that-is-seamless-and-repeats.jpg\n",
            "Resolving previews.123rf.com (previews.123rf.com)... 13.226.124.58, 13.226.124.72, 13.226.124.67, ...\n",
            "Connecting to previews.123rf.com (previews.123rf.com)|13.226.124.58|:443... connected.\n",
            "HTTP request sent, awaiting response... 200 OK\n",
            "Length: 245785 (240K) [image/jpeg]\n",
            "Saving to: ‘29800600-thin-teal-and-white-horizontal-striped-textured-fabric-background-that-is-seamless-and-repeats.jpg’\n",
            "\n",
            "29800600-thin-teal- 100%[===================>] 240.02K   360KB/s    in 0.7s    \n",
            "\n",
            "2022-02-08 05:00:40 (360 KB/s) - ‘29800600-thin-teal-and-white-horizontal-striped-textured-fabric-background-that-is-seamless-and-repeats.jpg’ saved [245785/245785]\n",
            "\n"
          ]
        }
      ],
      "source": [
        "!wget 'https://previews.123rf.com/images/karenr/karenr1407/karenr140700001/29800600-thin-teal-and-white-horizontal-striped-textured-fabric-background-that-is-seamless-and-repeats.jpg'"
      ]
    },
    {
      "cell_type": "code",
      "execution_count": 29,
      "metadata": {
        "colab": {
          "base_uri": "https://localhost:8080/"
        },
        "id": "crNfaMB8QIQP",
        "outputId": "08669966-f459-41ef-e8e5-bad28d400ade"
      },
      "outputs": [
        {
          "name": "stdout",
          "output_type": "stream",
          "text": [
            "/content/29800600-thin-teal-and-white-horizontal-striped-textured-fabric-background-that-is-seamless-and-repeats.jpg\n"
          ]
        }
      ],
      "source": [
        "img = input()"
      ]
    },
    {
      "cell_type": "code",
      "execution_count": 30,
      "metadata": {
        "colab": {
          "base_uri": "https://localhost:8080/",
          "height": 323
        },
        "id": "qHimevqhQFjR",
        "outputId": "d9bf8e63-30d2-46e6-cffb-ebf844e79b0a"
      },
      "outputs": [
        {
          "output_type": "stream",
          "name": "stdout",
          "text": [
            "[[2.8696689e-01 4.5701835e-04 1.3837370e-05 1.3772929e-01 2.9432913e-04\n",
            "  4.2558428e-02 5.3198022e-01]]\n"
          ]
        },
        {
          "output_type": "execute_result",
          "data": {
            "application/vnd.google.colaboratory.intrinsic+json": {
              "type": "string"
            },
            "text/plain": [
              "'zig zag'"
            ]
          },
          "metadata": {},
          "execution_count": 30
        },
        {
          "output_type": "display_data",
          "data": {
            "image/png": "[encoded data removed]",
            "text/plain": [
              "<Figure size 432x288 with 1 Axes>"
            ]
          },
          "metadata": {
            "needs_background": "light"
          }
        }
      ],
      "source": [
        "img = image.load_img(img, target_size=(224, 224,3))\n",
        "plt.imshow(img)\n",
        "img = np.expand_dims(img, axis=0)\n",
        "pre = model.predict(img)\n",
        "print(pre)\n",
        "class_name = ['checkered','dotted','Flora','horizonal striped','paisley pattern','vertical striped','zig zag']\n",
        "class_name[np.argmax(pre)]"
      ]
    },
    {
      "cell_type": "markdown",
      "source": [
        "## Saving the model "
      ],
      "metadata": {
        "id": "zywgooP8rf5p"
      }
    },
    {
      "cell_type": "code",
      "source": [
        "keras_file = 'predict.h5'\n",
        "keras.models.save_model(model, keras_file)"
      ],
      "metadata": {
        "colab": {
          "base_uri": "https://localhost:8080/"
        },
        "id": "mFM7kFgBJb6Q",
        "outputId": "4a20f551-1db1-4493-d0da-f2565265dab0"
      },
      "execution_count": 46,
      "outputs": [
        {
          "output_type": "stream",
          "name": "stderr",
          "text": [
            "/usr/local/lib/python3.7/dist-packages/keras/engine/functional.py:1410: CustomMaskWarning: Custom mask layers require a config and must override get_config. When loading, the custom mask layer must be passed to the custom_objects argument.\n",
            "  layer_config = serialize_layer_fn(layer)\n"
          ]
        }
      ]
    },
    {
      "cell_type": "code",
      "source": [
        "converter = tf.lite.TFLiteConverter.from_keras_model(model)\n",
        "tflite_model = converter.convert()"
      ],
      "metadata": {
        "colab": {
          "base_uri": "https://localhost:8080/"
        },
        "id": "LSLeqVdMJcEB",
        "outputId": "ce7abbad-b27a-45ee-e973-9d338321872c"
      },
      "execution_count": 57,
      "outputs": [
        {
          "output_type": "stream",
          "name": "stderr",
          "text": [
            "WARNING:absl:Function `_wrapped_model` contains input name(s) mobilenetv2_1.00_224_input with unsupported characters which will be renamed to mobilenetv2_1_00_224_input in the SavedModel.\n"
          ]
        },
        {
          "output_type": "stream",
          "name": "stdout",
          "text": [
            "INFO:tensorflow:Assets written to: /tmp/tmp60_do95l/assets\n"
          ]
        },
        {
          "output_type": "stream",
          "name": "stderr",
          "text": [
            "INFO:tensorflow:Assets written to: /tmp/tmp60_do95l/assets\n",
            "WARNING:absl:Buffer deduplication procedure will be skipped when flatbuffer library is not properly loaded\n"
          ]
        }
      ]
    },
    {
      "cell_type": "code",
      "source": [
        "\n",
        "open('model.tflite', 'wb').write(tflite_model)"
      ],
      "metadata": {
        "colab": {
          "base_uri": "https://localhost:8080/"
        },
        "id": "X6EVSJtrJcG1",
        "outputId": "ccaf453d-8171-457e-d107-65cf5d82765a"
      },
      "execution_count": 58,
      "outputs": [
        {
          "output_type": "execute_result",
          "data": {
            "text/plain": [
              "10345256"
            ]
          },
          "metadata": {},
          "execution_count": 58
        }
      ]
    },
    {
      "cell_type": "markdown",
      "source": [
        "## Direct convet .h5 to tftlite"
      ],
      "metadata": {
        "id": "ivtVk8CQrp1H"
      }
    },
    {
      "cell_type": "code",
      "execution_count": null,
      "metadata": {
        "colab": {
          "base_uri": "https://localhost:8080/"
        },
        "id": "R1dRqbcxPIsc",
        "outputId": "395e568a-d1c5-4e2c-87dd-2484e27c53cc"
      },
      "outputs": [
        {
          "name": "stdout",
          "output_type": "stream",
          "text": [
            "2022-02-04 10:17:27.268262: W tensorflow/core/common_runtime/gpu/gpu_bfc_allocator.cc:39] Overriding allow_growth setting because the TF_FORCE_GPU_ALLOW_GROWTH environment variable is set. Original config value was 0.\n",
            "2022-02-04 10:17:27.598413: W tensorflow/core/framework/cpu_allocator_impl.cc:82] Allocation of 177209344 exceeds 10% of free system memory.\n",
            "2022-02-04 10:17:27.816697: W tensorflow/core/framework/cpu_allocator_impl.cc:82] Allocation of 177209344 exceeds 10% of free system memory.\n",
            "2022-02-04 10:17:28.586886: W tensorflow/python/util/util.cc:368] Sets are not currently considered sequences, but this may change in the future, so consider avoiding using them.\n",
            "2022-02-04 10:17:29.240815: W tensorflow/core/framework/cpu_allocator_impl.cc:82] Allocation of 177209344 exceeds 10% of free system memory.\n",
            "2022-02-04 10:17:29.289844: W tensorflow/core/framework/cpu_allocator_impl.cc:82] Allocation of 177209344 exceeds 10% of free system memory.\n",
            "2022-02-04 10:17:29.345068: W tensorflow/core/framework/cpu_allocator_impl.cc:82] Allocation of 177209344 exceeds 10% of free system memory.\n",
            "INFO:tensorflow:Assets written to: /tmp/tmpbqh2lr47/assets\n",
            "I0204 10:17:30.928169 139761769854848 builder_impl.py:784] Assets written to: /tmp/tmpbqh2lr47/assets\n",
            "I0204 10:17:32.003760 139761769854848 lite.py:940] Using new converter: If you encounter a problem please file a bug. You can opt-out by setting experimental_new_converter=False\n",
            "2022-02-04 10:17:32.014709: W tensorflow/compiler/mlir/lite/python/tf_tfl_flatbuffer_helpers.cc:363] Ignored output_format.\n",
            "2022-02-04 10:17:32.014755: W tensorflow/compiler/mlir/lite/python/tf_tfl_flatbuffer_helpers.cc:366] Ignored drop_control_dependency.\n",
            "tcmalloc: large alloc 1073741824 bytes == 0x55578aee0000 @  0x7f1cd2625887 0x7f1ca302b311 0x7f1ca2f9ded1 0x7f1ca2f9f5d5 0x7f1ca2f9fbb1 0x7f1c96e552f0 0x7f1c96e552b8 0x7f1c96e57f75 0x7f1c96e58284 0x7f1ca300ca3d 0x7f1ca0057e00 0x7f1ca00590d4 0x7f1ca005af81 0x7f1c96cd6c35 0x7f1ca2f4ab4b 0x7f1ca2f4aeb2 0x7f1ca2f497c1 0x7f1ca2f4ad1f 0x7f1ca2f4aeb2 0x7f1ca2f4c4ca 0x7f1ca2f4ce35 0x7f1c96af2a8d 0x7f1c96adb9f2 0x7f1c96ad6b52 0x7f1c9696e2fe 0x7f1c4b7f2f3e 0x7f1c4b7f7a6a 0x55568572c390 0x55568572c120 0x5556857a0679 0x55568572d9da\n",
            "W0204 10:18:51.013047 139761769854848 lite.py:742] Buffer deduplication procedure will be skipped when flatbuffer library is not properly loaded\n"
          ]
        }
      ],
      "source": [
        "! tflite_convert \\\n",
        "  --keras_model_file=/content/clotph_patern.h5 \\\n",
        "  --output_file=/content/final_cloth_pattern.tflite"
      ]
    }
  ],
  "metadata": {
    "accelerator": "GPU",
    "colab": {
      "machine_shape": "hm",
      "name": "cloth pattern.ipynb",
      "provenance": [],
      "collapsed_sections": [
        "0xhaDvDz_ZIG",
        "e6v-I44PrV4P"
      ]
    },
    "kernelspec": {
      "display_name": "Python 3",
      "name": "python3"
    },
    "language_info": {
      "name": "python"
    }
  },
  "nbformat": 4,
  "nbformat_minor": 0
}